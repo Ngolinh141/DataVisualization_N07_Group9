{
  "nbformat": 4,
  "nbformat_minor": 0,
  "metadata": {
    "colab": {
      "provenance": []
    },
    "kernelspec": {
      "name": "python3",
      "display_name": "Python 3"
    },
    "language_info": {
      "name": "python"
    }
  },
  "cells": [
    {
      "cell_type": "markdown",
      "source": [
        "# **Ngô Thị Linh - 21011613 - Nhóm 9 - Lớp Trực quan hóa dữ liệu N07**"
      ],
      "metadata": {
        "id": "7ST8qknAL23P"
      }
    },
    {
      "cell_type": "code",
      "execution_count": 1,
      "metadata": {
        "id": "NYLIHRiY2V7T",
        "colab": {
          "base_uri": "https://localhost:8080/"
        },
        "outputId": "d05e5595-e41a-45dd-ec58-a5877ac076be"
      },
      "outputs": [
        {
          "output_type": "stream",
          "name": "stdout",
          "text": [
            "Requirement already satisfied: plotly in /usr/local/lib/python3.10/dist-packages (5.15.0)\n",
            "Requirement already satisfied: tenacity>=6.2.0 in /usr/local/lib/python3.10/dist-packages (from plotly) (8.4.2)\n",
            "Requirement already satisfied: packaging in /usr/local/lib/python3.10/dist-packages (from plotly) (24.1)\n"
          ]
        }
      ],
      "source": [
        "!pip install plotly"
      ]
    },
    {
      "cell_type": "code",
      "source": [
        "!pip install matplotlib seaborn pandas"
      ],
      "metadata": {
        "colab": {
          "base_uri": "https://localhost:8080/"
        },
        "id": "aLycTNsPrnXK",
        "outputId": "aeda65a7-087b-4bd6-980c-d7e05d8f1411"
      },
      "execution_count": 57,
      "outputs": [
        {
          "output_type": "stream",
          "name": "stdout",
          "text": [
            "Requirement already satisfied: matplotlib in /usr/local/lib/python3.10/dist-packages (3.7.1)\n",
            "Requirement already satisfied: seaborn in /usr/local/lib/python3.10/dist-packages (0.13.1)\n",
            "Requirement already satisfied: pandas in /usr/local/lib/python3.10/dist-packages (2.0.3)\n",
            "Requirement already satisfied: contourpy>=1.0.1 in /usr/local/lib/python3.10/dist-packages (from matplotlib) (1.2.1)\n",
            "Requirement already satisfied: cycler>=0.10 in /usr/local/lib/python3.10/dist-packages (from matplotlib) (0.12.1)\n",
            "Requirement already satisfied: fonttools>=4.22.0 in /usr/local/lib/python3.10/dist-packages (from matplotlib) (4.53.0)\n",
            "Requirement already satisfied: kiwisolver>=1.0.1 in /usr/local/lib/python3.10/dist-packages (from matplotlib) (1.4.5)\n",
            "Requirement already satisfied: numpy>=1.20 in /usr/local/lib/python3.10/dist-packages (from matplotlib) (1.25.2)\n",
            "Requirement already satisfied: packaging>=20.0 in /usr/local/lib/python3.10/dist-packages (from matplotlib) (24.1)\n",
            "Requirement already satisfied: pillow>=6.2.0 in /usr/local/lib/python3.10/dist-packages (from matplotlib) (9.4.0)\n",
            "Requirement already satisfied: pyparsing>=2.3.1 in /usr/local/lib/python3.10/dist-packages (from matplotlib) (3.1.2)\n",
            "Requirement already satisfied: python-dateutil>=2.7 in /usr/local/lib/python3.10/dist-packages (from matplotlib) (2.8.2)\n",
            "Requirement already satisfied: pytz>=2020.1 in /usr/local/lib/python3.10/dist-packages (from pandas) (2023.4)\n",
            "Requirement already satisfied: tzdata>=2022.1 in /usr/local/lib/python3.10/dist-packages (from pandas) (2024.1)\n",
            "Requirement already satisfied: six>=1.5 in /usr/local/lib/python3.10/dist-packages (from python-dateutil>=2.7->matplotlib) (1.16.0)\n"
          ]
        }
      ]
    },
    {
      "cell_type": "markdown",
      "source": [
        "# 1. Phân tích dữ liệu"
      ],
      "metadata": {
        "id": "bs12T_Veg2TX"
      }
    },
    {
      "cell_type": "code",
      "source": [
        "# khai báo thư viện\n",
        "import json\n",
        "import requests\n",
        "import pandas as pd\n",
        "import plotly.graph_objects as go\n",
        "import plotly.express as px\n",
        "import matplotlib.pyplot as plt\n",
        "\n",
        "# Tải dữ liệu JSON\n",
        "with open('people.json') as f:\n",
        "    data = json.load(f)\n",
        "\n",
        "# Trích xuất các trường từ dữ liệu\n",
        "characters = [char['fields'] for char in data]\n",
        "\n",
        "# Chuyển đổi sang DataFrame\n",
        "df = pd.DataFrame(characters)\n",
        "\n",
        "# Loại bỏ các mục trùng lặp\n",
        "df = df.drop_duplicates(subset='name')"
      ],
      "metadata": {
        "id": "E_sGCotPMO60"
      },
      "execution_count": 84,
      "outputs": []
    },
    {
      "cell_type": "code",
      "source": [
        "# Hiển thị DataFrame như một bảng trực quan trong Jupyter Notebook hoặc IPython\n",
        "df"
      ],
      "metadata": {
        "colab": {
          "base_uri": "https://localhost:8080/",
          "height": 1888
        },
        "id": "2Rb34s71hCLF",
        "outputId": "088ae4c6-65fe-47eb-88c8-10fe8167d5c0"
      },
      "execution_count": 5,
      "outputs": [
        {
          "output_type": "execute_result",
          "data": {
            "text/plain": [
              "                      edited             name                   created  \\\n",
              "0   2014-12-20T21:17:56.891Z   Luke Skywalker  2014-12-09T13:50:51.644Z   \n",
              "1   2014-12-20T21:17:50.309Z            C-3PO  2014-12-10T15:10:51.357Z   \n",
              "2   2014-12-20T21:17:50.311Z            R2-D2  2014-12-10T15:11:50.376Z   \n",
              "3   2014-12-20T21:17:50.313Z      Darth Vader  2014-12-10T15:18:20.704Z   \n",
              "4   2014-12-20T21:17:50.315Z      Leia Organa  2014-12-10T15:20:09.791Z   \n",
              "..                       ...              ...                       ...   \n",
              "77  2014-12-20T21:17:50.488Z         Grievous  2014-12-20T19:43:53.348Z   \n",
              "78  2014-12-20T21:17:50.491Z          Tarfful  2014-12-20T19:46:34.209Z   \n",
              "79  2014-12-20T21:17:50.493Z  Raymus Antilles  2014-12-20T19:49:35.583Z   \n",
              "80  2014-12-20T21:17:50.496Z        Sly Moore  2014-12-20T20:18:37.619Z   \n",
              "81  2014-12-20T21:17:50.498Z       Tion Medon  2014-12-20T20:35:04.260Z   \n",
              "\n",
              "    gender    skin_color hair_color height      eye_color mass  homeworld  \\\n",
              "0     male          fair      blond    172           blue   77          1   \n",
              "1      n/a          gold        n/a    167         yellow   75          1   \n",
              "2      n/a   white, blue        n/a     96            red   32          8   \n",
              "3     male         white       none    202         yellow  136          1   \n",
              "4   female         light      brown    150          brown   49          2   \n",
              "..     ...           ...        ...    ...            ...  ...        ...   \n",
              "77    male  brown, white       none    216  green, yellow  159         59   \n",
              "78    male         brown      brown    234           blue  136         14   \n",
              "79    male         light      brown    188          brown   79          2   \n",
              "80  female          pale       none    178          white   48         60   \n",
              "81    male          grey       none    206          black   80         12   \n",
              "\n",
              "   birth_year  \n",
              "0       19BBY  \n",
              "1      112BBY  \n",
              "2       33BBY  \n",
              "3     41.9BBY  \n",
              "4       19BBY  \n",
              "..        ...  \n",
              "77    unknown  \n",
              "78    unknown  \n",
              "79    unknown  \n",
              "80    unknown  \n",
              "81    unknown  \n",
              "\n",
              "[82 rows x 11 columns]"
            ],
            "text/html": [
              "\n",
              "  <div id=\"df-e969a561-9258-4f70-b104-3c02d5c3bbdc\" class=\"colab-df-container\">\n",
              "    <div>\n",
              "<style scoped>\n",
              "    .dataframe tbody tr th:only-of-type {\n",
              "        vertical-align: middle;\n",
              "    }\n",
              "\n",
              "    .dataframe tbody tr th {\n",
              "        vertical-align: top;\n",
              "    }\n",
              "\n",
              "    .dataframe thead th {\n",
              "        text-align: right;\n",
              "    }\n",
              "</style>\n",
              "<table border=\"1\" class=\"dataframe\">\n",
              "  <thead>\n",
              "    <tr style=\"text-align: right;\">\n",
              "      <th></th>\n",
              "      <th>edited</th>\n",
              "      <th>name</th>\n",
              "      <th>created</th>\n",
              "      <th>gender</th>\n",
              "      <th>skin_color</th>\n",
              "      <th>hair_color</th>\n",
              "      <th>height</th>\n",
              "      <th>eye_color</th>\n",
              "      <th>mass</th>\n",
              "      <th>homeworld</th>\n",
              "      <th>birth_year</th>\n",
              "    </tr>\n",
              "  </thead>\n",
              "  <tbody>\n",
              "    <tr>\n",
              "      <th>0</th>\n",
              "      <td>2014-12-20T21:17:56.891Z</td>\n",
              "      <td>Luke Skywalker</td>\n",
              "      <td>2014-12-09T13:50:51.644Z</td>\n",
              "      <td>male</td>\n",
              "      <td>fair</td>\n",
              "      <td>blond</td>\n",
              "      <td>172</td>\n",
              "      <td>blue</td>\n",
              "      <td>77</td>\n",
              "      <td>1</td>\n",
              "      <td>19BBY</td>\n",
              "    </tr>\n",
              "    <tr>\n",
              "      <th>1</th>\n",
              "      <td>2014-12-20T21:17:50.309Z</td>\n",
              "      <td>C-3PO</td>\n",
              "      <td>2014-12-10T15:10:51.357Z</td>\n",
              "      <td>n/a</td>\n",
              "      <td>gold</td>\n",
              "      <td>n/a</td>\n",
              "      <td>167</td>\n",
              "      <td>yellow</td>\n",
              "      <td>75</td>\n",
              "      <td>1</td>\n",
              "      <td>112BBY</td>\n",
              "    </tr>\n",
              "    <tr>\n",
              "      <th>2</th>\n",
              "      <td>2014-12-20T21:17:50.311Z</td>\n",
              "      <td>R2-D2</td>\n",
              "      <td>2014-12-10T15:11:50.376Z</td>\n",
              "      <td>n/a</td>\n",
              "      <td>white, blue</td>\n",
              "      <td>n/a</td>\n",
              "      <td>96</td>\n",
              "      <td>red</td>\n",
              "      <td>32</td>\n",
              "      <td>8</td>\n",
              "      <td>33BBY</td>\n",
              "    </tr>\n",
              "    <tr>\n",
              "      <th>3</th>\n",
              "      <td>2014-12-20T21:17:50.313Z</td>\n",
              "      <td>Darth Vader</td>\n",
              "      <td>2014-12-10T15:18:20.704Z</td>\n",
              "      <td>male</td>\n",
              "      <td>white</td>\n",
              "      <td>none</td>\n",
              "      <td>202</td>\n",
              "      <td>yellow</td>\n",
              "      <td>136</td>\n",
              "      <td>1</td>\n",
              "      <td>41.9BBY</td>\n",
              "    </tr>\n",
              "    <tr>\n",
              "      <th>4</th>\n",
              "      <td>2014-12-20T21:17:50.315Z</td>\n",
              "      <td>Leia Organa</td>\n",
              "      <td>2014-12-10T15:20:09.791Z</td>\n",
              "      <td>female</td>\n",
              "      <td>light</td>\n",
              "      <td>brown</td>\n",
              "      <td>150</td>\n",
              "      <td>brown</td>\n",
              "      <td>49</td>\n",
              "      <td>2</td>\n",
              "      <td>19BBY</td>\n",
              "    </tr>\n",
              "    <tr>\n",
              "      <th>...</th>\n",
              "      <td>...</td>\n",
              "      <td>...</td>\n",
              "      <td>...</td>\n",
              "      <td>...</td>\n",
              "      <td>...</td>\n",
              "      <td>...</td>\n",
              "      <td>...</td>\n",
              "      <td>...</td>\n",
              "      <td>...</td>\n",
              "      <td>...</td>\n",
              "      <td>...</td>\n",
              "    </tr>\n",
              "    <tr>\n",
              "      <th>77</th>\n",
              "      <td>2014-12-20T21:17:50.488Z</td>\n",
              "      <td>Grievous</td>\n",
              "      <td>2014-12-20T19:43:53.348Z</td>\n",
              "      <td>male</td>\n",
              "      <td>brown, white</td>\n",
              "      <td>none</td>\n",
              "      <td>216</td>\n",
              "      <td>green, yellow</td>\n",
              "      <td>159</td>\n",
              "      <td>59</td>\n",
              "      <td>unknown</td>\n",
              "    </tr>\n",
              "    <tr>\n",
              "      <th>78</th>\n",
              "      <td>2014-12-20T21:17:50.491Z</td>\n",
              "      <td>Tarfful</td>\n",
              "      <td>2014-12-20T19:46:34.209Z</td>\n",
              "      <td>male</td>\n",
              "      <td>brown</td>\n",
              "      <td>brown</td>\n",
              "      <td>234</td>\n",
              "      <td>blue</td>\n",
              "      <td>136</td>\n",
              "      <td>14</td>\n",
              "      <td>unknown</td>\n",
              "    </tr>\n",
              "    <tr>\n",
              "      <th>79</th>\n",
              "      <td>2014-12-20T21:17:50.493Z</td>\n",
              "      <td>Raymus Antilles</td>\n",
              "      <td>2014-12-20T19:49:35.583Z</td>\n",
              "      <td>male</td>\n",
              "      <td>light</td>\n",
              "      <td>brown</td>\n",
              "      <td>188</td>\n",
              "      <td>brown</td>\n",
              "      <td>79</td>\n",
              "      <td>2</td>\n",
              "      <td>unknown</td>\n",
              "    </tr>\n",
              "    <tr>\n",
              "      <th>80</th>\n",
              "      <td>2014-12-20T21:17:50.496Z</td>\n",
              "      <td>Sly Moore</td>\n",
              "      <td>2014-12-20T20:18:37.619Z</td>\n",
              "      <td>female</td>\n",
              "      <td>pale</td>\n",
              "      <td>none</td>\n",
              "      <td>178</td>\n",
              "      <td>white</td>\n",
              "      <td>48</td>\n",
              "      <td>60</td>\n",
              "      <td>unknown</td>\n",
              "    </tr>\n",
              "    <tr>\n",
              "      <th>81</th>\n",
              "      <td>2014-12-20T21:17:50.498Z</td>\n",
              "      <td>Tion Medon</td>\n",
              "      <td>2014-12-20T20:35:04.260Z</td>\n",
              "      <td>male</td>\n",
              "      <td>grey</td>\n",
              "      <td>none</td>\n",
              "      <td>206</td>\n",
              "      <td>black</td>\n",
              "      <td>80</td>\n",
              "      <td>12</td>\n",
              "      <td>unknown</td>\n",
              "    </tr>\n",
              "  </tbody>\n",
              "</table>\n",
              "<p>82 rows × 11 columns</p>\n",
              "</div>\n",
              "    <div class=\"colab-df-buttons\">\n",
              "\n",
              "  <div class=\"colab-df-container\">\n",
              "    <button class=\"colab-df-convert\" onclick=\"convertToInteractive('df-e969a561-9258-4f70-b104-3c02d5c3bbdc')\"\n",
              "            title=\"Convert this dataframe to an interactive table.\"\n",
              "            style=\"display:none;\">\n",
              "\n",
              "  <svg xmlns=\"http://www.w3.org/2000/svg\" height=\"24px\" viewBox=\"0 -960 960 960\">\n",
              "    <path d=\"M120-120v-720h720v720H120Zm60-500h600v-160H180v160Zm220 220h160v-160H400v160Zm0 220h160v-160H400v160ZM180-400h160v-160H180v160Zm440 0h160v-160H620v160ZM180-180h160v-160H180v160Zm440 0h160v-160H620v160Z\"/>\n",
              "  </svg>\n",
              "    </button>\n",
              "\n",
              "  <style>\n",
              "    .colab-df-container {\n",
              "      display:flex;\n",
              "      gap: 12px;\n",
              "    }\n",
              "\n",
              "    .colab-df-convert {\n",
              "      background-color: #E8F0FE;\n",
              "      border: none;\n",
              "      border-radius: 50%;\n",
              "      cursor: pointer;\n",
              "      display: none;\n",
              "      fill: #1967D2;\n",
              "      height: 32px;\n",
              "      padding: 0 0 0 0;\n",
              "      width: 32px;\n",
              "    }\n",
              "\n",
              "    .colab-df-convert:hover {\n",
              "      background-color: #E2EBFA;\n",
              "      box-shadow: 0px 1px 2px rgba(60, 64, 67, 0.3), 0px 1px 3px 1px rgba(60, 64, 67, 0.15);\n",
              "      fill: #174EA6;\n",
              "    }\n",
              "\n",
              "    .colab-df-buttons div {\n",
              "      margin-bottom: 4px;\n",
              "    }\n",
              "\n",
              "    [theme=dark] .colab-df-convert {\n",
              "      background-color: #3B4455;\n",
              "      fill: #D2E3FC;\n",
              "    }\n",
              "\n",
              "    [theme=dark] .colab-df-convert:hover {\n",
              "      background-color: #434B5C;\n",
              "      box-shadow: 0px 1px 3px 1px rgba(0, 0, 0, 0.15);\n",
              "      filter: drop-shadow(0px 1px 2px rgba(0, 0, 0, 0.3));\n",
              "      fill: #FFFFFF;\n",
              "    }\n",
              "  </style>\n",
              "\n",
              "    <script>\n",
              "      const buttonEl =\n",
              "        document.querySelector('#df-e969a561-9258-4f70-b104-3c02d5c3bbdc button.colab-df-convert');\n",
              "      buttonEl.style.display =\n",
              "        google.colab.kernel.accessAllowed ? 'block' : 'none';\n",
              "\n",
              "      async function convertToInteractive(key) {\n",
              "        const element = document.querySelector('#df-e969a561-9258-4f70-b104-3c02d5c3bbdc');\n",
              "        const dataTable =\n",
              "          await google.colab.kernel.invokeFunction('convertToInteractive',\n",
              "                                                    [key], {});\n",
              "        if (!dataTable) return;\n",
              "\n",
              "        const docLinkHtml = 'Like what you see? Visit the ' +\n",
              "          '<a target=\"_blank\" href=https://colab.research.google.com/notebooks/data_table.ipynb>data table notebook</a>'\n",
              "          + ' to learn more about interactive tables.';\n",
              "        element.innerHTML = '';\n",
              "        dataTable['output_type'] = 'display_data';\n",
              "        await google.colab.output.renderOutput(dataTable, element);\n",
              "        const docLink = document.createElement('div');\n",
              "        docLink.innerHTML = docLinkHtml;\n",
              "        element.appendChild(docLink);\n",
              "      }\n",
              "    </script>\n",
              "  </div>\n",
              "\n",
              "\n",
              "<div id=\"df-5e24a6ce-2f7c-4a4d-adcf-ecc88085ac50\">\n",
              "  <button class=\"colab-df-quickchart\" onclick=\"quickchart('df-5e24a6ce-2f7c-4a4d-adcf-ecc88085ac50')\"\n",
              "            title=\"Suggest charts\"\n",
              "            style=\"display:none;\">\n",
              "\n",
              "<svg xmlns=\"http://www.w3.org/2000/svg\" height=\"24px\"viewBox=\"0 0 24 24\"\n",
              "     width=\"24px\">\n",
              "    <g>\n",
              "        <path d=\"M19 3H5c-1.1 0-2 .9-2 2v14c0 1.1.9 2 2 2h14c1.1 0 2-.9 2-2V5c0-1.1-.9-2-2-2zM9 17H7v-7h2v7zm4 0h-2V7h2v10zm4 0h-2v-4h2v4z\"/>\n",
              "    </g>\n",
              "</svg>\n",
              "  </button>\n",
              "\n",
              "<style>\n",
              "  .colab-df-quickchart {\n",
              "      --bg-color: #E8F0FE;\n",
              "      --fill-color: #1967D2;\n",
              "      --hover-bg-color: #E2EBFA;\n",
              "      --hover-fill-color: #174EA6;\n",
              "      --disabled-fill-color: #AAA;\n",
              "      --disabled-bg-color: #DDD;\n",
              "  }\n",
              "\n",
              "  [theme=dark] .colab-df-quickchart {\n",
              "      --bg-color: #3B4455;\n",
              "      --fill-color: #D2E3FC;\n",
              "      --hover-bg-color: #434B5C;\n",
              "      --hover-fill-color: #FFFFFF;\n",
              "      --disabled-bg-color: #3B4455;\n",
              "      --disabled-fill-color: #666;\n",
              "  }\n",
              "\n",
              "  .colab-df-quickchart {\n",
              "    background-color: var(--bg-color);\n",
              "    border: none;\n",
              "    border-radius: 50%;\n",
              "    cursor: pointer;\n",
              "    display: none;\n",
              "    fill: var(--fill-color);\n",
              "    height: 32px;\n",
              "    padding: 0;\n",
              "    width: 32px;\n",
              "  }\n",
              "\n",
              "  .colab-df-quickchart:hover {\n",
              "    background-color: var(--hover-bg-color);\n",
              "    box-shadow: 0 1px 2px rgba(60, 64, 67, 0.3), 0 1px 3px 1px rgba(60, 64, 67, 0.15);\n",
              "    fill: var(--button-hover-fill-color);\n",
              "  }\n",
              "\n",
              "  .colab-df-quickchart-complete:disabled,\n",
              "  .colab-df-quickchart-complete:disabled:hover {\n",
              "    background-color: var(--disabled-bg-color);\n",
              "    fill: var(--disabled-fill-color);\n",
              "    box-shadow: none;\n",
              "  }\n",
              "\n",
              "  .colab-df-spinner {\n",
              "    border: 2px solid var(--fill-color);\n",
              "    border-color: transparent;\n",
              "    border-bottom-color: var(--fill-color);\n",
              "    animation:\n",
              "      spin 1s steps(1) infinite;\n",
              "  }\n",
              "\n",
              "  @keyframes spin {\n",
              "    0% {\n",
              "      border-color: transparent;\n",
              "      border-bottom-color: var(--fill-color);\n",
              "      border-left-color: var(--fill-color);\n",
              "    }\n",
              "    20% {\n",
              "      border-color: transparent;\n",
              "      border-left-color: var(--fill-color);\n",
              "      border-top-color: var(--fill-color);\n",
              "    }\n",
              "    30% {\n",
              "      border-color: transparent;\n",
              "      border-left-color: var(--fill-color);\n",
              "      border-top-color: var(--fill-color);\n",
              "      border-right-color: var(--fill-color);\n",
              "    }\n",
              "    40% {\n",
              "      border-color: transparent;\n",
              "      border-right-color: var(--fill-color);\n",
              "      border-top-color: var(--fill-color);\n",
              "    }\n",
              "    60% {\n",
              "      border-color: transparent;\n",
              "      border-right-color: var(--fill-color);\n",
              "    }\n",
              "    80% {\n",
              "      border-color: transparent;\n",
              "      border-right-color: var(--fill-color);\n",
              "      border-bottom-color: var(--fill-color);\n",
              "    }\n",
              "    90% {\n",
              "      border-color: transparent;\n",
              "      border-bottom-color: var(--fill-color);\n",
              "    }\n",
              "  }\n",
              "</style>\n",
              "\n",
              "  <script>\n",
              "    async function quickchart(key) {\n",
              "      const quickchartButtonEl =\n",
              "        document.querySelector('#' + key + ' button');\n",
              "      quickchartButtonEl.disabled = true;  // To prevent multiple clicks.\n",
              "      quickchartButtonEl.classList.add('colab-df-spinner');\n",
              "      try {\n",
              "        const charts = await google.colab.kernel.invokeFunction(\n",
              "            'suggestCharts', [key], {});\n",
              "      } catch (error) {\n",
              "        console.error('Error during call to suggestCharts:', error);\n",
              "      }\n",
              "      quickchartButtonEl.classList.remove('colab-df-spinner');\n",
              "      quickchartButtonEl.classList.add('colab-df-quickchart-complete');\n",
              "    }\n",
              "    (() => {\n",
              "      let quickchartButtonEl =\n",
              "        document.querySelector('#df-5e24a6ce-2f7c-4a4d-adcf-ecc88085ac50 button');\n",
              "      quickchartButtonEl.style.display =\n",
              "        google.colab.kernel.accessAllowed ? 'block' : 'none';\n",
              "    })();\n",
              "  </script>\n",
              "</div>\n",
              "\n",
              "  <div id=\"id_729fa406-e8cf-4aa6-9e34-5b8ab358fd06\">\n",
              "    <style>\n",
              "      .colab-df-generate {\n",
              "        background-color: #E8F0FE;\n",
              "        border: none;\n",
              "        border-radius: 50%;\n",
              "        cursor: pointer;\n",
              "        display: none;\n",
              "        fill: #1967D2;\n",
              "        height: 32px;\n",
              "        padding: 0 0 0 0;\n",
              "        width: 32px;\n",
              "      }\n",
              "\n",
              "      .colab-df-generate:hover {\n",
              "        background-color: #E2EBFA;\n",
              "        box-shadow: 0px 1px 2px rgba(60, 64, 67, 0.3), 0px 1px 3px 1px rgba(60, 64, 67, 0.15);\n",
              "        fill: #174EA6;\n",
              "      }\n",
              "\n",
              "      [theme=dark] .colab-df-generate {\n",
              "        background-color: #3B4455;\n",
              "        fill: #D2E3FC;\n",
              "      }\n",
              "\n",
              "      [theme=dark] .colab-df-generate:hover {\n",
              "        background-color: #434B5C;\n",
              "        box-shadow: 0px 1px 3px 1px rgba(0, 0, 0, 0.15);\n",
              "        filter: drop-shadow(0px 1px 2px rgba(0, 0, 0, 0.3));\n",
              "        fill: #FFFFFF;\n",
              "      }\n",
              "    </style>\n",
              "    <button class=\"colab-df-generate\" onclick=\"generateWithVariable('df')\"\n",
              "            title=\"Generate code using this dataframe.\"\n",
              "            style=\"display:none;\">\n",
              "\n",
              "  <svg xmlns=\"http://www.w3.org/2000/svg\" height=\"24px\"viewBox=\"0 0 24 24\"\n",
              "       width=\"24px\">\n",
              "    <path d=\"M7,19H8.4L18.45,9,17,7.55,7,17.6ZM5,21V16.75L18.45,3.32a2,2,0,0,1,2.83,0l1.4,1.43a1.91,1.91,0,0,1,.58,1.4,1.91,1.91,0,0,1-.58,1.4L9.25,21ZM18.45,9,17,7.55Zm-12,3A5.31,5.31,0,0,0,4.9,8.1,5.31,5.31,0,0,0,1,6.5,5.31,5.31,0,0,0,4.9,4.9,5.31,5.31,0,0,0,6.5,1,5.31,5.31,0,0,0,8.1,4.9,5.31,5.31,0,0,0,12,6.5,5.46,5.46,0,0,0,6.5,12Z\"/>\n",
              "  </svg>\n",
              "    </button>\n",
              "    <script>\n",
              "      (() => {\n",
              "      const buttonEl =\n",
              "        document.querySelector('#id_729fa406-e8cf-4aa6-9e34-5b8ab358fd06 button.colab-df-generate');\n",
              "      buttonEl.style.display =\n",
              "        google.colab.kernel.accessAllowed ? 'block' : 'none';\n",
              "\n",
              "      buttonEl.onclick = () => {\n",
              "        google.colab.notebook.generateWithVariable('df');\n",
              "      }\n",
              "      })();\n",
              "    </script>\n",
              "  </div>\n",
              "\n",
              "    </div>\n",
              "  </div>\n"
            ],
            "application/vnd.google.colaboratory.intrinsic+json": {
              "type": "dataframe",
              "variable_name": "df",
              "summary": "{\n  \"name\": \"df\",\n  \"rows\": 82,\n  \"fields\": [\n    {\n      \"column\": \"edited\",\n      \"properties\": {\n        \"dtype\": \"object\",\n        \"num_unique_values\": 82,\n        \"samples\": [\n          \"2014-12-20T21:17:50.375Z\",\n          \"2014-12-20T21:17:56.891Z\",\n          \"2014-12-20T21:17:50.355Z\"\n        ],\n        \"semantic_type\": \"\",\n        \"description\": \"\"\n      }\n    },\n    {\n      \"column\": \"name\",\n      \"properties\": {\n        \"dtype\": \"string\",\n        \"num_unique_values\": 82,\n        \"samples\": [\n          \"Qui-Gon Jinn\",\n          \"Luke Skywalker\",\n          \"Bossk\"\n        ],\n        \"semantic_type\": \"\",\n        \"description\": \"\"\n      }\n    },\n    {\n      \"column\": \"created\",\n      \"properties\": {\n        \"dtype\": \"object\",\n        \"num_unique_values\": 82,\n        \"samples\": [\n          \"2014-12-19T16:54:53.618Z\",\n          \"2014-12-09T13:50:51.644Z\",\n          \"2014-12-15T12:53:49.297Z\"\n        ],\n        \"semantic_type\": \"\",\n        \"description\": \"\"\n      }\n    },\n    {\n      \"column\": \"gender\",\n      \"properties\": {\n        \"dtype\": \"category\",\n        \"num_unique_values\": 5,\n        \"samples\": [\n          \"n/a\",\n          \"none\",\n          \"female\"\n        ],\n        \"semantic_type\": \"\",\n        \"description\": \"\"\n      }\n    },\n    {\n      \"column\": \"skin_color\",\n      \"properties\": {\n        \"dtype\": \"category\",\n        \"num_unique_values\": 30,\n        \"samples\": [\n          \"green, grey\",\n          \"mottled green\",\n          \"yellow\"\n        ],\n        \"semantic_type\": \"\",\n        \"description\": \"\"\n      }\n    },\n    {\n      \"column\": \"hair_color\",\n      \"properties\": {\n        \"dtype\": \"category\",\n        \"num_unique_values\": 12,\n        \"samples\": [\n          \"auburn\",\n          \"grey\",\n          \"blond\"\n        ],\n        \"semantic_type\": \"\",\n        \"description\": \"\"\n      }\n    },\n    {\n      \"column\": \"height\",\n      \"properties\": {\n        \"dtype\": \"string\",\n        \"num_unique_values\": 46,\n        \"samples\": [\n          \"157\",\n          \"185\",\n          \"196\"\n        ],\n        \"semantic_type\": \"\",\n        \"description\": \"\"\n      }\n    },\n    {\n      \"column\": \"eye_color\",\n      \"properties\": {\n        \"dtype\": \"category\",\n        \"num_unique_values\": 14,\n        \"samples\": [\n          \"unknown\",\n          \"gold\",\n          \"blue\"\n        ],\n        \"semantic_type\": \"\",\n        \"description\": \"\"\n      }\n    },\n    {\n      \"column\": \"mass\",\n      \"properties\": {\n        \"dtype\": \"category\",\n        \"num_unique_values\": 39,\n        \"samples\": [\n          \"56.2\",\n          \"48\",\n          \"49\"\n        ],\n        \"semantic_type\": \"\",\n        \"description\": \"\"\n      }\n    },\n    {\n      \"column\": \"homeworld\",\n      \"properties\": {\n        \"dtype\": \"number\",\n        \"std\": 18,\n        \"min\": 1,\n        \"max\": 60,\n        \"num_unique_values\": 49,\n        \"samples\": [\n          30,\n          58,\n          60\n        ],\n        \"semantic_type\": \"\",\n        \"description\": \"\"\n      }\n    },\n    {\n      \"column\": \"birth_year\",\n      \"properties\": {\n        \"dtype\": \"category\",\n        \"num_unique_values\": 37,\n        \"samples\": [\n          \"31.5BBY\",\n          \"600BBY\",\n          \"52BBY\"\n        ],\n        \"semantic_type\": \"\",\n        \"description\": \"\"\n      }\n    }\n  ]\n}"
            }
          },
          "metadata": {},
          "execution_count": 5
        }
      ]
    },
    {
      "cell_type": "markdown",
      "source": [
        "**Phân tích cấu trúc dữ liệu:**\n",
        "- edited: Thời gian chỉnh sửa\n",
        "- name: Tên\n",
        "- created: Thời gian tạo\n",
        "- gender: Giới tính\n",
        "- skin_color: Màu da\n",
        "- hair_color: Màu tóc\n",
        "- height: Chiều cao\n",
        "- eye_color: Màu mắt\n",
        "- mass: Khối lượng\n",
        "- homeworld: Hành tinh quê hương\n",
        "- birth_year: Năm sinh\n",
        "\n",
        "**Nhận xét về dữ liệu:**\n",
        "\n",
        "**- Thời gian chỉnh sửa:**\n",
        "- Thời gian chỉnh sửa cho biết lần cuối cùng dữ liệu về nhân vật được cập nhật, giúp đảm bảo tính chính xác và mới nhất của thông tin.\n",
        "\n",
        "**- Tên:**\n",
        "- Tên của các nhân vật giúp chúng ta xác định rõ ràng từng cá nhân trong vũ trụ Star Wars, từ đó dễ dàng phân tích các thuộc tính khác liên quan đến họ.\n",
        "\n",
        "**- Thời gian tạo:**\n",
        "- Thời gian tạo ghi lại thời điểm mà thông tin về nhân vật được đưa vào cơ sở dữ liệu, cung cấp bối cảnh về quá trình cập nhật dữ liệu.\n",
        "\n",
        "**- Giới tính:**\n",
        "- Giới tính của các nhân vật giúp hiểu rõ hơn về sự đa dạng và phân bố giới tính trong vũ trụ Star Wars.\n",
        "\n",
        "**- Màu da:**\n",
        "- Màu da của các nhân vật giúp nghiên cứu sự đa dạng về chủng tộc và loài trong Star Wars, cũng như thể hiện các đặc trưng văn hóa và sinh học khác nhau.\n",
        "\n",
        "**- Màu tóc:**\n",
        "- Màu tóc cung cấp thông tin về ngoại hình của các nhân vật, giúp phân tích các đặc điểm nhân dạng và phong cách cá nhân.\n",
        "\n",
        "**- Chiều cao:**\n",
        "- Chiều cao của các nhân vật giúp nghiên cứu về sự đa dạng hình thể và so sánh giữa các loài khác nhau trong vũ trụ Star Wars.\n",
        "\n",
        "**- Màu mắt:**\n",
        "- Màu mắt cung cấp thêm một khía cạnh về ngoại hình và có thể được sử dụng để phân loại các nhân vật theo những đặc điểm nhận diện cụ thể.\n",
        "\n",
        "**- Khối lượng:**\n",
        "- Khối lượng của các nhân vật giúp nghiên cứu về đặc điểm thể chất và so sánh giữa các nhân vật khác nhau.\n",
        "\n",
        "**- Hành tinh quê hương:**\n",
        "- Hành tinh quê hương cho biết nguồn gốc địa lý của các nhân vật, giúp phân tích sự phân bố và nguồn gốc của các loài trong vũ trụ Star Wars.\n",
        "\n",
        "**- Năm sinh:**\n",
        "- Năm sinh của các nhân vật cung cấp thông tin về độ tuổi và thế hệ, giúp hiểu rõ hơn về lịch sử và dòng thời gian của các sự kiện trong Star Wars.\n",
        "\n",
        "**- Tổng Kết:**\n",
        "- Dữ liệu này cung cấp cái nhìn tổng quan về các nhân vật trong Star Wars, giúp hiểu rõ hơn về sự đa dạng và đặc điểm của các nhân vật.\n",
        "Những thông tin này có thể được sử dụng để nghiên cứu về các yếu tố văn hóa, sinh học và xã hội trong vũ trụ Star Wars, cũng như lập kế hoạch cho các nghiên cứu và sản phẩm liên quan."
      ],
      "metadata": {
        "id": "CXzw_ym_uo6A"
      }
    },
    {
      "cell_type": "markdown",
      "source": [
        "# 2. Biểu đồ hiển thị thông tin các cột dữ liệu"
      ],
      "metadata": {
        "id": "j7SRM7sPuiyU"
      }
    },
    {
      "cell_type": "markdown",
      "source": [
        "2.1. Birth_year"
      ],
      "metadata": {
        "id": "2tWINUwotJLJ"
      }
    },
    {
      "cell_type": "code",
      "source": [
        "# Chuyển đổi 'birth_year' sang dạng số, bỏ qua các giá trị không hợp lệ\n",
        "def convert_birth_year(birth_year):\n",
        "    if 'BBY' in birth_year:\n",
        "        return float(birth_year.replace('BBY', ''))\n",
        "    elif 'ABY' in birth_year:\n",
        "        return -float(birth_year.replace('ABY', ''))\n",
        "    else:\n",
        "        return None\n",
        "\n",
        "df['birth_year'] = df['birth_year'].apply(convert_birth_year)\n",
        "\n",
        "# Loại bỏ các hàng có giá trị NaN ở cột birth_year\n",
        "df = df.dropna(subset=['birth_year'])"
      ],
      "metadata": {
        "id": "808ednb_CY-X"
      },
      "execution_count": 6,
      "outputs": []
    },
    {
      "cell_type": "code",
      "source": [
        "# 1. Biểu đồ đường: Năm sinh của các nhân vật\n",
        "df_sorted_by_birth = df.sort_values(by='birth_year')\n",
        "fig_line = go.Figure()\n",
        "\n",
        "fig_line.add_trace(go.Scatter(\n",
        "    x=df_sorted_by_birth['name'],\n",
        "    y=df_sorted_by_birth['birth_year'],\n",
        "    mode='lines+markers',\n",
        "    name='Năm sinh',\n",
        "    line=dict(color='rgb(238, 211, 217)', width=2),\n",
        "    marker=dict(size=10, color='rgb(238, 211, 217)', symbol='circle', line=dict(width=2, color='DarkSlateGrey'))\n",
        "))\n",
        "\n",
        "fig_line.update_layout(\n",
        "    title={\n",
        "        'text': '<b><span style=\"color: #ff6600\">Năm sinh của các nhân vật</span></b>',\n",
        "        'y':0.9,\n",
        "        'x':0.5,\n",
        "        'xanchor': 'center',\n",
        "        'yanchor': 'top'\n",
        "    },\n",
        "    xaxis_title='Nhân vật',\n",
        "    yaxis_title='Năm sinh',\n",
        "    xaxis_tickangle=-90,\n",
        "    font=dict(\n",
        "        family=\"Arial, sans-serif\",\n",
        "        size=14,\n",
        "        color=\"RebeccaPurple\",\n",
        "    ),\n",
        "    plot_bgcolor='#31363F',\n",
        "    paper_bgcolor='#31363F',\n",
        "    xaxis=dict(\n",
        "        showline=True,\n",
        "        showgrid=False,\n",
        "        showticklabels=True,\n",
        "        linecolor='rgb(187, 233, 255)',\n",
        "        linewidth=2,\n",
        "        ticks='outside',\n",
        "        tickfont=dict(\n",
        "            family='Arial',\n",
        "            size=18,\n",
        "            color='rgb(245, 232, 221)',\n",
        "        )\n",
        "    ),\n",
        "    yaxis=dict(\n",
        "        showgrid=True,\n",
        "        zeroline=False,\n",
        "        showline=True,\n",
        "        showticklabels=True,\n",
        "        tickfont=dict(\n",
        "            family='Arial',\n",
        "            size=18,\n",
        "            color='rgb(245, 232, 221)',\n",
        "        )\n",
        "    )\n",
        ")\n",
        "\n",
        "fig_line.show()"
      ],
      "metadata": {
        "colab": {
          "base_uri": "https://localhost:8080/",
          "height": 542
        },
        "id": "LiouMG1rD42C",
        "outputId": "d3b1559c-11b8-46e2-c538-323196ba8bad"
      },
      "execution_count": 7,
      "outputs": [
        {
          "output_type": "display_data",
          "data": {
            "text/html": [
              "<html>\n",
              "<head><meta charset=\"utf-8\" /></head>\n",
              "<body>\n",
              "    <div>            <script src=\"https://cdnjs.cloudflare.com/ajax/libs/mathjax/2.7.5/MathJax.js?config=TeX-AMS-MML_SVG\"></script><script type=\"text/javascript\">if (window.MathJax && window.MathJax.Hub && window.MathJax.Hub.Config) {window.MathJax.Hub.Config({SVG: {font: \"STIX-Web\"}});}</script>                <script type=\"text/javascript\">window.PlotlyConfig = {MathJaxConfig: 'local'};</script>\n",
              "        <script charset=\"utf-8\" src=\"https://cdn.plot.ly/plotly-2.24.1.min.js\"></script>                <div id=\"12d714b3-a304-4870-bbe1-c272676b5691\" class=\"plotly-graph-div\" style=\"height:525px; width:100%;\"></div>            <script type=\"text/javascript\">                                    window.PLOTLYENV=window.PLOTLYENV || {};                                    if (document.getElementById(\"12d714b3-a304-4870-bbe1-c272676b5691\")) {                    Plotly.newPlot(                        \"12d714b3-a304-4870-bbe1-c272676b5691\",                        [{\"line\":{\"color\":\"rgb(238, 211, 217)\",\"width\":2},\"marker\":{\"color\":\"rgb(238, 211, 217)\",\"line\":{\"color\":\"DarkSlateGrey\",\"width\":2},\"size\":10,\"symbol\":\"circle\"},\"mode\":\"lines+markers\",\"name\":\"N\\u0103m sinh\",\"x\":[\"Wicket Systri Warrick\",\"IG-88\",\"Luke Skywalker\",\"Leia Organa\",\"Wedge Antilles\",\"Plo Koon\",\"Biggs Darklighter\",\"Han Solo\",\"Lando Calrissian\",\"Boba Fett\",\"R2-D2\",\"Lobot\",\"Barriss Offee\",\"Ackbar\",\"Darth Vader\",\"Anakin Skywalker\",\"Greedo\",\"Padm\\u00e9 Amidala\",\"Beru Whitesun lars\",\"Ayla Secura\",\"Mon Mothma\",\"Jar Jar Binks\",\"Owen Lars\",\"Bossk\",\"Darth Maul\",\"Obi-Wan Kenobi\",\"Luminara Unduli\",\"Quarsh Panaka\",\"Wilhuff Tarkin\",\"Jango Fett\",\"Bail Prestor Organa\",\"Shmi Skywalker\",\"Mace Windu\",\"Cliegg Lars\",\"Palpatine\",\"Finis Valorum\",\"Qui-Gon Jinn\",\"Ki-Adi-Mundi\",\"Dooku\",\"C-3PO\",\"Chewbacca\",\"Jabba Desilijic Tiure\",\"Yoda\"],\"y\":[8.0,15.0,19.0,19.0,21.0,22.0,24.0,29.0,31.0,31.5,33.0,37.0,40.0,41.0,41.9,41.9,44.0,46.0,47.0,48.0,48.0,52.0,52.0,53.0,54.0,57.0,58.0,62.0,64.0,66.0,67.0,72.0,72.0,82.0,82.0,91.0,92.0,92.0,102.0,112.0,200.0,600.0,896.0],\"type\":\"scatter\"}],                        {\"template\":{\"data\":{\"histogram2dcontour\":[{\"type\":\"histogram2dcontour\",\"colorbar\":{\"outlinewidth\":0,\"ticks\":\"\"},\"colorscale\":[[0.0,\"#0d0887\"],[0.1111111111111111,\"#46039f\"],[0.2222222222222222,\"#7201a8\"],[0.3333333333333333,\"#9c179e\"],[0.4444444444444444,\"#bd3786\"],[0.5555555555555556,\"#d8576b\"],[0.6666666666666666,\"#ed7953\"],[0.7777777777777778,\"#fb9f3a\"],[0.8888888888888888,\"#fdca26\"],[1.0,\"#f0f921\"]]}],\"choropleth\":[{\"type\":\"choropleth\",\"colorbar\":{\"outlinewidth\":0,\"ticks\":\"\"}}],\"histogram2d\":[{\"type\":\"histogram2d\",\"colorbar\":{\"outlinewidth\":0,\"ticks\":\"\"},\"colorscale\":[[0.0,\"#0d0887\"],[0.1111111111111111,\"#46039f\"],[0.2222222222222222,\"#7201a8\"],[0.3333333333333333,\"#9c179e\"],[0.4444444444444444,\"#bd3786\"],[0.5555555555555556,\"#d8576b\"],[0.6666666666666666,\"#ed7953\"],[0.7777777777777778,\"#fb9f3a\"],[0.8888888888888888,\"#fdca26\"],[1.0,\"#f0f921\"]]}],\"heatmap\":[{\"type\":\"heatmap\",\"colorbar\":{\"outlinewidth\":0,\"ticks\":\"\"},\"colorscale\":[[0.0,\"#0d0887\"],[0.1111111111111111,\"#46039f\"],[0.2222222222222222,\"#7201a8\"],[0.3333333333333333,\"#9c179e\"],[0.4444444444444444,\"#bd3786\"],[0.5555555555555556,\"#d8576b\"],[0.6666666666666666,\"#ed7953\"],[0.7777777777777778,\"#fb9f3a\"],[0.8888888888888888,\"#fdca26\"],[1.0,\"#f0f921\"]]}],\"heatmapgl\":[{\"type\":\"heatmapgl\",\"colorbar\":{\"outlinewidth\":0,\"ticks\":\"\"},\"colorscale\":[[0.0,\"#0d0887\"],[0.1111111111111111,\"#46039f\"],[0.2222222222222222,\"#7201a8\"],[0.3333333333333333,\"#9c179e\"],[0.4444444444444444,\"#bd3786\"],[0.5555555555555556,\"#d8576b\"],[0.6666666666666666,\"#ed7953\"],[0.7777777777777778,\"#fb9f3a\"],[0.8888888888888888,\"#fdca26\"],[1.0,\"#f0f921\"]]}],\"contourcarpet\":[{\"type\":\"contourcarpet\",\"colorbar\":{\"outlinewidth\":0,\"ticks\":\"\"}}],\"contour\":[{\"type\":\"contour\",\"colorbar\":{\"outlinewidth\":0,\"ticks\":\"\"},\"colorscale\":[[0.0,\"#0d0887\"],[0.1111111111111111,\"#46039f\"],[0.2222222222222222,\"#7201a8\"],[0.3333333333333333,\"#9c179e\"],[0.4444444444444444,\"#bd3786\"],[0.5555555555555556,\"#d8576b\"],[0.6666666666666666,\"#ed7953\"],[0.7777777777777778,\"#fb9f3a\"],[0.8888888888888888,\"#fdca26\"],[1.0,\"#f0f921\"]]}],\"surface\":[{\"type\":\"surface\",\"colorbar\":{\"outlinewidth\":0,\"ticks\":\"\"},\"colorscale\":[[0.0,\"#0d0887\"],[0.1111111111111111,\"#46039f\"],[0.2222222222222222,\"#7201a8\"],[0.3333333333333333,\"#9c179e\"],[0.4444444444444444,\"#bd3786\"],[0.5555555555555556,\"#d8576b\"],[0.6666666666666666,\"#ed7953\"],[0.7777777777777778,\"#fb9f3a\"],[0.8888888888888888,\"#fdca26\"],[1.0,\"#f0f921\"]]}],\"mesh3d\":[{\"type\":\"mesh3d\",\"colorbar\":{\"outlinewidth\":0,\"ticks\":\"\"}}],\"scatter\":[{\"fillpattern\":{\"fillmode\":\"overlay\",\"size\":10,\"solidity\":0.2},\"type\":\"scatter\"}],\"parcoords\":[{\"type\":\"parcoords\",\"line\":{\"colorbar\":{\"outlinewidth\":0,\"ticks\":\"\"}}}],\"scatterpolargl\":[{\"type\":\"scatterpolargl\",\"marker\":{\"colorbar\":{\"outlinewidth\":0,\"ticks\":\"\"}}}],\"bar\":[{\"error_x\":{\"color\":\"#2a3f5f\"},\"error_y\":{\"color\":\"#2a3f5f\"},\"marker\":{\"line\":{\"color\":\"#E5ECF6\",\"width\":0.5},\"pattern\":{\"fillmode\":\"overlay\",\"size\":10,\"solidity\":0.2}},\"type\":\"bar\"}],\"scattergeo\":[{\"type\":\"scattergeo\",\"marker\":{\"colorbar\":{\"outlinewidth\":0,\"ticks\":\"\"}}}],\"scatterpolar\":[{\"type\":\"scatterpolar\",\"marker\":{\"colorbar\":{\"outlinewidth\":0,\"ticks\":\"\"}}}],\"histogram\":[{\"marker\":{\"pattern\":{\"fillmode\":\"overlay\",\"size\":10,\"solidity\":0.2}},\"type\":\"histogram\"}],\"scattergl\":[{\"type\":\"scattergl\",\"marker\":{\"colorbar\":{\"outlinewidth\":0,\"ticks\":\"\"}}}],\"scatter3d\":[{\"type\":\"scatter3d\",\"line\":{\"colorbar\":{\"outlinewidth\":0,\"ticks\":\"\"}},\"marker\":{\"colorbar\":{\"outlinewidth\":0,\"ticks\":\"\"}}}],\"scattermapbox\":[{\"type\":\"scattermapbox\",\"marker\":{\"colorbar\":{\"outlinewidth\":0,\"ticks\":\"\"}}}],\"scatterternary\":[{\"type\":\"scatterternary\",\"marker\":{\"colorbar\":{\"outlinewidth\":0,\"ticks\":\"\"}}}],\"scattercarpet\":[{\"type\":\"scattercarpet\",\"marker\":{\"colorbar\":{\"outlinewidth\":0,\"ticks\":\"\"}}}],\"carpet\":[{\"aaxis\":{\"endlinecolor\":\"#2a3f5f\",\"gridcolor\":\"white\",\"linecolor\":\"white\",\"minorgridcolor\":\"white\",\"startlinecolor\":\"#2a3f5f\"},\"baxis\":{\"endlinecolor\":\"#2a3f5f\",\"gridcolor\":\"white\",\"linecolor\":\"white\",\"minorgridcolor\":\"white\",\"startlinecolor\":\"#2a3f5f\"},\"type\":\"carpet\"}],\"table\":[{\"cells\":{\"fill\":{\"color\":\"#EBF0F8\"},\"line\":{\"color\":\"white\"}},\"header\":{\"fill\":{\"color\":\"#C8D4E3\"},\"line\":{\"color\":\"white\"}},\"type\":\"table\"}],\"barpolar\":[{\"marker\":{\"line\":{\"color\":\"#E5ECF6\",\"width\":0.5},\"pattern\":{\"fillmode\":\"overlay\",\"size\":10,\"solidity\":0.2}},\"type\":\"barpolar\"}],\"pie\":[{\"automargin\":true,\"type\":\"pie\"}]},\"layout\":{\"autotypenumbers\":\"strict\",\"colorway\":[\"#636efa\",\"#EF553B\",\"#00cc96\",\"#ab63fa\",\"#FFA15A\",\"#19d3f3\",\"#FF6692\",\"#B6E880\",\"#FF97FF\",\"#FECB52\"],\"font\":{\"color\":\"#2a3f5f\"},\"hovermode\":\"closest\",\"hoverlabel\":{\"align\":\"left\"},\"paper_bgcolor\":\"white\",\"plot_bgcolor\":\"#E5ECF6\",\"polar\":{\"bgcolor\":\"#E5ECF6\",\"angularaxis\":{\"gridcolor\":\"white\",\"linecolor\":\"white\",\"ticks\":\"\"},\"radialaxis\":{\"gridcolor\":\"white\",\"linecolor\":\"white\",\"ticks\":\"\"}},\"ternary\":{\"bgcolor\":\"#E5ECF6\",\"aaxis\":{\"gridcolor\":\"white\",\"linecolor\":\"white\",\"ticks\":\"\"},\"baxis\":{\"gridcolor\":\"white\",\"linecolor\":\"white\",\"ticks\":\"\"},\"caxis\":{\"gridcolor\":\"white\",\"linecolor\":\"white\",\"ticks\":\"\"}},\"coloraxis\":{\"colorbar\":{\"outlinewidth\":0,\"ticks\":\"\"}},\"colorscale\":{\"sequential\":[[0.0,\"#0d0887\"],[0.1111111111111111,\"#46039f\"],[0.2222222222222222,\"#7201a8\"],[0.3333333333333333,\"#9c179e\"],[0.4444444444444444,\"#bd3786\"],[0.5555555555555556,\"#d8576b\"],[0.6666666666666666,\"#ed7953\"],[0.7777777777777778,\"#fb9f3a\"],[0.8888888888888888,\"#fdca26\"],[1.0,\"#f0f921\"]],\"sequentialminus\":[[0.0,\"#0d0887\"],[0.1111111111111111,\"#46039f\"],[0.2222222222222222,\"#7201a8\"],[0.3333333333333333,\"#9c179e\"],[0.4444444444444444,\"#bd3786\"],[0.5555555555555556,\"#d8576b\"],[0.6666666666666666,\"#ed7953\"],[0.7777777777777778,\"#fb9f3a\"],[0.8888888888888888,\"#fdca26\"],[1.0,\"#f0f921\"]],\"diverging\":[[0,\"#8e0152\"],[0.1,\"#c51b7d\"],[0.2,\"#de77ae\"],[0.3,\"#f1b6da\"],[0.4,\"#fde0ef\"],[0.5,\"#f7f7f7\"],[0.6,\"#e6f5d0\"],[0.7,\"#b8e186\"],[0.8,\"#7fbc41\"],[0.9,\"#4d9221\"],[1,\"#276419\"]]},\"xaxis\":{\"gridcolor\":\"white\",\"linecolor\":\"white\",\"ticks\":\"\",\"title\":{\"standoff\":15},\"zerolinecolor\":\"white\",\"automargin\":true,\"zerolinewidth\":2},\"yaxis\":{\"gridcolor\":\"white\",\"linecolor\":\"white\",\"ticks\":\"\",\"title\":{\"standoff\":15},\"zerolinecolor\":\"white\",\"automargin\":true,\"zerolinewidth\":2},\"scene\":{\"xaxis\":{\"backgroundcolor\":\"#E5ECF6\",\"gridcolor\":\"white\",\"linecolor\":\"white\",\"showbackground\":true,\"ticks\":\"\",\"zerolinecolor\":\"white\",\"gridwidth\":2},\"yaxis\":{\"backgroundcolor\":\"#E5ECF6\",\"gridcolor\":\"white\",\"linecolor\":\"white\",\"showbackground\":true,\"ticks\":\"\",\"zerolinecolor\":\"white\",\"gridwidth\":2},\"zaxis\":{\"backgroundcolor\":\"#E5ECF6\",\"gridcolor\":\"white\",\"linecolor\":\"white\",\"showbackground\":true,\"ticks\":\"\",\"zerolinecolor\":\"white\",\"gridwidth\":2}},\"shapedefaults\":{\"line\":{\"color\":\"#2a3f5f\"}},\"annotationdefaults\":{\"arrowcolor\":\"#2a3f5f\",\"arrowhead\":0,\"arrowwidth\":1},\"geo\":{\"bgcolor\":\"white\",\"landcolor\":\"#E5ECF6\",\"subunitcolor\":\"white\",\"showland\":true,\"showlakes\":true,\"lakecolor\":\"white\"},\"title\":{\"x\":0.05},\"mapbox\":{\"style\":\"light\"}}},\"title\":{\"text\":\"\\u003cb\\u003e\\u003cspan style=\\\"color: #ff6600\\\"\\u003eN\\u0103m sinh c\\u1ee7a c\\u00e1c nh\\u00e2n v\\u1eadt\\u003c\\u002fspan\\u003e\\u003c\\u002fb\\u003e\",\"y\":0.9,\"x\":0.5,\"xanchor\":\"center\",\"yanchor\":\"top\"},\"xaxis\":{\"tickfont\":{\"family\":\"Arial\",\"size\":18,\"color\":\"rgb(245, 232, 221)\"},\"title\":{\"text\":\"Nh\\u00e2n v\\u1eadt\"},\"tickangle\":-90,\"showline\":true,\"showgrid\":false,\"showticklabels\":true,\"linecolor\":\"rgb(187, 233, 255)\",\"linewidth\":2,\"ticks\":\"outside\"},\"font\":{\"family\":\"Arial, sans-serif\",\"size\":14,\"color\":\"RebeccaPurple\"},\"yaxis\":{\"tickfont\":{\"family\":\"Arial\",\"size\":18,\"color\":\"rgb(245, 232, 221)\"},\"title\":{\"text\":\"N\\u0103m sinh\"},\"showgrid\":true,\"zeroline\":false,\"showline\":true,\"showticklabels\":true},\"plot_bgcolor\":\"#31363F\",\"paper_bgcolor\":\"#31363F\"},                        {\"responsive\": true}                    ).then(function(){\n",
              "                            \n",
              "var gd = document.getElementById('12d714b3-a304-4870-bbe1-c272676b5691');\n",
              "var x = new MutationObserver(function (mutations, observer) {{\n",
              "        var display = window.getComputedStyle(gd).display;\n",
              "        if (!display || display === 'none') {{\n",
              "            console.log([gd, 'removed!']);\n",
              "            Plotly.purge(gd);\n",
              "            observer.disconnect();\n",
              "        }}\n",
              "}});\n",
              "\n",
              "// Listen for the removal of the full notebook cells\n",
              "var notebookContainer = gd.closest('#notebook-container');\n",
              "if (notebookContainer) {{\n",
              "    x.observe(notebookContainer, {childList: true});\n",
              "}}\n",
              "\n",
              "// Listen for the clearing of the current output cell\n",
              "var outputEl = gd.closest('.output');\n",
              "if (outputEl) {{\n",
              "    x.observe(outputEl, {childList: true});\n",
              "}}\n",
              "\n",
              "                        })                };                            </script>        </div>\n",
              "</body>\n",
              "</html>"
            ]
          },
          "metadata": {}
        }
      ]
    },
    {
      "cell_type": "markdown",
      "source": [
        "**Nhận xét chung:**\n",
        "\n",
        "Biểu đồ đường thể hiện sự phân bố năm sinh của các nhân vật trong vũ trụ Star Wars, giúp chúng ta thấy được các giai đoạn khác nhau mà các nhân vật được sinh ra.\n",
        "\n",
        "**Các nhân vật có năm sinh gần trận chiến Yavin:**\n",
        "\n",
        "- Các nhân vật có năm sinh gần trận chiến Yavin được hiển thị rõ ràng trên biểu đồ với các điểm trên đường biểu diễn. Điều này giúp chúng ta dễ dàng xác định các nhân vật sinh ra trước và sau sự kiện quan trọng này.\n",
        "- Những nhân vật này có thể đóng vai trò quan trọng trong các sự kiện gần trận chiến Yavin và có liên quan đến các sự kiện chính trong dòng thời gian Star Wars.\n",
        "\n",
        "**Các nhân vật có năm sinh xa trận chiến Yavin:**\n",
        "\n",
        "- Các nhân vật có năm sinh xa trận chiến Yavin được hiển thị ở hai phía của biểu đồ, với các giá trị năm sinh dương (trước trận chiến Yavin) và âm (sau trận chiến Yavin).\n",
        "- Những nhân vật này có thể thuộc các giai đoạn khác nhau trong lịch sử Star Wars và có vai trò trong các sự kiện không liên quan trực tiếp đến trận chiến Yavin.\n",
        "\n",
        "**Nhận xét cụ thể:**\n",
        "\n",
        "**- Sự phân bố năm sinh đa dạng:** Biểu đồ cho thấy sự phân bố năm sinh không đồng đều của các nhân vật trong Star Wars, phản ánh sự đa dạng và phong phú của các giai đoạn lịch sử trong vũ trụ này.\n",
        "Nhân vật nổi bật trong các giai đoạn: Một số nhân vật có năm sinh nổi bật gần các sự kiện chính như trận chiến Yavin, cho thấy họ có vai trò quan trọng trong các sự kiện này.\n",
        "\n",
        "**-Nhân vật ít nổi bật:** Ngược lại, một số nhân vật có năm sinh cách xa các sự kiện chính, có thể đóng vai trò trong các câu chuyện phụ hoặc các giai đoạn ít được chú ý hơn trong dòng thời gian Star Wars.\n",
        "\n",
        "**Tổng kết:**\n",
        "\n",
        "- Biểu đồ cung cấp cái nhìn tổng quan về sự phân bố năm sinh của các nhân vật trong vũ trụ Star Wars, giúp chúng ta hiểu rõ hơn về mối quan hệ giữa các nhân vật và các sự kiện lịch sử trong dòng thời gian này.\n",
        "Những thông tin này có thể được sử dụng để nghiên cứu thêm về sự phân bố theo giới tính, chiều cao, hoặc các đặc điểm khác của nhân vật, cung cấp cái nhìn sâu sắc hơn về các yếu tố ảnh hưởng đến các nhân vật trong vũ trụ Star Wars."
      ],
      "metadata": {
        "id": "2evAzqdvvqib"
      }
    },
    {
      "cell_type": "code",
      "source": [
        "# Chuyển đổi 'height' và 'mass' sang dạng số\n",
        "df['height'] = pd.to_numeric(df['height'], errors='coerce')\n",
        "df['mass'] = pd.to_numeric(df['mass'], errors='coerce')\n",
        "\n",
        "# Loại bỏ các hàng có giá trị NaN ở cột height và mass\n",
        "df = df.dropna(subset=['height', 'mass'])"
      ],
      "metadata": {
        "id": "xuoZyfcoC-k0"
      },
      "execution_count": 9,
      "outputs": []
    },
    {
      "cell_type": "markdown",
      "source": [
        "2.2. Height"
      ],
      "metadata": {
        "id": "Cu39H9Js1JIH"
      }
    },
    {
      "cell_type": "code",
      "source": [
        "# 2. Biểu đồ histogram: Phân bố chiều cao của các nhân vật\n",
        "fig_hist = px.histogram(df, x='height', nbins=20,\n",
        "                        title='Phân bố chiều cao của các nhân vật',\n",
        "                        labels={'height': 'Chiều cao (cm)', 'count': 'Tần suất'},\n",
        "                        color_discrete_sequence=['#FF9EAA'])\n",
        "fig_hist.update_layout(\n",
        "    xaxis_title='Chiều cao (cm)',\n",
        "    yaxis_title='Tần suất',\n",
        "    font=dict(\n",
        "        family=\"Arial, sans-serif\",\n",
        "        size=14,\n",
        "        color=\"rgb(255, 254, 211)\"\n",
        "    ),\n",
        "    plot_bgcolor='#758694',\n",
        "    paper_bgcolor='#758694',\n",
        "    bargap=0.1\n",
        ")\n",
        "fig_hist.show()"
      ],
      "metadata": {
        "colab": {
          "base_uri": "https://localhost:8080/",
          "height": 542
        },
        "id": "iBc8Zq3rDEIh",
        "outputId": "3d0393b6-c7f6-4a60-a432-a2a786f07d27"
      },
      "execution_count": 10,
      "outputs": [
        {
          "output_type": "display_data",
          "data": {
            "text/html": [
              "<html>\n",
              "<head><meta charset=\"utf-8\" /></head>\n",
              "<body>\n",
              "    <div>            <script src=\"https://cdnjs.cloudflare.com/ajax/libs/mathjax/2.7.5/MathJax.js?config=TeX-AMS-MML_SVG\"></script><script type=\"text/javascript\">if (window.MathJax && window.MathJax.Hub && window.MathJax.Hub.Config) {window.MathJax.Hub.Config({SVG: {font: \"STIX-Web\"}});}</script>                <script type=\"text/javascript\">window.PlotlyConfig = {MathJaxConfig: 'local'};</script>\n",
              "        <script charset=\"utf-8\" src=\"https://cdn.plot.ly/plotly-2.24.1.min.js\"></script>                <div id=\"cd59ad51-9edd-4f2f-88a7-69bad74697c6\" class=\"plotly-graph-div\" style=\"height:525px; width:100%;\"></div>            <script type=\"text/javascript\">                                    window.PLOTLYENV=window.PLOTLYENV || {};                                    if (document.getElementById(\"cd59ad51-9edd-4f2f-88a7-69bad74697c6\")) {                    Plotly.newPlot(                        \"cd59ad51-9edd-4f2f-88a7-69bad74697c6\",                        [{\"alignmentgroup\":\"True\",\"bingroup\":\"x\",\"hovertemplate\":\"Chi\\u1ec1u cao (cm)=%{x}\\u003cbr\\u003ecount=%{y}\\u003cextra\\u003e\\u003c\\u002fextra\\u003e\",\"legendgroup\":\"\",\"marker\":{\"color\":\"#FF9EAA\",\"pattern\":{\"shape\":\"\"}},\"name\":\"\",\"nbinsx\":20,\"offsetgroup\":\"\",\"orientation\":\"v\",\"showlegend\":false,\"x\":[172,167,96,202,150,178,165,183,182,188,228,180,173,170,66,170,183,200,190,177,175,180,88,193,185,196,175,178,188,198,188,170,166,193,183],\"xaxis\":\"x\",\"yaxis\":\"y\",\"type\":\"histogram\"}],                        {\"template\":{\"data\":{\"histogram2dcontour\":[{\"type\":\"histogram2dcontour\",\"colorbar\":{\"outlinewidth\":0,\"ticks\":\"\"},\"colorscale\":[[0.0,\"#0d0887\"],[0.1111111111111111,\"#46039f\"],[0.2222222222222222,\"#7201a8\"],[0.3333333333333333,\"#9c179e\"],[0.4444444444444444,\"#bd3786\"],[0.5555555555555556,\"#d8576b\"],[0.6666666666666666,\"#ed7953\"],[0.7777777777777778,\"#fb9f3a\"],[0.8888888888888888,\"#fdca26\"],[1.0,\"#f0f921\"]]}],\"choropleth\":[{\"type\":\"choropleth\",\"colorbar\":{\"outlinewidth\":0,\"ticks\":\"\"}}],\"histogram2d\":[{\"type\":\"histogram2d\",\"colorbar\":{\"outlinewidth\":0,\"ticks\":\"\"},\"colorscale\":[[0.0,\"#0d0887\"],[0.1111111111111111,\"#46039f\"],[0.2222222222222222,\"#7201a8\"],[0.3333333333333333,\"#9c179e\"],[0.4444444444444444,\"#bd3786\"],[0.5555555555555556,\"#d8576b\"],[0.6666666666666666,\"#ed7953\"],[0.7777777777777778,\"#fb9f3a\"],[0.8888888888888888,\"#fdca26\"],[1.0,\"#f0f921\"]]}],\"heatmap\":[{\"type\":\"heatmap\",\"colorbar\":{\"outlinewidth\":0,\"ticks\":\"\"},\"colorscale\":[[0.0,\"#0d0887\"],[0.1111111111111111,\"#46039f\"],[0.2222222222222222,\"#7201a8\"],[0.3333333333333333,\"#9c179e\"],[0.4444444444444444,\"#bd3786\"],[0.5555555555555556,\"#d8576b\"],[0.6666666666666666,\"#ed7953\"],[0.7777777777777778,\"#fb9f3a\"],[0.8888888888888888,\"#fdca26\"],[1.0,\"#f0f921\"]]}],\"heatmapgl\":[{\"type\":\"heatmapgl\",\"colorbar\":{\"outlinewidth\":0,\"ticks\":\"\"},\"colorscale\":[[0.0,\"#0d0887\"],[0.1111111111111111,\"#46039f\"],[0.2222222222222222,\"#7201a8\"],[0.3333333333333333,\"#9c179e\"],[0.4444444444444444,\"#bd3786\"],[0.5555555555555556,\"#d8576b\"],[0.6666666666666666,\"#ed7953\"],[0.7777777777777778,\"#fb9f3a\"],[0.8888888888888888,\"#fdca26\"],[1.0,\"#f0f921\"]]}],\"contourcarpet\":[{\"type\":\"contourcarpet\",\"colorbar\":{\"outlinewidth\":0,\"ticks\":\"\"}}],\"contour\":[{\"type\":\"contour\",\"colorbar\":{\"outlinewidth\":0,\"ticks\":\"\"},\"colorscale\":[[0.0,\"#0d0887\"],[0.1111111111111111,\"#46039f\"],[0.2222222222222222,\"#7201a8\"],[0.3333333333333333,\"#9c179e\"],[0.4444444444444444,\"#bd3786\"],[0.5555555555555556,\"#d8576b\"],[0.6666666666666666,\"#ed7953\"],[0.7777777777777778,\"#fb9f3a\"],[0.8888888888888888,\"#fdca26\"],[1.0,\"#f0f921\"]]}],\"surface\":[{\"type\":\"surface\",\"colorbar\":{\"outlinewidth\":0,\"ticks\":\"\"},\"colorscale\":[[0.0,\"#0d0887\"],[0.1111111111111111,\"#46039f\"],[0.2222222222222222,\"#7201a8\"],[0.3333333333333333,\"#9c179e\"],[0.4444444444444444,\"#bd3786\"],[0.5555555555555556,\"#d8576b\"],[0.6666666666666666,\"#ed7953\"],[0.7777777777777778,\"#fb9f3a\"],[0.8888888888888888,\"#fdca26\"],[1.0,\"#f0f921\"]]}],\"mesh3d\":[{\"type\":\"mesh3d\",\"colorbar\":{\"outlinewidth\":0,\"ticks\":\"\"}}],\"scatter\":[{\"fillpattern\":{\"fillmode\":\"overlay\",\"size\":10,\"solidity\":0.2},\"type\":\"scatter\"}],\"parcoords\":[{\"type\":\"parcoords\",\"line\":{\"colorbar\":{\"outlinewidth\":0,\"ticks\":\"\"}}}],\"scatterpolargl\":[{\"type\":\"scatterpolargl\",\"marker\":{\"colorbar\":{\"outlinewidth\":0,\"ticks\":\"\"}}}],\"bar\":[{\"error_x\":{\"color\":\"#2a3f5f\"},\"error_y\":{\"color\":\"#2a3f5f\"},\"marker\":{\"line\":{\"color\":\"#E5ECF6\",\"width\":0.5},\"pattern\":{\"fillmode\":\"overlay\",\"size\":10,\"solidity\":0.2}},\"type\":\"bar\"}],\"scattergeo\":[{\"type\":\"scattergeo\",\"marker\":{\"colorbar\":{\"outlinewidth\":0,\"ticks\":\"\"}}}],\"scatterpolar\":[{\"type\":\"scatterpolar\",\"marker\":{\"colorbar\":{\"outlinewidth\":0,\"ticks\":\"\"}}}],\"histogram\":[{\"marker\":{\"pattern\":{\"fillmode\":\"overlay\",\"size\":10,\"solidity\":0.2}},\"type\":\"histogram\"}],\"scattergl\":[{\"type\":\"scattergl\",\"marker\":{\"colorbar\":{\"outlinewidth\":0,\"ticks\":\"\"}}}],\"scatter3d\":[{\"type\":\"scatter3d\",\"line\":{\"colorbar\":{\"outlinewidth\":0,\"ticks\":\"\"}},\"marker\":{\"colorbar\":{\"outlinewidth\":0,\"ticks\":\"\"}}}],\"scattermapbox\":[{\"type\":\"scattermapbox\",\"marker\":{\"colorbar\":{\"outlinewidth\":0,\"ticks\":\"\"}}}],\"scatterternary\":[{\"type\":\"scatterternary\",\"marker\":{\"colorbar\":{\"outlinewidth\":0,\"ticks\":\"\"}}}],\"scattercarpet\":[{\"type\":\"scattercarpet\",\"marker\":{\"colorbar\":{\"outlinewidth\":0,\"ticks\":\"\"}}}],\"carpet\":[{\"aaxis\":{\"endlinecolor\":\"#2a3f5f\",\"gridcolor\":\"white\",\"linecolor\":\"white\",\"minorgridcolor\":\"white\",\"startlinecolor\":\"#2a3f5f\"},\"baxis\":{\"endlinecolor\":\"#2a3f5f\",\"gridcolor\":\"white\",\"linecolor\":\"white\",\"minorgridcolor\":\"white\",\"startlinecolor\":\"#2a3f5f\"},\"type\":\"carpet\"}],\"table\":[{\"cells\":{\"fill\":{\"color\":\"#EBF0F8\"},\"line\":{\"color\":\"white\"}},\"header\":{\"fill\":{\"color\":\"#C8D4E3\"},\"line\":{\"color\":\"white\"}},\"type\":\"table\"}],\"barpolar\":[{\"marker\":{\"line\":{\"color\":\"#E5ECF6\",\"width\":0.5},\"pattern\":{\"fillmode\":\"overlay\",\"size\":10,\"solidity\":0.2}},\"type\":\"barpolar\"}],\"pie\":[{\"automargin\":true,\"type\":\"pie\"}]},\"layout\":{\"autotypenumbers\":\"strict\",\"colorway\":[\"#636efa\",\"#EF553B\",\"#00cc96\",\"#ab63fa\",\"#FFA15A\",\"#19d3f3\",\"#FF6692\",\"#B6E880\",\"#FF97FF\",\"#FECB52\"],\"font\":{\"color\":\"#2a3f5f\"},\"hovermode\":\"closest\",\"hoverlabel\":{\"align\":\"left\"},\"paper_bgcolor\":\"white\",\"plot_bgcolor\":\"#E5ECF6\",\"polar\":{\"bgcolor\":\"#E5ECF6\",\"angularaxis\":{\"gridcolor\":\"white\",\"linecolor\":\"white\",\"ticks\":\"\"},\"radialaxis\":{\"gridcolor\":\"white\",\"linecolor\":\"white\",\"ticks\":\"\"}},\"ternary\":{\"bgcolor\":\"#E5ECF6\",\"aaxis\":{\"gridcolor\":\"white\",\"linecolor\":\"white\",\"ticks\":\"\"},\"baxis\":{\"gridcolor\":\"white\",\"linecolor\":\"white\",\"ticks\":\"\"},\"caxis\":{\"gridcolor\":\"white\",\"linecolor\":\"white\",\"ticks\":\"\"}},\"coloraxis\":{\"colorbar\":{\"outlinewidth\":0,\"ticks\":\"\"}},\"colorscale\":{\"sequential\":[[0.0,\"#0d0887\"],[0.1111111111111111,\"#46039f\"],[0.2222222222222222,\"#7201a8\"],[0.3333333333333333,\"#9c179e\"],[0.4444444444444444,\"#bd3786\"],[0.5555555555555556,\"#d8576b\"],[0.6666666666666666,\"#ed7953\"],[0.7777777777777778,\"#fb9f3a\"],[0.8888888888888888,\"#fdca26\"],[1.0,\"#f0f921\"]],\"sequentialminus\":[[0.0,\"#0d0887\"],[0.1111111111111111,\"#46039f\"],[0.2222222222222222,\"#7201a8\"],[0.3333333333333333,\"#9c179e\"],[0.4444444444444444,\"#bd3786\"],[0.5555555555555556,\"#d8576b\"],[0.6666666666666666,\"#ed7953\"],[0.7777777777777778,\"#fb9f3a\"],[0.8888888888888888,\"#fdca26\"],[1.0,\"#f0f921\"]],\"diverging\":[[0,\"#8e0152\"],[0.1,\"#c51b7d\"],[0.2,\"#de77ae\"],[0.3,\"#f1b6da\"],[0.4,\"#fde0ef\"],[0.5,\"#f7f7f7\"],[0.6,\"#e6f5d0\"],[0.7,\"#b8e186\"],[0.8,\"#7fbc41\"],[0.9,\"#4d9221\"],[1,\"#276419\"]]},\"xaxis\":{\"gridcolor\":\"white\",\"linecolor\":\"white\",\"ticks\":\"\",\"title\":{\"standoff\":15},\"zerolinecolor\":\"white\",\"automargin\":true,\"zerolinewidth\":2},\"yaxis\":{\"gridcolor\":\"white\",\"linecolor\":\"white\",\"ticks\":\"\",\"title\":{\"standoff\":15},\"zerolinecolor\":\"white\",\"automargin\":true,\"zerolinewidth\":2},\"scene\":{\"xaxis\":{\"backgroundcolor\":\"#E5ECF6\",\"gridcolor\":\"white\",\"linecolor\":\"white\",\"showbackground\":true,\"ticks\":\"\",\"zerolinecolor\":\"white\",\"gridwidth\":2},\"yaxis\":{\"backgroundcolor\":\"#E5ECF6\",\"gridcolor\":\"white\",\"linecolor\":\"white\",\"showbackground\":true,\"ticks\":\"\",\"zerolinecolor\":\"white\",\"gridwidth\":2},\"zaxis\":{\"backgroundcolor\":\"#E5ECF6\",\"gridcolor\":\"white\",\"linecolor\":\"white\",\"showbackground\":true,\"ticks\":\"\",\"zerolinecolor\":\"white\",\"gridwidth\":2}},\"shapedefaults\":{\"line\":{\"color\":\"#2a3f5f\"}},\"annotationdefaults\":{\"arrowcolor\":\"#2a3f5f\",\"arrowhead\":0,\"arrowwidth\":1},\"geo\":{\"bgcolor\":\"white\",\"landcolor\":\"#E5ECF6\",\"subunitcolor\":\"white\",\"showland\":true,\"showlakes\":true,\"lakecolor\":\"white\"},\"title\":{\"x\":0.05},\"mapbox\":{\"style\":\"light\"}}},\"xaxis\":{\"anchor\":\"y\",\"domain\":[0.0,1.0],\"title\":{\"text\":\"Chi\\u1ec1u cao (cm)\"}},\"yaxis\":{\"anchor\":\"x\",\"domain\":[0.0,1.0],\"title\":{\"text\":\"T\\u1ea7n su\\u1ea5t\"}},\"legend\":{\"tracegroupgap\":0},\"title\":{\"text\":\"Ph\\u00e2n b\\u1ed1 chi\\u1ec1u cao c\\u1ee7a c\\u00e1c nh\\u00e2n v\\u1eadt\"},\"barmode\":\"relative\",\"font\":{\"family\":\"Arial, sans-serif\",\"size\":14,\"color\":\"rgb(255, 254, 211)\"},\"plot_bgcolor\":\"#758694\",\"paper_bgcolor\":\"#758694\",\"bargap\":0.1},                        {\"responsive\": true}                    ).then(function(){\n",
              "                            \n",
              "var gd = document.getElementById('cd59ad51-9edd-4f2f-88a7-69bad74697c6');\n",
              "var x = new MutationObserver(function (mutations, observer) {{\n",
              "        var display = window.getComputedStyle(gd).display;\n",
              "        if (!display || display === 'none') {{\n",
              "            console.log([gd, 'removed!']);\n",
              "            Plotly.purge(gd);\n",
              "            observer.disconnect();\n",
              "        }}\n",
              "}});\n",
              "\n",
              "// Listen for the removal of the full notebook cells\n",
              "var notebookContainer = gd.closest('#notebook-container');\n",
              "if (notebookContainer) {{\n",
              "    x.observe(notebookContainer, {childList: true});\n",
              "}}\n",
              "\n",
              "// Listen for the clearing of the current output cell\n",
              "var outputEl = gd.closest('.output');\n",
              "if (outputEl) {{\n",
              "    x.observe(outputEl, {childList: true});\n",
              "}}\n",
              "\n",
              "                        })                };                            </script>        </div>\n",
              "</body>\n",
              "</html>"
            ]
          },
          "metadata": {}
        }
      ]
    },
    {
      "cell_type": "markdown",
      "source": [
        "**Nhận xét chung:**\n",
        "\n",
        "**Phân bố chiều cao của các nhân vật:**\n",
        "\n",
        "- Biểu đồ histogram thể hiện sự phân bố chiều cao của các nhân vật trong vũ trụ Star Wars, giúp chúng ta thấy được sự đa dạng về chiều cao của các nhân vật.\n",
        "\n",
        "**Chiều cao phổ biến của các nhân vật:**\n",
        "\n",
        "- Các nhân vật có chiều cao phổ biến được thể hiện rõ ràng trên biểu đồ với các cột cao hơn. Điều này giúp chúng ta dễ dàng xác định chiều cao phổ biến nhất trong các nhân vật.\n",
        "- Những nhân vật này có thể đại diện cho những nhân vật phổ biến hoặc những nhân vật chính trong vũ trụ Star Wars.\n",
        "\n",
        "**Chiều cao không phổ biến của các nhân vật:**\n",
        "\n",
        "- Các nhân vật có chiều cao không phổ biến được thể hiện ở hai phía của biểu đồ, với các giá trị chiều cao xa so với giá trị phổ biến nhất.\n",
        "- Những nhân vật này có thể thuộc các chủng tộc hoặc loài khác nhau, hoặc có những đặc điểm ngoại hình đặc biệt trong dòng thời gian Star Wars.\n",
        "\n",
        "**Nhận xét cụ thể:**\n",
        "\n",
        "- **Sự phân bố chiều cao đa dạng:** Biểu đồ cho thấy sự phân bố chiều cao không đồng đều của các nhân vật trong Star Wars, phản ánh sự đa dạng và phong phú của các nhân vật trong vũ trụ này.\n",
        "- **Nhân vật nổi bật trong các nhóm chiều cao phổ biến:** Một số nhân vật có chiều cao phổ biến, cho thấy họ có thể đóng vai trò quan trọng hoặc được nhiều người biết đến trong các sự kiện chính của Star Wars.\n",
        "- **Nhân vật ít nổi bật:** Ngược lại, một số nhân vật có chiều cao không phổ biến có thể đóng vai trò trong các câu chuyện phụ hoặc có những đặc điểm ngoại hình đặc biệt, làm cho họ khác biệt trong vũ trụ Star Wars.\n",
        "\n",
        "**Tổng kết:**\n",
        "\n",
        "- Biểu đồ cung cấp cái nhìn tổng quan về sự phân bố chiều cao của các nhân vật trong vũ trụ Star Wars, giúp chúng ta hiểu rõ hơn về mối quan hệ giữa các nhân vật và các đặc điểm ngoại hình của họ.\n",
        "- Những thông tin này có thể được sử dụng để nghiên cứu thêm về sự phân bố theo giới tính, năm sinh, hoặc các đặc điểm khác của nhân vật, cung cấp cái nhìn sâu sắc hơn về các yếu tố ảnh hưởng đến các nhân vật trong vũ trụ Star Wars."
      ],
      "metadata": {
        "id": "KIQhw7FfxXBW"
      }
    },
    {
      "cell_type": "markdown",
      "source": [
        "2.3. Mass"
      ],
      "metadata": {
        "id": "Oo6T2dxV1Swb"
      }
    },
    {
      "cell_type": "code",
      "source": [
        "# 3. Biểu đồ cột: Phân bố khối lượng của các nhân vật\n",
        "fig_bar = go.Figure()\n",
        "fig_bar.add_trace(go.Bar(x=df['name'], y=df['mass'], name='Khối lượng', marker_color='lightcoral'))\n",
        "fig_bar.update_layout(title='Khối lượng của các nhân vật', xaxis_title='Nhân vật', yaxis_title='Khối lượng', xaxis_tickangle=-90)\n",
        "fig_bar.show()"
      ],
      "metadata": {
        "colab": {
          "base_uri": "https://localhost:8080/",
          "height": 542
        },
        "id": "zmGx8ElNG6nP",
        "outputId": "8a61d26b-c9a9-4d3d-c09d-2b917b712d4b"
      },
      "execution_count": 11,
      "outputs": [
        {
          "output_type": "display_data",
          "data": {
            "text/html": [
              "<html>\n",
              "<head><meta charset=\"utf-8\" /></head>\n",
              "<body>\n",
              "    <div>            <script src=\"https://cdnjs.cloudflare.com/ajax/libs/mathjax/2.7.5/MathJax.js?config=TeX-AMS-MML_SVG\"></script><script type=\"text/javascript\">if (window.MathJax && window.MathJax.Hub && window.MathJax.Hub.Config) {window.MathJax.Hub.Config({SVG: {font: \"STIX-Web\"}});}</script>                <script type=\"text/javascript\">window.PlotlyConfig = {MathJaxConfig: 'local'};</script>\n",
              "        <script charset=\"utf-8\" src=\"https://cdn.plot.ly/plotly-2.24.1.min.js\"></script>                <div id=\"c5b8615a-7032-481f-b10b-75ca61116d3b\" class=\"plotly-graph-div\" style=\"height:525px; width:100%;\"></div>            <script type=\"text/javascript\">                                    window.PLOTLYENV=window.PLOTLYENV || {};                                    if (document.getElementById(\"c5b8615a-7032-481f-b10b-75ca61116d3b\")) {                    Plotly.newPlot(                        \"c5b8615a-7032-481f-b10b-75ca61116d3b\",                        [{\"marker\":{\"color\":\"lightcoral\"},\"name\":\"Kh\\u1ed1i l\\u01b0\\u1ee3ng\",\"x\":[\"Luke Skywalker\",\"C-3PO\",\"R2-D2\",\"Darth Vader\",\"Leia Organa\",\"Owen Lars\",\"Beru Whitesun lars\",\"Biggs Darklighter\",\"Obi-Wan Kenobi\",\"Anakin Skywalker\",\"Chewbacca\",\"Han Solo\",\"Greedo\",\"Wedge Antilles\",\"Yoda\",\"Palpatine\",\"Boba Fett\",\"IG-88\",\"Bossk\",\"Lando Calrissian\",\"Lobot\",\"Ackbar\",\"Wicket Systri Warrick\",\"Qui-Gon Jinn\",\"Padm\\u00e9 Amidala\",\"Jar Jar Binks\",\"Darth Maul\",\"Ayla Secura\",\"Mace Windu\",\"Ki-Adi-Mundi\",\"Plo Koon\",\"Luminara Unduli\",\"Barriss Offee\",\"Dooku\",\"Jango Fett\"],\"y\":[77.0,75.0,32.0,136.0,49.0,120.0,75.0,84.0,77.0,84.0,112.0,80.0,74.0,77.0,17.0,75.0,78.2,140.0,113.0,79.0,79.0,83.0,20.0,89.0,45.0,66.0,80.0,55.0,84.0,82.0,80.0,56.2,50.0,80.0,79.0],\"type\":\"bar\"}],                        {\"template\":{\"data\":{\"histogram2dcontour\":[{\"type\":\"histogram2dcontour\",\"colorbar\":{\"outlinewidth\":0,\"ticks\":\"\"},\"colorscale\":[[0.0,\"#0d0887\"],[0.1111111111111111,\"#46039f\"],[0.2222222222222222,\"#7201a8\"],[0.3333333333333333,\"#9c179e\"],[0.4444444444444444,\"#bd3786\"],[0.5555555555555556,\"#d8576b\"],[0.6666666666666666,\"#ed7953\"],[0.7777777777777778,\"#fb9f3a\"],[0.8888888888888888,\"#fdca26\"],[1.0,\"#f0f921\"]]}],\"choropleth\":[{\"type\":\"choropleth\",\"colorbar\":{\"outlinewidth\":0,\"ticks\":\"\"}}],\"histogram2d\":[{\"type\":\"histogram2d\",\"colorbar\":{\"outlinewidth\":0,\"ticks\":\"\"},\"colorscale\":[[0.0,\"#0d0887\"],[0.1111111111111111,\"#46039f\"],[0.2222222222222222,\"#7201a8\"],[0.3333333333333333,\"#9c179e\"],[0.4444444444444444,\"#bd3786\"],[0.5555555555555556,\"#d8576b\"],[0.6666666666666666,\"#ed7953\"],[0.7777777777777778,\"#fb9f3a\"],[0.8888888888888888,\"#fdca26\"],[1.0,\"#f0f921\"]]}],\"heatmap\":[{\"type\":\"heatmap\",\"colorbar\":{\"outlinewidth\":0,\"ticks\":\"\"},\"colorscale\":[[0.0,\"#0d0887\"],[0.1111111111111111,\"#46039f\"],[0.2222222222222222,\"#7201a8\"],[0.3333333333333333,\"#9c179e\"],[0.4444444444444444,\"#bd3786\"],[0.5555555555555556,\"#d8576b\"],[0.6666666666666666,\"#ed7953\"],[0.7777777777777778,\"#fb9f3a\"],[0.8888888888888888,\"#fdca26\"],[1.0,\"#f0f921\"]]}],\"heatmapgl\":[{\"type\":\"heatmapgl\",\"colorbar\":{\"outlinewidth\":0,\"ticks\":\"\"},\"colorscale\":[[0.0,\"#0d0887\"],[0.1111111111111111,\"#46039f\"],[0.2222222222222222,\"#7201a8\"],[0.3333333333333333,\"#9c179e\"],[0.4444444444444444,\"#bd3786\"],[0.5555555555555556,\"#d8576b\"],[0.6666666666666666,\"#ed7953\"],[0.7777777777777778,\"#fb9f3a\"],[0.8888888888888888,\"#fdca26\"],[1.0,\"#f0f921\"]]}],\"contourcarpet\":[{\"type\":\"contourcarpet\",\"colorbar\":{\"outlinewidth\":0,\"ticks\":\"\"}}],\"contour\":[{\"type\":\"contour\",\"colorbar\":{\"outlinewidth\":0,\"ticks\":\"\"},\"colorscale\":[[0.0,\"#0d0887\"],[0.1111111111111111,\"#46039f\"],[0.2222222222222222,\"#7201a8\"],[0.3333333333333333,\"#9c179e\"],[0.4444444444444444,\"#bd3786\"],[0.5555555555555556,\"#d8576b\"],[0.6666666666666666,\"#ed7953\"],[0.7777777777777778,\"#fb9f3a\"],[0.8888888888888888,\"#fdca26\"],[1.0,\"#f0f921\"]]}],\"surface\":[{\"type\":\"surface\",\"colorbar\":{\"outlinewidth\":0,\"ticks\":\"\"},\"colorscale\":[[0.0,\"#0d0887\"],[0.1111111111111111,\"#46039f\"],[0.2222222222222222,\"#7201a8\"],[0.3333333333333333,\"#9c179e\"],[0.4444444444444444,\"#bd3786\"],[0.5555555555555556,\"#d8576b\"],[0.6666666666666666,\"#ed7953\"],[0.7777777777777778,\"#fb9f3a\"],[0.8888888888888888,\"#fdca26\"],[1.0,\"#f0f921\"]]}],\"mesh3d\":[{\"type\":\"mesh3d\",\"colorbar\":{\"outlinewidth\":0,\"ticks\":\"\"}}],\"scatter\":[{\"fillpattern\":{\"fillmode\":\"overlay\",\"size\":10,\"solidity\":0.2},\"type\":\"scatter\"}],\"parcoords\":[{\"type\":\"parcoords\",\"line\":{\"colorbar\":{\"outlinewidth\":0,\"ticks\":\"\"}}}],\"scatterpolargl\":[{\"type\":\"scatterpolargl\",\"marker\":{\"colorbar\":{\"outlinewidth\":0,\"ticks\":\"\"}}}],\"bar\":[{\"error_x\":{\"color\":\"#2a3f5f\"},\"error_y\":{\"color\":\"#2a3f5f\"},\"marker\":{\"line\":{\"color\":\"#E5ECF6\",\"width\":0.5},\"pattern\":{\"fillmode\":\"overlay\",\"size\":10,\"solidity\":0.2}},\"type\":\"bar\"}],\"scattergeo\":[{\"type\":\"scattergeo\",\"marker\":{\"colorbar\":{\"outlinewidth\":0,\"ticks\":\"\"}}}],\"scatterpolar\":[{\"type\":\"scatterpolar\",\"marker\":{\"colorbar\":{\"outlinewidth\":0,\"ticks\":\"\"}}}],\"histogram\":[{\"marker\":{\"pattern\":{\"fillmode\":\"overlay\",\"size\":10,\"solidity\":0.2}},\"type\":\"histogram\"}],\"scattergl\":[{\"type\":\"scattergl\",\"marker\":{\"colorbar\":{\"outlinewidth\":0,\"ticks\":\"\"}}}],\"scatter3d\":[{\"type\":\"scatter3d\",\"line\":{\"colorbar\":{\"outlinewidth\":0,\"ticks\":\"\"}},\"marker\":{\"colorbar\":{\"outlinewidth\":0,\"ticks\":\"\"}}}],\"scattermapbox\":[{\"type\":\"scattermapbox\",\"marker\":{\"colorbar\":{\"outlinewidth\":0,\"ticks\":\"\"}}}],\"scatterternary\":[{\"type\":\"scatterternary\",\"marker\":{\"colorbar\":{\"outlinewidth\":0,\"ticks\":\"\"}}}],\"scattercarpet\":[{\"type\":\"scattercarpet\",\"marker\":{\"colorbar\":{\"outlinewidth\":0,\"ticks\":\"\"}}}],\"carpet\":[{\"aaxis\":{\"endlinecolor\":\"#2a3f5f\",\"gridcolor\":\"white\",\"linecolor\":\"white\",\"minorgridcolor\":\"white\",\"startlinecolor\":\"#2a3f5f\"},\"baxis\":{\"endlinecolor\":\"#2a3f5f\",\"gridcolor\":\"white\",\"linecolor\":\"white\",\"minorgridcolor\":\"white\",\"startlinecolor\":\"#2a3f5f\"},\"type\":\"carpet\"}],\"table\":[{\"cells\":{\"fill\":{\"color\":\"#EBF0F8\"},\"line\":{\"color\":\"white\"}},\"header\":{\"fill\":{\"color\":\"#C8D4E3\"},\"line\":{\"color\":\"white\"}},\"type\":\"table\"}],\"barpolar\":[{\"marker\":{\"line\":{\"color\":\"#E5ECF6\",\"width\":0.5},\"pattern\":{\"fillmode\":\"overlay\",\"size\":10,\"solidity\":0.2}},\"type\":\"barpolar\"}],\"pie\":[{\"automargin\":true,\"type\":\"pie\"}]},\"layout\":{\"autotypenumbers\":\"strict\",\"colorway\":[\"#636efa\",\"#EF553B\",\"#00cc96\",\"#ab63fa\",\"#FFA15A\",\"#19d3f3\",\"#FF6692\",\"#B6E880\",\"#FF97FF\",\"#FECB52\"],\"font\":{\"color\":\"#2a3f5f\"},\"hovermode\":\"closest\",\"hoverlabel\":{\"align\":\"left\"},\"paper_bgcolor\":\"white\",\"plot_bgcolor\":\"#E5ECF6\",\"polar\":{\"bgcolor\":\"#E5ECF6\",\"angularaxis\":{\"gridcolor\":\"white\",\"linecolor\":\"white\",\"ticks\":\"\"},\"radialaxis\":{\"gridcolor\":\"white\",\"linecolor\":\"white\",\"ticks\":\"\"}},\"ternary\":{\"bgcolor\":\"#E5ECF6\",\"aaxis\":{\"gridcolor\":\"white\",\"linecolor\":\"white\",\"ticks\":\"\"},\"baxis\":{\"gridcolor\":\"white\",\"linecolor\":\"white\",\"ticks\":\"\"},\"caxis\":{\"gridcolor\":\"white\",\"linecolor\":\"white\",\"ticks\":\"\"}},\"coloraxis\":{\"colorbar\":{\"outlinewidth\":0,\"ticks\":\"\"}},\"colorscale\":{\"sequential\":[[0.0,\"#0d0887\"],[0.1111111111111111,\"#46039f\"],[0.2222222222222222,\"#7201a8\"],[0.3333333333333333,\"#9c179e\"],[0.4444444444444444,\"#bd3786\"],[0.5555555555555556,\"#d8576b\"],[0.6666666666666666,\"#ed7953\"],[0.7777777777777778,\"#fb9f3a\"],[0.8888888888888888,\"#fdca26\"],[1.0,\"#f0f921\"]],\"sequentialminus\":[[0.0,\"#0d0887\"],[0.1111111111111111,\"#46039f\"],[0.2222222222222222,\"#7201a8\"],[0.3333333333333333,\"#9c179e\"],[0.4444444444444444,\"#bd3786\"],[0.5555555555555556,\"#d8576b\"],[0.6666666666666666,\"#ed7953\"],[0.7777777777777778,\"#fb9f3a\"],[0.8888888888888888,\"#fdca26\"],[1.0,\"#f0f921\"]],\"diverging\":[[0,\"#8e0152\"],[0.1,\"#c51b7d\"],[0.2,\"#de77ae\"],[0.3,\"#f1b6da\"],[0.4,\"#fde0ef\"],[0.5,\"#f7f7f7\"],[0.6,\"#e6f5d0\"],[0.7,\"#b8e186\"],[0.8,\"#7fbc41\"],[0.9,\"#4d9221\"],[1,\"#276419\"]]},\"xaxis\":{\"gridcolor\":\"white\",\"linecolor\":\"white\",\"ticks\":\"\",\"title\":{\"standoff\":15},\"zerolinecolor\":\"white\",\"automargin\":true,\"zerolinewidth\":2},\"yaxis\":{\"gridcolor\":\"white\",\"linecolor\":\"white\",\"ticks\":\"\",\"title\":{\"standoff\":15},\"zerolinecolor\":\"white\",\"automargin\":true,\"zerolinewidth\":2},\"scene\":{\"xaxis\":{\"backgroundcolor\":\"#E5ECF6\",\"gridcolor\":\"white\",\"linecolor\":\"white\",\"showbackground\":true,\"ticks\":\"\",\"zerolinecolor\":\"white\",\"gridwidth\":2},\"yaxis\":{\"backgroundcolor\":\"#E5ECF6\",\"gridcolor\":\"white\",\"linecolor\":\"white\",\"showbackground\":true,\"ticks\":\"\",\"zerolinecolor\":\"white\",\"gridwidth\":2},\"zaxis\":{\"backgroundcolor\":\"#E5ECF6\",\"gridcolor\":\"white\",\"linecolor\":\"white\",\"showbackground\":true,\"ticks\":\"\",\"zerolinecolor\":\"white\",\"gridwidth\":2}},\"shapedefaults\":{\"line\":{\"color\":\"#2a3f5f\"}},\"annotationdefaults\":{\"arrowcolor\":\"#2a3f5f\",\"arrowhead\":0,\"arrowwidth\":1},\"geo\":{\"bgcolor\":\"white\",\"landcolor\":\"#E5ECF6\",\"subunitcolor\":\"white\",\"showland\":true,\"showlakes\":true,\"lakecolor\":\"white\"},\"title\":{\"x\":0.05},\"mapbox\":{\"style\":\"light\"}}},\"xaxis\":{\"title\":{\"text\":\"Nh\\u00e2n v\\u1eadt\"},\"tickangle\":-90},\"title\":{\"text\":\"Kh\\u1ed1i l\\u01b0\\u1ee3ng c\\u1ee7a c\\u00e1c nh\\u00e2n v\\u1eadt\"},\"yaxis\":{\"title\":{\"text\":\"Kh\\u1ed1i l\\u01b0\\u1ee3ng\"}}},                        {\"responsive\": true}                    ).then(function(){\n",
              "                            \n",
              "var gd = document.getElementById('c5b8615a-7032-481f-b10b-75ca61116d3b');\n",
              "var x = new MutationObserver(function (mutations, observer) {{\n",
              "        var display = window.getComputedStyle(gd).display;\n",
              "        if (!display || display === 'none') {{\n",
              "            console.log([gd, 'removed!']);\n",
              "            Plotly.purge(gd);\n",
              "            observer.disconnect();\n",
              "        }}\n",
              "}});\n",
              "\n",
              "// Listen for the removal of the full notebook cells\n",
              "var notebookContainer = gd.closest('#notebook-container');\n",
              "if (notebookContainer) {{\n",
              "    x.observe(notebookContainer, {childList: true});\n",
              "}}\n",
              "\n",
              "// Listen for the clearing of the current output cell\n",
              "var outputEl = gd.closest('.output');\n",
              "if (outputEl) {{\n",
              "    x.observe(outputEl, {childList: true});\n",
              "}}\n",
              "\n",
              "                        })                };                            </script>        </div>\n",
              "</body>\n",
              "</html>"
            ]
          },
          "metadata": {}
        }
      ]
    },
    {
      "cell_type": "markdown",
      "source": [
        "**Nhận xét chung:**\n",
        "\n",
        "**Phân bố khối lượng của các nhân vật:**\n",
        "\n",
        "- Biểu đồ cột thể hiện sự phân bố khối lượng của các nhân vật trong vũ trụ Star Wars, giúp chúng ta thấy được sự đa dạng về khối lượng của các nhân vật.\n",
        "\n",
        "**Nhân vật có khối lượng lớn:**\n",
        "\n",
        "- Các nhân vật có khối lượng lớn nổi bật với các cột dài hơn. Điều này có thể là những nhân vật có kích thước lớn hoặc có vai trò đặc biệt trong các cuộc chiến.\n",
        "- Những nhân vật này có thể đại diện cho các loài hoặc chủng tộc có đặc điểm ngoại hình lớn hơn hoặc mạnh mẽ hơn trong vũ trụ Star Wars.\n",
        "\n",
        "**Nhân vật có khối lượng nhỏ:**\n",
        "\n",
        "- Các nhân vật có khối lượng nhỏ được thể hiện qua các cột ngắn hơn. Đây có thể là các nhân vật nhỏ bé hơn hoặc có vai trò ít nổi bật hơn.\n",
        "- Những khu vực này có thể thiếu cơ sở hạ tầng, ít cơ hội việc làm, hoặc điều kiện sống không thuận lợi, dẫn đến dân số ít hơn.\n",
        "\n",
        "**Nhận xét cụ thể:**\n",
        "\n",
        "- **Sự chênh lệch lớn về khối lượng giữa các nhân vật:** Sự khác biệt rõ rệt về chiều cao của các cột cho thấy sự phân bố không đồng đều của khối lượng giữa các nhân vật. Điều này phản ánh sự đa dạng về đặc điểm ngoại hình và sinh học của các nhân vật trong vũ trụ Star Wars.\n",
        "- **Nhân vật nổi bật:** Một số nhân vật có cột cao vượt trội, cho thấy khối lượng của họ rất lớn. Đây có thể là các nhân vật như Chewbacca, Jabba the Hutt, hoặc các sinh vật có kích thước lớn khác.\n",
        "- **Nhân vật ít nổi bật:** Ngược lại, các nhân vật có cột thấp hơn có thể là các nhân vật như Yoda, các droid nhỏ, hoặc các sinh vật có kích thước nhỏ hơn. Ví dụ, các nhân vật như R2-D2 hoặc BB-8 có thể có khối lượng thấp hơn do kích thước nhỏ gọn.\n",
        "\n",
        "**Tổng kết:**\n",
        "\n",
        "- Biểu đồ cung cấp cái nhìn tổng quan về phân bố khối lượng của các nhân vật trong vũ trụ Star Wars, giúp hiểu rõ hơn về sự đa dạng và phong phú của các nhân vật.\n",
        "- Những thông tin này có thể được sử dụng để nghiên cứu thêm về mối quan hệ giữa khối lượng và các yếu tố khác như chiều cao, giới tính, hoặc vai trò trong câu chuyện, cung cấp cái nhìn sâu sắc hơn về các yếu tố ảnh hưởng đến các nhân vật trong vũ trụ Star Wars."
      ],
      "metadata": {
        "id": "nfe5afOAxgmm"
      }
    },
    {
      "cell_type": "markdown",
      "source": [
        "2.4. Gender"
      ],
      "metadata": {
        "id": "3XGTku7j1XHY"
      }
    },
    {
      "cell_type": "code",
      "source": [
        "# 4. Biểu đồ tròn: Phân bố giới tính\n",
        "fig_pie_gender = px.pie(df, names='gender',\n",
        "                        title='Phân bố giới tính của các nhân vật',\n",
        "                        color_discrete_sequence=px.colors.qualitative.Set2)  # Sử dụng bảng màu Set2\n",
        "\n",
        "fig_pie_gender.update_traces(\n",
        "    textposition='inside',\n",
        "    textinfo='percent+label',\n",
        "    hole=0.25,\n",
        "    marker=dict(line=dict(color='white', width=2))\n",
        ")\n",
        "\n",
        "fig_pie_gender.update_layout(\n",
        "    font=dict(\n",
        "        family=\"Arial, sans-serif\",\n",
        "        size=14,\n",
        "        color=\"black\"\n",
        "    ),\n",
        "    plot_bgcolor='#F5E8DD',\n",
        "    paper_bgcolor='#F5E8DD',\n",
        ")\n",
        "\n",
        "fig_pie_gender.show()"
      ],
      "metadata": {
        "colab": {
          "base_uri": "https://localhost:8080/",
          "height": 542
        },
        "id": "WrrwG49XDHWK",
        "outputId": "58e08a9b-9457-4b41-9588-4611fbbcb9ab"
      },
      "execution_count": 12,
      "outputs": [
        {
          "output_type": "display_data",
          "data": {
            "text/html": [
              "<html>\n",
              "<head><meta charset=\"utf-8\" /></head>\n",
              "<body>\n",
              "    <div>            <script src=\"https://cdnjs.cloudflare.com/ajax/libs/mathjax/2.7.5/MathJax.js?config=TeX-AMS-MML_SVG\"></script><script type=\"text/javascript\">if (window.MathJax && window.MathJax.Hub && window.MathJax.Hub.Config) {window.MathJax.Hub.Config({SVG: {font: \"STIX-Web\"}});}</script>                <script type=\"text/javascript\">window.PlotlyConfig = {MathJaxConfig: 'local'};</script>\n",
              "        <script charset=\"utf-8\" src=\"https://cdn.plot.ly/plotly-2.24.1.min.js\"></script>                <div id=\"f4e6bb26-1985-4c0a-a363-4a8247388f8b\" class=\"plotly-graph-div\" style=\"height:525px; width:100%;\"></div>            <script type=\"text/javascript\">                                    window.PLOTLYENV=window.PLOTLYENV || {};                                    if (document.getElementById(\"f4e6bb26-1985-4c0a-a363-4a8247388f8b\")) {                    Plotly.newPlot(                        \"f4e6bb26-1985-4c0a-a363-4a8247388f8b\",                        [{\"domain\":{\"x\":[0.0,1.0],\"y\":[0.0,1.0]},\"hovertemplate\":\"gender=%{label}\\u003cextra\\u003e\\u003c\\u002fextra\\u003e\",\"labels\":[\"male\",\"n\\u002fa\",\"n\\u002fa\",\"male\",\"female\",\"male\",\"female\",\"male\",\"male\",\"male\",\"male\",\"male\",\"male\",\"male\",\"male\",\"male\",\"male\",\"none\",\"male\",\"male\",\"male\",\"male\",\"male\",\"male\",\"female\",\"male\",\"male\",\"female\",\"male\",\"male\",\"male\",\"female\",\"female\",\"male\",\"male\"],\"legendgroup\":\"\",\"name\":\"\",\"showlegend\":true,\"type\":\"pie\",\"marker\":{\"line\":{\"color\":\"white\",\"width\":2}},\"hole\":0.25,\"textinfo\":\"percent+label\",\"textposition\":\"inside\"}],                        {\"template\":{\"data\":{\"histogram2dcontour\":[{\"type\":\"histogram2dcontour\",\"colorbar\":{\"outlinewidth\":0,\"ticks\":\"\"},\"colorscale\":[[0.0,\"#0d0887\"],[0.1111111111111111,\"#46039f\"],[0.2222222222222222,\"#7201a8\"],[0.3333333333333333,\"#9c179e\"],[0.4444444444444444,\"#bd3786\"],[0.5555555555555556,\"#d8576b\"],[0.6666666666666666,\"#ed7953\"],[0.7777777777777778,\"#fb9f3a\"],[0.8888888888888888,\"#fdca26\"],[1.0,\"#f0f921\"]]}],\"choropleth\":[{\"type\":\"choropleth\",\"colorbar\":{\"outlinewidth\":0,\"ticks\":\"\"}}],\"histogram2d\":[{\"type\":\"histogram2d\",\"colorbar\":{\"outlinewidth\":0,\"ticks\":\"\"},\"colorscale\":[[0.0,\"#0d0887\"],[0.1111111111111111,\"#46039f\"],[0.2222222222222222,\"#7201a8\"],[0.3333333333333333,\"#9c179e\"],[0.4444444444444444,\"#bd3786\"],[0.5555555555555556,\"#d8576b\"],[0.6666666666666666,\"#ed7953\"],[0.7777777777777778,\"#fb9f3a\"],[0.8888888888888888,\"#fdca26\"],[1.0,\"#f0f921\"]]}],\"heatmap\":[{\"type\":\"heatmap\",\"colorbar\":{\"outlinewidth\":0,\"ticks\":\"\"},\"colorscale\":[[0.0,\"#0d0887\"],[0.1111111111111111,\"#46039f\"],[0.2222222222222222,\"#7201a8\"],[0.3333333333333333,\"#9c179e\"],[0.4444444444444444,\"#bd3786\"],[0.5555555555555556,\"#d8576b\"],[0.6666666666666666,\"#ed7953\"],[0.7777777777777778,\"#fb9f3a\"],[0.8888888888888888,\"#fdca26\"],[1.0,\"#f0f921\"]]}],\"heatmapgl\":[{\"type\":\"heatmapgl\",\"colorbar\":{\"outlinewidth\":0,\"ticks\":\"\"},\"colorscale\":[[0.0,\"#0d0887\"],[0.1111111111111111,\"#46039f\"],[0.2222222222222222,\"#7201a8\"],[0.3333333333333333,\"#9c179e\"],[0.4444444444444444,\"#bd3786\"],[0.5555555555555556,\"#d8576b\"],[0.6666666666666666,\"#ed7953\"],[0.7777777777777778,\"#fb9f3a\"],[0.8888888888888888,\"#fdca26\"],[1.0,\"#f0f921\"]]}],\"contourcarpet\":[{\"type\":\"contourcarpet\",\"colorbar\":{\"outlinewidth\":0,\"ticks\":\"\"}}],\"contour\":[{\"type\":\"contour\",\"colorbar\":{\"outlinewidth\":0,\"ticks\":\"\"},\"colorscale\":[[0.0,\"#0d0887\"],[0.1111111111111111,\"#46039f\"],[0.2222222222222222,\"#7201a8\"],[0.3333333333333333,\"#9c179e\"],[0.4444444444444444,\"#bd3786\"],[0.5555555555555556,\"#d8576b\"],[0.6666666666666666,\"#ed7953\"],[0.7777777777777778,\"#fb9f3a\"],[0.8888888888888888,\"#fdca26\"],[1.0,\"#f0f921\"]]}],\"surface\":[{\"type\":\"surface\",\"colorbar\":{\"outlinewidth\":0,\"ticks\":\"\"},\"colorscale\":[[0.0,\"#0d0887\"],[0.1111111111111111,\"#46039f\"],[0.2222222222222222,\"#7201a8\"],[0.3333333333333333,\"#9c179e\"],[0.4444444444444444,\"#bd3786\"],[0.5555555555555556,\"#d8576b\"],[0.6666666666666666,\"#ed7953\"],[0.7777777777777778,\"#fb9f3a\"],[0.8888888888888888,\"#fdca26\"],[1.0,\"#f0f921\"]]}],\"mesh3d\":[{\"type\":\"mesh3d\",\"colorbar\":{\"outlinewidth\":0,\"ticks\":\"\"}}],\"scatter\":[{\"fillpattern\":{\"fillmode\":\"overlay\",\"size\":10,\"solidity\":0.2},\"type\":\"scatter\"}],\"parcoords\":[{\"type\":\"parcoords\",\"line\":{\"colorbar\":{\"outlinewidth\":0,\"ticks\":\"\"}}}],\"scatterpolargl\":[{\"type\":\"scatterpolargl\",\"marker\":{\"colorbar\":{\"outlinewidth\":0,\"ticks\":\"\"}}}],\"bar\":[{\"error_x\":{\"color\":\"#2a3f5f\"},\"error_y\":{\"color\":\"#2a3f5f\"},\"marker\":{\"line\":{\"color\":\"#E5ECF6\",\"width\":0.5},\"pattern\":{\"fillmode\":\"overlay\",\"size\":10,\"solidity\":0.2}},\"type\":\"bar\"}],\"scattergeo\":[{\"type\":\"scattergeo\",\"marker\":{\"colorbar\":{\"outlinewidth\":0,\"ticks\":\"\"}}}],\"scatterpolar\":[{\"type\":\"scatterpolar\",\"marker\":{\"colorbar\":{\"outlinewidth\":0,\"ticks\":\"\"}}}],\"histogram\":[{\"marker\":{\"pattern\":{\"fillmode\":\"overlay\",\"size\":10,\"solidity\":0.2}},\"type\":\"histogram\"}],\"scattergl\":[{\"type\":\"scattergl\",\"marker\":{\"colorbar\":{\"outlinewidth\":0,\"ticks\":\"\"}}}],\"scatter3d\":[{\"type\":\"scatter3d\",\"line\":{\"colorbar\":{\"outlinewidth\":0,\"ticks\":\"\"}},\"marker\":{\"colorbar\":{\"outlinewidth\":0,\"ticks\":\"\"}}}],\"scattermapbox\":[{\"type\":\"scattermapbox\",\"marker\":{\"colorbar\":{\"outlinewidth\":0,\"ticks\":\"\"}}}],\"scatterternary\":[{\"type\":\"scatterternary\",\"marker\":{\"colorbar\":{\"outlinewidth\":0,\"ticks\":\"\"}}}],\"scattercarpet\":[{\"type\":\"scattercarpet\",\"marker\":{\"colorbar\":{\"outlinewidth\":0,\"ticks\":\"\"}}}],\"carpet\":[{\"aaxis\":{\"endlinecolor\":\"#2a3f5f\",\"gridcolor\":\"white\",\"linecolor\":\"white\",\"minorgridcolor\":\"white\",\"startlinecolor\":\"#2a3f5f\"},\"baxis\":{\"endlinecolor\":\"#2a3f5f\",\"gridcolor\":\"white\",\"linecolor\":\"white\",\"minorgridcolor\":\"white\",\"startlinecolor\":\"#2a3f5f\"},\"type\":\"carpet\"}],\"table\":[{\"cells\":{\"fill\":{\"color\":\"#EBF0F8\"},\"line\":{\"color\":\"white\"}},\"header\":{\"fill\":{\"color\":\"#C8D4E3\"},\"line\":{\"color\":\"white\"}},\"type\":\"table\"}],\"barpolar\":[{\"marker\":{\"line\":{\"color\":\"#E5ECF6\",\"width\":0.5},\"pattern\":{\"fillmode\":\"overlay\",\"size\":10,\"solidity\":0.2}},\"type\":\"barpolar\"}],\"pie\":[{\"automargin\":true,\"type\":\"pie\"}]},\"layout\":{\"autotypenumbers\":\"strict\",\"colorway\":[\"#636efa\",\"#EF553B\",\"#00cc96\",\"#ab63fa\",\"#FFA15A\",\"#19d3f3\",\"#FF6692\",\"#B6E880\",\"#FF97FF\",\"#FECB52\"],\"font\":{\"color\":\"#2a3f5f\"},\"hovermode\":\"closest\",\"hoverlabel\":{\"align\":\"left\"},\"paper_bgcolor\":\"white\",\"plot_bgcolor\":\"#E5ECF6\",\"polar\":{\"bgcolor\":\"#E5ECF6\",\"angularaxis\":{\"gridcolor\":\"white\",\"linecolor\":\"white\",\"ticks\":\"\"},\"radialaxis\":{\"gridcolor\":\"white\",\"linecolor\":\"white\",\"ticks\":\"\"}},\"ternary\":{\"bgcolor\":\"#E5ECF6\",\"aaxis\":{\"gridcolor\":\"white\",\"linecolor\":\"white\",\"ticks\":\"\"},\"baxis\":{\"gridcolor\":\"white\",\"linecolor\":\"white\",\"ticks\":\"\"},\"caxis\":{\"gridcolor\":\"white\",\"linecolor\":\"white\",\"ticks\":\"\"}},\"coloraxis\":{\"colorbar\":{\"outlinewidth\":0,\"ticks\":\"\"}},\"colorscale\":{\"sequential\":[[0.0,\"#0d0887\"],[0.1111111111111111,\"#46039f\"],[0.2222222222222222,\"#7201a8\"],[0.3333333333333333,\"#9c179e\"],[0.4444444444444444,\"#bd3786\"],[0.5555555555555556,\"#d8576b\"],[0.6666666666666666,\"#ed7953\"],[0.7777777777777778,\"#fb9f3a\"],[0.8888888888888888,\"#fdca26\"],[1.0,\"#f0f921\"]],\"sequentialminus\":[[0.0,\"#0d0887\"],[0.1111111111111111,\"#46039f\"],[0.2222222222222222,\"#7201a8\"],[0.3333333333333333,\"#9c179e\"],[0.4444444444444444,\"#bd3786\"],[0.5555555555555556,\"#d8576b\"],[0.6666666666666666,\"#ed7953\"],[0.7777777777777778,\"#fb9f3a\"],[0.8888888888888888,\"#fdca26\"],[1.0,\"#f0f921\"]],\"diverging\":[[0,\"#8e0152\"],[0.1,\"#c51b7d\"],[0.2,\"#de77ae\"],[0.3,\"#f1b6da\"],[0.4,\"#fde0ef\"],[0.5,\"#f7f7f7\"],[0.6,\"#e6f5d0\"],[0.7,\"#b8e186\"],[0.8,\"#7fbc41\"],[0.9,\"#4d9221\"],[1,\"#276419\"]]},\"xaxis\":{\"gridcolor\":\"white\",\"linecolor\":\"white\",\"ticks\":\"\",\"title\":{\"standoff\":15},\"zerolinecolor\":\"white\",\"automargin\":true,\"zerolinewidth\":2},\"yaxis\":{\"gridcolor\":\"white\",\"linecolor\":\"white\",\"ticks\":\"\",\"title\":{\"standoff\":15},\"zerolinecolor\":\"white\",\"automargin\":true,\"zerolinewidth\":2},\"scene\":{\"xaxis\":{\"backgroundcolor\":\"#E5ECF6\",\"gridcolor\":\"white\",\"linecolor\":\"white\",\"showbackground\":true,\"ticks\":\"\",\"zerolinecolor\":\"white\",\"gridwidth\":2},\"yaxis\":{\"backgroundcolor\":\"#E5ECF6\",\"gridcolor\":\"white\",\"linecolor\":\"white\",\"showbackground\":true,\"ticks\":\"\",\"zerolinecolor\":\"white\",\"gridwidth\":2},\"zaxis\":{\"backgroundcolor\":\"#E5ECF6\",\"gridcolor\":\"white\",\"linecolor\":\"white\",\"showbackground\":true,\"ticks\":\"\",\"zerolinecolor\":\"white\",\"gridwidth\":2}},\"shapedefaults\":{\"line\":{\"color\":\"#2a3f5f\"}},\"annotationdefaults\":{\"arrowcolor\":\"#2a3f5f\",\"arrowhead\":0,\"arrowwidth\":1},\"geo\":{\"bgcolor\":\"white\",\"landcolor\":\"#E5ECF6\",\"subunitcolor\":\"white\",\"showland\":true,\"showlakes\":true,\"lakecolor\":\"white\"},\"title\":{\"x\":0.05},\"mapbox\":{\"style\":\"light\"}}},\"legend\":{\"tracegroupgap\":0},\"title\":{\"text\":\"Ph\\u00e2n b\\u1ed1 gi\\u1edbi t\\u00ednh c\\u1ee7a c\\u00e1c nh\\u00e2n v\\u1eadt\"},\"piecolorway\":[\"rgb(102,194,165)\",\"rgb(252,141,98)\",\"rgb(141,160,203)\",\"rgb(231,138,195)\",\"rgb(166,216,84)\",\"rgb(255,217,47)\",\"rgb(229,196,148)\",\"rgb(179,179,179)\"],\"font\":{\"family\":\"Arial, sans-serif\",\"size\":14,\"color\":\"black\"},\"plot_bgcolor\":\"#F5E8DD\",\"paper_bgcolor\":\"#F5E8DD\"},                        {\"responsive\": true}                    ).then(function(){\n",
              "                            \n",
              "var gd = document.getElementById('f4e6bb26-1985-4c0a-a363-4a8247388f8b');\n",
              "var x = new MutationObserver(function (mutations, observer) {{\n",
              "        var display = window.getComputedStyle(gd).display;\n",
              "        if (!display || display === 'none') {{\n",
              "            console.log([gd, 'removed!']);\n",
              "            Plotly.purge(gd);\n",
              "            observer.disconnect();\n",
              "        }}\n",
              "}});\n",
              "\n",
              "// Listen for the removal of the full notebook cells\n",
              "var notebookContainer = gd.closest('#notebook-container');\n",
              "if (notebookContainer) {{\n",
              "    x.observe(notebookContainer, {childList: true});\n",
              "}}\n",
              "\n",
              "// Listen for the clearing of the current output cell\n",
              "var outputEl = gd.closest('.output');\n",
              "if (outputEl) {{\n",
              "    x.observe(outputEl, {childList: true});\n",
              "}}\n",
              "\n",
              "                        })                };                            </script>        </div>\n",
              "</body>\n",
              "</html>"
            ]
          },
          "metadata": {}
        }
      ]
    },
    {
      "cell_type": "markdown",
      "source": [
        "**Nhận xét chung:**\n",
        "\n",
        "**Phân bố giới tính của các nhân vật:**\n",
        "\n",
        "- Biểu đồ tròn thể hiện sự phân bố giới tính của các nhân vật trong vũ trụ Star Wars, giúp chúng ta thấy được tỷ lệ các giới tính khác nhau.\n",
        "\n",
        "**Các giới tính nổi bật:**\n",
        "\n",
        "- Các giới tính chiếm tỷ lệ lớn sẽ có các phần lớn hơn trong biểu đồ tròn. Điều này cho thấy sự phổ biến của giới tính đó trong danh sách các nhân vật.\n",
        "- Ví dụ, nếu phần lớn các nhân vật là nam, thì phần màu đại diện cho giới tính nam sẽ chiếm diện tích lớn hơn.\n",
        "\n",
        "**Các giới tính ít phổ biến:**\n",
        "\n",
        "- Các giới tính chiếm tỷ lệ nhỏ sẽ có các phần nhỏ hơn trong biểu đồ tròn. Điều này cho thấy sự ít phổ biến của giới tính đó trong danh sách các nhân vật.\n",
        "- Ví dụ, nếu số lượng nhân vật không rõ giới tính hoặc giới tính khác (ngoài nam và nữ) là ít, thì phần màu đại diện cho các giới tính này sẽ chiếm diện tích nhỏ hơn.\n",
        "\n",
        "**Nhận xét cụ thể:**\n",
        "\n",
        "- **Sự chênh lệch tỷ lệ giới tính:** Sự khác biệt về kích thước các phần trong biểu đồ tròn cho thấy sự phân bố không đồng đều của các giới tính trong danh sách các nhân vật. Điều này có thể phản ánh xu hướng tạo nhân vật của các nhà biên kịch và đạo diễn.\n",
        "- **Giới tính nổi bật:** Một số giới tính có phần lớn hơn, cho thấy số lượng nhân vật thuộc giới tính đó rất nhiều. Đây có thể là nam hoặc nữ, tùy thuộc vào cách xây dựng nhân vật trong phim.\n",
        "- **Giới tính ít nổi bật:** Ngược lại, các giới tính có phần nhỏ hơn cho thấy số lượng nhân vật thuộc giới tính đó ít hơn. Ví dụ, các nhân vật có giới tính không rõ ràng hoặc giới tính khác có thể chiếm tỷ lệ nhỏ trong tổng số nhân vật.\n",
        "\n",
        "**Tổng kết:**\n",
        "\n",
        "- Biểu đồ cung cấp cái nhìn tổng quan về phân bố giới tính của các nhân vật trong vũ trụ Star Wars, giúp hiểu rõ hơn về sự đa dạng và phong phú của các nhân vật từ góc độ giới tính.\n",
        "- Những thông tin này có thể được sử dụng để nghiên cứu thêm về mối quan hệ giữa giới tính và các yếu tố khác như vai trò, tuổi tác, hoặc ảnh hưởng trong câu chuyện, cung cấp cái nhìn sâu sắc hơn về các yếu tố ảnh hưởng đến các nhân vật trong vũ trụ Star Wars."
      ],
      "metadata": {
        "id": "WDZ_xjboy-IN"
      }
    },
    {
      "cell_type": "markdown",
      "source": [
        "2.5. Skin_color"
      ],
      "metadata": {
        "id": "kBV2DKH41hur"
      }
    },
    {
      "cell_type": "code",
      "source": [
        "# 5. Biểu đồ cột: Phân bố màu da\n",
        "fig_bar_skin_color = px.bar(df, x='skin_color',\n",
        "                            labels={'skin_color': 'Màu da'},\n",
        "                            title='Phân bố màu da của các nhân vật',\n",
        "                            color='skin_color',\n",
        "                            color_discrete_sequence=px.colors.qualitative.Set2)  # Sử dụng bảng màu Set2\n",
        "\n",
        "fig_bar_skin_color.update_layout(\n",
        "    xaxis_title='Màu da',\n",
        "    yaxis_title='Số lượng',\n",
        "    font=dict(\n",
        "        family=\"Arial, sans-serif\",\n",
        "        size=14,\n",
        "        color=\"black\",\n",
        "    ),\n",
        "    plot_bgcolor='rgba(255,255,255,0.9)',\n",
        "    paper_bgcolor='rgba(255,255,255,0.9)',\n",
        "    xaxis_tickangle=-90,\n",
        ")"
      ],
      "metadata": {
        "colab": {
          "base_uri": "https://localhost:8080/",
          "height": 542
        },
        "id": "g7oSUMK8DKUA",
        "outputId": "4ccd985b-d91e-44b4-d89b-138d302095b6"
      },
      "execution_count": 13,
      "outputs": [
        {
          "output_type": "display_data",
          "data": {
            "text/html": [
              "<html>\n",
              "<head><meta charset=\"utf-8\" /></head>\n",
              "<body>\n",
              "    <div>            <script src=\"https://cdnjs.cloudflare.com/ajax/libs/mathjax/2.7.5/MathJax.js?config=TeX-AMS-MML_SVG\"></script><script type=\"text/javascript\">if (window.MathJax && window.MathJax.Hub && window.MathJax.Hub.Config) {window.MathJax.Hub.Config({SVG: {font: \"STIX-Web\"}});}</script>                <script type=\"text/javascript\">window.PlotlyConfig = {MathJaxConfig: 'local'};</script>\n",
              "        <script charset=\"utf-8\" src=\"https://cdn.plot.ly/plotly-2.24.1.min.js\"></script>                <div id=\"dd4bc3fc-94ed-4408-a842-d4e78a53e816\" class=\"plotly-graph-div\" style=\"height:525px; width:100%;\"></div>            <script type=\"text/javascript\">                                    window.PLOTLYENV=window.PLOTLYENV || {};                                    if (document.getElementById(\"dd4bc3fc-94ed-4408-a842-d4e78a53e816\")) {                    Plotly.newPlot(                        \"dd4bc3fc-94ed-4408-a842-d4e78a53e816\",                        [{\"alignmentgroup\":\"True\",\"hovertemplate\":\"M\\u00e0u da=%{x}\\u003cbr\\u003ecount=%{y}\\u003cextra\\u003e\\u003c\\u002fextra\\u003e\",\"legendgroup\":\"fair\",\"marker\":{\"color\":\"rgb(102,194,165)\",\"pattern\":{\"shape\":\"\"}},\"name\":\"fair\",\"offsetgroup\":\"fair\",\"orientation\":\"v\",\"showlegend\":true,\"textposition\":\"auto\",\"x\":[\"fair\",\"fair\",\"fair\",\"fair\",\"fair\",\"fair\",\"fair\",\"fair\"],\"xaxis\":\"x\",\"y\":[1,1,1,1,1,1,1,1],\"yaxis\":\"y\",\"type\":\"bar\"},{\"alignmentgroup\":\"True\",\"hovertemplate\":\"M\\u00e0u da=%{x}\\u003cbr\\u003ecount=%{y}\\u003cextra\\u003e\\u003c\\u002fextra\\u003e\",\"legendgroup\":\"gold\",\"marker\":{\"color\":\"rgb(252,141,98)\",\"pattern\":{\"shape\":\"\"}},\"name\":\"gold\",\"offsetgroup\":\"gold\",\"orientation\":\"v\",\"showlegend\":true,\"textposition\":\"auto\",\"x\":[\"gold\"],\"xaxis\":\"x\",\"y\":[1],\"yaxis\":\"y\",\"type\":\"bar\"},{\"alignmentgroup\":\"True\",\"hovertemplate\":\"M\\u00e0u da=%{x}\\u003cbr\\u003ecount=%{y}\\u003cextra\\u003e\\u003c\\u002fextra\\u003e\",\"legendgroup\":\"white, blue\",\"marker\":{\"color\":\"rgb(141,160,203)\",\"pattern\":{\"shape\":\"\"}},\"name\":\"white, blue\",\"offsetgroup\":\"white, blue\",\"orientation\":\"v\",\"showlegend\":true,\"textposition\":\"auto\",\"x\":[\"white, blue\"],\"xaxis\":\"x\",\"y\":[1],\"yaxis\":\"y\",\"type\":\"bar\"},{\"alignmentgroup\":\"True\",\"hovertemplate\":\"M\\u00e0u da=%{x}\\u003cbr\\u003ecount=%{y}\\u003cextra\\u003e\\u003c\\u002fextra\\u003e\",\"legendgroup\":\"white\",\"marker\":{\"color\":\"rgb(231,138,195)\",\"pattern\":{\"shape\":\"\"}},\"name\":\"white\",\"offsetgroup\":\"white\",\"orientation\":\"v\",\"showlegend\":true,\"textposition\":\"auto\",\"x\":[\"white\"],\"xaxis\":\"x\",\"y\":[1],\"yaxis\":\"y\",\"type\":\"bar\"},{\"alignmentgroup\":\"True\",\"hovertemplate\":\"M\\u00e0u da=%{x}\\u003cbr\\u003ecount=%{y}\\u003cextra\\u003e\\u003c\\u002fextra\\u003e\",\"legendgroup\":\"light\",\"marker\":{\"color\":\"rgb(166,216,84)\",\"pattern\":{\"shape\":\"\"}},\"name\":\"light\",\"offsetgroup\":\"light\",\"orientation\":\"v\",\"showlegend\":true,\"textposition\":\"auto\",\"x\":[\"light\",\"light\",\"light\",\"light\",\"light\",\"light\"],\"xaxis\":\"x\",\"y\":[1,1,1,1,1,1],\"yaxis\":\"y\",\"type\":\"bar\"},{\"alignmentgroup\":\"True\",\"hovertemplate\":\"M\\u00e0u da=%{x}\\u003cbr\\u003ecount=%{y}\\u003cextra\\u003e\\u003c\\u002fextra\\u003e\",\"legendgroup\":\"unknown\",\"marker\":{\"color\":\"rgb(255,217,47)\",\"pattern\":{\"shape\":\"\"}},\"name\":\"unknown\",\"offsetgroup\":\"unknown\",\"orientation\":\"v\",\"showlegend\":true,\"textposition\":\"auto\",\"x\":[\"unknown\"],\"xaxis\":\"x\",\"y\":[1],\"yaxis\":\"y\",\"type\":\"bar\"},{\"alignmentgroup\":\"True\",\"hovertemplate\":\"M\\u00e0u da=%{x}\\u003cbr\\u003ecount=%{y}\\u003cextra\\u003e\\u003c\\u002fextra\\u003e\",\"legendgroup\":\"green\",\"marker\":{\"color\":\"rgb(229,196,148)\",\"pattern\":{\"shape\":\"\"}},\"name\":\"green\",\"offsetgroup\":\"green\",\"orientation\":\"v\",\"showlegend\":true,\"textposition\":\"auto\",\"x\":[\"green\",\"green\",\"green\"],\"xaxis\":\"x\",\"y\":[1,1,1],\"yaxis\":\"y\",\"type\":\"bar\"},{\"alignmentgroup\":\"True\",\"hovertemplate\":\"M\\u00e0u da=%{x}\\u003cbr\\u003ecount=%{y}\\u003cextra\\u003e\\u003c\\u002fextra\\u003e\",\"legendgroup\":\"pale\",\"marker\":{\"color\":\"rgb(179,179,179)\",\"pattern\":{\"shape\":\"\"}},\"name\":\"pale\",\"offsetgroup\":\"pale\",\"orientation\":\"v\",\"showlegend\":true,\"textposition\":\"auto\",\"x\":[\"pale\",\"pale\"],\"xaxis\":\"x\",\"y\":[1,1],\"yaxis\":\"y\",\"type\":\"bar\"},{\"alignmentgroup\":\"True\",\"hovertemplate\":\"M\\u00e0u da=%{x}\\u003cbr\\u003ecount=%{y}\\u003cextra\\u003e\\u003c\\u002fextra\\u003e\",\"legendgroup\":\"metal\",\"marker\":{\"color\":\"rgb(102,194,165)\",\"pattern\":{\"shape\":\"\"}},\"name\":\"metal\",\"offsetgroup\":\"metal\",\"orientation\":\"v\",\"showlegend\":true,\"textposition\":\"auto\",\"x\":[\"metal\"],\"xaxis\":\"x\",\"y\":[1],\"yaxis\":\"y\",\"type\":\"bar\"},{\"alignmentgroup\":\"True\",\"hovertemplate\":\"M\\u00e0u da=%{x}\\u003cbr\\u003ecount=%{y}\\u003cextra\\u003e\\u003c\\u002fextra\\u003e\",\"legendgroup\":\"dark\",\"marker\":{\"color\":\"rgb(252,141,98)\",\"pattern\":{\"shape\":\"\"}},\"name\":\"dark\",\"offsetgroup\":\"dark\",\"orientation\":\"v\",\"showlegend\":true,\"textposition\":\"auto\",\"x\":[\"dark\",\"dark\"],\"xaxis\":\"x\",\"y\":[1,1],\"yaxis\":\"y\",\"type\":\"bar\"},{\"alignmentgroup\":\"True\",\"hovertemplate\":\"M\\u00e0u da=%{x}\\u003cbr\\u003ecount=%{y}\\u003cextra\\u003e\\u003c\\u002fextra\\u003e\",\"legendgroup\":\"brown mottle\",\"marker\":{\"color\":\"rgb(141,160,203)\",\"pattern\":{\"shape\":\"\"}},\"name\":\"brown mottle\",\"offsetgroup\":\"brown mottle\",\"orientation\":\"v\",\"showlegend\":true,\"textposition\":\"auto\",\"x\":[\"brown mottle\"],\"xaxis\":\"x\",\"y\":[1],\"yaxis\":\"y\",\"type\":\"bar\"},{\"alignmentgroup\":\"True\",\"hovertemplate\":\"M\\u00e0u da=%{x}\\u003cbr\\u003ecount=%{y}\\u003cextra\\u003e\\u003c\\u002fextra\\u003e\",\"legendgroup\":\"brown\",\"marker\":{\"color\":\"rgb(231,138,195)\",\"pattern\":{\"shape\":\"\"}},\"name\":\"brown\",\"offsetgroup\":\"brown\",\"orientation\":\"v\",\"showlegend\":true,\"textposition\":\"auto\",\"x\":[\"brown\"],\"xaxis\":\"x\",\"y\":[1],\"yaxis\":\"y\",\"type\":\"bar\"},{\"alignmentgroup\":\"True\",\"hovertemplate\":\"M\\u00e0u da=%{x}\\u003cbr\\u003ecount=%{y}\\u003cextra\\u003e\\u003c\\u002fextra\\u003e\",\"legendgroup\":\"orange\",\"marker\":{\"color\":\"rgb(166,216,84)\",\"pattern\":{\"shape\":\"\"}},\"name\":\"orange\",\"offsetgroup\":\"orange\",\"orientation\":\"v\",\"showlegend\":true,\"textposition\":\"auto\",\"x\":[\"orange\",\"orange\"],\"xaxis\":\"x\",\"y\":[1,1],\"yaxis\":\"y\",\"type\":\"bar\"},{\"alignmentgroup\":\"True\",\"hovertemplate\":\"M\\u00e0u da=%{x}\\u003cbr\\u003ecount=%{y}\\u003cextra\\u003e\\u003c\\u002fextra\\u003e\",\"legendgroup\":\"red\",\"marker\":{\"color\":\"rgb(255,217,47)\",\"pattern\":{\"shape\":\"\"}},\"name\":\"red\",\"offsetgroup\":\"red\",\"orientation\":\"v\",\"showlegend\":true,\"textposition\":\"auto\",\"x\":[\"red\"],\"xaxis\":\"x\",\"y\":[1],\"yaxis\":\"y\",\"type\":\"bar\"},{\"alignmentgroup\":\"True\",\"hovertemplate\":\"M\\u00e0u da=%{x}\\u003cbr\\u003ecount=%{y}\\u003cextra\\u003e\\u003c\\u002fextra\\u003e\",\"legendgroup\":\"blue\",\"marker\":{\"color\":\"rgb(229,196,148)\",\"pattern\":{\"shape\":\"\"}},\"name\":\"blue\",\"offsetgroup\":\"blue\",\"orientation\":\"v\",\"showlegend\":true,\"textposition\":\"auto\",\"x\":[\"blue\"],\"xaxis\":\"x\",\"y\":[1],\"yaxis\":\"y\",\"type\":\"bar\"},{\"alignmentgroup\":\"True\",\"hovertemplate\":\"M\\u00e0u da=%{x}\\u003cbr\\u003ecount=%{y}\\u003cextra\\u003e\\u003c\\u002fextra\\u003e\",\"legendgroup\":\"yellow\",\"marker\":{\"color\":\"rgb(179,179,179)\",\"pattern\":{\"shape\":\"\"}},\"name\":\"yellow\",\"offsetgroup\":\"yellow\",\"orientation\":\"v\",\"showlegend\":true,\"textposition\":\"auto\",\"x\":[\"yellow\",\"yellow\"],\"xaxis\":\"x\",\"y\":[1,1],\"yaxis\":\"y\",\"type\":\"bar\"},{\"alignmentgroup\":\"True\",\"hovertemplate\":\"M\\u00e0u da=%{x}\\u003cbr\\u003ecount=%{y}\\u003cextra\\u003e\\u003c\\u002fextra\\u003e\",\"legendgroup\":\"tan\",\"marker\":{\"color\":\"rgb(102,194,165)\",\"pattern\":{\"shape\":\"\"}},\"name\":\"tan\",\"offsetgroup\":\"tan\",\"orientation\":\"v\",\"showlegend\":true,\"textposition\":\"auto\",\"x\":[\"tan\"],\"xaxis\":\"x\",\"y\":[1],\"yaxis\":\"y\",\"type\":\"bar\"}],                        {\"template\":{\"data\":{\"histogram2dcontour\":[{\"type\":\"histogram2dcontour\",\"colorbar\":{\"outlinewidth\":0,\"ticks\":\"\"},\"colorscale\":[[0.0,\"#0d0887\"],[0.1111111111111111,\"#46039f\"],[0.2222222222222222,\"#7201a8\"],[0.3333333333333333,\"#9c179e\"],[0.4444444444444444,\"#bd3786\"],[0.5555555555555556,\"#d8576b\"],[0.6666666666666666,\"#ed7953\"],[0.7777777777777778,\"#fb9f3a\"],[0.8888888888888888,\"#fdca26\"],[1.0,\"#f0f921\"]]}],\"choropleth\":[{\"type\":\"choropleth\",\"colorbar\":{\"outlinewidth\":0,\"ticks\":\"\"}}],\"histogram2d\":[{\"type\":\"histogram2d\",\"colorbar\":{\"outlinewidth\":0,\"ticks\":\"\"},\"colorscale\":[[0.0,\"#0d0887\"],[0.1111111111111111,\"#46039f\"],[0.2222222222222222,\"#7201a8\"],[0.3333333333333333,\"#9c179e\"],[0.4444444444444444,\"#bd3786\"],[0.5555555555555556,\"#d8576b\"],[0.6666666666666666,\"#ed7953\"],[0.7777777777777778,\"#fb9f3a\"],[0.8888888888888888,\"#fdca26\"],[1.0,\"#f0f921\"]]}],\"heatmap\":[{\"type\":\"heatmap\",\"colorbar\":{\"outlinewidth\":0,\"ticks\":\"\"},\"colorscale\":[[0.0,\"#0d0887\"],[0.1111111111111111,\"#46039f\"],[0.2222222222222222,\"#7201a8\"],[0.3333333333333333,\"#9c179e\"],[0.4444444444444444,\"#bd3786\"],[0.5555555555555556,\"#d8576b\"],[0.6666666666666666,\"#ed7953\"],[0.7777777777777778,\"#fb9f3a\"],[0.8888888888888888,\"#fdca26\"],[1.0,\"#f0f921\"]]}],\"heatmapgl\":[{\"type\":\"heatmapgl\",\"colorbar\":{\"outlinewidth\":0,\"ticks\":\"\"},\"colorscale\":[[0.0,\"#0d0887\"],[0.1111111111111111,\"#46039f\"],[0.2222222222222222,\"#7201a8\"],[0.3333333333333333,\"#9c179e\"],[0.4444444444444444,\"#bd3786\"],[0.5555555555555556,\"#d8576b\"],[0.6666666666666666,\"#ed7953\"],[0.7777777777777778,\"#fb9f3a\"],[0.8888888888888888,\"#fdca26\"],[1.0,\"#f0f921\"]]}],\"contourcarpet\":[{\"type\":\"contourcarpet\",\"colorbar\":{\"outlinewidth\":0,\"ticks\":\"\"}}],\"contour\":[{\"type\":\"contour\",\"colorbar\":{\"outlinewidth\":0,\"ticks\":\"\"},\"colorscale\":[[0.0,\"#0d0887\"],[0.1111111111111111,\"#46039f\"],[0.2222222222222222,\"#7201a8\"],[0.3333333333333333,\"#9c179e\"],[0.4444444444444444,\"#bd3786\"],[0.5555555555555556,\"#d8576b\"],[0.6666666666666666,\"#ed7953\"],[0.7777777777777778,\"#fb9f3a\"],[0.8888888888888888,\"#fdca26\"],[1.0,\"#f0f921\"]]}],\"surface\":[{\"type\":\"surface\",\"colorbar\":{\"outlinewidth\":0,\"ticks\":\"\"},\"colorscale\":[[0.0,\"#0d0887\"],[0.1111111111111111,\"#46039f\"],[0.2222222222222222,\"#7201a8\"],[0.3333333333333333,\"#9c179e\"],[0.4444444444444444,\"#bd3786\"],[0.5555555555555556,\"#d8576b\"],[0.6666666666666666,\"#ed7953\"],[0.7777777777777778,\"#fb9f3a\"],[0.8888888888888888,\"#fdca26\"],[1.0,\"#f0f921\"]]}],\"mesh3d\":[{\"type\":\"mesh3d\",\"colorbar\":{\"outlinewidth\":0,\"ticks\":\"\"}}],\"scatter\":[{\"fillpattern\":{\"fillmode\":\"overlay\",\"size\":10,\"solidity\":0.2},\"type\":\"scatter\"}],\"parcoords\":[{\"type\":\"parcoords\",\"line\":{\"colorbar\":{\"outlinewidth\":0,\"ticks\":\"\"}}}],\"scatterpolargl\":[{\"type\":\"scatterpolargl\",\"marker\":{\"colorbar\":{\"outlinewidth\":0,\"ticks\":\"\"}}}],\"bar\":[{\"error_x\":{\"color\":\"#2a3f5f\"},\"error_y\":{\"color\":\"#2a3f5f\"},\"marker\":{\"line\":{\"color\":\"#E5ECF6\",\"width\":0.5},\"pattern\":{\"fillmode\":\"overlay\",\"size\":10,\"solidity\":0.2}},\"type\":\"bar\"}],\"scattergeo\":[{\"type\":\"scattergeo\",\"marker\":{\"colorbar\":{\"outlinewidth\":0,\"ticks\":\"\"}}}],\"scatterpolar\":[{\"type\":\"scatterpolar\",\"marker\":{\"colorbar\":{\"outlinewidth\":0,\"ticks\":\"\"}}}],\"histogram\":[{\"marker\":{\"pattern\":{\"fillmode\":\"overlay\",\"size\":10,\"solidity\":0.2}},\"type\":\"histogram\"}],\"scattergl\":[{\"type\":\"scattergl\",\"marker\":{\"colorbar\":{\"outlinewidth\":0,\"ticks\":\"\"}}}],\"scatter3d\":[{\"type\":\"scatter3d\",\"line\":{\"colorbar\":{\"outlinewidth\":0,\"ticks\":\"\"}},\"marker\":{\"colorbar\":{\"outlinewidth\":0,\"ticks\":\"\"}}}],\"scattermapbox\":[{\"type\":\"scattermapbox\",\"marker\":{\"colorbar\":{\"outlinewidth\":0,\"ticks\":\"\"}}}],\"scatterternary\":[{\"type\":\"scatterternary\",\"marker\":{\"colorbar\":{\"outlinewidth\":0,\"ticks\":\"\"}}}],\"scattercarpet\":[{\"type\":\"scattercarpet\",\"marker\":{\"colorbar\":{\"outlinewidth\":0,\"ticks\":\"\"}}}],\"carpet\":[{\"aaxis\":{\"endlinecolor\":\"#2a3f5f\",\"gridcolor\":\"white\",\"linecolor\":\"white\",\"minorgridcolor\":\"white\",\"startlinecolor\":\"#2a3f5f\"},\"baxis\":{\"endlinecolor\":\"#2a3f5f\",\"gridcolor\":\"white\",\"linecolor\":\"white\",\"minorgridcolor\":\"white\",\"startlinecolor\":\"#2a3f5f\"},\"type\":\"carpet\"}],\"table\":[{\"cells\":{\"fill\":{\"color\":\"#EBF0F8\"},\"line\":{\"color\":\"white\"}},\"header\":{\"fill\":{\"color\":\"#C8D4E3\"},\"line\":{\"color\":\"white\"}},\"type\":\"table\"}],\"barpolar\":[{\"marker\":{\"line\":{\"color\":\"#E5ECF6\",\"width\":0.5},\"pattern\":{\"fillmode\":\"overlay\",\"size\":10,\"solidity\":0.2}},\"type\":\"barpolar\"}],\"pie\":[{\"automargin\":true,\"type\":\"pie\"}]},\"layout\":{\"autotypenumbers\":\"strict\",\"colorway\":[\"#636efa\",\"#EF553B\",\"#00cc96\",\"#ab63fa\",\"#FFA15A\",\"#19d3f3\",\"#FF6692\",\"#B6E880\",\"#FF97FF\",\"#FECB52\"],\"font\":{\"color\":\"#2a3f5f\"},\"hovermode\":\"closest\",\"hoverlabel\":{\"align\":\"left\"},\"paper_bgcolor\":\"white\",\"plot_bgcolor\":\"#E5ECF6\",\"polar\":{\"bgcolor\":\"#E5ECF6\",\"angularaxis\":{\"gridcolor\":\"white\",\"linecolor\":\"white\",\"ticks\":\"\"},\"radialaxis\":{\"gridcolor\":\"white\",\"linecolor\":\"white\",\"ticks\":\"\"}},\"ternary\":{\"bgcolor\":\"#E5ECF6\",\"aaxis\":{\"gridcolor\":\"white\",\"linecolor\":\"white\",\"ticks\":\"\"},\"baxis\":{\"gridcolor\":\"white\",\"linecolor\":\"white\",\"ticks\":\"\"},\"caxis\":{\"gridcolor\":\"white\",\"linecolor\":\"white\",\"ticks\":\"\"}},\"coloraxis\":{\"colorbar\":{\"outlinewidth\":0,\"ticks\":\"\"}},\"colorscale\":{\"sequential\":[[0.0,\"#0d0887\"],[0.1111111111111111,\"#46039f\"],[0.2222222222222222,\"#7201a8\"],[0.3333333333333333,\"#9c179e\"],[0.4444444444444444,\"#bd3786\"],[0.5555555555555556,\"#d8576b\"],[0.6666666666666666,\"#ed7953\"],[0.7777777777777778,\"#fb9f3a\"],[0.8888888888888888,\"#fdca26\"],[1.0,\"#f0f921\"]],\"sequentialminus\":[[0.0,\"#0d0887\"],[0.1111111111111111,\"#46039f\"],[0.2222222222222222,\"#7201a8\"],[0.3333333333333333,\"#9c179e\"],[0.4444444444444444,\"#bd3786\"],[0.5555555555555556,\"#d8576b\"],[0.6666666666666666,\"#ed7953\"],[0.7777777777777778,\"#fb9f3a\"],[0.8888888888888888,\"#fdca26\"],[1.0,\"#f0f921\"]],\"diverging\":[[0,\"#8e0152\"],[0.1,\"#c51b7d\"],[0.2,\"#de77ae\"],[0.3,\"#f1b6da\"],[0.4,\"#fde0ef\"],[0.5,\"#f7f7f7\"],[0.6,\"#e6f5d0\"],[0.7,\"#b8e186\"],[0.8,\"#7fbc41\"],[0.9,\"#4d9221\"],[1,\"#276419\"]]},\"xaxis\":{\"gridcolor\":\"white\",\"linecolor\":\"white\",\"ticks\":\"\",\"title\":{\"standoff\":15},\"zerolinecolor\":\"white\",\"automargin\":true,\"zerolinewidth\":2},\"yaxis\":{\"gridcolor\":\"white\",\"linecolor\":\"white\",\"ticks\":\"\",\"title\":{\"standoff\":15},\"zerolinecolor\":\"white\",\"automargin\":true,\"zerolinewidth\":2},\"scene\":{\"xaxis\":{\"backgroundcolor\":\"#E5ECF6\",\"gridcolor\":\"white\",\"linecolor\":\"white\",\"showbackground\":true,\"ticks\":\"\",\"zerolinecolor\":\"white\",\"gridwidth\":2},\"yaxis\":{\"backgroundcolor\":\"#E5ECF6\",\"gridcolor\":\"white\",\"linecolor\":\"white\",\"showbackground\":true,\"ticks\":\"\",\"zerolinecolor\":\"white\",\"gridwidth\":2},\"zaxis\":{\"backgroundcolor\":\"#E5ECF6\",\"gridcolor\":\"white\",\"linecolor\":\"white\",\"showbackground\":true,\"ticks\":\"\",\"zerolinecolor\":\"white\",\"gridwidth\":2}},\"shapedefaults\":{\"line\":{\"color\":\"#2a3f5f\"}},\"annotationdefaults\":{\"arrowcolor\":\"#2a3f5f\",\"arrowhead\":0,\"arrowwidth\":1},\"geo\":{\"bgcolor\":\"white\",\"landcolor\":\"#E5ECF6\",\"subunitcolor\":\"white\",\"showland\":true,\"showlakes\":true,\"lakecolor\":\"white\"},\"title\":{\"x\":0.05},\"mapbox\":{\"style\":\"light\"}}},\"xaxis\":{\"anchor\":\"y\",\"domain\":[0.0,1.0],\"title\":{\"text\":\"M\\u00e0u da\"},\"categoryorder\":\"array\",\"categoryarray\":[\"fair\",\"gold\",\"white, blue\",\"white\",\"light\",\"unknown\",\"green\",\"pale\",\"metal\",\"dark\",\"brown mottle\",\"brown\",\"orange\",\"red\",\"blue\",\"yellow\",\"tan\"],\"tickangle\":-90},\"yaxis\":{\"anchor\":\"x\",\"domain\":[0.0,1.0],\"title\":{\"text\":\"S\\u1ed1 l\\u01b0\\u1ee3ng\"}},\"legend\":{\"title\":{\"text\":\"M\\u00e0u da\"},\"tracegroupgap\":0},\"title\":{\"text\":\"Ph\\u00e2n b\\u1ed1 m\\u00e0u da c\\u1ee7a c\\u00e1c nh\\u00e2n v\\u1eadt\"},\"barmode\":\"relative\",\"font\":{\"family\":\"Arial, sans-serif\",\"size\":14,\"color\":\"black\"},\"plot_bgcolor\":\"rgba(255,255,255,0.9)\",\"paper_bgcolor\":\"rgba(255,255,255,0.9)\"},                        {\"responsive\": true}                    ).then(function(){\n",
              "                            \n",
              "var gd = document.getElementById('dd4bc3fc-94ed-4408-a842-d4e78a53e816');\n",
              "var x = new MutationObserver(function (mutations, observer) {{\n",
              "        var display = window.getComputedStyle(gd).display;\n",
              "        if (!display || display === 'none') {{\n",
              "            console.log([gd, 'removed!']);\n",
              "            Plotly.purge(gd);\n",
              "            observer.disconnect();\n",
              "        }}\n",
              "}});\n",
              "\n",
              "// Listen for the removal of the full notebook cells\n",
              "var notebookContainer = gd.closest('#notebook-container');\n",
              "if (notebookContainer) {{\n",
              "    x.observe(notebookContainer, {childList: true});\n",
              "}}\n",
              "\n",
              "// Listen for the clearing of the current output cell\n",
              "var outputEl = gd.closest('.output');\n",
              "if (outputEl) {{\n",
              "    x.observe(outputEl, {childList: true});\n",
              "}}\n",
              "\n",
              "                        })                };                            </script>        </div>\n",
              "</body>\n",
              "</html>"
            ]
          },
          "metadata": {}
        }
      ]
    },
    {
      "cell_type": "markdown",
      "source": [
        "**Nhận xét chung:**\n",
        "\n",
        "**Phân bố màu da của các nhân vật:**\n",
        "\n",
        "- Biểu đồ cột trực quan hóa số lượng các nhân vật theo từng màu da khác nhau trong vũ trụ Star Wars.\n",
        "\n",
        "**Màu da nổi bật:**\n",
        "\n",
        "- Các màu da phổ biến sẽ có cột cao hơn và nổi bật hơn trong biểu đồ. Điều này cho thấy sự đa dạng và phổ biến của các màu da này trong danh sách các nhân vật.\n",
        "- Ví dụ, nếu màu da như \"màu da trắng\" hoặc \"màu da xanh lá cây\" chiếm tỷ lệ lớn, thì các cột tương ứng sẽ cao hơn và có màu sắc rõ ràng hơn.\n",
        "\n",
        "**Màu da ít phổ biến:**\n",
        "\n",
        "- Các màu da ít phổ biến sẽ có cột thấp hơn và có thể màu sắc không rõ ràng trong biểu đồ. Điều này cho thấy sự hiếm có và ít được sử dụng của các màu da này trong danh sách các nhân vật.\n",
        "- Ví dụ, các màu da như \"màu da cam\" hoặc \"màu da đen\" có thể có cột thấp hơn do số lượng nhân vật thấp.\n",
        "\n",
        "**Nhận xét cụ thể:**\n",
        "\n",
        "- **Sự đa dạng màu sắc:** Biểu đồ thể hiện sự đa dạng màu da của các nhân vật trong vũ trụ Star Wars, từ những màu da phổ biến đến những màu da ít thường thấy.\n",
        "- **Màu sắc nổi bật:** Các màu da chiếm tỷ lệ lớn sẽ có cột cao và rõ ràng hơn, dễ thu hút sự chú ý của người xem.\n",
        "- **Màu sắc ít nổi bật:** Những màu da ít phổ biến có thể không được biểu thị rõ ràng trong biểu đồ, nhưng vẫn quan trọng để hiểu sự đa dạng trong thiết kế các nhân vật.\n",
        "\n",
        "**Tổng kết:**\n",
        "\n",
        "- Biểu đồ cung cấp cái nhìn tổng quan về sự đa dạng màu da của các nhân vật trong vũ trụ Star Wars, từ các màu da phổ biến đến các màu da ít thường thấy.\n",
        "- Những thông tin này có thể được sử dụng để nghiên cứu về phong cách thiết kế nhân vật, sự đa dạng về màu sắc, và những yếu tố văn hóa hoặc ngữ nghĩa liên quan đến màu da trong vũ trụ Star Wars."
      ],
      "metadata": {
        "id": "efen-HWszH72"
      }
    },
    {
      "cell_type": "markdown",
      "source": [
        "2.6. Hair_color"
      ],
      "metadata": {
        "id": "HD1FkNoz1200"
      }
    },
    {
      "cell_type": "code",
      "source": [
        "# 6. Biểu đồ cột: Phân bố màu tóc\n",
        "fig_bar_hair_color = px.bar(df, x='hair_color',\n",
        "                            labels={'hair_color': 'Màu tóc'},\n",
        "                            title='Phân bố màu tóc của các nhân vật',\n",
        "                            color='hair_color',\n",
        "                            color_discrete_sequence=px.colors.qualitative.Set2)  # Sử dụng bảng màu Set2\n",
        "\n",
        "fig_bar_hair_color.update_layout(\n",
        "    xaxis_title='Màu tóc',\n",
        "    yaxis_title='Số lượng',\n",
        "    font=dict(\n",
        "        family=\"Arial, sans-serif\",\n",
        "        size=14,\n",
        "        color=\"black\"\n",
        "    ),\n",
        "    plot_bgcolor='rgba(255,255,255,0.9)',\n",
        "    paper_bgcolor='rgba(255,255,255,0.9)',\n",
        "    xaxis_tickangle=-90,\n",
        ")\n",
        "\n",
        "fig_bar_hair_color.show()"
      ],
      "metadata": {
        "colab": {
          "base_uri": "https://localhost:8080/",
          "height": 542
        },
        "id": "RAcynRHgDN-h",
        "outputId": "efc43510-c695-49c3-e3d7-2d83a69f2278"
      },
      "execution_count": 15,
      "outputs": [
        {
          "output_type": "display_data",
          "data": {
            "text/html": [
              "<html>\n",
              "<head><meta charset=\"utf-8\" /></head>\n",
              "<body>\n",
              "    <div>            <script src=\"https://cdnjs.cloudflare.com/ajax/libs/mathjax/2.7.5/MathJax.js?config=TeX-AMS-MML_SVG\"></script><script type=\"text/javascript\">if (window.MathJax && window.MathJax.Hub && window.MathJax.Hub.Config) {window.MathJax.Hub.Config({SVG: {font: \"STIX-Web\"}});}</script>                <script type=\"text/javascript\">window.PlotlyConfig = {MathJaxConfig: 'local'};</script>\n",
              "        <script charset=\"utf-8\" src=\"https://cdn.plot.ly/plotly-2.24.1.min.js\"></script>                <div id=\"f47aaecb-dc9b-45fe-83f9-37f3ced5eca2\" class=\"plotly-graph-div\" style=\"height:525px; width:100%;\"></div>            <script type=\"text/javascript\">                                    window.PLOTLYENV=window.PLOTLYENV || {};                                    if (document.getElementById(\"f47aaecb-dc9b-45fe-83f9-37f3ced5eca2\")) {                    Plotly.newPlot(                        \"f47aaecb-dc9b-45fe-83f9-37f3ced5eca2\",                        [{\"alignmentgroup\":\"True\",\"hovertemplate\":\"M\\u00e0u t\\u00f3c=%{x}\\u003cbr\\u003ecount=%{y}\\u003cextra\\u003e\\u003c\\u002fextra\\u003e\",\"legendgroup\":\"blond\",\"marker\":{\"color\":\"rgb(102,194,165)\",\"pattern\":{\"shape\":\"\"}},\"name\":\"blond\",\"offsetgroup\":\"blond\",\"orientation\":\"v\",\"showlegend\":true,\"textposition\":\"auto\",\"x\":[\"blond\",\"blond\"],\"xaxis\":\"x\",\"y\":[1,1],\"yaxis\":\"y\",\"type\":\"bar\"},{\"alignmentgroup\":\"True\",\"hovertemplate\":\"M\\u00e0u t\\u00f3c=%{x}\\u003cbr\\u003ecount=%{y}\\u003cextra\\u003e\\u003c\\u002fextra\\u003e\",\"legendgroup\":\"n\\u002fa\",\"marker\":{\"color\":\"rgb(252,141,98)\",\"pattern\":{\"shape\":\"\"}},\"name\":\"n\\u002fa\",\"offsetgroup\":\"n\\u002fa\",\"orientation\":\"v\",\"showlegend\":true,\"textposition\":\"auto\",\"x\":[\"n\\u002fa\",\"n\\u002fa\",\"n\\u002fa\"],\"xaxis\":\"x\",\"y\":[1,1,1],\"yaxis\":\"y\",\"type\":\"bar\"},{\"alignmentgroup\":\"True\",\"hovertemplate\":\"M\\u00e0u t\\u00f3c=%{x}\\u003cbr\\u003ecount=%{y}\\u003cextra\\u003e\\u003c\\u002fextra\\u003e\",\"legendgroup\":\"none\",\"marker\":{\"color\":\"rgb(141,160,203)\",\"pattern\":{\"shape\":\"\"}},\"name\":\"none\",\"offsetgroup\":\"none\",\"orientation\":\"v\",\"showlegend\":true,\"textposition\":\"auto\",\"x\":[\"none\",\"none\",\"none\",\"none\",\"none\",\"none\",\"none\",\"none\",\"none\",\"none\"],\"xaxis\":\"x\",\"y\":[1,1,1,1,1,1,1,1,1,1],\"yaxis\":\"y\",\"type\":\"bar\"},{\"alignmentgroup\":\"True\",\"hovertemplate\":\"M\\u00e0u t\\u00f3c=%{x}\\u003cbr\\u003ecount=%{y}\\u003cextra\\u003e\\u003c\\u002fextra\\u003e\",\"legendgroup\":\"brown\",\"marker\":{\"color\":\"rgb(231,138,195)\",\"pattern\":{\"shape\":\"\"}},\"name\":\"brown\",\"offsetgroup\":\"brown\",\"orientation\":\"v\",\"showlegend\":true,\"textposition\":\"auto\",\"x\":[\"brown\",\"brown\",\"brown\",\"brown\",\"brown\",\"brown\",\"brown\",\"brown\"],\"xaxis\":\"x\",\"y\":[1,1,1,1,1,1,1,1],\"yaxis\":\"y\",\"type\":\"bar\"},{\"alignmentgroup\":\"True\",\"hovertemplate\":\"M\\u00e0u t\\u00f3c=%{x}\\u003cbr\\u003ecount=%{y}\\u003cextra\\u003e\\u003c\\u002fextra\\u003e\",\"legendgroup\":\"brown, grey\",\"marker\":{\"color\":\"rgb(166,216,84)\",\"pattern\":{\"shape\":\"\"}},\"name\":\"brown, grey\",\"offsetgroup\":\"brown, grey\",\"orientation\":\"v\",\"showlegend\":true,\"textposition\":\"auto\",\"x\":[\"brown, grey\"],\"xaxis\":\"x\",\"y\":[1],\"yaxis\":\"y\",\"type\":\"bar\"},{\"alignmentgroup\":\"True\",\"hovertemplate\":\"M\\u00e0u t\\u00f3c=%{x}\\u003cbr\\u003ecount=%{y}\\u003cextra\\u003e\\u003c\\u002fextra\\u003e\",\"legendgroup\":\"black\",\"marker\":{\"color\":\"rgb(255,217,47)\",\"pattern\":{\"shape\":\"\"}},\"name\":\"black\",\"offsetgroup\":\"black\",\"orientation\":\"v\",\"showlegend\":true,\"textposition\":\"auto\",\"x\":[\"black\",\"black\",\"black\",\"black\",\"black\",\"black\"],\"xaxis\":\"x\",\"y\":[1,1,1,1,1,1],\"yaxis\":\"y\",\"type\":\"bar\"},{\"alignmentgroup\":\"True\",\"hovertemplate\":\"M\\u00e0u t\\u00f3c=%{x}\\u003cbr\\u003ecount=%{y}\\u003cextra\\u003e\\u003c\\u002fextra\\u003e\",\"legendgroup\":\"auburn, white\",\"marker\":{\"color\":\"rgb(229,196,148)\",\"pattern\":{\"shape\":\"\"}},\"name\":\"auburn, white\",\"offsetgroup\":\"auburn, white\",\"orientation\":\"v\",\"showlegend\":true,\"textposition\":\"auto\",\"x\":[\"auburn, white\"],\"xaxis\":\"x\",\"y\":[1],\"yaxis\":\"y\",\"type\":\"bar\"},{\"alignmentgroup\":\"True\",\"hovertemplate\":\"M\\u00e0u t\\u00f3c=%{x}\\u003cbr\\u003ecount=%{y}\\u003cextra\\u003e\\u003c\\u002fextra\\u003e\",\"legendgroup\":\"white\",\"marker\":{\"color\":\"rgb(179,179,179)\",\"pattern\":{\"shape\":\"\"}},\"name\":\"white\",\"offsetgroup\":\"white\",\"orientation\":\"v\",\"showlegend\":true,\"textposition\":\"auto\",\"x\":[\"white\",\"white\",\"white\"],\"xaxis\":\"x\",\"y\":[1,1,1],\"yaxis\":\"y\",\"type\":\"bar\"},{\"alignmentgroup\":\"True\",\"hovertemplate\":\"M\\u00e0u t\\u00f3c=%{x}\\u003cbr\\u003ecount=%{y}\\u003cextra\\u003e\\u003c\\u002fextra\\u003e\",\"legendgroup\":\"grey\",\"marker\":{\"color\":\"rgb(102,194,165)\",\"pattern\":{\"shape\":\"\"}},\"name\":\"grey\",\"offsetgroup\":\"grey\",\"orientation\":\"v\",\"showlegend\":true,\"textposition\":\"auto\",\"x\":[\"grey\"],\"xaxis\":\"x\",\"y\":[1],\"yaxis\":\"y\",\"type\":\"bar\"}],                        {\"template\":{\"data\":{\"histogram2dcontour\":[{\"type\":\"histogram2dcontour\",\"colorbar\":{\"outlinewidth\":0,\"ticks\":\"\"},\"colorscale\":[[0.0,\"#0d0887\"],[0.1111111111111111,\"#46039f\"],[0.2222222222222222,\"#7201a8\"],[0.3333333333333333,\"#9c179e\"],[0.4444444444444444,\"#bd3786\"],[0.5555555555555556,\"#d8576b\"],[0.6666666666666666,\"#ed7953\"],[0.7777777777777778,\"#fb9f3a\"],[0.8888888888888888,\"#fdca26\"],[1.0,\"#f0f921\"]]}],\"choropleth\":[{\"type\":\"choropleth\",\"colorbar\":{\"outlinewidth\":0,\"ticks\":\"\"}}],\"histogram2d\":[{\"type\":\"histogram2d\",\"colorbar\":{\"outlinewidth\":0,\"ticks\":\"\"},\"colorscale\":[[0.0,\"#0d0887\"],[0.1111111111111111,\"#46039f\"],[0.2222222222222222,\"#7201a8\"],[0.3333333333333333,\"#9c179e\"],[0.4444444444444444,\"#bd3786\"],[0.5555555555555556,\"#d8576b\"],[0.6666666666666666,\"#ed7953\"],[0.7777777777777778,\"#fb9f3a\"],[0.8888888888888888,\"#fdca26\"],[1.0,\"#f0f921\"]]}],\"heatmap\":[{\"type\":\"heatmap\",\"colorbar\":{\"outlinewidth\":0,\"ticks\":\"\"},\"colorscale\":[[0.0,\"#0d0887\"],[0.1111111111111111,\"#46039f\"],[0.2222222222222222,\"#7201a8\"],[0.3333333333333333,\"#9c179e\"],[0.4444444444444444,\"#bd3786\"],[0.5555555555555556,\"#d8576b\"],[0.6666666666666666,\"#ed7953\"],[0.7777777777777778,\"#fb9f3a\"],[0.8888888888888888,\"#fdca26\"],[1.0,\"#f0f921\"]]}],\"heatmapgl\":[{\"type\":\"heatmapgl\",\"colorbar\":{\"outlinewidth\":0,\"ticks\":\"\"},\"colorscale\":[[0.0,\"#0d0887\"],[0.1111111111111111,\"#46039f\"],[0.2222222222222222,\"#7201a8\"],[0.3333333333333333,\"#9c179e\"],[0.4444444444444444,\"#bd3786\"],[0.5555555555555556,\"#d8576b\"],[0.6666666666666666,\"#ed7953\"],[0.7777777777777778,\"#fb9f3a\"],[0.8888888888888888,\"#fdca26\"],[1.0,\"#f0f921\"]]}],\"contourcarpet\":[{\"type\":\"contourcarpet\",\"colorbar\":{\"outlinewidth\":0,\"ticks\":\"\"}}],\"contour\":[{\"type\":\"contour\",\"colorbar\":{\"outlinewidth\":0,\"ticks\":\"\"},\"colorscale\":[[0.0,\"#0d0887\"],[0.1111111111111111,\"#46039f\"],[0.2222222222222222,\"#7201a8\"],[0.3333333333333333,\"#9c179e\"],[0.4444444444444444,\"#bd3786\"],[0.5555555555555556,\"#d8576b\"],[0.6666666666666666,\"#ed7953\"],[0.7777777777777778,\"#fb9f3a\"],[0.8888888888888888,\"#fdca26\"],[1.0,\"#f0f921\"]]}],\"surface\":[{\"type\":\"surface\",\"colorbar\":{\"outlinewidth\":0,\"ticks\":\"\"},\"colorscale\":[[0.0,\"#0d0887\"],[0.1111111111111111,\"#46039f\"],[0.2222222222222222,\"#7201a8\"],[0.3333333333333333,\"#9c179e\"],[0.4444444444444444,\"#bd3786\"],[0.5555555555555556,\"#d8576b\"],[0.6666666666666666,\"#ed7953\"],[0.7777777777777778,\"#fb9f3a\"],[0.8888888888888888,\"#fdca26\"],[1.0,\"#f0f921\"]]}],\"mesh3d\":[{\"type\":\"mesh3d\",\"colorbar\":{\"outlinewidth\":0,\"ticks\":\"\"}}],\"scatter\":[{\"fillpattern\":{\"fillmode\":\"overlay\",\"size\":10,\"solidity\":0.2},\"type\":\"scatter\"}],\"parcoords\":[{\"type\":\"parcoords\",\"line\":{\"colorbar\":{\"outlinewidth\":0,\"ticks\":\"\"}}}],\"scatterpolargl\":[{\"type\":\"scatterpolargl\",\"marker\":{\"colorbar\":{\"outlinewidth\":0,\"ticks\":\"\"}}}],\"bar\":[{\"error_x\":{\"color\":\"#2a3f5f\"},\"error_y\":{\"color\":\"#2a3f5f\"},\"marker\":{\"line\":{\"color\":\"#E5ECF6\",\"width\":0.5},\"pattern\":{\"fillmode\":\"overlay\",\"size\":10,\"solidity\":0.2}},\"type\":\"bar\"}],\"scattergeo\":[{\"type\":\"scattergeo\",\"marker\":{\"colorbar\":{\"outlinewidth\":0,\"ticks\":\"\"}}}],\"scatterpolar\":[{\"type\":\"scatterpolar\",\"marker\":{\"colorbar\":{\"outlinewidth\":0,\"ticks\":\"\"}}}],\"histogram\":[{\"marker\":{\"pattern\":{\"fillmode\":\"overlay\",\"size\":10,\"solidity\":0.2}},\"type\":\"histogram\"}],\"scattergl\":[{\"type\":\"scattergl\",\"marker\":{\"colorbar\":{\"outlinewidth\":0,\"ticks\":\"\"}}}],\"scatter3d\":[{\"type\":\"scatter3d\",\"line\":{\"colorbar\":{\"outlinewidth\":0,\"ticks\":\"\"}},\"marker\":{\"colorbar\":{\"outlinewidth\":0,\"ticks\":\"\"}}}],\"scattermapbox\":[{\"type\":\"scattermapbox\",\"marker\":{\"colorbar\":{\"outlinewidth\":0,\"ticks\":\"\"}}}],\"scatterternary\":[{\"type\":\"scatterternary\",\"marker\":{\"colorbar\":{\"outlinewidth\":0,\"ticks\":\"\"}}}],\"scattercarpet\":[{\"type\":\"scattercarpet\",\"marker\":{\"colorbar\":{\"outlinewidth\":0,\"ticks\":\"\"}}}],\"carpet\":[{\"aaxis\":{\"endlinecolor\":\"#2a3f5f\",\"gridcolor\":\"white\",\"linecolor\":\"white\",\"minorgridcolor\":\"white\",\"startlinecolor\":\"#2a3f5f\"},\"baxis\":{\"endlinecolor\":\"#2a3f5f\",\"gridcolor\":\"white\",\"linecolor\":\"white\",\"minorgridcolor\":\"white\",\"startlinecolor\":\"#2a3f5f\"},\"type\":\"carpet\"}],\"table\":[{\"cells\":{\"fill\":{\"color\":\"#EBF0F8\"},\"line\":{\"color\":\"white\"}},\"header\":{\"fill\":{\"color\":\"#C8D4E3\"},\"line\":{\"color\":\"white\"}},\"type\":\"table\"}],\"barpolar\":[{\"marker\":{\"line\":{\"color\":\"#E5ECF6\",\"width\":0.5},\"pattern\":{\"fillmode\":\"overlay\",\"size\":10,\"solidity\":0.2}},\"type\":\"barpolar\"}],\"pie\":[{\"automargin\":true,\"type\":\"pie\"}]},\"layout\":{\"autotypenumbers\":\"strict\",\"colorway\":[\"#636efa\",\"#EF553B\",\"#00cc96\",\"#ab63fa\",\"#FFA15A\",\"#19d3f3\",\"#FF6692\",\"#B6E880\",\"#FF97FF\",\"#FECB52\"],\"font\":{\"color\":\"#2a3f5f\"},\"hovermode\":\"closest\",\"hoverlabel\":{\"align\":\"left\"},\"paper_bgcolor\":\"white\",\"plot_bgcolor\":\"#E5ECF6\",\"polar\":{\"bgcolor\":\"#E5ECF6\",\"angularaxis\":{\"gridcolor\":\"white\",\"linecolor\":\"white\",\"ticks\":\"\"},\"radialaxis\":{\"gridcolor\":\"white\",\"linecolor\":\"white\",\"ticks\":\"\"}},\"ternary\":{\"bgcolor\":\"#E5ECF6\",\"aaxis\":{\"gridcolor\":\"white\",\"linecolor\":\"white\",\"ticks\":\"\"},\"baxis\":{\"gridcolor\":\"white\",\"linecolor\":\"white\",\"ticks\":\"\"},\"caxis\":{\"gridcolor\":\"white\",\"linecolor\":\"white\",\"ticks\":\"\"}},\"coloraxis\":{\"colorbar\":{\"outlinewidth\":0,\"ticks\":\"\"}},\"colorscale\":{\"sequential\":[[0.0,\"#0d0887\"],[0.1111111111111111,\"#46039f\"],[0.2222222222222222,\"#7201a8\"],[0.3333333333333333,\"#9c179e\"],[0.4444444444444444,\"#bd3786\"],[0.5555555555555556,\"#d8576b\"],[0.6666666666666666,\"#ed7953\"],[0.7777777777777778,\"#fb9f3a\"],[0.8888888888888888,\"#fdca26\"],[1.0,\"#f0f921\"]],\"sequentialminus\":[[0.0,\"#0d0887\"],[0.1111111111111111,\"#46039f\"],[0.2222222222222222,\"#7201a8\"],[0.3333333333333333,\"#9c179e\"],[0.4444444444444444,\"#bd3786\"],[0.5555555555555556,\"#d8576b\"],[0.6666666666666666,\"#ed7953\"],[0.7777777777777778,\"#fb9f3a\"],[0.8888888888888888,\"#fdca26\"],[1.0,\"#f0f921\"]],\"diverging\":[[0,\"#8e0152\"],[0.1,\"#c51b7d\"],[0.2,\"#de77ae\"],[0.3,\"#f1b6da\"],[0.4,\"#fde0ef\"],[0.5,\"#f7f7f7\"],[0.6,\"#e6f5d0\"],[0.7,\"#b8e186\"],[0.8,\"#7fbc41\"],[0.9,\"#4d9221\"],[1,\"#276419\"]]},\"xaxis\":{\"gridcolor\":\"white\",\"linecolor\":\"white\",\"ticks\":\"\",\"title\":{\"standoff\":15},\"zerolinecolor\":\"white\",\"automargin\":true,\"zerolinewidth\":2},\"yaxis\":{\"gridcolor\":\"white\",\"linecolor\":\"white\",\"ticks\":\"\",\"title\":{\"standoff\":15},\"zerolinecolor\":\"white\",\"automargin\":true,\"zerolinewidth\":2},\"scene\":{\"xaxis\":{\"backgroundcolor\":\"#E5ECF6\",\"gridcolor\":\"white\",\"linecolor\":\"white\",\"showbackground\":true,\"ticks\":\"\",\"zerolinecolor\":\"white\",\"gridwidth\":2},\"yaxis\":{\"backgroundcolor\":\"#E5ECF6\",\"gridcolor\":\"white\",\"linecolor\":\"white\",\"showbackground\":true,\"ticks\":\"\",\"zerolinecolor\":\"white\",\"gridwidth\":2},\"zaxis\":{\"backgroundcolor\":\"#E5ECF6\",\"gridcolor\":\"white\",\"linecolor\":\"white\",\"showbackground\":true,\"ticks\":\"\",\"zerolinecolor\":\"white\",\"gridwidth\":2}},\"shapedefaults\":{\"line\":{\"color\":\"#2a3f5f\"}},\"annotationdefaults\":{\"arrowcolor\":\"#2a3f5f\",\"arrowhead\":0,\"arrowwidth\":1},\"geo\":{\"bgcolor\":\"white\",\"landcolor\":\"#E5ECF6\",\"subunitcolor\":\"white\",\"showland\":true,\"showlakes\":true,\"lakecolor\":\"white\"},\"title\":{\"x\":0.05},\"mapbox\":{\"style\":\"light\"}}},\"xaxis\":{\"anchor\":\"y\",\"domain\":[0.0,1.0],\"title\":{\"text\":\"M\\u00e0u t\\u00f3c\"},\"categoryorder\":\"array\",\"categoryarray\":[\"blond\",\"n\\u002fa\",\"none\",\"brown\",\"brown, grey\",\"black\",\"auburn, white\",\"white\",\"grey\"],\"tickangle\":-90},\"yaxis\":{\"anchor\":\"x\",\"domain\":[0.0,1.0],\"title\":{\"text\":\"S\\u1ed1 l\\u01b0\\u1ee3ng\"}},\"legend\":{\"title\":{\"text\":\"M\\u00e0u t\\u00f3c\"},\"tracegroupgap\":0},\"title\":{\"text\":\"Ph\\u00e2n b\\u1ed1 m\\u00e0u t\\u00f3c c\\u1ee7a c\\u00e1c nh\\u00e2n v\\u1eadt\"},\"barmode\":\"relative\",\"font\":{\"family\":\"Arial, sans-serif\",\"size\":14,\"color\":\"black\"},\"plot_bgcolor\":\"rgba(255,255,255,0.9)\",\"paper_bgcolor\":\"rgba(255,255,255,0.9)\"},                        {\"responsive\": true}                    ).then(function(){\n",
              "                            \n",
              "var gd = document.getElementById('f47aaecb-dc9b-45fe-83f9-37f3ced5eca2');\n",
              "var x = new MutationObserver(function (mutations, observer) {{\n",
              "        var display = window.getComputedStyle(gd).display;\n",
              "        if (!display || display === 'none') {{\n",
              "            console.log([gd, 'removed!']);\n",
              "            Plotly.purge(gd);\n",
              "            observer.disconnect();\n",
              "        }}\n",
              "}});\n",
              "\n",
              "// Listen for the removal of the full notebook cells\n",
              "var notebookContainer = gd.closest('#notebook-container');\n",
              "if (notebookContainer) {{\n",
              "    x.observe(notebookContainer, {childList: true});\n",
              "}}\n",
              "\n",
              "// Listen for the clearing of the current output cell\n",
              "var outputEl = gd.closest('.output');\n",
              "if (outputEl) {{\n",
              "    x.observe(outputEl, {childList: true});\n",
              "}}\n",
              "\n",
              "                        })                };                            </script>        </div>\n",
              "</body>\n",
              "</html>"
            ]
          },
          "metadata": {}
        }
      ]
    },
    {
      "cell_type": "markdown",
      "source": [
        "**Nhận xét chung:**\n",
        "\n",
        "**Phân bố màu tóc của các nhân vật:**\n",
        "\n",
        "- Biểu đồ cột trực quan hóa số lượng các nhân vật theo từng màu tóc khác nhau trong vũ trụ Star Wars.\n",
        "\n",
        "**Màu tóc nổi bật:**\n",
        "\n",
        "- Các màu tóc phổ biến sẽ có cột cao hơn và nổi bật hơn trong biểu đồ. Điều này cho thấy sự đa dạng và phổ biến của các màu tóc này trong danh sách các nhân vật.\n",
        "- Ví dụ, nếu màu tóc như \"nâu\" hoặc \"đen\" chiếm tỷ lệ lớn, thì các cột tương ứng sẽ cao hơn và có màu sắc rõ ràng hơn.\n",
        "\n",
        "**Màu tóc ít phổ biến:**\n",
        "\n",
        "- Các màu tóc ít phổ biến sẽ có cột thấp hơn và có thể màu sắc không rõ ràng trong biểu đồ. Điều này cho thấy sự hiếm có và ít được sử dụng của các màu tóc này trong danh sách các nhân vật.\n",
        "- Ví dụ, các màu tóc như \"bạc\" hoặc \"đỏ\" có thể có cột thấp hơn do số lượng nhân vật thấp.\n",
        "\n",
        "**Nhận xét cụ thể:**\n",
        "\n",
        "- **Sự đa dạng màu sắc:** Biểu đồ thể hiện sự đa dạng màu tóc của các nhân vật trong vũ trụ Star Wars, từ những màu tóc phổ biến đến những màu tóc ít thường thấy.\n",
        "- **Màu sắc nổi bật:** Các màu tóc chiếm tỷ lệ lớn sẽ có cột cao và rõ ràng hơn, dễ thu hút sự chú ý của người xem.\n",
        "- **Màu sắc ít nổi bật:** Những màu tóc ít phổ biến có thể không được biểu thị rõ ràng trong biểu đồ, nhưng vẫn quan trọng để hiểu sự đa dạng trong thiết kế các nhân vật.\n",
        "\n",
        "**Tổng kết:**\n",
        "\n",
        "- Biểu đồ cung cấp cái nhìn tổng quan về sự đa dạng màu tóc của các nhân vật trong vũ trụ Star Wars, từ các màu tóc phổ biến đến các màu tóc ít thường thấy.\n",
        "- Những thông tin này có thể được sử dụng để nghiên cứu về phong cách thiết kế nhân vật, sự đa dạng về màu sắc, và những yếu tố văn hóa hoặc ngữ nghĩa liên quan đến màu tóc trong vũ trụ Star Wars."
      ],
      "metadata": {
        "id": "L7VwB977zS3v"
      }
    },
    {
      "cell_type": "markdown",
      "source": [
        "2.7. Eye_color"
      ],
      "metadata": {
        "id": "Jp1Rnskn2K53"
      }
    },
    {
      "cell_type": "code",
      "source": [
        "# 7. Biểu đồ cột: Phân bố màu mắt\n",
        "fig_bar_eye_color = px.bar(df, x='eye_color',\n",
        "                           labels={'eye_color': 'Màu mắt'},\n",
        "                           title='Phân bố màu mắt của các nhân vật',\n",
        "                           color='eye_color',\n",
        "                           color_discrete_sequence=px.colors.qualitative.Set2)  # Sử dụng bảng màu Set2\n",
        "\n",
        "fig_bar_eye_color.update_layout(\n",
        "    xaxis_title='Màu mắt',\n",
        "    yaxis_title='Số lượng',\n",
        "    font=dict(\n",
        "        family=\"Arial, sans-serif\",\n",
        "        size=14,\n",
        "        color=\"black\"\n",
        "    ),\n",
        "    plot_bgcolor='rgba(255,255,255,0.9)',\n",
        "    paper_bgcolor='rgba(255,255,255,0.9)',\n",
        "    xaxis_tickangle=-90,\n",
        ")\n",
        "\n",
        "fig_bar_eye_color.show()"
      ],
      "metadata": {
        "colab": {
          "base_uri": "https://localhost:8080/",
          "height": 542
        },
        "id": "zNT3BNmHDSmM",
        "outputId": "d6cf9087-480b-4929-a8a8-03386201e62d"
      },
      "execution_count": 16,
      "outputs": [
        {
          "output_type": "display_data",
          "data": {
            "text/html": [
              "<html>\n",
              "<head><meta charset=\"utf-8\" /></head>\n",
              "<body>\n",
              "    <div>            <script src=\"https://cdnjs.cloudflare.com/ajax/libs/mathjax/2.7.5/MathJax.js?config=TeX-AMS-MML_SVG\"></script><script type=\"text/javascript\">if (window.MathJax && window.MathJax.Hub && window.MathJax.Hub.Config) {window.MathJax.Hub.Config({SVG: {font: \"STIX-Web\"}});}</script>                <script type=\"text/javascript\">window.PlotlyConfig = {MathJaxConfig: 'local'};</script>\n",
              "        <script charset=\"utf-8\" src=\"https://cdn.plot.ly/plotly-2.24.1.min.js\"></script>                <div id=\"fc9ee27d-e290-4ba8-be5d-8e1d620859a4\" class=\"plotly-graph-div\" style=\"height:525px; width:100%;\"></div>            <script type=\"text/javascript\">                                    window.PLOTLYENV=window.PLOTLYENV || {};                                    if (document.getElementById(\"fc9ee27d-e290-4ba8-be5d-8e1d620859a4\")) {                    Plotly.newPlot(                        \"fc9ee27d-e290-4ba8-be5d-8e1d620859a4\",                        [{\"alignmentgroup\":\"True\",\"hovertemplate\":\"M\\u00e0u m\\u1eaft=%{x}\\u003cbr\\u003ecount=%{y}\\u003cextra\\u003e\\u003c\\u002fextra\\u003e\",\"legendgroup\":\"blue\",\"marker\":{\"color\":\"rgb(102,194,165)\",\"pattern\":{\"shape\":\"\"}},\"name\":\"blue\",\"offsetgroup\":\"blue\",\"orientation\":\"v\",\"showlegend\":true,\"textposition\":\"auto\",\"x\":[\"blue\",\"blue\",\"blue\",\"blue\",\"blue\",\"blue\",\"blue\",\"blue\",\"blue\"],\"xaxis\":\"x\",\"y\":[1,1,1,1,1,1,1,1,1],\"yaxis\":\"y\",\"type\":\"bar\"},{\"alignmentgroup\":\"True\",\"hovertemplate\":\"M\\u00e0u m\\u1eaft=%{x}\\u003cbr\\u003ecount=%{y}\\u003cextra\\u003e\\u003c\\u002fextra\\u003e\",\"legendgroup\":\"yellow\",\"marker\":{\"color\":\"rgb(252,141,98)\",\"pattern\":{\"shape\":\"\"}},\"name\":\"yellow\",\"offsetgroup\":\"yellow\",\"orientation\":\"v\",\"showlegend\":true,\"textposition\":\"auto\",\"x\":[\"yellow\",\"yellow\",\"yellow\",\"yellow\",\"yellow\"],\"xaxis\":\"x\",\"y\":[1,1,1,1,1],\"yaxis\":\"y\",\"type\":\"bar\"},{\"alignmentgroup\":\"True\",\"hovertemplate\":\"M\\u00e0u m\\u1eaft=%{x}\\u003cbr\\u003ecount=%{y}\\u003cextra\\u003e\\u003c\\u002fextra\\u003e\",\"legendgroup\":\"red\",\"marker\":{\"color\":\"rgb(141,160,203)\",\"pattern\":{\"shape\":\"\"}},\"name\":\"red\",\"offsetgroup\":\"red\",\"orientation\":\"v\",\"showlegend\":true,\"textposition\":\"auto\",\"x\":[\"red\",\"red\",\"red\"],\"xaxis\":\"x\",\"y\":[1,1,1],\"yaxis\":\"y\",\"type\":\"bar\"},{\"alignmentgroup\":\"True\",\"hovertemplate\":\"M\\u00e0u m\\u1eaft=%{x}\\u003cbr\\u003ecount=%{y}\\u003cextra\\u003e\\u003c\\u002fextra\\u003e\",\"legendgroup\":\"brown\",\"marker\":{\"color\":\"rgb(231,138,195)\",\"pattern\":{\"shape\":\"\"}},\"name\":\"brown\",\"offsetgroup\":\"brown\",\"orientation\":\"v\",\"showlegend\":true,\"textposition\":\"auto\",\"x\":[\"brown\",\"brown\",\"brown\",\"brown\",\"brown\",\"brown\",\"brown\",\"brown\",\"brown\",\"brown\",\"brown\"],\"xaxis\":\"x\",\"y\":[1,1,1,1,1,1,1,1,1,1,1],\"yaxis\":\"y\",\"type\":\"bar\"},{\"alignmentgroup\":\"True\",\"hovertemplate\":\"M\\u00e0u m\\u1eaft=%{x}\\u003cbr\\u003ecount=%{y}\\u003cextra\\u003e\\u003c\\u002fextra\\u003e\",\"legendgroup\":\"blue-gray\",\"marker\":{\"color\":\"rgb(166,216,84)\",\"pattern\":{\"shape\":\"\"}},\"name\":\"blue-gray\",\"offsetgroup\":\"blue-gray\",\"orientation\":\"v\",\"showlegend\":true,\"textposition\":\"auto\",\"x\":[\"blue-gray\"],\"xaxis\":\"x\",\"y\":[1],\"yaxis\":\"y\",\"type\":\"bar\"},{\"alignmentgroup\":\"True\",\"hovertemplate\":\"M\\u00e0u m\\u1eaft=%{x}\\u003cbr\\u003ecount=%{y}\\u003cextra\\u003e\\u003c\\u002fextra\\u003e\",\"legendgroup\":\"black\",\"marker\":{\"color\":\"rgb(255,217,47)\",\"pattern\":{\"shape\":\"\"}},\"name\":\"black\",\"offsetgroup\":\"black\",\"orientation\":\"v\",\"showlegend\":true,\"textposition\":\"auto\",\"x\":[\"black\",\"black\"],\"xaxis\":\"x\",\"y\":[1,1],\"yaxis\":\"y\",\"type\":\"bar\"},{\"alignmentgroup\":\"True\",\"hovertemplate\":\"M\\u00e0u m\\u1eaft=%{x}\\u003cbr\\u003ecount=%{y}\\u003cextra\\u003e\\u003c\\u002fextra\\u003e\",\"legendgroup\":\"hazel\",\"marker\":{\"color\":\"rgb(229,196,148)\",\"pattern\":{\"shape\":\"\"}},\"name\":\"hazel\",\"offsetgroup\":\"hazel\",\"orientation\":\"v\",\"showlegend\":true,\"textposition\":\"auto\",\"x\":[\"hazel\",\"hazel\"],\"xaxis\":\"x\",\"y\":[1,1],\"yaxis\":\"y\",\"type\":\"bar\"},{\"alignmentgroup\":\"True\",\"hovertemplate\":\"M\\u00e0u m\\u1eaft=%{x}\\u003cbr\\u003ecount=%{y}\\u003cextra\\u003e\\u003c\\u002fextra\\u003e\",\"legendgroup\":\"orange\",\"marker\":{\"color\":\"rgb(179,179,179)\",\"pattern\":{\"shape\":\"\"}},\"name\":\"orange\",\"offsetgroup\":\"orange\",\"orientation\":\"v\",\"showlegend\":true,\"textposition\":\"auto\",\"x\":[\"orange\",\"orange\"],\"xaxis\":\"x\",\"y\":[1,1],\"yaxis\":\"y\",\"type\":\"bar\"}],                        {\"template\":{\"data\":{\"histogram2dcontour\":[{\"type\":\"histogram2dcontour\",\"colorbar\":{\"outlinewidth\":0,\"ticks\":\"\"},\"colorscale\":[[0.0,\"#0d0887\"],[0.1111111111111111,\"#46039f\"],[0.2222222222222222,\"#7201a8\"],[0.3333333333333333,\"#9c179e\"],[0.4444444444444444,\"#bd3786\"],[0.5555555555555556,\"#d8576b\"],[0.6666666666666666,\"#ed7953\"],[0.7777777777777778,\"#fb9f3a\"],[0.8888888888888888,\"#fdca26\"],[1.0,\"#f0f921\"]]}],\"choropleth\":[{\"type\":\"choropleth\",\"colorbar\":{\"outlinewidth\":0,\"ticks\":\"\"}}],\"histogram2d\":[{\"type\":\"histogram2d\",\"colorbar\":{\"outlinewidth\":0,\"ticks\":\"\"},\"colorscale\":[[0.0,\"#0d0887\"],[0.1111111111111111,\"#46039f\"],[0.2222222222222222,\"#7201a8\"],[0.3333333333333333,\"#9c179e\"],[0.4444444444444444,\"#bd3786\"],[0.5555555555555556,\"#d8576b\"],[0.6666666666666666,\"#ed7953\"],[0.7777777777777778,\"#fb9f3a\"],[0.8888888888888888,\"#fdca26\"],[1.0,\"#f0f921\"]]}],\"heatmap\":[{\"type\":\"heatmap\",\"colorbar\":{\"outlinewidth\":0,\"ticks\":\"\"},\"colorscale\":[[0.0,\"#0d0887\"],[0.1111111111111111,\"#46039f\"],[0.2222222222222222,\"#7201a8\"],[0.3333333333333333,\"#9c179e\"],[0.4444444444444444,\"#bd3786\"],[0.5555555555555556,\"#d8576b\"],[0.6666666666666666,\"#ed7953\"],[0.7777777777777778,\"#fb9f3a\"],[0.8888888888888888,\"#fdca26\"],[1.0,\"#f0f921\"]]}],\"heatmapgl\":[{\"type\":\"heatmapgl\",\"colorbar\":{\"outlinewidth\":0,\"ticks\":\"\"},\"colorscale\":[[0.0,\"#0d0887\"],[0.1111111111111111,\"#46039f\"],[0.2222222222222222,\"#7201a8\"],[0.3333333333333333,\"#9c179e\"],[0.4444444444444444,\"#bd3786\"],[0.5555555555555556,\"#d8576b\"],[0.6666666666666666,\"#ed7953\"],[0.7777777777777778,\"#fb9f3a\"],[0.8888888888888888,\"#fdca26\"],[1.0,\"#f0f921\"]]}],\"contourcarpet\":[{\"type\":\"contourcarpet\",\"colorbar\":{\"outlinewidth\":0,\"ticks\":\"\"}}],\"contour\":[{\"type\":\"contour\",\"colorbar\":{\"outlinewidth\":0,\"ticks\":\"\"},\"colorscale\":[[0.0,\"#0d0887\"],[0.1111111111111111,\"#46039f\"],[0.2222222222222222,\"#7201a8\"],[0.3333333333333333,\"#9c179e\"],[0.4444444444444444,\"#bd3786\"],[0.5555555555555556,\"#d8576b\"],[0.6666666666666666,\"#ed7953\"],[0.7777777777777778,\"#fb9f3a\"],[0.8888888888888888,\"#fdca26\"],[1.0,\"#f0f921\"]]}],\"surface\":[{\"type\":\"surface\",\"colorbar\":{\"outlinewidth\":0,\"ticks\":\"\"},\"colorscale\":[[0.0,\"#0d0887\"],[0.1111111111111111,\"#46039f\"],[0.2222222222222222,\"#7201a8\"],[0.3333333333333333,\"#9c179e\"],[0.4444444444444444,\"#bd3786\"],[0.5555555555555556,\"#d8576b\"],[0.6666666666666666,\"#ed7953\"],[0.7777777777777778,\"#fb9f3a\"],[0.8888888888888888,\"#fdca26\"],[1.0,\"#f0f921\"]]}],\"mesh3d\":[{\"type\":\"mesh3d\",\"colorbar\":{\"outlinewidth\":0,\"ticks\":\"\"}}],\"scatter\":[{\"fillpattern\":{\"fillmode\":\"overlay\",\"size\":10,\"solidity\":0.2},\"type\":\"scatter\"}],\"parcoords\":[{\"type\":\"parcoords\",\"line\":{\"colorbar\":{\"outlinewidth\":0,\"ticks\":\"\"}}}],\"scatterpolargl\":[{\"type\":\"scatterpolargl\",\"marker\":{\"colorbar\":{\"outlinewidth\":0,\"ticks\":\"\"}}}],\"bar\":[{\"error_x\":{\"color\":\"#2a3f5f\"},\"error_y\":{\"color\":\"#2a3f5f\"},\"marker\":{\"line\":{\"color\":\"#E5ECF6\",\"width\":0.5},\"pattern\":{\"fillmode\":\"overlay\",\"size\":10,\"solidity\":0.2}},\"type\":\"bar\"}],\"scattergeo\":[{\"type\":\"scattergeo\",\"marker\":{\"colorbar\":{\"outlinewidth\":0,\"ticks\":\"\"}}}],\"scatterpolar\":[{\"type\":\"scatterpolar\",\"marker\":{\"colorbar\":{\"outlinewidth\":0,\"ticks\":\"\"}}}],\"histogram\":[{\"marker\":{\"pattern\":{\"fillmode\":\"overlay\",\"size\":10,\"solidity\":0.2}},\"type\":\"histogram\"}],\"scattergl\":[{\"type\":\"scattergl\",\"marker\":{\"colorbar\":{\"outlinewidth\":0,\"ticks\":\"\"}}}],\"scatter3d\":[{\"type\":\"scatter3d\",\"line\":{\"colorbar\":{\"outlinewidth\":0,\"ticks\":\"\"}},\"marker\":{\"colorbar\":{\"outlinewidth\":0,\"ticks\":\"\"}}}],\"scattermapbox\":[{\"type\":\"scattermapbox\",\"marker\":{\"colorbar\":{\"outlinewidth\":0,\"ticks\":\"\"}}}],\"scatterternary\":[{\"type\":\"scatterternary\",\"marker\":{\"colorbar\":{\"outlinewidth\":0,\"ticks\":\"\"}}}],\"scattercarpet\":[{\"type\":\"scattercarpet\",\"marker\":{\"colorbar\":{\"outlinewidth\":0,\"ticks\":\"\"}}}],\"carpet\":[{\"aaxis\":{\"endlinecolor\":\"#2a3f5f\",\"gridcolor\":\"white\",\"linecolor\":\"white\",\"minorgridcolor\":\"white\",\"startlinecolor\":\"#2a3f5f\"},\"baxis\":{\"endlinecolor\":\"#2a3f5f\",\"gridcolor\":\"white\",\"linecolor\":\"white\",\"minorgridcolor\":\"white\",\"startlinecolor\":\"#2a3f5f\"},\"type\":\"carpet\"}],\"table\":[{\"cells\":{\"fill\":{\"color\":\"#EBF0F8\"},\"line\":{\"color\":\"white\"}},\"header\":{\"fill\":{\"color\":\"#C8D4E3\"},\"line\":{\"color\":\"white\"}},\"type\":\"table\"}],\"barpolar\":[{\"marker\":{\"line\":{\"color\":\"#E5ECF6\",\"width\":0.5},\"pattern\":{\"fillmode\":\"overlay\",\"size\":10,\"solidity\":0.2}},\"type\":\"barpolar\"}],\"pie\":[{\"automargin\":true,\"type\":\"pie\"}]},\"layout\":{\"autotypenumbers\":\"strict\",\"colorway\":[\"#636efa\",\"#EF553B\",\"#00cc96\",\"#ab63fa\",\"#FFA15A\",\"#19d3f3\",\"#FF6692\",\"#B6E880\",\"#FF97FF\",\"#FECB52\"],\"font\":{\"color\":\"#2a3f5f\"},\"hovermode\":\"closest\",\"hoverlabel\":{\"align\":\"left\"},\"paper_bgcolor\":\"white\",\"plot_bgcolor\":\"#E5ECF6\",\"polar\":{\"bgcolor\":\"#E5ECF6\",\"angularaxis\":{\"gridcolor\":\"white\",\"linecolor\":\"white\",\"ticks\":\"\"},\"radialaxis\":{\"gridcolor\":\"white\",\"linecolor\":\"white\",\"ticks\":\"\"}},\"ternary\":{\"bgcolor\":\"#E5ECF6\",\"aaxis\":{\"gridcolor\":\"white\",\"linecolor\":\"white\",\"ticks\":\"\"},\"baxis\":{\"gridcolor\":\"white\",\"linecolor\":\"white\",\"ticks\":\"\"},\"caxis\":{\"gridcolor\":\"white\",\"linecolor\":\"white\",\"ticks\":\"\"}},\"coloraxis\":{\"colorbar\":{\"outlinewidth\":0,\"ticks\":\"\"}},\"colorscale\":{\"sequential\":[[0.0,\"#0d0887\"],[0.1111111111111111,\"#46039f\"],[0.2222222222222222,\"#7201a8\"],[0.3333333333333333,\"#9c179e\"],[0.4444444444444444,\"#bd3786\"],[0.5555555555555556,\"#d8576b\"],[0.6666666666666666,\"#ed7953\"],[0.7777777777777778,\"#fb9f3a\"],[0.8888888888888888,\"#fdca26\"],[1.0,\"#f0f921\"]],\"sequentialminus\":[[0.0,\"#0d0887\"],[0.1111111111111111,\"#46039f\"],[0.2222222222222222,\"#7201a8\"],[0.3333333333333333,\"#9c179e\"],[0.4444444444444444,\"#bd3786\"],[0.5555555555555556,\"#d8576b\"],[0.6666666666666666,\"#ed7953\"],[0.7777777777777778,\"#fb9f3a\"],[0.8888888888888888,\"#fdca26\"],[1.0,\"#f0f921\"]],\"diverging\":[[0,\"#8e0152\"],[0.1,\"#c51b7d\"],[0.2,\"#de77ae\"],[0.3,\"#f1b6da\"],[0.4,\"#fde0ef\"],[0.5,\"#f7f7f7\"],[0.6,\"#e6f5d0\"],[0.7,\"#b8e186\"],[0.8,\"#7fbc41\"],[0.9,\"#4d9221\"],[1,\"#276419\"]]},\"xaxis\":{\"gridcolor\":\"white\",\"linecolor\":\"white\",\"ticks\":\"\",\"title\":{\"standoff\":15},\"zerolinecolor\":\"white\",\"automargin\":true,\"zerolinewidth\":2},\"yaxis\":{\"gridcolor\":\"white\",\"linecolor\":\"white\",\"ticks\":\"\",\"title\":{\"standoff\":15},\"zerolinecolor\":\"white\",\"automargin\":true,\"zerolinewidth\":2},\"scene\":{\"xaxis\":{\"backgroundcolor\":\"#E5ECF6\",\"gridcolor\":\"white\",\"linecolor\":\"white\",\"showbackground\":true,\"ticks\":\"\",\"zerolinecolor\":\"white\",\"gridwidth\":2},\"yaxis\":{\"backgroundcolor\":\"#E5ECF6\",\"gridcolor\":\"white\",\"linecolor\":\"white\",\"showbackground\":true,\"ticks\":\"\",\"zerolinecolor\":\"white\",\"gridwidth\":2},\"zaxis\":{\"backgroundcolor\":\"#E5ECF6\",\"gridcolor\":\"white\",\"linecolor\":\"white\",\"showbackground\":true,\"ticks\":\"\",\"zerolinecolor\":\"white\",\"gridwidth\":2}},\"shapedefaults\":{\"line\":{\"color\":\"#2a3f5f\"}},\"annotationdefaults\":{\"arrowcolor\":\"#2a3f5f\",\"arrowhead\":0,\"arrowwidth\":1},\"geo\":{\"bgcolor\":\"white\",\"landcolor\":\"#E5ECF6\",\"subunitcolor\":\"white\",\"showland\":true,\"showlakes\":true,\"lakecolor\":\"white\"},\"title\":{\"x\":0.05},\"mapbox\":{\"style\":\"light\"}}},\"xaxis\":{\"anchor\":\"y\",\"domain\":[0.0,1.0],\"title\":{\"text\":\"M\\u00e0u m\\u1eaft\"},\"categoryorder\":\"array\",\"categoryarray\":[\"blue\",\"yellow\",\"red\",\"brown\",\"blue-gray\",\"black\",\"hazel\",\"orange\"],\"tickangle\":-90},\"yaxis\":{\"anchor\":\"x\",\"domain\":[0.0,1.0],\"title\":{\"text\":\"S\\u1ed1 l\\u01b0\\u1ee3ng\"}},\"legend\":{\"title\":{\"text\":\"M\\u00e0u m\\u1eaft\"},\"tracegroupgap\":0},\"title\":{\"text\":\"Ph\\u00e2n b\\u1ed1 m\\u00e0u m\\u1eaft c\\u1ee7a c\\u00e1c nh\\u00e2n v\\u1eadt\"},\"barmode\":\"relative\",\"font\":{\"family\":\"Arial, sans-serif\",\"size\":14,\"color\":\"black\"},\"plot_bgcolor\":\"rgba(255,255,255,0.9)\",\"paper_bgcolor\":\"rgba(255,255,255,0.9)\"},                        {\"responsive\": true}                    ).then(function(){\n",
              "                            \n",
              "var gd = document.getElementById('fc9ee27d-e290-4ba8-be5d-8e1d620859a4');\n",
              "var x = new MutationObserver(function (mutations, observer) {{\n",
              "        var display = window.getComputedStyle(gd).display;\n",
              "        if (!display || display === 'none') {{\n",
              "            console.log([gd, 'removed!']);\n",
              "            Plotly.purge(gd);\n",
              "            observer.disconnect();\n",
              "        }}\n",
              "}});\n",
              "\n",
              "// Listen for the removal of the full notebook cells\n",
              "var notebookContainer = gd.closest('#notebook-container');\n",
              "if (notebookContainer) {{\n",
              "    x.observe(notebookContainer, {childList: true});\n",
              "}}\n",
              "\n",
              "// Listen for the clearing of the current output cell\n",
              "var outputEl = gd.closest('.output');\n",
              "if (outputEl) {{\n",
              "    x.observe(outputEl, {childList: true});\n",
              "}}\n",
              "\n",
              "                        })                };                            </script>        </div>\n",
              "</body>\n",
              "</html>"
            ]
          },
          "metadata": {}
        }
      ]
    },
    {
      "cell_type": "markdown",
      "source": [
        "**Nhận xét chung:**\n",
        "\n",
        "**Phân bố màu mắt của các nhân vật:**\n",
        "\n",
        "- Biểu đồ cột trực quan hóa số lượng các nhân vật theo từng màu mắt khác nhau trong vũ trụ Star Wars.\n",
        "\n",
        "**Màu mắt nổi bật:**\n",
        "\n",
        "- Các màu mắt phổ biến sẽ có cột cao hơn và nổi bật hơn trong biểu đồ. Điều này cho thấy sự đa dạng và phổ biến của các màu mắt này trong danh sách các nhân vật.\n",
        "- Ví dụ, nếu màu mắt như \"nâu\" hoặc \"xanh\" chiếm tỷ lệ lớn, thì các cột tương ứng sẽ cao hơn và có màu sắc rõ ràng hơn.\n",
        "\n",
        "**Màu mắt ít phổ biến:**\n",
        "\n",
        "- Các màu mắt ít phổ biến sẽ có cột thấp hơn và có thể màu sắc không rõ ràng trong biểu đồ. Điều này cho thấy sự hiếm có và ít được sử dụng của các màu mắt này trong danh sách các nhân vật.\n",
        "- Ví dụ, các màu mắt như \"đỏ\" hoặc \"vàng\" có thể có cột thấp hơn do số lượng nhân vật thấp.\n",
        "\n",
        "**Nhận xét cụ thể:**\n",
        "\n",
        "- **Sự đa dạng màu sắc:** Biểu đồ thể hiện sự đa dạng màu mắt của các nhân vật trong vũ trụ Star Wars, từ những màu mắt phổ biến đến những màu mắt ít thường thấy.\n",
        "- **Màu sắc nổi bật:** Các màu mắt chiếm tỷ lệ lớn sẽ có cột cao và rõ ràng hơn, dễ thu hút sự chú ý của người xem.\n",
        "- **Màu sắc ít nổi bật:** Những màu mắt ít phổ biến có thể không được biểu thị rõ ràng trong biểu đồ, nhưng vẫn quan trọng để hiểu sự đa dạng trong thiết kế các nhân vật.\n",
        "\n",
        "**Tổng kết:**\n",
        "\n",
        "- Biểu đồ cung cấp cái nhìn tổng quan về sự đa dạng màu mắt của các nhân vật trong vũ trụ Star Wars, từ các màu mắt phổ biến đến các màu mắt ít thường thấy.\n",
        "- Những thông tin này có thể được sử dụng để nghiên cứu về phong cách thiết kế nhân vật, sự đa dạng về màu sắc, và những yếu tố văn hóa hoặc ngữ nghĩa liên quan đến màu mắt trong vũ trụ Star Wars."
      ],
      "metadata": {
        "id": "mKY2hlqKziHy"
      }
    },
    {
      "cell_type": "markdown",
      "source": [
        "2.8. Homeworld"
      ],
      "metadata": {
        "id": "cNLVKK3A2R0L"
      }
    },
    {
      "cell_type": "code",
      "source": [
        "# 8. Biểu đồ cột: Phân bố hành tinh quê hương\n",
        "fig_bar_homeworld = px.bar(df, x='homeworld',\n",
        "                           labels={'homeworld': 'Hành tinh quê hương'},\n",
        "                           title='Phân bố hành tinh quê hương của các nhân vật',\n",
        "                           color='homeworld',\n",
        "                           color_discrete_sequence=px.colors.qualitative.Set2)  # Sử dụng bảng màu Set2\n",
        "\n",
        "fig_bar_homeworld.update_layout(\n",
        "    xaxis_title='Hành tinh quê hương',\n",
        "    yaxis_title='Số lượng',\n",
        "    font=dict(\n",
        "        family=\"Arial, sans-serif\",\n",
        "        size=14,\n",
        "        color=\"black\"\n",
        "    ),\n",
        "    plot_bgcolor='rgba(255,255,255,0.9)',\n",
        "    paper_bgcolor='rgba(255,255,255,0.9)',\n",
        ")\n",
        "\n",
        "fig_bar_homeworld.show()"
      ],
      "metadata": {
        "colab": {
          "base_uri": "https://localhost:8080/",
          "height": 542
        },
        "id": "Ug1fgePlDUJ-",
        "outputId": "6016bafb-821a-4ff7-831a-e1781e9dc651"
      },
      "execution_count": 17,
      "outputs": [
        {
          "output_type": "display_data",
          "data": {
            "text/html": [
              "<html>\n",
              "<head><meta charset=\"utf-8\" /></head>\n",
              "<body>\n",
              "    <div>            <script src=\"https://cdnjs.cloudflare.com/ajax/libs/mathjax/2.7.5/MathJax.js?config=TeX-AMS-MML_SVG\"></script><script type=\"text/javascript\">if (window.MathJax && window.MathJax.Hub && window.MathJax.Hub.Config) {window.MathJax.Hub.Config({SVG: {font: \"STIX-Web\"}});}</script>                <script type=\"text/javascript\">window.PlotlyConfig = {MathJaxConfig: 'local'};</script>\n",
              "        <script charset=\"utf-8\" src=\"https://cdn.plot.ly/plotly-2.24.1.min.js\"></script>                <div id=\"8cd262fb-c85c-4e42-896a-1f832445d14a\" class=\"plotly-graph-div\" style=\"height:525px; width:100%;\"></div>            <script type=\"text/javascript\">                                    window.PLOTLYENV=window.PLOTLYENV || {};                                    if (document.getElementById(\"8cd262fb-c85c-4e42-896a-1f832445d14a\")) {                    Plotly.newPlot(                        \"8cd262fb-c85c-4e42-896a-1f832445d14a\",                        [{\"alignmentgroup\":\"True\",\"hovertemplate\":\"H\\u00e0nh tinh qu\\u00ea h\\u01b0\\u01a1ng=%{marker.color}\\u003cbr\\u003eindex=%{y}\\u003cextra\\u003e\\u003c\\u002fextra\\u003e\",\"legendgroup\":\"\",\"marker\":{\"color\":[1,1,8,1,2,1,1,1,20,1,14,22,23,22,28,8,10,28,29,30,6,31,7,28,8,8,36,37,42,43,49,51,51,52,53],\"coloraxis\":\"coloraxis\",\"pattern\":{\"shape\":\"\"}},\"name\":\"\",\"offsetgroup\":\"\",\"orientation\":\"h\",\"showlegend\":false,\"textposition\":\"auto\",\"x\":[1,1,8,1,2,1,1,1,20,1,14,22,23,22,28,8,10,28,29,30,6,31,7,28,8,8,36,37,42,43,49,51,51,52,53],\"xaxis\":\"x\",\"y\":[0,1,2,3,4,5,6,8,9,10,12,13,14,16,18,19,20,21,22,23,24,25,28,30,33,34,42,44,49,50,56,62,63,65,67],\"yaxis\":\"y\",\"type\":\"bar\"}],                        {\"template\":{\"data\":{\"histogram2dcontour\":[{\"type\":\"histogram2dcontour\",\"colorbar\":{\"outlinewidth\":0,\"ticks\":\"\"},\"colorscale\":[[0.0,\"#0d0887\"],[0.1111111111111111,\"#46039f\"],[0.2222222222222222,\"#7201a8\"],[0.3333333333333333,\"#9c179e\"],[0.4444444444444444,\"#bd3786\"],[0.5555555555555556,\"#d8576b\"],[0.6666666666666666,\"#ed7953\"],[0.7777777777777778,\"#fb9f3a\"],[0.8888888888888888,\"#fdca26\"],[1.0,\"#f0f921\"]]}],\"choropleth\":[{\"type\":\"choropleth\",\"colorbar\":{\"outlinewidth\":0,\"ticks\":\"\"}}],\"histogram2d\":[{\"type\":\"histogram2d\",\"colorbar\":{\"outlinewidth\":0,\"ticks\":\"\"},\"colorscale\":[[0.0,\"#0d0887\"],[0.1111111111111111,\"#46039f\"],[0.2222222222222222,\"#7201a8\"],[0.3333333333333333,\"#9c179e\"],[0.4444444444444444,\"#bd3786\"],[0.5555555555555556,\"#d8576b\"],[0.6666666666666666,\"#ed7953\"],[0.7777777777777778,\"#fb9f3a\"],[0.8888888888888888,\"#fdca26\"],[1.0,\"#f0f921\"]]}],\"heatmap\":[{\"type\":\"heatmap\",\"colorbar\":{\"outlinewidth\":0,\"ticks\":\"\"},\"colorscale\":[[0.0,\"#0d0887\"],[0.1111111111111111,\"#46039f\"],[0.2222222222222222,\"#7201a8\"],[0.3333333333333333,\"#9c179e\"],[0.4444444444444444,\"#bd3786\"],[0.5555555555555556,\"#d8576b\"],[0.6666666666666666,\"#ed7953\"],[0.7777777777777778,\"#fb9f3a\"],[0.8888888888888888,\"#fdca26\"],[1.0,\"#f0f921\"]]}],\"heatmapgl\":[{\"type\":\"heatmapgl\",\"colorbar\":{\"outlinewidth\":0,\"ticks\":\"\"},\"colorscale\":[[0.0,\"#0d0887\"],[0.1111111111111111,\"#46039f\"],[0.2222222222222222,\"#7201a8\"],[0.3333333333333333,\"#9c179e\"],[0.4444444444444444,\"#bd3786\"],[0.5555555555555556,\"#d8576b\"],[0.6666666666666666,\"#ed7953\"],[0.7777777777777778,\"#fb9f3a\"],[0.8888888888888888,\"#fdca26\"],[1.0,\"#f0f921\"]]}],\"contourcarpet\":[{\"type\":\"contourcarpet\",\"colorbar\":{\"outlinewidth\":0,\"ticks\":\"\"}}],\"contour\":[{\"type\":\"contour\",\"colorbar\":{\"outlinewidth\":0,\"ticks\":\"\"},\"colorscale\":[[0.0,\"#0d0887\"],[0.1111111111111111,\"#46039f\"],[0.2222222222222222,\"#7201a8\"],[0.3333333333333333,\"#9c179e\"],[0.4444444444444444,\"#bd3786\"],[0.5555555555555556,\"#d8576b\"],[0.6666666666666666,\"#ed7953\"],[0.7777777777777778,\"#fb9f3a\"],[0.8888888888888888,\"#fdca26\"],[1.0,\"#f0f921\"]]}],\"surface\":[{\"type\":\"surface\",\"colorbar\":{\"outlinewidth\":0,\"ticks\":\"\"},\"colorscale\":[[0.0,\"#0d0887\"],[0.1111111111111111,\"#46039f\"],[0.2222222222222222,\"#7201a8\"],[0.3333333333333333,\"#9c179e\"],[0.4444444444444444,\"#bd3786\"],[0.5555555555555556,\"#d8576b\"],[0.6666666666666666,\"#ed7953\"],[0.7777777777777778,\"#fb9f3a\"],[0.8888888888888888,\"#fdca26\"],[1.0,\"#f0f921\"]]}],\"mesh3d\":[{\"type\":\"mesh3d\",\"colorbar\":{\"outlinewidth\":0,\"ticks\":\"\"}}],\"scatter\":[{\"fillpattern\":{\"fillmode\":\"overlay\",\"size\":10,\"solidity\":0.2},\"type\":\"scatter\"}],\"parcoords\":[{\"type\":\"parcoords\",\"line\":{\"colorbar\":{\"outlinewidth\":0,\"ticks\":\"\"}}}],\"scatterpolargl\":[{\"type\":\"scatterpolargl\",\"marker\":{\"colorbar\":{\"outlinewidth\":0,\"ticks\":\"\"}}}],\"bar\":[{\"error_x\":{\"color\":\"#2a3f5f\"},\"error_y\":{\"color\":\"#2a3f5f\"},\"marker\":{\"line\":{\"color\":\"#E5ECF6\",\"width\":0.5},\"pattern\":{\"fillmode\":\"overlay\",\"size\":10,\"solidity\":0.2}},\"type\":\"bar\"}],\"scattergeo\":[{\"type\":\"scattergeo\",\"marker\":{\"colorbar\":{\"outlinewidth\":0,\"ticks\":\"\"}}}],\"scatterpolar\":[{\"type\":\"scatterpolar\",\"marker\":{\"colorbar\":{\"outlinewidth\":0,\"ticks\":\"\"}}}],\"histogram\":[{\"marker\":{\"pattern\":{\"fillmode\":\"overlay\",\"size\":10,\"solidity\":0.2}},\"type\":\"histogram\"}],\"scattergl\":[{\"type\":\"scattergl\",\"marker\":{\"colorbar\":{\"outlinewidth\":0,\"ticks\":\"\"}}}],\"scatter3d\":[{\"type\":\"scatter3d\",\"line\":{\"colorbar\":{\"outlinewidth\":0,\"ticks\":\"\"}},\"marker\":{\"colorbar\":{\"outlinewidth\":0,\"ticks\":\"\"}}}],\"scattermapbox\":[{\"type\":\"scattermapbox\",\"marker\":{\"colorbar\":{\"outlinewidth\":0,\"ticks\":\"\"}}}],\"scatterternary\":[{\"type\":\"scatterternary\",\"marker\":{\"colorbar\":{\"outlinewidth\":0,\"ticks\":\"\"}}}],\"scattercarpet\":[{\"type\":\"scattercarpet\",\"marker\":{\"colorbar\":{\"outlinewidth\":0,\"ticks\":\"\"}}}],\"carpet\":[{\"aaxis\":{\"endlinecolor\":\"#2a3f5f\",\"gridcolor\":\"white\",\"linecolor\":\"white\",\"minorgridcolor\":\"white\",\"startlinecolor\":\"#2a3f5f\"},\"baxis\":{\"endlinecolor\":\"#2a3f5f\",\"gridcolor\":\"white\",\"linecolor\":\"white\",\"minorgridcolor\":\"white\",\"startlinecolor\":\"#2a3f5f\"},\"type\":\"carpet\"}],\"table\":[{\"cells\":{\"fill\":{\"color\":\"#EBF0F8\"},\"line\":{\"color\":\"white\"}},\"header\":{\"fill\":{\"color\":\"#C8D4E3\"},\"line\":{\"color\":\"white\"}},\"type\":\"table\"}],\"barpolar\":[{\"marker\":{\"line\":{\"color\":\"#E5ECF6\",\"width\":0.5},\"pattern\":{\"fillmode\":\"overlay\",\"size\":10,\"solidity\":0.2}},\"type\":\"barpolar\"}],\"pie\":[{\"automargin\":true,\"type\":\"pie\"}]},\"layout\":{\"autotypenumbers\":\"strict\",\"colorway\":[\"#636efa\",\"#EF553B\",\"#00cc96\",\"#ab63fa\",\"#FFA15A\",\"#19d3f3\",\"#FF6692\",\"#B6E880\",\"#FF97FF\",\"#FECB52\"],\"font\":{\"color\":\"#2a3f5f\"},\"hovermode\":\"closest\",\"hoverlabel\":{\"align\":\"left\"},\"paper_bgcolor\":\"white\",\"plot_bgcolor\":\"#E5ECF6\",\"polar\":{\"bgcolor\":\"#E5ECF6\",\"angularaxis\":{\"gridcolor\":\"white\",\"linecolor\":\"white\",\"ticks\":\"\"},\"radialaxis\":{\"gridcolor\":\"white\",\"linecolor\":\"white\",\"ticks\":\"\"}},\"ternary\":{\"bgcolor\":\"#E5ECF6\",\"aaxis\":{\"gridcolor\":\"white\",\"linecolor\":\"white\",\"ticks\":\"\"},\"baxis\":{\"gridcolor\":\"white\",\"linecolor\":\"white\",\"ticks\":\"\"},\"caxis\":{\"gridcolor\":\"white\",\"linecolor\":\"white\",\"ticks\":\"\"}},\"coloraxis\":{\"colorbar\":{\"outlinewidth\":0,\"ticks\":\"\"}},\"colorscale\":{\"sequential\":[[0.0,\"#0d0887\"],[0.1111111111111111,\"#46039f\"],[0.2222222222222222,\"#7201a8\"],[0.3333333333333333,\"#9c179e\"],[0.4444444444444444,\"#bd3786\"],[0.5555555555555556,\"#d8576b\"],[0.6666666666666666,\"#ed7953\"],[0.7777777777777778,\"#fb9f3a\"],[0.8888888888888888,\"#fdca26\"],[1.0,\"#f0f921\"]],\"sequentialminus\":[[0.0,\"#0d0887\"],[0.1111111111111111,\"#46039f\"],[0.2222222222222222,\"#7201a8\"],[0.3333333333333333,\"#9c179e\"],[0.4444444444444444,\"#bd3786\"],[0.5555555555555556,\"#d8576b\"],[0.6666666666666666,\"#ed7953\"],[0.7777777777777778,\"#fb9f3a\"],[0.8888888888888888,\"#fdca26\"],[1.0,\"#f0f921\"]],\"diverging\":[[0,\"#8e0152\"],[0.1,\"#c51b7d\"],[0.2,\"#de77ae\"],[0.3,\"#f1b6da\"],[0.4,\"#fde0ef\"],[0.5,\"#f7f7f7\"],[0.6,\"#e6f5d0\"],[0.7,\"#b8e186\"],[0.8,\"#7fbc41\"],[0.9,\"#4d9221\"],[1,\"#276419\"]]},\"xaxis\":{\"gridcolor\":\"white\",\"linecolor\":\"white\",\"ticks\":\"\",\"title\":{\"standoff\":15},\"zerolinecolor\":\"white\",\"automargin\":true,\"zerolinewidth\":2},\"yaxis\":{\"gridcolor\":\"white\",\"linecolor\":\"white\",\"ticks\":\"\",\"title\":{\"standoff\":15},\"zerolinecolor\":\"white\",\"automargin\":true,\"zerolinewidth\":2},\"scene\":{\"xaxis\":{\"backgroundcolor\":\"#E5ECF6\",\"gridcolor\":\"white\",\"linecolor\":\"white\",\"showbackground\":true,\"ticks\":\"\",\"zerolinecolor\":\"white\",\"gridwidth\":2},\"yaxis\":{\"backgroundcolor\":\"#E5ECF6\",\"gridcolor\":\"white\",\"linecolor\":\"white\",\"showbackground\":true,\"ticks\":\"\",\"zerolinecolor\":\"white\",\"gridwidth\":2},\"zaxis\":{\"backgroundcolor\":\"#E5ECF6\",\"gridcolor\":\"white\",\"linecolor\":\"white\",\"showbackground\":true,\"ticks\":\"\",\"zerolinecolor\":\"white\",\"gridwidth\":2}},\"shapedefaults\":{\"line\":{\"color\":\"#2a3f5f\"}},\"annotationdefaults\":{\"arrowcolor\":\"#2a3f5f\",\"arrowhead\":0,\"arrowwidth\":1},\"geo\":{\"bgcolor\":\"white\",\"landcolor\":\"#E5ECF6\",\"subunitcolor\":\"white\",\"showland\":true,\"showlakes\":true,\"lakecolor\":\"white\"},\"title\":{\"x\":0.05},\"mapbox\":{\"style\":\"light\"}}},\"xaxis\":{\"anchor\":\"y\",\"domain\":[0.0,1.0],\"title\":{\"text\":\"H\\u00e0nh tinh qu\\u00ea h\\u01b0\\u01a1ng\"}},\"yaxis\":{\"anchor\":\"x\",\"domain\":[0.0,1.0],\"title\":{\"text\":\"S\\u1ed1 l\\u01b0\\u1ee3ng\"}},\"coloraxis\":{\"colorbar\":{\"title\":{\"text\":\"H\\u00e0nh tinh qu\\u00ea h\\u01b0\\u01a1ng\"}},\"colorscale\":[[0.0,\"#0d0887\"],[0.1111111111111111,\"#46039f\"],[0.2222222222222222,\"#7201a8\"],[0.3333333333333333,\"#9c179e\"],[0.4444444444444444,\"#bd3786\"],[0.5555555555555556,\"#d8576b\"],[0.6666666666666666,\"#ed7953\"],[0.7777777777777778,\"#fb9f3a\"],[0.8888888888888888,\"#fdca26\"],[1.0,\"#f0f921\"]]},\"legend\":{\"tracegroupgap\":0},\"title\":{\"text\":\"Ph\\u00e2n b\\u1ed1 h\\u00e0nh tinh qu\\u00ea h\\u01b0\\u01a1ng c\\u1ee7a c\\u00e1c nh\\u00e2n v\\u1eadt\"},\"barmode\":\"relative\",\"font\":{\"family\":\"Arial, sans-serif\",\"size\":14,\"color\":\"black\"},\"plot_bgcolor\":\"rgba(255,255,255,0.9)\",\"paper_bgcolor\":\"rgba(255,255,255,0.9)\"},                        {\"responsive\": true}                    ).then(function(){\n",
              "                            \n",
              "var gd = document.getElementById('8cd262fb-c85c-4e42-896a-1f832445d14a');\n",
              "var x = new MutationObserver(function (mutations, observer) {{\n",
              "        var display = window.getComputedStyle(gd).display;\n",
              "        if (!display || display === 'none') {{\n",
              "            console.log([gd, 'removed!']);\n",
              "            Plotly.purge(gd);\n",
              "            observer.disconnect();\n",
              "        }}\n",
              "}});\n",
              "\n",
              "// Listen for the removal of the full notebook cells\n",
              "var notebookContainer = gd.closest('#notebook-container');\n",
              "if (notebookContainer) {{\n",
              "    x.observe(notebookContainer, {childList: true});\n",
              "}}\n",
              "\n",
              "// Listen for the clearing of the current output cell\n",
              "var outputEl = gd.closest('.output');\n",
              "if (outputEl) {{\n",
              "    x.observe(outputEl, {childList: true});\n",
              "}}\n",
              "\n",
              "                        })                };                            </script>        </div>\n",
              "</body>\n",
              "</html>"
            ]
          },
          "metadata": {}
        }
      ]
    },
    {
      "cell_type": "markdown",
      "source": [
        "**Nhận xét chung:**\n",
        "\n",
        "**Phân bố hành tinh quê hương của các nhân vật:**\n",
        "\n",
        "- Biểu đồ cột trực quan hóa số lượng các nhân vật từng hành tinh quê hương khác nhau trong vũ trụ Star Wars.\n",
        "\n",
        "**Các hành tinh nổi bật:**\n",
        "\n",
        "- Các hành tinh có số lượng nhân vật đáng kể sẽ có cột cao và nổi bật hơn trong biểu đồ. Điều này cho thấy sự phổ biến và sự xuất hiện nhiều của nhân vật từ những hành tinh này.\n",
        "- Ví dụ, các hành tinh như \"Tatooine\", \"Naboo\", hay \"Coruscant\" có thể có số lượng nhân vật nhiều hơn so với các hành tinh khác.\n",
        "\n",
        "**Các hành tinh ít phổ biến:**\n",
        "\n",
        "- Các hành tinh ít có nhân vật đặc trưng sẽ có cột thấp hơn và ít nổi bật trong biểu đồ. Điều này có thể phản ánh sự hiếm có và ít được sử dụng của những hành tinh này trong vũ trụ Star Wars.\n",
        "- Ví dụ, các hành tinh như \"Dagobah\" hoặc \"Kamino\" có thể có số lượng nhân vật ít hơn do các nhân vật từ đó ít xuất hiện trong các tác phẩm của Star Wars.\n",
        "\n",
        "**Nhận xét cụ thể:**\n",
        "\n",
        "- **Sự đa dạng các hành tinh:** Biểu đồ thể hiện sự đa dạng các hành tinh quê hương của các nhân vật trong vũ trụ Star Wars, từ những hành tinh phổ biến đến những hành tinh ít được biết đến.\n",
        "- **Hành tinh phổ biến:** Các hành tinh có nhiều nhân vật thường có cột cao và rõ ràng hơn, dễ thu hút sự chú ý của người xem.\n",
        "- **Hành tinh ít phổ biến:** Những hành tinh ít có nhân vật thường có cột thấp hơn và có màu sắc không rõ ràng hơn, nhưng vẫn quan trọng để hiểu sự đa dạng và chi tiết trong vũ trụ Star Wars.\n",
        "\n",
        "**Tổng kết:**\n",
        "\n",
        "- Biểu đồ cung cấp cái nhìn tổng quan về sự đa dạng các hành tinh quê hương của các nhân vật trong vũ trụ Star Wars.\n",
        "- Thông tin này có thể được sử dụng để nghiên cứu về lịch sử, văn hóa, và bối cảnh của từng hành tinh trong thế giới Star Wars, đồng thời cũng thể hiện sự phổ biến của từng hành tinh trong các tác phẩm của loạt phim này."
      ],
      "metadata": {
        "id": "xOPlhLvSz0OH"
      }
    },
    {
      "cell_type": "markdown",
      "source": [
        "# Kết luận :\n",
        "\n",
        "**Kết luận tổng quan:**\n",
        "\n",
        "Dữ liệu và các biểu đồ phân tích về vũ trụ Star Wars cung cấp một cái nhìn sâu sắc về các đặc điểm và đặc tính của các nhân vật trong loạt phim. Dưới đây là những điểm chính từ các phân tích:\n",
        "\n",
        "**1. Tần suất xuất hiện của nhân vật:**\n",
        "\n",
        "- Tần suất xuất hiện của các nhân vật trong vũ trụ Star Wars biểu thị sự phổ biến và sự quan trọng của từng nhân vật trong câu chuyện.\n",
        "- Các nhân vật nổi bật thường có tần suất xuất hiện cao hơn, phản ánh vai trò quan trọng và mức độ hấp dẫn đối với khán giả.\n",
        "\n",
        "**2. Phân bố theo chiều cao và cân nặng của nhân vật:**\n",
        "\n",
        "- Chiều cao và khối lượng của các nhân vật được phân bố rộng rãi và phản ánh sự đa dạng trong các loài và chủng tộc trong vũ trụ Star Wars.\n",
        "- Các biểu đồ phân tích chi tiết giúp hiểu rõ hơn về các đặc điểm vật lý của từng nhân vật và sự khác biệt giữa chúng.\n",
        "\n",
        "**3. Phân bố theo giới tính và đặc điểm sinh học:**\n",
        "\n",
        "- Phân bố giới tính, màu da, màu tóc, và màu mắt của các nhân vật cho thấy sự đa dạng trong các đặc điểm nhân cách và bản sắc cá nhân của từng nhân vật.\n",
        "- Những đặc điểm này không chỉ làm phong phú thêm cho câu chuyện mà còn làm nổi bật sự đa dạng văn hóa và bản sắc trong vũ trụ Star Wars.\n",
        "\n",
        "**4. Hành tinh quê hương của nhân vật:**\n",
        "\n",
        "- Phân bố hành tinh quê hương của các nhân vật cho thấy sự đa dạng và phong phú của các địa điểm và môi trường sống trong vũ trụ Star Wars.\n",
        "- Các hành tinh nổi bật thường có số lượng nhân vật đáng kể, phản ánh vai trò quan trọng của chúng trong câu chuyện và cuộc sống của các nhân vật.\n",
        "\n",
        "**Tổng kết:**\n",
        "\n",
        "Dữ liệu và biểu đồ phân tích từ vũ trụ Star Wars giúp hiểu rõ hơn về các nhân vật và các yếu tố ảnh hưởng đến cuộc sống của họ. Những thông tin này không chỉ hỗ trợ trong việc nghiên cứu và phân tích về vũ trụ này mà còn giúp phát triển các sản phẩm, dịch vụ và chính sách phù hợp. Đồng thời, chúng cũng nâng cao nhận thức về sự đa dạng và giá trị của việc khám phá và khai thác các khía cạnh của vũ trụ Star Wars."
      ],
      "metadata": {
        "id": "2VvU1wREz6ip"
      }
    },
    {
      "cell_type": "markdown",
      "source": [
        "# 3. Biểu đồ so sánh, phân phối thông tin các dữ liệu"
      ],
      "metadata": {
        "id": "E3s4GjWS0G9R"
      }
    },
    {
      "cell_type": "markdown",
      "source": [
        "3.1. Height and Mass"
      ],
      "metadata": {
        "id": "aSfhXw0S2lnj"
      }
    },
    {
      "cell_type": "code",
      "source": [
        "# 9. Tạo biểu đồ cột nhóm so sánh chiều cao và khối lượng của các nhân vật\n",
        "fig = go.Figure()\n",
        "\n",
        "fig.add_trace(go.Bar(\n",
        "    x=df_sample['name'],\n",
        "    y=df_sample['height'],\n",
        "    name='Chiều cao',\n",
        "    marker_color='indianred'\n",
        "))\n",
        "\n",
        "fig.add_trace(go.Bar(\n",
        "    x=df_sample['name'],\n",
        "    y=df_sample['mass'],\n",
        "    name='Khối lượng',\n",
        "    marker_color='lightsalmon'\n",
        "))\n",
        "\n",
        "fig.update_layout(\n",
        "    title='So sánh chiều cao và khối lượng của các nhân vật',\n",
        "    xaxis_tickfont_size=14,\n",
        "    yaxis=dict(\n",
        "        title='Giá trị',\n",
        "        titlefont_size=16,\n",
        "        tickfont_size=14,\n",
        "    ),\n",
        "    xaxis=dict(\n",
        "        title='Nhân vật',\n",
        "        titlefont_size=16,\n",
        "        tickfont_size=14,\n",
        "    ),\n",
        "    legend=dict(\n",
        "        x=0,\n",
        "        y=1.0,\n",
        "        bgcolor='rgba(255, 255, 255, 0)',\n",
        "        bordercolor='rgba(255, 255, 255, 0)'\n",
        "    ),\n",
        "    barmode='group',\n",
        "    bargap=0.15,\n",
        "    bargroupgap=0.1,\n",
        "    xaxis_tickangle=-90\n",
        ")\n",
        "\n",
        "fig.show()\n"
      ],
      "metadata": {
        "colab": {
          "base_uri": "https://localhost:8080/",
          "height": 542
        },
        "id": "YNQFWom9Db-_",
        "outputId": "a7f4dc3d-a959-483f-df7d-9331477e8f01"
      },
      "execution_count": 32,
      "outputs": [
        {
          "output_type": "display_data",
          "data": {
            "text/html": [
              "<html>\n",
              "<head><meta charset=\"utf-8\" /></head>\n",
              "<body>\n",
              "    <div>            <script src=\"https://cdnjs.cloudflare.com/ajax/libs/mathjax/2.7.5/MathJax.js?config=TeX-AMS-MML_SVG\"></script><script type=\"text/javascript\">if (window.MathJax && window.MathJax.Hub && window.MathJax.Hub.Config) {window.MathJax.Hub.Config({SVG: {font: \"STIX-Web\"}});}</script>                <script type=\"text/javascript\">window.PlotlyConfig = {MathJaxConfig: 'local'};</script>\n",
              "        <script charset=\"utf-8\" src=\"https://cdn.plot.ly/plotly-2.24.1.min.js\"></script>                <div id=\"e09ac7c3-da9b-475f-bfa2-2e194ee921c5\" class=\"plotly-graph-div\" style=\"height:525px; width:100%;\"></div>            <script type=\"text/javascript\">                                    window.PLOTLYENV=window.PLOTLYENV || {};                                    if (document.getElementById(\"e09ac7c3-da9b-475f-bfa2-2e194ee921c5\")) {                    Plotly.newPlot(                        \"e09ac7c3-da9b-475f-bfa2-2e194ee921c5\",                        [{\"marker\":{\"color\":\"indianred\"},\"name\":\"Chi\\u1ec1u cao\",\"x\":[\"Luke Skywalker\",\"C-3PO\",\"R2-D2\",\"Darth Vader\",\"Leia Organa\",\"Owen Lars\",\"Beru Whitesun lars\",\"R5-D4\",\"Biggs Darklighter\",\"Obi-Wan Kenobi\"],\"y\":[172.0,167.0,96.0,202.0,150.0,178.0,165.0,97.0,183.0,182.0],\"type\":\"bar\"},{\"marker\":{\"color\":\"lightsalmon\"},\"name\":\"Kh\\u1ed1i l\\u01b0\\u1ee3ng\",\"x\":[\"Luke Skywalker\",\"C-3PO\",\"R2-D2\",\"Darth Vader\",\"Leia Organa\",\"Owen Lars\",\"Beru Whitesun lars\",\"R5-D4\",\"Biggs Darklighter\",\"Obi-Wan Kenobi\"],\"y\":[77.0,75.0,32.0,136.0,49.0,120.0,75.0,32.0,84.0,77.0],\"type\":\"bar\"}],                        {\"template\":{\"data\":{\"histogram2dcontour\":[{\"type\":\"histogram2dcontour\",\"colorbar\":{\"outlinewidth\":0,\"ticks\":\"\"},\"colorscale\":[[0.0,\"#0d0887\"],[0.1111111111111111,\"#46039f\"],[0.2222222222222222,\"#7201a8\"],[0.3333333333333333,\"#9c179e\"],[0.4444444444444444,\"#bd3786\"],[0.5555555555555556,\"#d8576b\"],[0.6666666666666666,\"#ed7953\"],[0.7777777777777778,\"#fb9f3a\"],[0.8888888888888888,\"#fdca26\"],[1.0,\"#f0f921\"]]}],\"choropleth\":[{\"type\":\"choropleth\",\"colorbar\":{\"outlinewidth\":0,\"ticks\":\"\"}}],\"histogram2d\":[{\"type\":\"histogram2d\",\"colorbar\":{\"outlinewidth\":0,\"ticks\":\"\"},\"colorscale\":[[0.0,\"#0d0887\"],[0.1111111111111111,\"#46039f\"],[0.2222222222222222,\"#7201a8\"],[0.3333333333333333,\"#9c179e\"],[0.4444444444444444,\"#bd3786\"],[0.5555555555555556,\"#d8576b\"],[0.6666666666666666,\"#ed7953\"],[0.7777777777777778,\"#fb9f3a\"],[0.8888888888888888,\"#fdca26\"],[1.0,\"#f0f921\"]]}],\"heatmap\":[{\"type\":\"heatmap\",\"colorbar\":{\"outlinewidth\":0,\"ticks\":\"\"},\"colorscale\":[[0.0,\"#0d0887\"],[0.1111111111111111,\"#46039f\"],[0.2222222222222222,\"#7201a8\"],[0.3333333333333333,\"#9c179e\"],[0.4444444444444444,\"#bd3786\"],[0.5555555555555556,\"#d8576b\"],[0.6666666666666666,\"#ed7953\"],[0.7777777777777778,\"#fb9f3a\"],[0.8888888888888888,\"#fdca26\"],[1.0,\"#f0f921\"]]}],\"heatmapgl\":[{\"type\":\"heatmapgl\",\"colorbar\":{\"outlinewidth\":0,\"ticks\":\"\"},\"colorscale\":[[0.0,\"#0d0887\"],[0.1111111111111111,\"#46039f\"],[0.2222222222222222,\"#7201a8\"],[0.3333333333333333,\"#9c179e\"],[0.4444444444444444,\"#bd3786\"],[0.5555555555555556,\"#d8576b\"],[0.6666666666666666,\"#ed7953\"],[0.7777777777777778,\"#fb9f3a\"],[0.8888888888888888,\"#fdca26\"],[1.0,\"#f0f921\"]]}],\"contourcarpet\":[{\"type\":\"contourcarpet\",\"colorbar\":{\"outlinewidth\":0,\"ticks\":\"\"}}],\"contour\":[{\"type\":\"contour\",\"colorbar\":{\"outlinewidth\":0,\"ticks\":\"\"},\"colorscale\":[[0.0,\"#0d0887\"],[0.1111111111111111,\"#46039f\"],[0.2222222222222222,\"#7201a8\"],[0.3333333333333333,\"#9c179e\"],[0.4444444444444444,\"#bd3786\"],[0.5555555555555556,\"#d8576b\"],[0.6666666666666666,\"#ed7953\"],[0.7777777777777778,\"#fb9f3a\"],[0.8888888888888888,\"#fdca26\"],[1.0,\"#f0f921\"]]}],\"surface\":[{\"type\":\"surface\",\"colorbar\":{\"outlinewidth\":0,\"ticks\":\"\"},\"colorscale\":[[0.0,\"#0d0887\"],[0.1111111111111111,\"#46039f\"],[0.2222222222222222,\"#7201a8\"],[0.3333333333333333,\"#9c179e\"],[0.4444444444444444,\"#bd3786\"],[0.5555555555555556,\"#d8576b\"],[0.6666666666666666,\"#ed7953\"],[0.7777777777777778,\"#fb9f3a\"],[0.8888888888888888,\"#fdca26\"],[1.0,\"#f0f921\"]]}],\"mesh3d\":[{\"type\":\"mesh3d\",\"colorbar\":{\"outlinewidth\":0,\"ticks\":\"\"}}],\"scatter\":[{\"fillpattern\":{\"fillmode\":\"overlay\",\"size\":10,\"solidity\":0.2},\"type\":\"scatter\"}],\"parcoords\":[{\"type\":\"parcoords\",\"line\":{\"colorbar\":{\"outlinewidth\":0,\"ticks\":\"\"}}}],\"scatterpolargl\":[{\"type\":\"scatterpolargl\",\"marker\":{\"colorbar\":{\"outlinewidth\":0,\"ticks\":\"\"}}}],\"bar\":[{\"error_x\":{\"color\":\"#2a3f5f\"},\"error_y\":{\"color\":\"#2a3f5f\"},\"marker\":{\"line\":{\"color\":\"#E5ECF6\",\"width\":0.5},\"pattern\":{\"fillmode\":\"overlay\",\"size\":10,\"solidity\":0.2}},\"type\":\"bar\"}],\"scattergeo\":[{\"type\":\"scattergeo\",\"marker\":{\"colorbar\":{\"outlinewidth\":0,\"ticks\":\"\"}}}],\"scatterpolar\":[{\"type\":\"scatterpolar\",\"marker\":{\"colorbar\":{\"outlinewidth\":0,\"ticks\":\"\"}}}],\"histogram\":[{\"marker\":{\"pattern\":{\"fillmode\":\"overlay\",\"size\":10,\"solidity\":0.2}},\"type\":\"histogram\"}],\"scattergl\":[{\"type\":\"scattergl\",\"marker\":{\"colorbar\":{\"outlinewidth\":0,\"ticks\":\"\"}}}],\"scatter3d\":[{\"type\":\"scatter3d\",\"line\":{\"colorbar\":{\"outlinewidth\":0,\"ticks\":\"\"}},\"marker\":{\"colorbar\":{\"outlinewidth\":0,\"ticks\":\"\"}}}],\"scattermapbox\":[{\"type\":\"scattermapbox\",\"marker\":{\"colorbar\":{\"outlinewidth\":0,\"ticks\":\"\"}}}],\"scatterternary\":[{\"type\":\"scatterternary\",\"marker\":{\"colorbar\":{\"outlinewidth\":0,\"ticks\":\"\"}}}],\"scattercarpet\":[{\"type\":\"scattercarpet\",\"marker\":{\"colorbar\":{\"outlinewidth\":0,\"ticks\":\"\"}}}],\"carpet\":[{\"aaxis\":{\"endlinecolor\":\"#2a3f5f\",\"gridcolor\":\"white\",\"linecolor\":\"white\",\"minorgridcolor\":\"white\",\"startlinecolor\":\"#2a3f5f\"},\"baxis\":{\"endlinecolor\":\"#2a3f5f\",\"gridcolor\":\"white\",\"linecolor\":\"white\",\"minorgridcolor\":\"white\",\"startlinecolor\":\"#2a3f5f\"},\"type\":\"carpet\"}],\"table\":[{\"cells\":{\"fill\":{\"color\":\"#EBF0F8\"},\"line\":{\"color\":\"white\"}},\"header\":{\"fill\":{\"color\":\"#C8D4E3\"},\"line\":{\"color\":\"white\"}},\"type\":\"table\"}],\"barpolar\":[{\"marker\":{\"line\":{\"color\":\"#E5ECF6\",\"width\":0.5},\"pattern\":{\"fillmode\":\"overlay\",\"size\":10,\"solidity\":0.2}},\"type\":\"barpolar\"}],\"pie\":[{\"automargin\":true,\"type\":\"pie\"}]},\"layout\":{\"autotypenumbers\":\"strict\",\"colorway\":[\"#636efa\",\"#EF553B\",\"#00cc96\",\"#ab63fa\",\"#FFA15A\",\"#19d3f3\",\"#FF6692\",\"#B6E880\",\"#FF97FF\",\"#FECB52\"],\"font\":{\"color\":\"#2a3f5f\"},\"hovermode\":\"closest\",\"hoverlabel\":{\"align\":\"left\"},\"paper_bgcolor\":\"white\",\"plot_bgcolor\":\"#E5ECF6\",\"polar\":{\"bgcolor\":\"#E5ECF6\",\"angularaxis\":{\"gridcolor\":\"white\",\"linecolor\":\"white\",\"ticks\":\"\"},\"radialaxis\":{\"gridcolor\":\"white\",\"linecolor\":\"white\",\"ticks\":\"\"}},\"ternary\":{\"bgcolor\":\"#E5ECF6\",\"aaxis\":{\"gridcolor\":\"white\",\"linecolor\":\"white\",\"ticks\":\"\"},\"baxis\":{\"gridcolor\":\"white\",\"linecolor\":\"white\",\"ticks\":\"\"},\"caxis\":{\"gridcolor\":\"white\",\"linecolor\":\"white\",\"ticks\":\"\"}},\"coloraxis\":{\"colorbar\":{\"outlinewidth\":0,\"ticks\":\"\"}},\"colorscale\":{\"sequential\":[[0.0,\"#0d0887\"],[0.1111111111111111,\"#46039f\"],[0.2222222222222222,\"#7201a8\"],[0.3333333333333333,\"#9c179e\"],[0.4444444444444444,\"#bd3786\"],[0.5555555555555556,\"#d8576b\"],[0.6666666666666666,\"#ed7953\"],[0.7777777777777778,\"#fb9f3a\"],[0.8888888888888888,\"#fdca26\"],[1.0,\"#f0f921\"]],\"sequentialminus\":[[0.0,\"#0d0887\"],[0.1111111111111111,\"#46039f\"],[0.2222222222222222,\"#7201a8\"],[0.3333333333333333,\"#9c179e\"],[0.4444444444444444,\"#bd3786\"],[0.5555555555555556,\"#d8576b\"],[0.6666666666666666,\"#ed7953\"],[0.7777777777777778,\"#fb9f3a\"],[0.8888888888888888,\"#fdca26\"],[1.0,\"#f0f921\"]],\"diverging\":[[0,\"#8e0152\"],[0.1,\"#c51b7d\"],[0.2,\"#de77ae\"],[0.3,\"#f1b6da\"],[0.4,\"#fde0ef\"],[0.5,\"#f7f7f7\"],[0.6,\"#e6f5d0\"],[0.7,\"#b8e186\"],[0.8,\"#7fbc41\"],[0.9,\"#4d9221\"],[1,\"#276419\"]]},\"xaxis\":{\"gridcolor\":\"white\",\"linecolor\":\"white\",\"ticks\":\"\",\"title\":{\"standoff\":15},\"zerolinecolor\":\"white\",\"automargin\":true,\"zerolinewidth\":2},\"yaxis\":{\"gridcolor\":\"white\",\"linecolor\":\"white\",\"ticks\":\"\",\"title\":{\"standoff\":15},\"zerolinecolor\":\"white\",\"automargin\":true,\"zerolinewidth\":2},\"scene\":{\"xaxis\":{\"backgroundcolor\":\"#E5ECF6\",\"gridcolor\":\"white\",\"linecolor\":\"white\",\"showbackground\":true,\"ticks\":\"\",\"zerolinecolor\":\"white\",\"gridwidth\":2},\"yaxis\":{\"backgroundcolor\":\"#E5ECF6\",\"gridcolor\":\"white\",\"linecolor\":\"white\",\"showbackground\":true,\"ticks\":\"\",\"zerolinecolor\":\"white\",\"gridwidth\":2},\"zaxis\":{\"backgroundcolor\":\"#E5ECF6\",\"gridcolor\":\"white\",\"linecolor\":\"white\",\"showbackground\":true,\"ticks\":\"\",\"zerolinecolor\":\"white\",\"gridwidth\":2}},\"shapedefaults\":{\"line\":{\"color\":\"#2a3f5f\"}},\"annotationdefaults\":{\"arrowcolor\":\"#2a3f5f\",\"arrowhead\":0,\"arrowwidth\":1},\"geo\":{\"bgcolor\":\"white\",\"landcolor\":\"#E5ECF6\",\"subunitcolor\":\"white\",\"showland\":true,\"showlakes\":true,\"lakecolor\":\"white\"},\"title\":{\"x\":0.05},\"mapbox\":{\"style\":\"light\"}}},\"xaxis\":{\"tickfont\":{\"size\":14},\"title\":{\"text\":\"Nh\\u00e2n v\\u1eadt\",\"font\":{\"size\":16}},\"tickangle\":-90},\"yaxis\":{\"title\":{\"text\":\"Gi\\u00e1 tr\\u1ecb\",\"font\":{\"size\":16}},\"tickfont\":{\"size\":14}},\"legend\":{\"x\":0,\"y\":1.0,\"bgcolor\":\"rgba(255, 255, 255, 0)\",\"bordercolor\":\"rgba(255, 255, 255, 0)\"},\"title\":{\"text\":\"So s\\u00e1nh chi\\u1ec1u cao v\\u00e0 kh\\u1ed1i l\\u01b0\\u1ee3ng c\\u1ee7a c\\u00e1c nh\\u00e2n v\\u1eadt\"},\"barmode\":\"group\",\"bargap\":0.15,\"bargroupgap\":0.1},                        {\"responsive\": true}                    ).then(function(){\n",
              "                            \n",
              "var gd = document.getElementById('e09ac7c3-da9b-475f-bfa2-2e194ee921c5');\n",
              "var x = new MutationObserver(function (mutations, observer) {{\n",
              "        var display = window.getComputedStyle(gd).display;\n",
              "        if (!display || display === 'none') {{\n",
              "            console.log([gd, 'removed!']);\n",
              "            Plotly.purge(gd);\n",
              "            observer.disconnect();\n",
              "        }}\n",
              "}});\n",
              "\n",
              "// Listen for the removal of the full notebook cells\n",
              "var notebookContainer = gd.closest('#notebook-container');\n",
              "if (notebookContainer) {{\n",
              "    x.observe(notebookContainer, {childList: true});\n",
              "}}\n",
              "\n",
              "// Listen for the clearing of the current output cell\n",
              "var outputEl = gd.closest('.output');\n",
              "if (outputEl) {{\n",
              "    x.observe(outputEl, {childList: true});\n",
              "}}\n",
              "\n",
              "                        })                };                            </script>        </div>\n",
              "</body>\n",
              "</html>"
            ]
          },
          "metadata": {}
        }
      ]
    },
    {
      "cell_type": "markdown",
      "source": [
        "**Nhận xét chung:**\n",
        "\n",
        "- Biểu đồ cho thấy sự so sánh giữa chiều cao (tính bằng cm) và khối lượng (tính bằng kg) của các nhân vật trên cùng một đồ thị. Mỗi cột biểu thị cho một nhân vật, với màu sắc khác nhau giúp phân biệt dễ dàng (10 đối tượng ).\n",
        "\n",
        "- Các cột có chiều cao và khối lượng cao hơn thường được thể hiện bằng các cột dài hơn, cho thấy sự khác biệt về chiều cao và khối lượng giữa các nhân vật.\n",
        "\n",
        "**Phân tích cụ thể:**\n",
        "\n",
        "1. **Các nhân vật có chiều cao và khối lượng lớn:**\n",
        "   - Các nhân vật như Darth Vader và Biggs Darklighter có chiều cao và khối lượng rất lớn, được biểu thị bởi các cột dài. Điều này phản ánh sự mạnh mẽ và thể trạng lớn của họ trong vũ trụ Star Wars.\n",
        "\n",
        "2. **Các nhân vật có chiều cao cao nhưng khối lượng lớn:**\n",
        "   - Có một số nhân vật như R5-D4 có chiều cao cao nhưng khối lượng thấp, được thể hiện bởi cột chiều cao dài và cột khối lượng ngắn. Điều này cho thấy những nhân vật này có hình dáng và cân nặng khác biệt so với các nhân vật khác.\n",
        "\n",
        "3. **Các nhân vật có chiều cao thấp và khối lượng nhỏ:**\n",
        "   - Một số nhân vật nhỏ như R2-D2 có cả chiều cao và khối lượng thấp, được biểu thị bởi các cột ngắn. Điều này thể hiện sự nhỏ bé và dễ dàng di chuyển của họ trong các tình huống khác nhau.\n",
        "\n",
        "Biểu đồ này cung cấp thông tin hữu ích về đặc tính vật lý của các nhân vật trong vũ trụ Star Wars, giúp hiểu rõ hơn về sự đa dạng và đặc điểm riêng biệt của từng nhân vật."
      ],
      "metadata": {
        "id": "_H-ASWw_2wf0"
      }
    },
    {
      "cell_type": "code",
      "source": [
        "# In ra danh sách các cột có trong DataFrame\n",
        "print(df.columns)"
      ],
      "metadata": {
        "colab": {
          "base_uri": "https://localhost:8080/"
        },
        "id": "7bixbvNTnv5Q",
        "outputId": "a7ad5d56-d650-454d-f33f-11da93bc1261"
      },
      "execution_count": 47,
      "outputs": [
        {
          "output_type": "stream",
          "name": "stdout",
          "text": [
            "Index(['fields', 'model', 'pk'], dtype='object')\n"
          ]
        }
      ]
    },
    {
      "cell_type": "markdown",
      "source": [
        "3.2. Height and Eye_color"
      ],
      "metadata": {
        "id": "6pcdbRuYv-En"
      }
    },
    {
      "cell_type": "code",
      "source": [
        "# 10. Biểu đồ phân phối chiều cao và màu mắt\n",
        "# Trích xuất các trường từ dữ liệu\n",
        "characters = [{'height': char['fields']['height'], 'eye_color': char['fields']['eye_color'], 'name': char['fields']['name']} for char in data]\n",
        "\n",
        "# Tạo DataFrame từ dữ liệu\n",
        "df = pd.DataFrame(characters)\n",
        "\n",
        "# Sử dụng Plotly Express để vẽ biểu đồ scatter\n",
        "fig = px.scatter(df, x='height', y='eye_color', color='name',\n",
        "                 title='Chiều cao vs Màu mắt',\n",
        "                 labels={'height': 'Chiều cao', 'eye_color': 'Màu mắt'},\n",
        "                 size_max=15)\n",
        "\n",
        "# Cập nhật bố cục biểu đồ\n",
        "fig.update_layout(\n",
        "    xaxis_title='Chiều cao (cm)',\n",
        "    yaxis_title='Màu mắt',\n",
        "    font=dict(\n",
        "        family=\"Arial, sans-serif\",\n",
        "        size=14,\n",
        "        color=\"black\"\n",
        "    ),\n",
        "    plot_bgcolor='rgba(255,255,255,0.9)',\n",
        "    paper_bgcolor='rgba(255,255,255,0.9)',\n",
        "    xaxis=dict(showgrid=False),\n",
        "    yaxis=dict(showgrid=False)\n",
        ")\n",
        "\n",
        "# Hiển thị biểu đồ\n",
        "fig.show()"
      ],
      "metadata": {
        "colab": {
          "base_uri": "https://localhost:8080/",
          "height": 542
        },
        "id": "kLJRwXNKv-Og",
        "outputId": "0cc257f1-e386-442f-dd4c-2dd65be9cb94"
      },
      "execution_count": 66,
      "outputs": [
        {
          "output_type": "display_data",
          "data": {
            "text/html": [
              "<html>\n",
              "<head><meta charset=\"utf-8\" /></head>\n",
              "<body>\n",
              "    <div>            <script src=\"https://cdnjs.cloudflare.com/ajax/libs/mathjax/2.7.5/MathJax.js?config=TeX-AMS-MML_SVG\"></script><script type=\"text/javascript\">if (window.MathJax && window.MathJax.Hub && window.MathJax.Hub.Config) {window.MathJax.Hub.Config({SVG: {font: \"STIX-Web\"}});}</script>                <script type=\"text/javascript\">window.PlotlyConfig = {MathJaxConfig: 'local'};</script>\n",
              "        <script charset=\"utf-8\" src=\"https://cdn.plot.ly/plotly-2.24.1.min.js\"></script>                <div id=\"d8b40f4a-5200-47ca-b87d-4706d8e82a61\" class=\"plotly-graph-div\" style=\"height:525px; width:100%;\"></div>            <script type=\"text/javascript\">                                    window.PLOTLYENV=window.PLOTLYENV || {};                                    if (document.getElementById(\"d8b40f4a-5200-47ca-b87d-4706d8e82a61\")) {                    Plotly.newPlot(                        \"d8b40f4a-5200-47ca-b87d-4706d8e82a61\",                        [{\"hovertemplate\":\"name=Luke Skywalker\\u003cbr\\u003eChi\\u1ec1u cao=%{x}\\u003cbr\\u003eM\\u00e0u m\\u1eaft=%{y}\\u003cextra\\u003e\\u003c\\u002fextra\\u003e\",\"legendgroup\":\"Luke Skywalker\",\"marker\":{\"color\":\"#636efa\",\"symbol\":\"circle\"},\"mode\":\"markers\",\"name\":\"Luke Skywalker\",\"orientation\":\"v\",\"showlegend\":true,\"x\":[\"172\"],\"xaxis\":\"x\",\"y\":[\"blue\"],\"yaxis\":\"y\",\"type\":\"scatter\"},{\"hovertemplate\":\"name=C-3PO\\u003cbr\\u003eChi\\u1ec1u cao=%{x}\\u003cbr\\u003eM\\u00e0u m\\u1eaft=%{y}\\u003cextra\\u003e\\u003c\\u002fextra\\u003e\",\"legendgroup\":\"C-3PO\",\"marker\":{\"color\":\"#EF553B\",\"symbol\":\"circle\"},\"mode\":\"markers\",\"name\":\"C-3PO\",\"orientation\":\"v\",\"showlegend\":true,\"x\":[\"167\"],\"xaxis\":\"x\",\"y\":[\"yellow\"],\"yaxis\":\"y\",\"type\":\"scatter\"},{\"hovertemplate\":\"name=R2-D2\\u003cbr\\u003eChi\\u1ec1u cao=%{x}\\u003cbr\\u003eM\\u00e0u m\\u1eaft=%{y}\\u003cextra\\u003e\\u003c\\u002fextra\\u003e\",\"legendgroup\":\"R2-D2\",\"marker\":{\"color\":\"#00cc96\",\"symbol\":\"circle\"},\"mode\":\"markers\",\"name\":\"R2-D2\",\"orientation\":\"v\",\"showlegend\":true,\"x\":[\"96\"],\"xaxis\":\"x\",\"y\":[\"red\"],\"yaxis\":\"y\",\"type\":\"scatter\"},{\"hovertemplate\":\"name=Darth Vader\\u003cbr\\u003eChi\\u1ec1u cao=%{x}\\u003cbr\\u003eM\\u00e0u m\\u1eaft=%{y}\\u003cextra\\u003e\\u003c\\u002fextra\\u003e\",\"legendgroup\":\"Darth Vader\",\"marker\":{\"color\":\"#ab63fa\",\"symbol\":\"circle\"},\"mode\":\"markers\",\"name\":\"Darth Vader\",\"orientation\":\"v\",\"showlegend\":true,\"x\":[\"202\"],\"xaxis\":\"x\",\"y\":[\"yellow\"],\"yaxis\":\"y\",\"type\":\"scatter\"},{\"hovertemplate\":\"name=Leia Organa\\u003cbr\\u003eChi\\u1ec1u cao=%{x}\\u003cbr\\u003eM\\u00e0u m\\u1eaft=%{y}\\u003cextra\\u003e\\u003c\\u002fextra\\u003e\",\"legendgroup\":\"Leia Organa\",\"marker\":{\"color\":\"#FFA15A\",\"symbol\":\"circle\"},\"mode\":\"markers\",\"name\":\"Leia Organa\",\"orientation\":\"v\",\"showlegend\":true,\"x\":[\"150\"],\"xaxis\":\"x\",\"y\":[\"brown\"],\"yaxis\":\"y\",\"type\":\"scatter\"},{\"hovertemplate\":\"name=Owen Lars\\u003cbr\\u003eChi\\u1ec1u cao=%{x}\\u003cbr\\u003eM\\u00e0u m\\u1eaft=%{y}\\u003cextra\\u003e\\u003c\\u002fextra\\u003e\",\"legendgroup\":\"Owen Lars\",\"marker\":{\"color\":\"#19d3f3\",\"symbol\":\"circle\"},\"mode\":\"markers\",\"name\":\"Owen Lars\",\"orientation\":\"v\",\"showlegend\":true,\"x\":[\"178\"],\"xaxis\":\"x\",\"y\":[\"blue\"],\"yaxis\":\"y\",\"type\":\"scatter\"},{\"hovertemplate\":\"name=Beru Whitesun lars\\u003cbr\\u003eChi\\u1ec1u cao=%{x}\\u003cbr\\u003eM\\u00e0u m\\u1eaft=%{y}\\u003cextra\\u003e\\u003c\\u002fextra\\u003e\",\"legendgroup\":\"Beru Whitesun lars\",\"marker\":{\"color\":\"#FF6692\",\"symbol\":\"circle\"},\"mode\":\"markers\",\"name\":\"Beru Whitesun lars\",\"orientation\":\"v\",\"showlegend\":true,\"x\":[\"165\"],\"xaxis\":\"x\",\"y\":[\"blue\"],\"yaxis\":\"y\",\"type\":\"scatter\"},{\"hovertemplate\":\"name=R5-D4\\u003cbr\\u003eChi\\u1ec1u cao=%{x}\\u003cbr\\u003eM\\u00e0u m\\u1eaft=%{y}\\u003cextra\\u003e\\u003c\\u002fextra\\u003e\",\"legendgroup\":\"R5-D4\",\"marker\":{\"color\":\"#B6E880\",\"symbol\":\"circle\"},\"mode\":\"markers\",\"name\":\"R5-D4\",\"orientation\":\"v\",\"showlegend\":true,\"x\":[\"97\"],\"xaxis\":\"x\",\"y\":[\"red\"],\"yaxis\":\"y\",\"type\":\"scatter\"},{\"hovertemplate\":\"name=Biggs Darklighter\\u003cbr\\u003eChi\\u1ec1u cao=%{x}\\u003cbr\\u003eM\\u00e0u m\\u1eaft=%{y}\\u003cextra\\u003e\\u003c\\u002fextra\\u003e\",\"legendgroup\":\"Biggs Darklighter\",\"marker\":{\"color\":\"#FF97FF\",\"symbol\":\"circle\"},\"mode\":\"markers\",\"name\":\"Biggs Darklighter\",\"orientation\":\"v\",\"showlegend\":true,\"x\":[\"183\"],\"xaxis\":\"x\",\"y\":[\"brown\"],\"yaxis\":\"y\",\"type\":\"scatter\"},{\"hovertemplate\":\"name=Obi-Wan Kenobi\\u003cbr\\u003eChi\\u1ec1u cao=%{x}\\u003cbr\\u003eM\\u00e0u m\\u1eaft=%{y}\\u003cextra\\u003e\\u003c\\u002fextra\\u003e\",\"legendgroup\":\"Obi-Wan Kenobi\",\"marker\":{\"color\":\"#FECB52\",\"symbol\":\"circle\"},\"mode\":\"markers\",\"name\":\"Obi-Wan Kenobi\",\"orientation\":\"v\",\"showlegend\":true,\"x\":[\"182\"],\"xaxis\":\"x\",\"y\":[\"blue-gray\"],\"yaxis\":\"y\",\"type\":\"scatter\"},{\"hovertemplate\":\"name=Anakin Skywalker\\u003cbr\\u003eChi\\u1ec1u cao=%{x}\\u003cbr\\u003eM\\u00e0u m\\u1eaft=%{y}\\u003cextra\\u003e\\u003c\\u002fextra\\u003e\",\"legendgroup\":\"Anakin Skywalker\",\"marker\":{\"color\":\"#636efa\",\"symbol\":\"circle\"},\"mode\":\"markers\",\"name\":\"Anakin Skywalker\",\"orientation\":\"v\",\"showlegend\":true,\"x\":[\"188\"],\"xaxis\":\"x\",\"y\":[\"blue\"],\"yaxis\":\"y\",\"type\":\"scatter\"},{\"hovertemplate\":\"name=Wilhuff Tarkin\\u003cbr\\u003eChi\\u1ec1u cao=%{x}\\u003cbr\\u003eM\\u00e0u m\\u1eaft=%{y}\\u003cextra\\u003e\\u003c\\u002fextra\\u003e\",\"legendgroup\":\"Wilhuff Tarkin\",\"marker\":{\"color\":\"#EF553B\",\"symbol\":\"circle\"},\"mode\":\"markers\",\"name\":\"Wilhuff Tarkin\",\"orientation\":\"v\",\"showlegend\":true,\"x\":[\"180\"],\"xaxis\":\"x\",\"y\":[\"blue\"],\"yaxis\":\"y\",\"type\":\"scatter\"},{\"hovertemplate\":\"name=Chewbacca\\u003cbr\\u003eChi\\u1ec1u cao=%{x}\\u003cbr\\u003eM\\u00e0u m\\u1eaft=%{y}\\u003cextra\\u003e\\u003c\\u002fextra\\u003e\",\"legendgroup\":\"Chewbacca\",\"marker\":{\"color\":\"#00cc96\",\"symbol\":\"circle\"},\"mode\":\"markers\",\"name\":\"Chewbacca\",\"orientation\":\"v\",\"showlegend\":true,\"x\":[\"228\"],\"xaxis\":\"x\",\"y\":[\"blue\"],\"yaxis\":\"y\",\"type\":\"scatter\"},{\"hovertemplate\":\"name=Han Solo\\u003cbr\\u003eChi\\u1ec1u cao=%{x}\\u003cbr\\u003eM\\u00e0u m\\u1eaft=%{y}\\u003cextra\\u003e\\u003c\\u002fextra\\u003e\",\"legendgroup\":\"Han Solo\",\"marker\":{\"color\":\"#ab63fa\",\"symbol\":\"circle\"},\"mode\":\"markers\",\"name\":\"Han Solo\",\"orientation\":\"v\",\"showlegend\":true,\"x\":[\"180\"],\"xaxis\":\"x\",\"y\":[\"brown\"],\"yaxis\":\"y\",\"type\":\"scatter\"},{\"hovertemplate\":\"name=Greedo\\u003cbr\\u003eChi\\u1ec1u cao=%{x}\\u003cbr\\u003eM\\u00e0u m\\u1eaft=%{y}\\u003cextra\\u003e\\u003c\\u002fextra\\u003e\",\"legendgroup\":\"Greedo\",\"marker\":{\"color\":\"#FFA15A\",\"symbol\":\"circle\"},\"mode\":\"markers\",\"name\":\"Greedo\",\"orientation\":\"v\",\"showlegend\":true,\"x\":[\"173\"],\"xaxis\":\"x\",\"y\":[\"black\"],\"yaxis\":\"y\",\"type\":\"scatter\"},{\"hovertemplate\":\"name=Jabba Desilijic Tiure\\u003cbr\\u003eChi\\u1ec1u cao=%{x}\\u003cbr\\u003eM\\u00e0u m\\u1eaft=%{y}\\u003cextra\\u003e\\u003c\\u002fextra\\u003e\",\"legendgroup\":\"Jabba Desilijic Tiure\",\"marker\":{\"color\":\"#19d3f3\",\"symbol\":\"circle\"},\"mode\":\"markers\",\"name\":\"Jabba Desilijic Tiure\",\"orientation\":\"v\",\"showlegend\":true,\"x\":[\"175\"],\"xaxis\":\"x\",\"y\":[\"orange\"],\"yaxis\":\"y\",\"type\":\"scatter\"},{\"hovertemplate\":\"name=Wedge Antilles\\u003cbr\\u003eChi\\u1ec1u cao=%{x}\\u003cbr\\u003eM\\u00e0u m\\u1eaft=%{y}\\u003cextra\\u003e\\u003c\\u002fextra\\u003e\",\"legendgroup\":\"Wedge Antilles\",\"marker\":{\"color\":\"#FF6692\",\"symbol\":\"circle\"},\"mode\":\"markers\",\"name\":\"Wedge Antilles\",\"orientation\":\"v\",\"showlegend\":true,\"x\":[\"170\"],\"xaxis\":\"x\",\"y\":[\"hazel\"],\"yaxis\":\"y\",\"type\":\"scatter\"},{\"hovertemplate\":\"name=Jek Tono Porkins\\u003cbr\\u003eChi\\u1ec1u cao=%{x}\\u003cbr\\u003eM\\u00e0u m\\u1eaft=%{y}\\u003cextra\\u003e\\u003c\\u002fextra\\u003e\",\"legendgroup\":\"Jek Tono Porkins\",\"marker\":{\"color\":\"#B6E880\",\"symbol\":\"circle\"},\"mode\":\"markers\",\"name\":\"Jek Tono Porkins\",\"orientation\":\"v\",\"showlegend\":true,\"x\":[\"180\"],\"xaxis\":\"x\",\"y\":[\"blue\"],\"yaxis\":\"y\",\"type\":\"scatter\"},{\"hovertemplate\":\"name=Yoda\\u003cbr\\u003eChi\\u1ec1u cao=%{x}\\u003cbr\\u003eM\\u00e0u m\\u1eaft=%{y}\\u003cextra\\u003e\\u003c\\u002fextra\\u003e\",\"legendgroup\":\"Yoda\",\"marker\":{\"color\":\"#FF97FF\",\"symbol\":\"circle\"},\"mode\":\"markers\",\"name\":\"Yoda\",\"orientation\":\"v\",\"showlegend\":true,\"x\":[\"66\"],\"xaxis\":\"x\",\"y\":[\"brown\"],\"yaxis\":\"y\",\"type\":\"scatter\"},{\"hovertemplate\":\"name=Palpatine\\u003cbr\\u003eChi\\u1ec1u cao=%{x}\\u003cbr\\u003eM\\u00e0u m\\u1eaft=%{y}\\u003cextra\\u003e\\u003c\\u002fextra\\u003e\",\"legendgroup\":\"Palpatine\",\"marker\":{\"color\":\"#FECB52\",\"symbol\":\"circle\"},\"mode\":\"markers\",\"name\":\"Palpatine\",\"orientation\":\"v\",\"showlegend\":true,\"x\":[\"170\"],\"xaxis\":\"x\",\"y\":[\"yellow\"],\"yaxis\":\"y\",\"type\":\"scatter\"},{\"hovertemplate\":\"name=Boba Fett\\u003cbr\\u003eChi\\u1ec1u cao=%{x}\\u003cbr\\u003eM\\u00e0u m\\u1eaft=%{y}\\u003cextra\\u003e\\u003c\\u002fextra\\u003e\",\"legendgroup\":\"Boba Fett\",\"marker\":{\"color\":\"#636efa\",\"symbol\":\"circle\"},\"mode\":\"markers\",\"name\":\"Boba Fett\",\"orientation\":\"v\",\"showlegend\":true,\"x\":[\"183\"],\"xaxis\":\"x\",\"y\":[\"brown\"],\"yaxis\":\"y\",\"type\":\"scatter\"},{\"hovertemplate\":\"name=IG-88\\u003cbr\\u003eChi\\u1ec1u cao=%{x}\\u003cbr\\u003eM\\u00e0u m\\u1eaft=%{y}\\u003cextra\\u003e\\u003c\\u002fextra\\u003e\",\"legendgroup\":\"IG-88\",\"marker\":{\"color\":\"#EF553B\",\"symbol\":\"circle\"},\"mode\":\"markers\",\"name\":\"IG-88\",\"orientation\":\"v\",\"showlegend\":true,\"x\":[\"200\"],\"xaxis\":\"x\",\"y\":[\"red\"],\"yaxis\":\"y\",\"type\":\"scatter\"},{\"hovertemplate\":\"name=Bossk\\u003cbr\\u003eChi\\u1ec1u cao=%{x}\\u003cbr\\u003eM\\u00e0u m\\u1eaft=%{y}\\u003cextra\\u003e\\u003c\\u002fextra\\u003e\",\"legendgroup\":\"Bossk\",\"marker\":{\"color\":\"#00cc96\",\"symbol\":\"circle\"},\"mode\":\"markers\",\"name\":\"Bossk\",\"orientation\":\"v\",\"showlegend\":true,\"x\":[\"190\"],\"xaxis\":\"x\",\"y\":[\"red\"],\"yaxis\":\"y\",\"type\":\"scatter\"},{\"hovertemplate\":\"name=Lando Calrissian\\u003cbr\\u003eChi\\u1ec1u cao=%{x}\\u003cbr\\u003eM\\u00e0u m\\u1eaft=%{y}\\u003cextra\\u003e\\u003c\\u002fextra\\u003e\",\"legendgroup\":\"Lando Calrissian\",\"marker\":{\"color\":\"#ab63fa\",\"symbol\":\"circle\"},\"mode\":\"markers\",\"name\":\"Lando Calrissian\",\"orientation\":\"v\",\"showlegend\":true,\"x\":[\"177\"],\"xaxis\":\"x\",\"y\":[\"brown\"],\"yaxis\":\"y\",\"type\":\"scatter\"},{\"hovertemplate\":\"name=Lobot\\u003cbr\\u003eChi\\u1ec1u cao=%{x}\\u003cbr\\u003eM\\u00e0u m\\u1eaft=%{y}\\u003cextra\\u003e\\u003c\\u002fextra\\u003e\",\"legendgroup\":\"Lobot\",\"marker\":{\"color\":\"#FFA15A\",\"symbol\":\"circle\"},\"mode\":\"markers\",\"name\":\"Lobot\",\"orientation\":\"v\",\"showlegend\":true,\"x\":[\"175\"],\"xaxis\":\"x\",\"y\":[\"blue\"],\"yaxis\":\"y\",\"type\":\"scatter\"},{\"hovertemplate\":\"name=Ackbar\\u003cbr\\u003eChi\\u1ec1u cao=%{x}\\u003cbr\\u003eM\\u00e0u m\\u1eaft=%{y}\\u003cextra\\u003e\\u003c\\u002fextra\\u003e\",\"legendgroup\":\"Ackbar\",\"marker\":{\"color\":\"#19d3f3\",\"symbol\":\"circle\"},\"mode\":\"markers\",\"name\":\"Ackbar\",\"orientation\":\"v\",\"showlegend\":true,\"x\":[\"180\"],\"xaxis\":\"x\",\"y\":[\"orange\"],\"yaxis\":\"y\",\"type\":\"scatter\"},{\"hovertemplate\":\"name=Mon Mothma\\u003cbr\\u003eChi\\u1ec1u cao=%{x}\\u003cbr\\u003eM\\u00e0u m\\u1eaft=%{y}\\u003cextra\\u003e\\u003c\\u002fextra\\u003e\",\"legendgroup\":\"Mon Mothma\",\"marker\":{\"color\":\"#FF6692\",\"symbol\":\"circle\"},\"mode\":\"markers\",\"name\":\"Mon Mothma\",\"orientation\":\"v\",\"showlegend\":true,\"x\":[\"150\"],\"xaxis\":\"x\",\"y\":[\"blue\"],\"yaxis\":\"y\",\"type\":\"scatter\"},{\"hovertemplate\":\"name=Arvel Crynyd\\u003cbr\\u003eChi\\u1ec1u cao=%{x}\\u003cbr\\u003eM\\u00e0u m\\u1eaft=%{y}\\u003cextra\\u003e\\u003c\\u002fextra\\u003e\",\"legendgroup\":\"Arvel Crynyd\",\"marker\":{\"color\":\"#B6E880\",\"symbol\":\"circle\"},\"mode\":\"markers\",\"name\":\"Arvel Crynyd\",\"orientation\":\"v\",\"showlegend\":true,\"x\":[\"unknown\"],\"xaxis\":\"x\",\"y\":[\"brown\"],\"yaxis\":\"y\",\"type\":\"scatter\"},{\"hovertemplate\":\"name=Wicket Systri Warrick\\u003cbr\\u003eChi\\u1ec1u cao=%{x}\\u003cbr\\u003eM\\u00e0u m\\u1eaft=%{y}\\u003cextra\\u003e\\u003c\\u002fextra\\u003e\",\"legendgroup\":\"Wicket Systri Warrick\",\"marker\":{\"color\":\"#FF97FF\",\"symbol\":\"circle\"},\"mode\":\"markers\",\"name\":\"Wicket Systri Warrick\",\"orientation\":\"v\",\"showlegend\":true,\"x\":[\"88\"],\"xaxis\":\"x\",\"y\":[\"brown\"],\"yaxis\":\"y\",\"type\":\"scatter\"},{\"hovertemplate\":\"name=Nien Nunb\\u003cbr\\u003eChi\\u1ec1u cao=%{x}\\u003cbr\\u003eM\\u00e0u m\\u1eaft=%{y}\\u003cextra\\u003e\\u003c\\u002fextra\\u003e\",\"legendgroup\":\"Nien Nunb\",\"marker\":{\"color\":\"#FECB52\",\"symbol\":\"circle\"},\"mode\":\"markers\",\"name\":\"Nien Nunb\",\"orientation\":\"v\",\"showlegend\":true,\"x\":[\"160\"],\"xaxis\":\"x\",\"y\":[\"black\"],\"yaxis\":\"y\",\"type\":\"scatter\"},{\"hovertemplate\":\"name=Qui-Gon Jinn\\u003cbr\\u003eChi\\u1ec1u cao=%{x}\\u003cbr\\u003eM\\u00e0u m\\u1eaft=%{y}\\u003cextra\\u003e\\u003c\\u002fextra\\u003e\",\"legendgroup\":\"Qui-Gon Jinn\",\"marker\":{\"color\":\"#636efa\",\"symbol\":\"circle\"},\"mode\":\"markers\",\"name\":\"Qui-Gon Jinn\",\"orientation\":\"v\",\"showlegend\":true,\"x\":[\"193\"],\"xaxis\":\"x\",\"y\":[\"blue\"],\"yaxis\":\"y\",\"type\":\"scatter\"},{\"hovertemplate\":\"name=Nute Gunray\\u003cbr\\u003eChi\\u1ec1u cao=%{x}\\u003cbr\\u003eM\\u00e0u m\\u1eaft=%{y}\\u003cextra\\u003e\\u003c\\u002fextra\\u003e\",\"legendgroup\":\"Nute Gunray\",\"marker\":{\"color\":\"#EF553B\",\"symbol\":\"circle\"},\"mode\":\"markers\",\"name\":\"Nute Gunray\",\"orientation\":\"v\",\"showlegend\":true,\"x\":[\"191\"],\"xaxis\":\"x\",\"y\":[\"red\"],\"yaxis\":\"y\",\"type\":\"scatter\"},{\"hovertemplate\":\"name=Finis Valorum\\u003cbr\\u003eChi\\u1ec1u cao=%{x}\\u003cbr\\u003eM\\u00e0u m\\u1eaft=%{y}\\u003cextra\\u003e\\u003c\\u002fextra\\u003e\",\"legendgroup\":\"Finis Valorum\",\"marker\":{\"color\":\"#00cc96\",\"symbol\":\"circle\"},\"mode\":\"markers\",\"name\":\"Finis Valorum\",\"orientation\":\"v\",\"showlegend\":true,\"x\":[\"170\"],\"xaxis\":\"x\",\"y\":[\"blue\"],\"yaxis\":\"y\",\"type\":\"scatter\"},{\"hovertemplate\":\"name=Padm\\u00e9 Amidala\\u003cbr\\u003eChi\\u1ec1u cao=%{x}\\u003cbr\\u003eM\\u00e0u m\\u1eaft=%{y}\\u003cextra\\u003e\\u003c\\u002fextra\\u003e\",\"legendgroup\":\"Padm\\u00e9 Amidala\",\"marker\":{\"color\":\"#ab63fa\",\"symbol\":\"circle\"},\"mode\":\"markers\",\"name\":\"Padm\\u00e9 Amidala\",\"orientation\":\"v\",\"showlegend\":true,\"x\":[\"185\"],\"xaxis\":\"x\",\"y\":[\"brown\"],\"yaxis\":\"y\",\"type\":\"scatter\"},{\"hovertemplate\":\"name=Jar Jar Binks\\u003cbr\\u003eChi\\u1ec1u cao=%{x}\\u003cbr\\u003eM\\u00e0u m\\u1eaft=%{y}\\u003cextra\\u003e\\u003c\\u002fextra\\u003e\",\"legendgroup\":\"Jar Jar Binks\",\"marker\":{\"color\":\"#FFA15A\",\"symbol\":\"circle\"},\"mode\":\"markers\",\"name\":\"Jar Jar Binks\",\"orientation\":\"v\",\"showlegend\":true,\"x\":[\"196\"],\"xaxis\":\"x\",\"y\":[\"orange\"],\"yaxis\":\"y\",\"type\":\"scatter\"},{\"hovertemplate\":\"name=Roos Tarpals\\u003cbr\\u003eChi\\u1ec1u cao=%{x}\\u003cbr\\u003eM\\u00e0u m\\u1eaft=%{y}\\u003cextra\\u003e\\u003c\\u002fextra\\u003e\",\"legendgroup\":\"Roos Tarpals\",\"marker\":{\"color\":\"#19d3f3\",\"symbol\":\"circle\"},\"mode\":\"markers\",\"name\":\"Roos Tarpals\",\"orientation\":\"v\",\"showlegend\":true,\"x\":[\"224\"],\"xaxis\":\"x\",\"y\":[\"orange\"],\"yaxis\":\"y\",\"type\":\"scatter\"},{\"hovertemplate\":\"name=Rugor Nass\\u003cbr\\u003eChi\\u1ec1u cao=%{x}\\u003cbr\\u003eM\\u00e0u m\\u1eaft=%{y}\\u003cextra\\u003e\\u003c\\u002fextra\\u003e\",\"legendgroup\":\"Rugor Nass\",\"marker\":{\"color\":\"#FF6692\",\"symbol\":\"circle\"},\"mode\":\"markers\",\"name\":\"Rugor Nass\",\"orientation\":\"v\",\"showlegend\":true,\"x\":[\"206\"],\"xaxis\":\"x\",\"y\":[\"orange\"],\"yaxis\":\"y\",\"type\":\"scatter\"},{\"hovertemplate\":\"name=Ric Oli\\u00e9\\u003cbr\\u003eChi\\u1ec1u cao=%{x}\\u003cbr\\u003eM\\u00e0u m\\u1eaft=%{y}\\u003cextra\\u003e\\u003c\\u002fextra\\u003e\",\"legendgroup\":\"Ric Oli\\u00e9\",\"marker\":{\"color\":\"#B6E880\",\"symbol\":\"circle\"},\"mode\":\"markers\",\"name\":\"Ric Oli\\u00e9\",\"orientation\":\"v\",\"showlegend\":true,\"x\":[\"183\"],\"xaxis\":\"x\",\"y\":[\"blue\"],\"yaxis\":\"y\",\"type\":\"scatter\"},{\"hovertemplate\":\"name=Watto\\u003cbr\\u003eChi\\u1ec1u cao=%{x}\\u003cbr\\u003eM\\u00e0u m\\u1eaft=%{y}\\u003cextra\\u003e\\u003c\\u002fextra\\u003e\",\"legendgroup\":\"Watto\",\"marker\":{\"color\":\"#FF97FF\",\"symbol\":\"circle\"},\"mode\":\"markers\",\"name\":\"Watto\",\"orientation\":\"v\",\"showlegend\":true,\"x\":[\"137\"],\"xaxis\":\"x\",\"y\":[\"yellow\"],\"yaxis\":\"y\",\"type\":\"scatter\"},{\"hovertemplate\":\"name=Sebulba\\u003cbr\\u003eChi\\u1ec1u cao=%{x}\\u003cbr\\u003eM\\u00e0u m\\u1eaft=%{y}\\u003cextra\\u003e\\u003c\\u002fextra\\u003e\",\"legendgroup\":\"Sebulba\",\"marker\":{\"color\":\"#FECB52\",\"symbol\":\"circle\"},\"mode\":\"markers\",\"name\":\"Sebulba\",\"orientation\":\"v\",\"showlegend\":true,\"x\":[\"112\"],\"xaxis\":\"x\",\"y\":[\"orange\"],\"yaxis\":\"y\",\"type\":\"scatter\"},{\"hovertemplate\":\"name=Quarsh Panaka\\u003cbr\\u003eChi\\u1ec1u cao=%{x}\\u003cbr\\u003eM\\u00e0u m\\u1eaft=%{y}\\u003cextra\\u003e\\u003c\\u002fextra\\u003e\",\"legendgroup\":\"Quarsh Panaka\",\"marker\":{\"color\":\"#636efa\",\"symbol\":\"circle\"},\"mode\":\"markers\",\"name\":\"Quarsh Panaka\",\"orientation\":\"v\",\"showlegend\":true,\"x\":[\"183\"],\"xaxis\":\"x\",\"y\":[\"brown\"],\"yaxis\":\"y\",\"type\":\"scatter\"},{\"hovertemplate\":\"name=Shmi Skywalker\\u003cbr\\u003eChi\\u1ec1u cao=%{x}\\u003cbr\\u003eM\\u00e0u m\\u1eaft=%{y}\\u003cextra\\u003e\\u003c\\u002fextra\\u003e\",\"legendgroup\":\"Shmi Skywalker\",\"marker\":{\"color\":\"#EF553B\",\"symbol\":\"circle\"},\"mode\":\"markers\",\"name\":\"Shmi Skywalker\",\"orientation\":\"v\",\"showlegend\":true,\"x\":[\"163\"],\"xaxis\":\"x\",\"y\":[\"brown\"],\"yaxis\":\"y\",\"type\":\"scatter\"},{\"hovertemplate\":\"name=Darth Maul\\u003cbr\\u003eChi\\u1ec1u cao=%{x}\\u003cbr\\u003eM\\u00e0u m\\u1eaft=%{y}\\u003cextra\\u003e\\u003c\\u002fextra\\u003e\",\"legendgroup\":\"Darth Maul\",\"marker\":{\"color\":\"#00cc96\",\"symbol\":\"circle\"},\"mode\":\"markers\",\"name\":\"Darth Maul\",\"orientation\":\"v\",\"showlegend\":true,\"x\":[\"175\"],\"xaxis\":\"x\",\"y\":[\"yellow\"],\"yaxis\":\"y\",\"type\":\"scatter\"},{\"hovertemplate\":\"name=Bib Fortuna\\u003cbr\\u003eChi\\u1ec1u cao=%{x}\\u003cbr\\u003eM\\u00e0u m\\u1eaft=%{y}\\u003cextra\\u003e\\u003c\\u002fextra\\u003e\",\"legendgroup\":\"Bib Fortuna\",\"marker\":{\"color\":\"#ab63fa\",\"symbol\":\"circle\"},\"mode\":\"markers\",\"name\":\"Bib Fortuna\",\"orientation\":\"v\",\"showlegend\":true,\"x\":[\"180\"],\"xaxis\":\"x\",\"y\":[\"pink\"],\"yaxis\":\"y\",\"type\":\"scatter\"},{\"hovertemplate\":\"name=Ayla Secura\\u003cbr\\u003eChi\\u1ec1u cao=%{x}\\u003cbr\\u003eM\\u00e0u m\\u1eaft=%{y}\\u003cextra\\u003e\\u003c\\u002fextra\\u003e\",\"legendgroup\":\"Ayla Secura\",\"marker\":{\"color\":\"#FFA15A\",\"symbol\":\"circle\"},\"mode\":\"markers\",\"name\":\"Ayla Secura\",\"orientation\":\"v\",\"showlegend\":true,\"x\":[\"178\"],\"xaxis\":\"x\",\"y\":[\"hazel\"],\"yaxis\":\"y\",\"type\":\"scatter\"},{\"hovertemplate\":\"name=Ratts Tyerel\\u003cbr\\u003eChi\\u1ec1u cao=%{x}\\u003cbr\\u003eM\\u00e0u m\\u1eaft=%{y}\\u003cextra\\u003e\\u003c\\u002fextra\\u003e\",\"legendgroup\":\"Ratts Tyerel\",\"marker\":{\"color\":\"#19d3f3\",\"symbol\":\"circle\"},\"mode\":\"markers\",\"name\":\"Ratts Tyerel\",\"orientation\":\"v\",\"showlegend\":true,\"x\":[\"79\"],\"xaxis\":\"x\",\"y\":[\"unknown\"],\"yaxis\":\"y\",\"type\":\"scatter\"},{\"hovertemplate\":\"name=Dud Bolt\\u003cbr\\u003eChi\\u1ec1u cao=%{x}\\u003cbr\\u003eM\\u00e0u m\\u1eaft=%{y}\\u003cextra\\u003e\\u003c\\u002fextra\\u003e\",\"legendgroup\":\"Dud Bolt\",\"marker\":{\"color\":\"#FF6692\",\"symbol\":\"circle\"},\"mode\":\"markers\",\"name\":\"Dud Bolt\",\"orientation\":\"v\",\"showlegend\":true,\"x\":[\"94\"],\"xaxis\":\"x\",\"y\":[\"yellow\"],\"yaxis\":\"y\",\"type\":\"scatter\"},{\"hovertemplate\":\"name=Gasgano\\u003cbr\\u003eChi\\u1ec1u cao=%{x}\\u003cbr\\u003eM\\u00e0u m\\u1eaft=%{y}\\u003cextra\\u003e\\u003c\\u002fextra\\u003e\",\"legendgroup\":\"Gasgano\",\"marker\":{\"color\":\"#B6E880\",\"symbol\":\"circle\"},\"mode\":\"markers\",\"name\":\"Gasgano\",\"orientation\":\"v\",\"showlegend\":true,\"x\":[\"122\"],\"xaxis\":\"x\",\"y\":[\"black\"],\"yaxis\":\"y\",\"type\":\"scatter\"},{\"hovertemplate\":\"name=Ben Quadinaros\\u003cbr\\u003eChi\\u1ec1u cao=%{x}\\u003cbr\\u003eM\\u00e0u m\\u1eaft=%{y}\\u003cextra\\u003e\\u003c\\u002fextra\\u003e\",\"legendgroup\":\"Ben Quadinaros\",\"marker\":{\"color\":\"#FF97FF\",\"symbol\":\"circle\"},\"mode\":\"markers\",\"name\":\"Ben Quadinaros\",\"orientation\":\"v\",\"showlegend\":true,\"x\":[\"163\"],\"xaxis\":\"x\",\"y\":[\"orange\"],\"yaxis\":\"y\",\"type\":\"scatter\"},{\"hovertemplate\":\"name=Mace Windu\\u003cbr\\u003eChi\\u1ec1u cao=%{x}\\u003cbr\\u003eM\\u00e0u m\\u1eaft=%{y}\\u003cextra\\u003e\\u003c\\u002fextra\\u003e\",\"legendgroup\":\"Mace Windu\",\"marker\":{\"color\":\"#FECB52\",\"symbol\":\"circle\"},\"mode\":\"markers\",\"name\":\"Mace Windu\",\"orientation\":\"v\",\"showlegend\":true,\"x\":[\"188\"],\"xaxis\":\"x\",\"y\":[\"brown\"],\"yaxis\":\"y\",\"type\":\"scatter\"},{\"hovertemplate\":\"name=Ki-Adi-Mundi\\u003cbr\\u003eChi\\u1ec1u cao=%{x}\\u003cbr\\u003eM\\u00e0u m\\u1eaft=%{y}\\u003cextra\\u003e\\u003c\\u002fextra\\u003e\",\"legendgroup\":\"Ki-Adi-Mundi\",\"marker\":{\"color\":\"#636efa\",\"symbol\":\"circle\"},\"mode\":\"markers\",\"name\":\"Ki-Adi-Mundi\",\"orientation\":\"v\",\"showlegend\":true,\"x\":[\"198\"],\"xaxis\":\"x\",\"y\":[\"yellow\"],\"yaxis\":\"y\",\"type\":\"scatter\"},{\"hovertemplate\":\"name=Kit Fisto\\u003cbr\\u003eChi\\u1ec1u cao=%{x}\\u003cbr\\u003eM\\u00e0u m\\u1eaft=%{y}\\u003cextra\\u003e\\u003c\\u002fextra\\u003e\",\"legendgroup\":\"Kit Fisto\",\"marker\":{\"color\":\"#EF553B\",\"symbol\":\"circle\"},\"mode\":\"markers\",\"name\":\"Kit Fisto\",\"orientation\":\"v\",\"showlegend\":true,\"x\":[\"196\"],\"xaxis\":\"x\",\"y\":[\"black\"],\"yaxis\":\"y\",\"type\":\"scatter\"},{\"hovertemplate\":\"name=Eeth Koth\\u003cbr\\u003eChi\\u1ec1u cao=%{x}\\u003cbr\\u003eM\\u00e0u m\\u1eaft=%{y}\\u003cextra\\u003e\\u003c\\u002fextra\\u003e\",\"legendgroup\":\"Eeth Koth\",\"marker\":{\"color\":\"#00cc96\",\"symbol\":\"circle\"},\"mode\":\"markers\",\"name\":\"Eeth Koth\",\"orientation\":\"v\",\"showlegend\":true,\"x\":[\"171\"],\"xaxis\":\"x\",\"y\":[\"brown\"],\"yaxis\":\"y\",\"type\":\"scatter\"},{\"hovertemplate\":\"name=Adi Gallia\\u003cbr\\u003eChi\\u1ec1u cao=%{x}\\u003cbr\\u003eM\\u00e0u m\\u1eaft=%{y}\\u003cextra\\u003e\\u003c\\u002fextra\\u003e\",\"legendgroup\":\"Adi Gallia\",\"marker\":{\"color\":\"#ab63fa\",\"symbol\":\"circle\"},\"mode\":\"markers\",\"name\":\"Adi Gallia\",\"orientation\":\"v\",\"showlegend\":true,\"x\":[\"184\"],\"xaxis\":\"x\",\"y\":[\"blue\"],\"yaxis\":\"y\",\"type\":\"scatter\"},{\"hovertemplate\":\"name=Saesee Tiin\\u003cbr\\u003eChi\\u1ec1u cao=%{x}\\u003cbr\\u003eM\\u00e0u m\\u1eaft=%{y}\\u003cextra\\u003e\\u003c\\u002fextra\\u003e\",\"legendgroup\":\"Saesee Tiin\",\"marker\":{\"color\":\"#FFA15A\",\"symbol\":\"circle\"},\"mode\":\"markers\",\"name\":\"Saesee Tiin\",\"orientation\":\"v\",\"showlegend\":true,\"x\":[\"188\"],\"xaxis\":\"x\",\"y\":[\"orange\"],\"yaxis\":\"y\",\"type\":\"scatter\"},{\"hovertemplate\":\"name=Yarael Poof\\u003cbr\\u003eChi\\u1ec1u cao=%{x}\\u003cbr\\u003eM\\u00e0u m\\u1eaft=%{y}\\u003cextra\\u003e\\u003c\\u002fextra\\u003e\",\"legendgroup\":\"Yarael Poof\",\"marker\":{\"color\":\"#19d3f3\",\"symbol\":\"circle\"},\"mode\":\"markers\",\"name\":\"Yarael Poof\",\"orientation\":\"v\",\"showlegend\":true,\"x\":[\"264\"],\"xaxis\":\"x\",\"y\":[\"yellow\"],\"yaxis\":\"y\",\"type\":\"scatter\"},{\"hovertemplate\":\"name=Plo Koon\\u003cbr\\u003eChi\\u1ec1u cao=%{x}\\u003cbr\\u003eM\\u00e0u m\\u1eaft=%{y}\\u003cextra\\u003e\\u003c\\u002fextra\\u003e\",\"legendgroup\":\"Plo Koon\",\"marker\":{\"color\":\"#FF6692\",\"symbol\":\"circle\"},\"mode\":\"markers\",\"name\":\"Plo Koon\",\"orientation\":\"v\",\"showlegend\":true,\"x\":[\"188\"],\"xaxis\":\"x\",\"y\":[\"black\"],\"yaxis\":\"y\",\"type\":\"scatter\"},{\"hovertemplate\":\"name=Mas Amedda\\u003cbr\\u003eChi\\u1ec1u cao=%{x}\\u003cbr\\u003eM\\u00e0u m\\u1eaft=%{y}\\u003cextra\\u003e\\u003c\\u002fextra\\u003e\",\"legendgroup\":\"Mas Amedda\",\"marker\":{\"color\":\"#B6E880\",\"symbol\":\"circle\"},\"mode\":\"markers\",\"name\":\"Mas Amedda\",\"orientation\":\"v\",\"showlegend\":true,\"x\":[\"196\"],\"xaxis\":\"x\",\"y\":[\"blue\"],\"yaxis\":\"y\",\"type\":\"scatter\"},{\"hovertemplate\":\"name=Gregar Typho\\u003cbr\\u003eChi\\u1ec1u cao=%{x}\\u003cbr\\u003eM\\u00e0u m\\u1eaft=%{y}\\u003cextra\\u003e\\u003c\\u002fextra\\u003e\",\"legendgroup\":\"Gregar Typho\",\"marker\":{\"color\":\"#FF97FF\",\"symbol\":\"circle\"},\"mode\":\"markers\",\"name\":\"Gregar Typho\",\"orientation\":\"v\",\"showlegend\":true,\"x\":[\"185\"],\"xaxis\":\"x\",\"y\":[\"brown\"],\"yaxis\":\"y\",\"type\":\"scatter\"},{\"hovertemplate\":\"name=Cord\\u00e9\\u003cbr\\u003eChi\\u1ec1u cao=%{x}\\u003cbr\\u003eM\\u00e0u m\\u1eaft=%{y}\\u003cextra\\u003e\\u003c\\u002fextra\\u003e\",\"legendgroup\":\"Cord\\u00e9\",\"marker\":{\"color\":\"#FECB52\",\"symbol\":\"circle\"},\"mode\":\"markers\",\"name\":\"Cord\\u00e9\",\"orientation\":\"v\",\"showlegend\":true,\"x\":[\"157\"],\"xaxis\":\"x\",\"y\":[\"brown\"],\"yaxis\":\"y\",\"type\":\"scatter\"},{\"hovertemplate\":\"name=Cliegg Lars\\u003cbr\\u003eChi\\u1ec1u cao=%{x}\\u003cbr\\u003eM\\u00e0u m\\u1eaft=%{y}\\u003cextra\\u003e\\u003c\\u002fextra\\u003e\",\"legendgroup\":\"Cliegg Lars\",\"marker\":{\"color\":\"#636efa\",\"symbol\":\"circle\"},\"mode\":\"markers\",\"name\":\"Cliegg Lars\",\"orientation\":\"v\",\"showlegend\":true,\"x\":[\"183\"],\"xaxis\":\"x\",\"y\":[\"blue\"],\"yaxis\":\"y\",\"type\":\"scatter\"},{\"hovertemplate\":\"name=Poggle the Lesser\\u003cbr\\u003eChi\\u1ec1u cao=%{x}\\u003cbr\\u003eM\\u00e0u m\\u1eaft=%{y}\\u003cextra\\u003e\\u003c\\u002fextra\\u003e\",\"legendgroup\":\"Poggle the Lesser\",\"marker\":{\"color\":\"#EF553B\",\"symbol\":\"circle\"},\"mode\":\"markers\",\"name\":\"Poggle the Lesser\",\"orientation\":\"v\",\"showlegend\":true,\"x\":[\"183\"],\"xaxis\":\"x\",\"y\":[\"yellow\"],\"yaxis\":\"y\",\"type\":\"scatter\"},{\"hovertemplate\":\"name=Luminara Unduli\\u003cbr\\u003eChi\\u1ec1u cao=%{x}\\u003cbr\\u003eM\\u00e0u m\\u1eaft=%{y}\\u003cextra\\u003e\\u003c\\u002fextra\\u003e\",\"legendgroup\":\"Luminara Unduli\",\"marker\":{\"color\":\"#00cc96\",\"symbol\":\"circle\"},\"mode\":\"markers\",\"name\":\"Luminara Unduli\",\"orientation\":\"v\",\"showlegend\":true,\"x\":[\"170\"],\"xaxis\":\"x\",\"y\":[\"blue\"],\"yaxis\":\"y\",\"type\":\"scatter\"},{\"hovertemplate\":\"name=Barriss Offee\\u003cbr\\u003eChi\\u1ec1u cao=%{x}\\u003cbr\\u003eM\\u00e0u m\\u1eaft=%{y}\\u003cextra\\u003e\\u003c\\u002fextra\\u003e\",\"legendgroup\":\"Barriss Offee\",\"marker\":{\"color\":\"#ab63fa\",\"symbol\":\"circle\"},\"mode\":\"markers\",\"name\":\"Barriss Offee\",\"orientation\":\"v\",\"showlegend\":true,\"x\":[\"166\"],\"xaxis\":\"x\",\"y\":[\"blue\"],\"yaxis\":\"y\",\"type\":\"scatter\"},{\"hovertemplate\":\"name=Dorm\\u00e9\\u003cbr\\u003eChi\\u1ec1u cao=%{x}\\u003cbr\\u003eM\\u00e0u m\\u1eaft=%{y}\\u003cextra\\u003e\\u003c\\u002fextra\\u003e\",\"legendgroup\":\"Dorm\\u00e9\",\"marker\":{\"color\":\"#FFA15A\",\"symbol\":\"circle\"},\"mode\":\"markers\",\"name\":\"Dorm\\u00e9\",\"orientation\":\"v\",\"showlegend\":true,\"x\":[\"165\"],\"xaxis\":\"x\",\"y\":[\"brown\"],\"yaxis\":\"y\",\"type\":\"scatter\"},{\"hovertemplate\":\"name=Dooku\\u003cbr\\u003eChi\\u1ec1u cao=%{x}\\u003cbr\\u003eM\\u00e0u m\\u1eaft=%{y}\\u003cextra\\u003e\\u003c\\u002fextra\\u003e\",\"legendgroup\":\"Dooku\",\"marker\":{\"color\":\"#19d3f3\",\"symbol\":\"circle\"},\"mode\":\"markers\",\"name\":\"Dooku\",\"orientation\":\"v\",\"showlegend\":true,\"x\":[\"193\"],\"xaxis\":\"x\",\"y\":[\"brown\"],\"yaxis\":\"y\",\"type\":\"scatter\"},{\"hovertemplate\":\"name=Bail Prestor Organa\\u003cbr\\u003eChi\\u1ec1u cao=%{x}\\u003cbr\\u003eM\\u00e0u m\\u1eaft=%{y}\\u003cextra\\u003e\\u003c\\u002fextra\\u003e\",\"legendgroup\":\"Bail Prestor Organa\",\"marker\":{\"color\":\"#FF6692\",\"symbol\":\"circle\"},\"mode\":\"markers\",\"name\":\"Bail Prestor Organa\",\"orientation\":\"v\",\"showlegend\":true,\"x\":[\"191\"],\"xaxis\":\"x\",\"y\":[\"brown\"],\"yaxis\":\"y\",\"type\":\"scatter\"},{\"hovertemplate\":\"name=Jango Fett\\u003cbr\\u003eChi\\u1ec1u cao=%{x}\\u003cbr\\u003eM\\u00e0u m\\u1eaft=%{y}\\u003cextra\\u003e\\u003c\\u002fextra\\u003e\",\"legendgroup\":\"Jango Fett\",\"marker\":{\"color\":\"#B6E880\",\"symbol\":\"circle\"},\"mode\":\"markers\",\"name\":\"Jango Fett\",\"orientation\":\"v\",\"showlegend\":true,\"x\":[\"183\"],\"xaxis\":\"x\",\"y\":[\"brown\"],\"yaxis\":\"y\",\"type\":\"scatter\"},{\"hovertemplate\":\"name=Zam Wesell\\u003cbr\\u003eChi\\u1ec1u cao=%{x}\\u003cbr\\u003eM\\u00e0u m\\u1eaft=%{y}\\u003cextra\\u003e\\u003c\\u002fextra\\u003e\",\"legendgroup\":\"Zam Wesell\",\"marker\":{\"color\":\"#FF97FF\",\"symbol\":\"circle\"},\"mode\":\"markers\",\"name\":\"Zam Wesell\",\"orientation\":\"v\",\"showlegend\":true,\"x\":[\"168\"],\"xaxis\":\"x\",\"y\":[\"yellow\"],\"yaxis\":\"y\",\"type\":\"scatter\"},{\"hovertemplate\":\"name=Dexter Jettster\\u003cbr\\u003eChi\\u1ec1u cao=%{x}\\u003cbr\\u003eM\\u00e0u m\\u1eaft=%{y}\\u003cextra\\u003e\\u003c\\u002fextra\\u003e\",\"legendgroup\":\"Dexter Jettster\",\"marker\":{\"color\":\"#FECB52\",\"symbol\":\"circle\"},\"mode\":\"markers\",\"name\":\"Dexter Jettster\",\"orientation\":\"v\",\"showlegend\":true,\"x\":[\"198\"],\"xaxis\":\"x\",\"y\":[\"yellow\"],\"yaxis\":\"y\",\"type\":\"scatter\"},{\"hovertemplate\":\"name=Lama Su\\u003cbr\\u003eChi\\u1ec1u cao=%{x}\\u003cbr\\u003eM\\u00e0u m\\u1eaft=%{y}\\u003cextra\\u003e\\u003c\\u002fextra\\u003e\",\"legendgroup\":\"Lama Su\",\"marker\":{\"color\":\"#636efa\",\"symbol\":\"circle\"},\"mode\":\"markers\",\"name\":\"Lama Su\",\"orientation\":\"v\",\"showlegend\":true,\"x\":[\"229\"],\"xaxis\":\"x\",\"y\":[\"black\"],\"yaxis\":\"y\",\"type\":\"scatter\"},{\"hovertemplate\":\"name=Taun We\\u003cbr\\u003eChi\\u1ec1u cao=%{x}\\u003cbr\\u003eM\\u00e0u m\\u1eaft=%{y}\\u003cextra\\u003e\\u003c\\u002fextra\\u003e\",\"legendgroup\":\"Taun We\",\"marker\":{\"color\":\"#EF553B\",\"symbol\":\"circle\"},\"mode\":\"markers\",\"name\":\"Taun We\",\"orientation\":\"v\",\"showlegend\":true,\"x\":[\"213\"],\"xaxis\":\"x\",\"y\":[\"black\"],\"yaxis\":\"y\",\"type\":\"scatter\"},{\"hovertemplate\":\"name=Jocasta Nu\\u003cbr\\u003eChi\\u1ec1u cao=%{x}\\u003cbr\\u003eM\\u00e0u m\\u1eaft=%{y}\\u003cextra\\u003e\\u003c\\u002fextra\\u003e\",\"legendgroup\":\"Jocasta Nu\",\"marker\":{\"color\":\"#00cc96\",\"symbol\":\"circle\"},\"mode\":\"markers\",\"name\":\"Jocasta Nu\",\"orientation\":\"v\",\"showlegend\":true,\"x\":[\"167\"],\"xaxis\":\"x\",\"y\":[\"blue\"],\"yaxis\":\"y\",\"type\":\"scatter\"},{\"hovertemplate\":\"name=R4-P17\\u003cbr\\u003eChi\\u1ec1u cao=%{x}\\u003cbr\\u003eM\\u00e0u m\\u1eaft=%{y}\\u003cextra\\u003e\\u003c\\u002fextra\\u003e\",\"legendgroup\":\"R4-P17\",\"marker\":{\"color\":\"#ab63fa\",\"symbol\":\"circle\"},\"mode\":\"markers\",\"name\":\"R4-P17\",\"orientation\":\"v\",\"showlegend\":true,\"x\":[\"96\"],\"xaxis\":\"x\",\"y\":[\"red, blue\"],\"yaxis\":\"y\",\"type\":\"scatter\"},{\"hovertemplate\":\"name=Wat Tambor\\u003cbr\\u003eChi\\u1ec1u cao=%{x}\\u003cbr\\u003eM\\u00e0u m\\u1eaft=%{y}\\u003cextra\\u003e\\u003c\\u002fextra\\u003e\",\"legendgroup\":\"Wat Tambor\",\"marker\":{\"color\":\"#FFA15A\",\"symbol\":\"circle\"},\"mode\":\"markers\",\"name\":\"Wat Tambor\",\"orientation\":\"v\",\"showlegend\":true,\"x\":[\"193\"],\"xaxis\":\"x\",\"y\":[\"unknown\"],\"yaxis\":\"y\",\"type\":\"scatter\"},{\"hovertemplate\":\"name=San Hill\\u003cbr\\u003eChi\\u1ec1u cao=%{x}\\u003cbr\\u003eM\\u00e0u m\\u1eaft=%{y}\\u003cextra\\u003e\\u003c\\u002fextra\\u003e\",\"legendgroup\":\"San Hill\",\"marker\":{\"color\":\"#19d3f3\",\"symbol\":\"circle\"},\"mode\":\"markers\",\"name\":\"San Hill\",\"orientation\":\"v\",\"showlegend\":true,\"x\":[\"191\"],\"xaxis\":\"x\",\"y\":[\"gold\"],\"yaxis\":\"y\",\"type\":\"scatter\"},{\"hovertemplate\":\"name=Shaak Ti\\u003cbr\\u003eChi\\u1ec1u cao=%{x}\\u003cbr\\u003eM\\u00e0u m\\u1eaft=%{y}\\u003cextra\\u003e\\u003c\\u002fextra\\u003e\",\"legendgroup\":\"Shaak Ti\",\"marker\":{\"color\":\"#FF6692\",\"symbol\":\"circle\"},\"mode\":\"markers\",\"name\":\"Shaak Ti\",\"orientation\":\"v\",\"showlegend\":true,\"x\":[\"178\"],\"xaxis\":\"x\",\"y\":[\"black\"],\"yaxis\":\"y\",\"type\":\"scatter\"},{\"hovertemplate\":\"name=Grievous\\u003cbr\\u003eChi\\u1ec1u cao=%{x}\\u003cbr\\u003eM\\u00e0u m\\u1eaft=%{y}\\u003cextra\\u003e\\u003c\\u002fextra\\u003e\",\"legendgroup\":\"Grievous\",\"marker\":{\"color\":\"#B6E880\",\"symbol\":\"circle\"},\"mode\":\"markers\",\"name\":\"Grievous\",\"orientation\":\"v\",\"showlegend\":true,\"x\":[\"216\"],\"xaxis\":\"x\",\"y\":[\"green, yellow\"],\"yaxis\":\"y\",\"type\":\"scatter\"},{\"hovertemplate\":\"name=Tarfful\\u003cbr\\u003eChi\\u1ec1u cao=%{x}\\u003cbr\\u003eM\\u00e0u m\\u1eaft=%{y}\\u003cextra\\u003e\\u003c\\u002fextra\\u003e\",\"legendgroup\":\"Tarfful\",\"marker\":{\"color\":\"#FF97FF\",\"symbol\":\"circle\"},\"mode\":\"markers\",\"name\":\"Tarfful\",\"orientation\":\"v\",\"showlegend\":true,\"x\":[\"234\"],\"xaxis\":\"x\",\"y\":[\"blue\"],\"yaxis\":\"y\",\"type\":\"scatter\"},{\"hovertemplate\":\"name=Raymus Antilles\\u003cbr\\u003eChi\\u1ec1u cao=%{x}\\u003cbr\\u003eM\\u00e0u m\\u1eaft=%{y}\\u003cextra\\u003e\\u003c\\u002fextra\\u003e\",\"legendgroup\":\"Raymus Antilles\",\"marker\":{\"color\":\"#FECB52\",\"symbol\":\"circle\"},\"mode\":\"markers\",\"name\":\"Raymus Antilles\",\"orientation\":\"v\",\"showlegend\":true,\"x\":[\"188\"],\"xaxis\":\"x\",\"y\":[\"brown\"],\"yaxis\":\"y\",\"type\":\"scatter\"},{\"hovertemplate\":\"name=Sly Moore\\u003cbr\\u003eChi\\u1ec1u cao=%{x}\\u003cbr\\u003eM\\u00e0u m\\u1eaft=%{y}\\u003cextra\\u003e\\u003c\\u002fextra\\u003e\",\"legendgroup\":\"Sly Moore\",\"marker\":{\"color\":\"#636efa\",\"symbol\":\"circle\"},\"mode\":\"markers\",\"name\":\"Sly Moore\",\"orientation\":\"v\",\"showlegend\":true,\"x\":[\"178\"],\"xaxis\":\"x\",\"y\":[\"white\"],\"yaxis\":\"y\",\"type\":\"scatter\"},{\"hovertemplate\":\"name=Tion Medon\\u003cbr\\u003eChi\\u1ec1u cao=%{x}\\u003cbr\\u003eM\\u00e0u m\\u1eaft=%{y}\\u003cextra\\u003e\\u003c\\u002fextra\\u003e\",\"legendgroup\":\"Tion Medon\",\"marker\":{\"color\":\"#EF553B\",\"symbol\":\"circle\"},\"mode\":\"markers\",\"name\":\"Tion Medon\",\"orientation\":\"v\",\"showlegend\":true,\"x\":[\"206\"],\"xaxis\":\"x\",\"y\":[\"black\"],\"yaxis\":\"y\",\"type\":\"scatter\"}],                        {\"template\":{\"data\":{\"histogram2dcontour\":[{\"type\":\"histogram2dcontour\",\"colorbar\":{\"outlinewidth\":0,\"ticks\":\"\"},\"colorscale\":[[0.0,\"#0d0887\"],[0.1111111111111111,\"#46039f\"],[0.2222222222222222,\"#7201a8\"],[0.3333333333333333,\"#9c179e\"],[0.4444444444444444,\"#bd3786\"],[0.5555555555555556,\"#d8576b\"],[0.6666666666666666,\"#ed7953\"],[0.7777777777777778,\"#fb9f3a\"],[0.8888888888888888,\"#fdca26\"],[1.0,\"#f0f921\"]]}],\"choropleth\":[{\"type\":\"choropleth\",\"colorbar\":{\"outlinewidth\":0,\"ticks\":\"\"}}],\"histogram2d\":[{\"type\":\"histogram2d\",\"colorbar\":{\"outlinewidth\":0,\"ticks\":\"\"},\"colorscale\":[[0.0,\"#0d0887\"],[0.1111111111111111,\"#46039f\"],[0.2222222222222222,\"#7201a8\"],[0.3333333333333333,\"#9c179e\"],[0.4444444444444444,\"#bd3786\"],[0.5555555555555556,\"#d8576b\"],[0.6666666666666666,\"#ed7953\"],[0.7777777777777778,\"#fb9f3a\"],[0.8888888888888888,\"#fdca26\"],[1.0,\"#f0f921\"]]}],\"heatmap\":[{\"type\":\"heatmap\",\"colorbar\":{\"outlinewidth\":0,\"ticks\":\"\"},\"colorscale\":[[0.0,\"#0d0887\"],[0.1111111111111111,\"#46039f\"],[0.2222222222222222,\"#7201a8\"],[0.3333333333333333,\"#9c179e\"],[0.4444444444444444,\"#bd3786\"],[0.5555555555555556,\"#d8576b\"],[0.6666666666666666,\"#ed7953\"],[0.7777777777777778,\"#fb9f3a\"],[0.8888888888888888,\"#fdca26\"],[1.0,\"#f0f921\"]]}],\"heatmapgl\":[{\"type\":\"heatmapgl\",\"colorbar\":{\"outlinewidth\":0,\"ticks\":\"\"},\"colorscale\":[[0.0,\"#0d0887\"],[0.1111111111111111,\"#46039f\"],[0.2222222222222222,\"#7201a8\"],[0.3333333333333333,\"#9c179e\"],[0.4444444444444444,\"#bd3786\"],[0.5555555555555556,\"#d8576b\"],[0.6666666666666666,\"#ed7953\"],[0.7777777777777778,\"#fb9f3a\"],[0.8888888888888888,\"#fdca26\"],[1.0,\"#f0f921\"]]}],\"contourcarpet\":[{\"type\":\"contourcarpet\",\"colorbar\":{\"outlinewidth\":0,\"ticks\":\"\"}}],\"contour\":[{\"type\":\"contour\",\"colorbar\":{\"outlinewidth\":0,\"ticks\":\"\"},\"colorscale\":[[0.0,\"#0d0887\"],[0.1111111111111111,\"#46039f\"],[0.2222222222222222,\"#7201a8\"],[0.3333333333333333,\"#9c179e\"],[0.4444444444444444,\"#bd3786\"],[0.5555555555555556,\"#d8576b\"],[0.6666666666666666,\"#ed7953\"],[0.7777777777777778,\"#fb9f3a\"],[0.8888888888888888,\"#fdca26\"],[1.0,\"#f0f921\"]]}],\"surface\":[{\"type\":\"surface\",\"colorbar\":{\"outlinewidth\":0,\"ticks\":\"\"},\"colorscale\":[[0.0,\"#0d0887\"],[0.1111111111111111,\"#46039f\"],[0.2222222222222222,\"#7201a8\"],[0.3333333333333333,\"#9c179e\"],[0.4444444444444444,\"#bd3786\"],[0.5555555555555556,\"#d8576b\"],[0.6666666666666666,\"#ed7953\"],[0.7777777777777778,\"#fb9f3a\"],[0.8888888888888888,\"#fdca26\"],[1.0,\"#f0f921\"]]}],\"mesh3d\":[{\"type\":\"mesh3d\",\"colorbar\":{\"outlinewidth\":0,\"ticks\":\"\"}}],\"scatter\":[{\"fillpattern\":{\"fillmode\":\"overlay\",\"size\":10,\"solidity\":0.2},\"type\":\"scatter\"}],\"parcoords\":[{\"type\":\"parcoords\",\"line\":{\"colorbar\":{\"outlinewidth\":0,\"ticks\":\"\"}}}],\"scatterpolargl\":[{\"type\":\"scatterpolargl\",\"marker\":{\"colorbar\":{\"outlinewidth\":0,\"ticks\":\"\"}}}],\"bar\":[{\"error_x\":{\"color\":\"#2a3f5f\"},\"error_y\":{\"color\":\"#2a3f5f\"},\"marker\":{\"line\":{\"color\":\"#E5ECF6\",\"width\":0.5},\"pattern\":{\"fillmode\":\"overlay\",\"size\":10,\"solidity\":0.2}},\"type\":\"bar\"}],\"scattergeo\":[{\"type\":\"scattergeo\",\"marker\":{\"colorbar\":{\"outlinewidth\":0,\"ticks\":\"\"}}}],\"scatterpolar\":[{\"type\":\"scatterpolar\",\"marker\":{\"colorbar\":{\"outlinewidth\":0,\"ticks\":\"\"}}}],\"histogram\":[{\"marker\":{\"pattern\":{\"fillmode\":\"overlay\",\"size\":10,\"solidity\":0.2}},\"type\":\"histogram\"}],\"scattergl\":[{\"type\":\"scattergl\",\"marker\":{\"colorbar\":{\"outlinewidth\":0,\"ticks\":\"\"}}}],\"scatter3d\":[{\"type\":\"scatter3d\",\"line\":{\"colorbar\":{\"outlinewidth\":0,\"ticks\":\"\"}},\"marker\":{\"colorbar\":{\"outlinewidth\":0,\"ticks\":\"\"}}}],\"scattermapbox\":[{\"type\":\"scattermapbox\",\"marker\":{\"colorbar\":{\"outlinewidth\":0,\"ticks\":\"\"}}}],\"scatterternary\":[{\"type\":\"scatterternary\",\"marker\":{\"colorbar\":{\"outlinewidth\":0,\"ticks\":\"\"}}}],\"scattercarpet\":[{\"type\":\"scattercarpet\",\"marker\":{\"colorbar\":{\"outlinewidth\":0,\"ticks\":\"\"}}}],\"carpet\":[{\"aaxis\":{\"endlinecolor\":\"#2a3f5f\",\"gridcolor\":\"white\",\"linecolor\":\"white\",\"minorgridcolor\":\"white\",\"startlinecolor\":\"#2a3f5f\"},\"baxis\":{\"endlinecolor\":\"#2a3f5f\",\"gridcolor\":\"white\",\"linecolor\":\"white\",\"minorgridcolor\":\"white\",\"startlinecolor\":\"#2a3f5f\"},\"type\":\"carpet\"}],\"table\":[{\"cells\":{\"fill\":{\"color\":\"#EBF0F8\"},\"line\":{\"color\":\"white\"}},\"header\":{\"fill\":{\"color\":\"#C8D4E3\"},\"line\":{\"color\":\"white\"}},\"type\":\"table\"}],\"barpolar\":[{\"marker\":{\"line\":{\"color\":\"#E5ECF6\",\"width\":0.5},\"pattern\":{\"fillmode\":\"overlay\",\"size\":10,\"solidity\":0.2}},\"type\":\"barpolar\"}],\"pie\":[{\"automargin\":true,\"type\":\"pie\"}]},\"layout\":{\"autotypenumbers\":\"strict\",\"colorway\":[\"#636efa\",\"#EF553B\",\"#00cc96\",\"#ab63fa\",\"#FFA15A\",\"#19d3f3\",\"#FF6692\",\"#B6E880\",\"#FF97FF\",\"#FECB52\"],\"font\":{\"color\":\"#2a3f5f\"},\"hovermode\":\"closest\",\"hoverlabel\":{\"align\":\"left\"},\"paper_bgcolor\":\"white\",\"plot_bgcolor\":\"#E5ECF6\",\"polar\":{\"bgcolor\":\"#E5ECF6\",\"angularaxis\":{\"gridcolor\":\"white\",\"linecolor\":\"white\",\"ticks\":\"\"},\"radialaxis\":{\"gridcolor\":\"white\",\"linecolor\":\"white\",\"ticks\":\"\"}},\"ternary\":{\"bgcolor\":\"#E5ECF6\",\"aaxis\":{\"gridcolor\":\"white\",\"linecolor\":\"white\",\"ticks\":\"\"},\"baxis\":{\"gridcolor\":\"white\",\"linecolor\":\"white\",\"ticks\":\"\"},\"caxis\":{\"gridcolor\":\"white\",\"linecolor\":\"white\",\"ticks\":\"\"}},\"coloraxis\":{\"colorbar\":{\"outlinewidth\":0,\"ticks\":\"\"}},\"colorscale\":{\"sequential\":[[0.0,\"#0d0887\"],[0.1111111111111111,\"#46039f\"],[0.2222222222222222,\"#7201a8\"],[0.3333333333333333,\"#9c179e\"],[0.4444444444444444,\"#bd3786\"],[0.5555555555555556,\"#d8576b\"],[0.6666666666666666,\"#ed7953\"],[0.7777777777777778,\"#fb9f3a\"],[0.8888888888888888,\"#fdca26\"],[1.0,\"#f0f921\"]],\"sequentialminus\":[[0.0,\"#0d0887\"],[0.1111111111111111,\"#46039f\"],[0.2222222222222222,\"#7201a8\"],[0.3333333333333333,\"#9c179e\"],[0.4444444444444444,\"#bd3786\"],[0.5555555555555556,\"#d8576b\"],[0.6666666666666666,\"#ed7953\"],[0.7777777777777778,\"#fb9f3a\"],[0.8888888888888888,\"#fdca26\"],[1.0,\"#f0f921\"]],\"diverging\":[[0,\"#8e0152\"],[0.1,\"#c51b7d\"],[0.2,\"#de77ae\"],[0.3,\"#f1b6da\"],[0.4,\"#fde0ef\"],[0.5,\"#f7f7f7\"],[0.6,\"#e6f5d0\"],[0.7,\"#b8e186\"],[0.8,\"#7fbc41\"],[0.9,\"#4d9221\"],[1,\"#276419\"]]},\"xaxis\":{\"gridcolor\":\"white\",\"linecolor\":\"white\",\"ticks\":\"\",\"title\":{\"standoff\":15},\"zerolinecolor\":\"white\",\"automargin\":true,\"zerolinewidth\":2},\"yaxis\":{\"gridcolor\":\"white\",\"linecolor\":\"white\",\"ticks\":\"\",\"title\":{\"standoff\":15},\"zerolinecolor\":\"white\",\"automargin\":true,\"zerolinewidth\":2},\"scene\":{\"xaxis\":{\"backgroundcolor\":\"#E5ECF6\",\"gridcolor\":\"white\",\"linecolor\":\"white\",\"showbackground\":true,\"ticks\":\"\",\"zerolinecolor\":\"white\",\"gridwidth\":2},\"yaxis\":{\"backgroundcolor\":\"#E5ECF6\",\"gridcolor\":\"white\",\"linecolor\":\"white\",\"showbackground\":true,\"ticks\":\"\",\"zerolinecolor\":\"white\",\"gridwidth\":2},\"zaxis\":{\"backgroundcolor\":\"#E5ECF6\",\"gridcolor\":\"white\",\"linecolor\":\"white\",\"showbackground\":true,\"ticks\":\"\",\"zerolinecolor\":\"white\",\"gridwidth\":2}},\"shapedefaults\":{\"line\":{\"color\":\"#2a3f5f\"}},\"annotationdefaults\":{\"arrowcolor\":\"#2a3f5f\",\"arrowhead\":0,\"arrowwidth\":1},\"geo\":{\"bgcolor\":\"white\",\"landcolor\":\"#E5ECF6\",\"subunitcolor\":\"white\",\"showland\":true,\"showlakes\":true,\"lakecolor\":\"white\"},\"title\":{\"x\":0.05},\"mapbox\":{\"style\":\"light\"}}},\"xaxis\":{\"anchor\":\"y\",\"domain\":[0.0,1.0],\"title\":{\"text\":\"Chi\\u1ec1u cao (cm)\"},\"showgrid\":false},\"yaxis\":{\"anchor\":\"x\",\"domain\":[0.0,1.0],\"title\":{\"text\":\"M\\u00e0u m\\u1eaft\"},\"showgrid\":false},\"legend\":{\"title\":{\"text\":\"name\"},\"tracegroupgap\":0},\"title\":{\"text\":\"Chi\\u1ec1u cao vs M\\u00e0u m\\u1eaft\"},\"font\":{\"family\":\"Arial, sans-serif\",\"size\":14,\"color\":\"black\"},\"plot_bgcolor\":\"rgba(255,255,255,0.9)\",\"paper_bgcolor\":\"rgba(255,255,255,0.9)\"},                        {\"responsive\": true}                    ).then(function(){\n",
              "                            \n",
              "var gd = document.getElementById('d8b40f4a-5200-47ca-b87d-4706d8e82a61');\n",
              "var x = new MutationObserver(function (mutations, observer) {{\n",
              "        var display = window.getComputedStyle(gd).display;\n",
              "        if (!display || display === 'none') {{\n",
              "            console.log([gd, 'removed!']);\n",
              "            Plotly.purge(gd);\n",
              "            observer.disconnect();\n",
              "        }}\n",
              "}});\n",
              "\n",
              "// Listen for the removal of the full notebook cells\n",
              "var notebookContainer = gd.closest('#notebook-container');\n",
              "if (notebookContainer) {{\n",
              "    x.observe(notebookContainer, {childList: true});\n",
              "}}\n",
              "\n",
              "// Listen for the clearing of the current output cell\n",
              "var outputEl = gd.closest('.output');\n",
              "if (outputEl) {{\n",
              "    x.observe(outputEl, {childList: true});\n",
              "}}\n",
              "\n",
              "                        })                };                            </script>        </div>\n",
              "</body>\n",
              "</html>"
            ]
          },
          "metadata": {}
        }
      ]
    },
    {
      "cell_type": "markdown",
      "source": [
        "**Nhận xét chung:**\n",
        "\n",
        "- Biểu đồ scatter này biểu thị sự phân bố của các nhân vật trong vũ trụ Star Wars dựa trên khối lượng và hành tinh quê hương của họ. Mỗi điểm trên biểu đồ biểu thị cho một nhân vật cụ thể, được mã hóa màu sắc để dễ dàng phân biệt.\n",
        "\n",
        "- Màu sắc của từng điểm biểu thị cho tên của nhân vật tương ứng, giúp xác định và nhận diện mỗi nhân vật một cách nhanh chóng trên biểu đồ.\n",
        "\n",
        "**Phân tích cụ thể:**\n",
        "\n",
        "1. **Mối quan hệ giữa khối lượng và hành tinh quê hương:**\n",
        "   - Biểu đồ cho thấy không có mối quan hệ rõ ràng giữa khối lượng và hành tinh quê hương của các nhân vật. Điều này cho thấy rằng khối lượng của mỗi nhân vật không phụ thuộc vào hành tinh mà họ đến từ.\n",
        "\n",
        "2. **Sự đa dạng về khối lượng và hành tinh quê hương:**\n",
        "   - Các nhân vật có khối lượng và hành tinh quê hương đa dạng, từ các hành tinh lớn như Earth và Mars đến các hành tinh nhỏ như Pluto và Moon.\n",
        "   - Điều này phản ánh sự phong phú và đa dạng trong vũ trụ Star Wars, nơi mà các nhân vật có thể đến từ nhiều hành tinh khác nhau.\n",
        "\n",
        "**Tổng kết:**\n",
        "\n",
        "- Biểu đồ scatter này không chỉ minh họa sự phân bố của khối lượng và hành tinh quê hương trong vũ trụ Star Wars mà còn giúp nhìn nhận sự đa dạng và phong phú của các nhân vật trong loạt phim này. Việc hiểu rõ sự phân phối này có thể giúp người hâm mộ và các nhà nghiên cứu tạo ra những câu chuyện phong phú hơn và khám phá thêm về thế giới Star Wars."
      ],
      "metadata": {
        "id": "faPW6bVowrLQ"
      }
    },
    {
      "cell_type": "markdown",
      "source": [
        "3.3. Mass and Homeworld"
      ],
      "metadata": {
        "id": "nm9kuWA8IRY-"
      }
    },
    {
      "cell_type": "code",
      "source": [
        "# 11. Biểu đồ Phân phối Khối lượng và hành tinh quê hương\n",
        "\n",
        "# Trích xuất các trường từ dữ liệu\n",
        "characters = [{'mass': char['fields']['mass'], 'homeworld': char['fields']['homeworld'], 'name': char['fields']['name']} for char in data]\n",
        "\n",
        "# Tạo DataFrame từ dữ liệu\n",
        "df = pd.DataFrame(characters)\n",
        "\n",
        "# Sử dụng Plotly Express để vẽ biểu đồ scatter\n",
        "fig = px.scatter(df, x='mass', y='homeworld', color='name',\n",
        "                 title='Khối lượng vs Hành tinh quê hương',\n",
        "                 labels={'mass': 'Khối lượng', 'homeworld': 'Hành tinh quê hương'},\n",
        "                 size_max=15)\n",
        "\n",
        "# Cập nhật bố cục biểu đồ\n",
        "fig.update_layout(\n",
        "    xaxis_title='Khối lượng (kg)',\n",
        "    yaxis_title='Hành tinh quê hương',\n",
        "    font=dict(\n",
        "        family=\"Arial, sans-serif\",\n",
        "        size=14,\n",
        "        color=\"black\"\n",
        "    ),\n",
        "    plot_bgcolor='rgba(255,255,255,0.9)',\n",
        "    paper_bgcolor='rgba(255,255,255,0.9)',\n",
        "    xaxis=dict(showgrid=False),\n",
        "    yaxis=dict(showgrid=False)\n",
        ")\n",
        "\n",
        "# Hiển thị biểu đồ\n",
        "fig.show()"
      ],
      "metadata": {
        "colab": {
          "base_uri": "https://localhost:8080/",
          "height": 542
        },
        "id": "6im1LM8XJ2zW",
        "outputId": "41d40a4c-5dbf-444d-c097-19404c77c64f"
      },
      "execution_count": 67,
      "outputs": [
        {
          "output_type": "display_data",
          "data": {
            "text/html": [
              "<html>\n",
              "<head><meta charset=\"utf-8\" /></head>\n",
              "<body>\n",
              "    <div>            <script src=\"https://cdnjs.cloudflare.com/ajax/libs/mathjax/2.7.5/MathJax.js?config=TeX-AMS-MML_SVG\"></script><script type=\"text/javascript\">if (window.MathJax && window.MathJax.Hub && window.MathJax.Hub.Config) {window.MathJax.Hub.Config({SVG: {font: \"STIX-Web\"}});}</script>                <script type=\"text/javascript\">window.PlotlyConfig = {MathJaxConfig: 'local'};</script>\n",
              "        <script charset=\"utf-8\" src=\"https://cdn.plot.ly/plotly-2.24.1.min.js\"></script>                <div id=\"84a36a10-67c9-43bb-ba1c-38489b8bbbd7\" class=\"plotly-graph-div\" style=\"height:525px; width:100%;\"></div>            <script type=\"text/javascript\">                                    window.PLOTLYENV=window.PLOTLYENV || {};                                    if (document.getElementById(\"84a36a10-67c9-43bb-ba1c-38489b8bbbd7\")) {                    Plotly.newPlot(                        \"84a36a10-67c9-43bb-ba1c-38489b8bbbd7\",                        [{\"hovertemplate\":\"name=Luke Skywalker\\u003cbr\\u003eKh\\u1ed1i l\\u01b0\\u1ee3ng=%{x}\\u003cbr\\u003eH\\u00e0nh tinh qu\\u00ea h\\u01b0\\u01a1ng=%{y}\\u003cextra\\u003e\\u003c\\u002fextra\\u003e\",\"legendgroup\":\"Luke Skywalker\",\"marker\":{\"color\":\"#636efa\",\"symbol\":\"circle\"},\"mode\":\"markers\",\"name\":\"Luke Skywalker\",\"orientation\":\"v\",\"showlegend\":true,\"x\":[\"77\"],\"xaxis\":\"x\",\"y\":[1],\"yaxis\":\"y\",\"type\":\"scatter\"},{\"hovertemplate\":\"name=C-3PO\\u003cbr\\u003eKh\\u1ed1i l\\u01b0\\u1ee3ng=%{x}\\u003cbr\\u003eH\\u00e0nh tinh qu\\u00ea h\\u01b0\\u01a1ng=%{y}\\u003cextra\\u003e\\u003c\\u002fextra\\u003e\",\"legendgroup\":\"C-3PO\",\"marker\":{\"color\":\"#EF553B\",\"symbol\":\"circle\"},\"mode\":\"markers\",\"name\":\"C-3PO\",\"orientation\":\"v\",\"showlegend\":true,\"x\":[\"75\"],\"xaxis\":\"x\",\"y\":[1],\"yaxis\":\"y\",\"type\":\"scatter\"},{\"hovertemplate\":\"name=R2-D2\\u003cbr\\u003eKh\\u1ed1i l\\u01b0\\u1ee3ng=%{x}\\u003cbr\\u003eH\\u00e0nh tinh qu\\u00ea h\\u01b0\\u01a1ng=%{y}\\u003cextra\\u003e\\u003c\\u002fextra\\u003e\",\"legendgroup\":\"R2-D2\",\"marker\":{\"color\":\"#00cc96\",\"symbol\":\"circle\"},\"mode\":\"markers\",\"name\":\"R2-D2\",\"orientation\":\"v\",\"showlegend\":true,\"x\":[\"32\"],\"xaxis\":\"x\",\"y\":[8],\"yaxis\":\"y\",\"type\":\"scatter\"},{\"hovertemplate\":\"name=Darth Vader\\u003cbr\\u003eKh\\u1ed1i l\\u01b0\\u1ee3ng=%{x}\\u003cbr\\u003eH\\u00e0nh tinh qu\\u00ea h\\u01b0\\u01a1ng=%{y}\\u003cextra\\u003e\\u003c\\u002fextra\\u003e\",\"legendgroup\":\"Darth Vader\",\"marker\":{\"color\":\"#ab63fa\",\"symbol\":\"circle\"},\"mode\":\"markers\",\"name\":\"Darth Vader\",\"orientation\":\"v\",\"showlegend\":true,\"x\":[\"136\"],\"xaxis\":\"x\",\"y\":[1],\"yaxis\":\"y\",\"type\":\"scatter\"},{\"hovertemplate\":\"name=Leia Organa\\u003cbr\\u003eKh\\u1ed1i l\\u01b0\\u1ee3ng=%{x}\\u003cbr\\u003eH\\u00e0nh tinh qu\\u00ea h\\u01b0\\u01a1ng=%{y}\\u003cextra\\u003e\\u003c\\u002fextra\\u003e\",\"legendgroup\":\"Leia Organa\",\"marker\":{\"color\":\"#FFA15A\",\"symbol\":\"circle\"},\"mode\":\"markers\",\"name\":\"Leia Organa\",\"orientation\":\"v\",\"showlegend\":true,\"x\":[\"49\"],\"xaxis\":\"x\",\"y\":[2],\"yaxis\":\"y\",\"type\":\"scatter\"},{\"hovertemplate\":\"name=Owen Lars\\u003cbr\\u003eKh\\u1ed1i l\\u01b0\\u1ee3ng=%{x}\\u003cbr\\u003eH\\u00e0nh tinh qu\\u00ea h\\u01b0\\u01a1ng=%{y}\\u003cextra\\u003e\\u003c\\u002fextra\\u003e\",\"legendgroup\":\"Owen Lars\",\"marker\":{\"color\":\"#19d3f3\",\"symbol\":\"circle\"},\"mode\":\"markers\",\"name\":\"Owen Lars\",\"orientation\":\"v\",\"showlegend\":true,\"x\":[\"120\"],\"xaxis\":\"x\",\"y\":[1],\"yaxis\":\"y\",\"type\":\"scatter\"},{\"hovertemplate\":\"name=Beru Whitesun lars\\u003cbr\\u003eKh\\u1ed1i l\\u01b0\\u1ee3ng=%{x}\\u003cbr\\u003eH\\u00e0nh tinh qu\\u00ea h\\u01b0\\u01a1ng=%{y}\\u003cextra\\u003e\\u003c\\u002fextra\\u003e\",\"legendgroup\":\"Beru Whitesun lars\",\"marker\":{\"color\":\"#FF6692\",\"symbol\":\"circle\"},\"mode\":\"markers\",\"name\":\"Beru Whitesun lars\",\"orientation\":\"v\",\"showlegend\":true,\"x\":[\"75\"],\"xaxis\":\"x\",\"y\":[1],\"yaxis\":\"y\",\"type\":\"scatter\"},{\"hovertemplate\":\"name=R5-D4\\u003cbr\\u003eKh\\u1ed1i l\\u01b0\\u1ee3ng=%{x}\\u003cbr\\u003eH\\u00e0nh tinh qu\\u00ea h\\u01b0\\u01a1ng=%{y}\\u003cextra\\u003e\\u003c\\u002fextra\\u003e\",\"legendgroup\":\"R5-D4\",\"marker\":{\"color\":\"#B6E880\",\"symbol\":\"circle\"},\"mode\":\"markers\",\"name\":\"R5-D4\",\"orientation\":\"v\",\"showlegend\":true,\"x\":[\"32\"],\"xaxis\":\"x\",\"y\":[1],\"yaxis\":\"y\",\"type\":\"scatter\"},{\"hovertemplate\":\"name=Biggs Darklighter\\u003cbr\\u003eKh\\u1ed1i l\\u01b0\\u1ee3ng=%{x}\\u003cbr\\u003eH\\u00e0nh tinh qu\\u00ea h\\u01b0\\u01a1ng=%{y}\\u003cextra\\u003e\\u003c\\u002fextra\\u003e\",\"legendgroup\":\"Biggs Darklighter\",\"marker\":{\"color\":\"#FF97FF\",\"symbol\":\"circle\"},\"mode\":\"markers\",\"name\":\"Biggs Darklighter\",\"orientation\":\"v\",\"showlegend\":true,\"x\":[\"84\"],\"xaxis\":\"x\",\"y\":[1],\"yaxis\":\"y\",\"type\":\"scatter\"},{\"hovertemplate\":\"name=Obi-Wan Kenobi\\u003cbr\\u003eKh\\u1ed1i l\\u01b0\\u1ee3ng=%{x}\\u003cbr\\u003eH\\u00e0nh tinh qu\\u00ea h\\u01b0\\u01a1ng=%{y}\\u003cextra\\u003e\\u003c\\u002fextra\\u003e\",\"legendgroup\":\"Obi-Wan Kenobi\",\"marker\":{\"color\":\"#FECB52\",\"symbol\":\"circle\"},\"mode\":\"markers\",\"name\":\"Obi-Wan Kenobi\",\"orientation\":\"v\",\"showlegend\":true,\"x\":[\"77\"],\"xaxis\":\"x\",\"y\":[20],\"yaxis\":\"y\",\"type\":\"scatter\"},{\"hovertemplate\":\"name=Anakin Skywalker\\u003cbr\\u003eKh\\u1ed1i l\\u01b0\\u1ee3ng=%{x}\\u003cbr\\u003eH\\u00e0nh tinh qu\\u00ea h\\u01b0\\u01a1ng=%{y}\\u003cextra\\u003e\\u003c\\u002fextra\\u003e\",\"legendgroup\":\"Anakin Skywalker\",\"marker\":{\"color\":\"#636efa\",\"symbol\":\"circle\"},\"mode\":\"markers\",\"name\":\"Anakin Skywalker\",\"orientation\":\"v\",\"showlegend\":true,\"x\":[\"84\"],\"xaxis\":\"x\",\"y\":[1],\"yaxis\":\"y\",\"type\":\"scatter\"},{\"hovertemplate\":\"name=Wilhuff Tarkin\\u003cbr\\u003eKh\\u1ed1i l\\u01b0\\u1ee3ng=%{x}\\u003cbr\\u003eH\\u00e0nh tinh qu\\u00ea h\\u01b0\\u01a1ng=%{y}\\u003cextra\\u003e\\u003c\\u002fextra\\u003e\",\"legendgroup\":\"Wilhuff Tarkin\",\"marker\":{\"color\":\"#EF553B\",\"symbol\":\"circle\"},\"mode\":\"markers\",\"name\":\"Wilhuff Tarkin\",\"orientation\":\"v\",\"showlegend\":true,\"x\":[\"unknown\"],\"xaxis\":\"x\",\"y\":[21],\"yaxis\":\"y\",\"type\":\"scatter\"},{\"hovertemplate\":\"name=Chewbacca\\u003cbr\\u003eKh\\u1ed1i l\\u01b0\\u1ee3ng=%{x}\\u003cbr\\u003eH\\u00e0nh tinh qu\\u00ea h\\u01b0\\u01a1ng=%{y}\\u003cextra\\u003e\\u003c\\u002fextra\\u003e\",\"legendgroup\":\"Chewbacca\",\"marker\":{\"color\":\"#00cc96\",\"symbol\":\"circle\"},\"mode\":\"markers\",\"name\":\"Chewbacca\",\"orientation\":\"v\",\"showlegend\":true,\"x\":[\"112\"],\"xaxis\":\"x\",\"y\":[14],\"yaxis\":\"y\",\"type\":\"scatter\"},{\"hovertemplate\":\"name=Han Solo\\u003cbr\\u003eKh\\u1ed1i l\\u01b0\\u1ee3ng=%{x}\\u003cbr\\u003eH\\u00e0nh tinh qu\\u00ea h\\u01b0\\u01a1ng=%{y}\\u003cextra\\u003e\\u003c\\u002fextra\\u003e\",\"legendgroup\":\"Han Solo\",\"marker\":{\"color\":\"#ab63fa\",\"symbol\":\"circle\"},\"mode\":\"markers\",\"name\":\"Han Solo\",\"orientation\":\"v\",\"showlegend\":true,\"x\":[\"80\"],\"xaxis\":\"x\",\"y\":[22],\"yaxis\":\"y\",\"type\":\"scatter\"},{\"hovertemplate\":\"name=Greedo\\u003cbr\\u003eKh\\u1ed1i l\\u01b0\\u1ee3ng=%{x}\\u003cbr\\u003eH\\u00e0nh tinh qu\\u00ea h\\u01b0\\u01a1ng=%{y}\\u003cextra\\u003e\\u003c\\u002fextra\\u003e\",\"legendgroup\":\"Greedo\",\"marker\":{\"color\":\"#FFA15A\",\"symbol\":\"circle\"},\"mode\":\"markers\",\"name\":\"Greedo\",\"orientation\":\"v\",\"showlegend\":true,\"x\":[\"74\"],\"xaxis\":\"x\",\"y\":[23],\"yaxis\":\"y\",\"type\":\"scatter\"},{\"hovertemplate\":\"name=Jabba Desilijic Tiure\\u003cbr\\u003eKh\\u1ed1i l\\u01b0\\u1ee3ng=%{x}\\u003cbr\\u003eH\\u00e0nh tinh qu\\u00ea h\\u01b0\\u01a1ng=%{y}\\u003cextra\\u003e\\u003c\\u002fextra\\u003e\",\"legendgroup\":\"Jabba Desilijic Tiure\",\"marker\":{\"color\":\"#19d3f3\",\"symbol\":\"circle\"},\"mode\":\"markers\",\"name\":\"Jabba Desilijic Tiure\",\"orientation\":\"v\",\"showlegend\":true,\"x\":[\"1,358\"],\"xaxis\":\"x\",\"y\":[24],\"yaxis\":\"y\",\"type\":\"scatter\"},{\"hovertemplate\":\"name=Wedge Antilles\\u003cbr\\u003eKh\\u1ed1i l\\u01b0\\u1ee3ng=%{x}\\u003cbr\\u003eH\\u00e0nh tinh qu\\u00ea h\\u01b0\\u01a1ng=%{y}\\u003cextra\\u003e\\u003c\\u002fextra\\u003e\",\"legendgroup\":\"Wedge Antilles\",\"marker\":{\"color\":\"#FF6692\",\"symbol\":\"circle\"},\"mode\":\"markers\",\"name\":\"Wedge Antilles\",\"orientation\":\"v\",\"showlegend\":true,\"x\":[\"77\"],\"xaxis\":\"x\",\"y\":[22],\"yaxis\":\"y\",\"type\":\"scatter\"},{\"hovertemplate\":\"name=Jek Tono Porkins\\u003cbr\\u003eKh\\u1ed1i l\\u01b0\\u1ee3ng=%{x}\\u003cbr\\u003eH\\u00e0nh tinh qu\\u00ea h\\u01b0\\u01a1ng=%{y}\\u003cextra\\u003e\\u003c\\u002fextra\\u003e\",\"legendgroup\":\"Jek Tono Porkins\",\"marker\":{\"color\":\"#B6E880\",\"symbol\":\"circle\"},\"mode\":\"markers\",\"name\":\"Jek Tono Porkins\",\"orientation\":\"v\",\"showlegend\":true,\"x\":[\"110\"],\"xaxis\":\"x\",\"y\":[26],\"yaxis\":\"y\",\"type\":\"scatter\"},{\"hovertemplate\":\"name=Yoda\\u003cbr\\u003eKh\\u1ed1i l\\u01b0\\u1ee3ng=%{x}\\u003cbr\\u003eH\\u00e0nh tinh qu\\u00ea h\\u01b0\\u01a1ng=%{y}\\u003cextra\\u003e\\u003c\\u002fextra\\u003e\",\"legendgroup\":\"Yoda\",\"marker\":{\"color\":\"#FF97FF\",\"symbol\":\"circle\"},\"mode\":\"markers\",\"name\":\"Yoda\",\"orientation\":\"v\",\"showlegend\":true,\"x\":[\"17\"],\"xaxis\":\"x\",\"y\":[28],\"yaxis\":\"y\",\"type\":\"scatter\"},{\"hovertemplate\":\"name=Palpatine\\u003cbr\\u003eKh\\u1ed1i l\\u01b0\\u1ee3ng=%{x}\\u003cbr\\u003eH\\u00e0nh tinh qu\\u00ea h\\u01b0\\u01a1ng=%{y}\\u003cextra\\u003e\\u003c\\u002fextra\\u003e\",\"legendgroup\":\"Palpatine\",\"marker\":{\"color\":\"#FECB52\",\"symbol\":\"circle\"},\"mode\":\"markers\",\"name\":\"Palpatine\",\"orientation\":\"v\",\"showlegend\":true,\"x\":[\"75\"],\"xaxis\":\"x\",\"y\":[8],\"yaxis\":\"y\",\"type\":\"scatter\"},{\"hovertemplate\":\"name=Boba Fett\\u003cbr\\u003eKh\\u1ed1i l\\u01b0\\u1ee3ng=%{x}\\u003cbr\\u003eH\\u00e0nh tinh qu\\u00ea h\\u01b0\\u01a1ng=%{y}\\u003cextra\\u003e\\u003c\\u002fextra\\u003e\",\"legendgroup\":\"Boba Fett\",\"marker\":{\"color\":\"#636efa\",\"symbol\":\"circle\"},\"mode\":\"markers\",\"name\":\"Boba Fett\",\"orientation\":\"v\",\"showlegend\":true,\"x\":[\"78.2\"],\"xaxis\":\"x\",\"y\":[10],\"yaxis\":\"y\",\"type\":\"scatter\"},{\"hovertemplate\":\"name=IG-88\\u003cbr\\u003eKh\\u1ed1i l\\u01b0\\u1ee3ng=%{x}\\u003cbr\\u003eH\\u00e0nh tinh qu\\u00ea h\\u01b0\\u01a1ng=%{y}\\u003cextra\\u003e\\u003c\\u002fextra\\u003e\",\"legendgroup\":\"IG-88\",\"marker\":{\"color\":\"#EF553B\",\"symbol\":\"circle\"},\"mode\":\"markers\",\"name\":\"IG-88\",\"orientation\":\"v\",\"showlegend\":true,\"x\":[\"140\"],\"xaxis\":\"x\",\"y\":[28],\"yaxis\":\"y\",\"type\":\"scatter\"},{\"hovertemplate\":\"name=Bossk\\u003cbr\\u003eKh\\u1ed1i l\\u01b0\\u1ee3ng=%{x}\\u003cbr\\u003eH\\u00e0nh tinh qu\\u00ea h\\u01b0\\u01a1ng=%{y}\\u003cextra\\u003e\\u003c\\u002fextra\\u003e\",\"legendgroup\":\"Bossk\",\"marker\":{\"color\":\"#00cc96\",\"symbol\":\"circle\"},\"mode\":\"markers\",\"name\":\"Bossk\",\"orientation\":\"v\",\"showlegend\":true,\"x\":[\"113\"],\"xaxis\":\"x\",\"y\":[29],\"yaxis\":\"y\",\"type\":\"scatter\"},{\"hovertemplate\":\"name=Lando Calrissian\\u003cbr\\u003eKh\\u1ed1i l\\u01b0\\u1ee3ng=%{x}\\u003cbr\\u003eH\\u00e0nh tinh qu\\u00ea h\\u01b0\\u01a1ng=%{y}\\u003cextra\\u003e\\u003c\\u002fextra\\u003e\",\"legendgroup\":\"Lando Calrissian\",\"marker\":{\"color\":\"#ab63fa\",\"symbol\":\"circle\"},\"mode\":\"markers\",\"name\":\"Lando Calrissian\",\"orientation\":\"v\",\"showlegend\":true,\"x\":[\"79\"],\"xaxis\":\"x\",\"y\":[30],\"yaxis\":\"y\",\"type\":\"scatter\"},{\"hovertemplate\":\"name=Lobot\\u003cbr\\u003eKh\\u1ed1i l\\u01b0\\u1ee3ng=%{x}\\u003cbr\\u003eH\\u00e0nh tinh qu\\u00ea h\\u01b0\\u01a1ng=%{y}\\u003cextra\\u003e\\u003c\\u002fextra\\u003e\",\"legendgroup\":\"Lobot\",\"marker\":{\"color\":\"#FFA15A\",\"symbol\":\"circle\"},\"mode\":\"markers\",\"name\":\"Lobot\",\"orientation\":\"v\",\"showlegend\":true,\"x\":[\"79\"],\"xaxis\":\"x\",\"y\":[6],\"yaxis\":\"y\",\"type\":\"scatter\"},{\"hovertemplate\":\"name=Ackbar\\u003cbr\\u003eKh\\u1ed1i l\\u01b0\\u1ee3ng=%{x}\\u003cbr\\u003eH\\u00e0nh tinh qu\\u00ea h\\u01b0\\u01a1ng=%{y}\\u003cextra\\u003e\\u003c\\u002fextra\\u003e\",\"legendgroup\":\"Ackbar\",\"marker\":{\"color\":\"#19d3f3\",\"symbol\":\"circle\"},\"mode\":\"markers\",\"name\":\"Ackbar\",\"orientation\":\"v\",\"showlegend\":true,\"x\":[\"83\"],\"xaxis\":\"x\",\"y\":[31],\"yaxis\":\"y\",\"type\":\"scatter\"},{\"hovertemplate\":\"name=Mon Mothma\\u003cbr\\u003eKh\\u1ed1i l\\u01b0\\u1ee3ng=%{x}\\u003cbr\\u003eH\\u00e0nh tinh qu\\u00ea h\\u01b0\\u01a1ng=%{y}\\u003cextra\\u003e\\u003c\\u002fextra\\u003e\",\"legendgroup\":\"Mon Mothma\",\"marker\":{\"color\":\"#FF6692\",\"symbol\":\"circle\"},\"mode\":\"markers\",\"name\":\"Mon Mothma\",\"orientation\":\"v\",\"showlegend\":true,\"x\":[\"unknown\"],\"xaxis\":\"x\",\"y\":[32],\"yaxis\":\"y\",\"type\":\"scatter\"},{\"hovertemplate\":\"name=Arvel Crynyd\\u003cbr\\u003eKh\\u1ed1i l\\u01b0\\u1ee3ng=%{x}\\u003cbr\\u003eH\\u00e0nh tinh qu\\u00ea h\\u01b0\\u01a1ng=%{y}\\u003cextra\\u003e\\u003c\\u002fextra\\u003e\",\"legendgroup\":\"Arvel Crynyd\",\"marker\":{\"color\":\"#B6E880\",\"symbol\":\"circle\"},\"mode\":\"markers\",\"name\":\"Arvel Crynyd\",\"orientation\":\"v\",\"showlegend\":true,\"x\":[\"unknown\"],\"xaxis\":\"x\",\"y\":[28],\"yaxis\":\"y\",\"type\":\"scatter\"},{\"hovertemplate\":\"name=Wicket Systri Warrick\\u003cbr\\u003eKh\\u1ed1i l\\u01b0\\u1ee3ng=%{x}\\u003cbr\\u003eH\\u00e0nh tinh qu\\u00ea h\\u01b0\\u01a1ng=%{y}\\u003cextra\\u003e\\u003c\\u002fextra\\u003e\",\"legendgroup\":\"Wicket Systri Warrick\",\"marker\":{\"color\":\"#FF97FF\",\"symbol\":\"circle\"},\"mode\":\"markers\",\"name\":\"Wicket Systri Warrick\",\"orientation\":\"v\",\"showlegend\":true,\"x\":[\"20\"],\"xaxis\":\"x\",\"y\":[7],\"yaxis\":\"y\",\"type\":\"scatter\"},{\"hovertemplate\":\"name=Nien Nunb\\u003cbr\\u003eKh\\u1ed1i l\\u01b0\\u1ee3ng=%{x}\\u003cbr\\u003eH\\u00e0nh tinh qu\\u00ea h\\u01b0\\u01a1ng=%{y}\\u003cextra\\u003e\\u003c\\u002fextra\\u003e\",\"legendgroup\":\"Nien Nunb\",\"marker\":{\"color\":\"#FECB52\",\"symbol\":\"circle\"},\"mode\":\"markers\",\"name\":\"Nien Nunb\",\"orientation\":\"v\",\"showlegend\":true,\"x\":[\"68\"],\"xaxis\":\"x\",\"y\":[33],\"yaxis\":\"y\",\"type\":\"scatter\"},{\"hovertemplate\":\"name=Qui-Gon Jinn\\u003cbr\\u003eKh\\u1ed1i l\\u01b0\\u1ee3ng=%{x}\\u003cbr\\u003eH\\u00e0nh tinh qu\\u00ea h\\u01b0\\u01a1ng=%{y}\\u003cextra\\u003e\\u003c\\u002fextra\\u003e\",\"legendgroup\":\"Qui-Gon Jinn\",\"marker\":{\"color\":\"#636efa\",\"symbol\":\"circle\"},\"mode\":\"markers\",\"name\":\"Qui-Gon Jinn\",\"orientation\":\"v\",\"showlegend\":true,\"x\":[\"89\"],\"xaxis\":\"x\",\"y\":[28],\"yaxis\":\"y\",\"type\":\"scatter\"},{\"hovertemplate\":\"name=Nute Gunray\\u003cbr\\u003eKh\\u1ed1i l\\u01b0\\u1ee3ng=%{x}\\u003cbr\\u003eH\\u00e0nh tinh qu\\u00ea h\\u01b0\\u01a1ng=%{y}\\u003cextra\\u003e\\u003c\\u002fextra\\u003e\",\"legendgroup\":\"Nute Gunray\",\"marker\":{\"color\":\"#EF553B\",\"symbol\":\"circle\"},\"mode\":\"markers\",\"name\":\"Nute Gunray\",\"orientation\":\"v\",\"showlegend\":true,\"x\":[\"90\"],\"xaxis\":\"x\",\"y\":[18],\"yaxis\":\"y\",\"type\":\"scatter\"},{\"hovertemplate\":\"name=Finis Valorum\\u003cbr\\u003eKh\\u1ed1i l\\u01b0\\u1ee3ng=%{x}\\u003cbr\\u003eH\\u00e0nh tinh qu\\u00ea h\\u01b0\\u01a1ng=%{y}\\u003cextra\\u003e\\u003c\\u002fextra\\u003e\",\"legendgroup\":\"Finis Valorum\",\"marker\":{\"color\":\"#00cc96\",\"symbol\":\"circle\"},\"mode\":\"markers\",\"name\":\"Finis Valorum\",\"orientation\":\"v\",\"showlegend\":true,\"x\":[\"unknown\"],\"xaxis\":\"x\",\"y\":[9],\"yaxis\":\"y\",\"type\":\"scatter\"},{\"hovertemplate\":\"name=Padm\\u00e9 Amidala\\u003cbr\\u003eKh\\u1ed1i l\\u01b0\\u1ee3ng=%{x}\\u003cbr\\u003eH\\u00e0nh tinh qu\\u00ea h\\u01b0\\u01a1ng=%{y}\\u003cextra\\u003e\\u003c\\u002fextra\\u003e\",\"legendgroup\":\"Padm\\u00e9 Amidala\",\"marker\":{\"color\":\"#ab63fa\",\"symbol\":\"circle\"},\"mode\":\"markers\",\"name\":\"Padm\\u00e9 Amidala\",\"orientation\":\"v\",\"showlegend\":true,\"x\":[\"45\"],\"xaxis\":\"x\",\"y\":[8],\"yaxis\":\"y\",\"type\":\"scatter\"},{\"hovertemplate\":\"name=Jar Jar Binks\\u003cbr\\u003eKh\\u1ed1i l\\u01b0\\u1ee3ng=%{x}\\u003cbr\\u003eH\\u00e0nh tinh qu\\u00ea h\\u01b0\\u01a1ng=%{y}\\u003cextra\\u003e\\u003c\\u002fextra\\u003e\",\"legendgroup\":\"Jar Jar Binks\",\"marker\":{\"color\":\"#FFA15A\",\"symbol\":\"circle\"},\"mode\":\"markers\",\"name\":\"Jar Jar Binks\",\"orientation\":\"v\",\"showlegend\":true,\"x\":[\"66\"],\"xaxis\":\"x\",\"y\":[8],\"yaxis\":\"y\",\"type\":\"scatter\"},{\"hovertemplate\":\"name=Roos Tarpals\\u003cbr\\u003eKh\\u1ed1i l\\u01b0\\u1ee3ng=%{x}\\u003cbr\\u003eH\\u00e0nh tinh qu\\u00ea h\\u01b0\\u01a1ng=%{y}\\u003cextra\\u003e\\u003c\\u002fextra\\u003e\",\"legendgroup\":\"Roos Tarpals\",\"marker\":{\"color\":\"#19d3f3\",\"symbol\":\"circle\"},\"mode\":\"markers\",\"name\":\"Roos Tarpals\",\"orientation\":\"v\",\"showlegend\":true,\"x\":[\"82\"],\"xaxis\":\"x\",\"y\":[8],\"yaxis\":\"y\",\"type\":\"scatter\"},{\"hovertemplate\":\"name=Rugor Nass\\u003cbr\\u003eKh\\u1ed1i l\\u01b0\\u1ee3ng=%{x}\\u003cbr\\u003eH\\u00e0nh tinh qu\\u00ea h\\u01b0\\u01a1ng=%{y}\\u003cextra\\u003e\\u003c\\u002fextra\\u003e\",\"legendgroup\":\"Rugor Nass\",\"marker\":{\"color\":\"#FF6692\",\"symbol\":\"circle\"},\"mode\":\"markers\",\"name\":\"Rugor Nass\",\"orientation\":\"v\",\"showlegend\":true,\"x\":[\"unknown\"],\"xaxis\":\"x\",\"y\":[8],\"yaxis\":\"y\",\"type\":\"scatter\"},{\"hovertemplate\":\"name=Ric Oli\\u00e9\\u003cbr\\u003eKh\\u1ed1i l\\u01b0\\u1ee3ng=%{x}\\u003cbr\\u003eH\\u00e0nh tinh qu\\u00ea h\\u01b0\\u01a1ng=%{y}\\u003cextra\\u003e\\u003c\\u002fextra\\u003e\",\"legendgroup\":\"Ric Oli\\u00e9\",\"marker\":{\"color\":\"#B6E880\",\"symbol\":\"circle\"},\"mode\":\"markers\",\"name\":\"Ric Oli\\u00e9\",\"orientation\":\"v\",\"showlegend\":true,\"x\":[\"unknown\"],\"xaxis\":\"x\",\"y\":[8],\"yaxis\":\"y\",\"type\":\"scatter\"},{\"hovertemplate\":\"name=Watto\\u003cbr\\u003eKh\\u1ed1i l\\u01b0\\u1ee3ng=%{x}\\u003cbr\\u003eH\\u00e0nh tinh qu\\u00ea h\\u01b0\\u01a1ng=%{y}\\u003cextra\\u003e\\u003c\\u002fextra\\u003e\",\"legendgroup\":\"Watto\",\"marker\":{\"color\":\"#FF97FF\",\"symbol\":\"circle\"},\"mode\":\"markers\",\"name\":\"Watto\",\"orientation\":\"v\",\"showlegend\":true,\"x\":[\"unknown\"],\"xaxis\":\"x\",\"y\":[34],\"yaxis\":\"y\",\"type\":\"scatter\"},{\"hovertemplate\":\"name=Sebulba\\u003cbr\\u003eKh\\u1ed1i l\\u01b0\\u1ee3ng=%{x}\\u003cbr\\u003eH\\u00e0nh tinh qu\\u00ea h\\u01b0\\u01a1ng=%{y}\\u003cextra\\u003e\\u003c\\u002fextra\\u003e\",\"legendgroup\":\"Sebulba\",\"marker\":{\"color\":\"#FECB52\",\"symbol\":\"circle\"},\"mode\":\"markers\",\"name\":\"Sebulba\",\"orientation\":\"v\",\"showlegend\":true,\"x\":[\"40\"],\"xaxis\":\"x\",\"y\":[35],\"yaxis\":\"y\",\"type\":\"scatter\"},{\"hovertemplate\":\"name=Quarsh Panaka\\u003cbr\\u003eKh\\u1ed1i l\\u01b0\\u1ee3ng=%{x}\\u003cbr\\u003eH\\u00e0nh tinh qu\\u00ea h\\u01b0\\u01a1ng=%{y}\\u003cextra\\u003e\\u003c\\u002fextra\\u003e\",\"legendgroup\":\"Quarsh Panaka\",\"marker\":{\"color\":\"#636efa\",\"symbol\":\"circle\"},\"mode\":\"markers\",\"name\":\"Quarsh Panaka\",\"orientation\":\"v\",\"showlegend\":true,\"x\":[\"unknown\"],\"xaxis\":\"x\",\"y\":[8],\"yaxis\":\"y\",\"type\":\"scatter\"},{\"hovertemplate\":\"name=Shmi Skywalker\\u003cbr\\u003eKh\\u1ed1i l\\u01b0\\u1ee3ng=%{x}\\u003cbr\\u003eH\\u00e0nh tinh qu\\u00ea h\\u01b0\\u01a1ng=%{y}\\u003cextra\\u003e\\u003c\\u002fextra\\u003e\",\"legendgroup\":\"Shmi Skywalker\",\"marker\":{\"color\":\"#EF553B\",\"symbol\":\"circle\"},\"mode\":\"markers\",\"name\":\"Shmi Skywalker\",\"orientation\":\"v\",\"showlegend\":true,\"x\":[\"unknown\"],\"xaxis\":\"x\",\"y\":[1],\"yaxis\":\"y\",\"type\":\"scatter\"},{\"hovertemplate\":\"name=Darth Maul\\u003cbr\\u003eKh\\u1ed1i l\\u01b0\\u1ee3ng=%{x}\\u003cbr\\u003eH\\u00e0nh tinh qu\\u00ea h\\u01b0\\u01a1ng=%{y}\\u003cextra\\u003e\\u003c\\u002fextra\\u003e\",\"legendgroup\":\"Darth Maul\",\"marker\":{\"color\":\"#00cc96\",\"symbol\":\"circle\"},\"mode\":\"markers\",\"name\":\"Darth Maul\",\"orientation\":\"v\",\"showlegend\":true,\"x\":[\"80\"],\"xaxis\":\"x\",\"y\":[36],\"yaxis\":\"y\",\"type\":\"scatter\"},{\"hovertemplate\":\"name=Bib Fortuna\\u003cbr\\u003eKh\\u1ed1i l\\u01b0\\u1ee3ng=%{x}\\u003cbr\\u003eH\\u00e0nh tinh qu\\u00ea h\\u01b0\\u01a1ng=%{y}\\u003cextra\\u003e\\u003c\\u002fextra\\u003e\",\"legendgroup\":\"Bib Fortuna\",\"marker\":{\"color\":\"#ab63fa\",\"symbol\":\"circle\"},\"mode\":\"markers\",\"name\":\"Bib Fortuna\",\"orientation\":\"v\",\"showlegend\":true,\"x\":[\"unknown\"],\"xaxis\":\"x\",\"y\":[37],\"yaxis\":\"y\",\"type\":\"scatter\"},{\"hovertemplate\":\"name=Ayla Secura\\u003cbr\\u003eKh\\u1ed1i l\\u01b0\\u1ee3ng=%{x}\\u003cbr\\u003eH\\u00e0nh tinh qu\\u00ea h\\u01b0\\u01a1ng=%{y}\\u003cextra\\u003e\\u003c\\u002fextra\\u003e\",\"legendgroup\":\"Ayla Secura\",\"marker\":{\"color\":\"#FFA15A\",\"symbol\":\"circle\"},\"mode\":\"markers\",\"name\":\"Ayla Secura\",\"orientation\":\"v\",\"showlegend\":true,\"x\":[\"55\"],\"xaxis\":\"x\",\"y\":[37],\"yaxis\":\"y\",\"type\":\"scatter\"},{\"hovertemplate\":\"name=Ratts Tyerel\\u003cbr\\u003eKh\\u1ed1i l\\u01b0\\u1ee3ng=%{x}\\u003cbr\\u003eH\\u00e0nh tinh qu\\u00ea h\\u01b0\\u01a1ng=%{y}\\u003cextra\\u003e\\u003c\\u002fextra\\u003e\",\"legendgroup\":\"Ratts Tyerel\",\"marker\":{\"color\":\"#19d3f3\",\"symbol\":\"circle\"},\"mode\":\"markers\",\"name\":\"Ratts Tyerel\",\"orientation\":\"v\",\"showlegend\":true,\"x\":[\"15\"],\"xaxis\":\"x\",\"y\":[38],\"yaxis\":\"y\",\"type\":\"scatter\"},{\"hovertemplate\":\"name=Dud Bolt\\u003cbr\\u003eKh\\u1ed1i l\\u01b0\\u1ee3ng=%{x}\\u003cbr\\u003eH\\u00e0nh tinh qu\\u00ea h\\u01b0\\u01a1ng=%{y}\\u003cextra\\u003e\\u003c\\u002fextra\\u003e\",\"legendgroup\":\"Dud Bolt\",\"marker\":{\"color\":\"#FF6692\",\"symbol\":\"circle\"},\"mode\":\"markers\",\"name\":\"Dud Bolt\",\"orientation\":\"v\",\"showlegend\":true,\"x\":[\"45\"],\"xaxis\":\"x\",\"y\":[39],\"yaxis\":\"y\",\"type\":\"scatter\"},{\"hovertemplate\":\"name=Gasgano\\u003cbr\\u003eKh\\u1ed1i l\\u01b0\\u1ee3ng=%{x}\\u003cbr\\u003eH\\u00e0nh tinh qu\\u00ea h\\u01b0\\u01a1ng=%{y}\\u003cextra\\u003e\\u003c\\u002fextra\\u003e\",\"legendgroup\":\"Gasgano\",\"marker\":{\"color\":\"#B6E880\",\"symbol\":\"circle\"},\"mode\":\"markers\",\"name\":\"Gasgano\",\"orientation\":\"v\",\"showlegend\":true,\"x\":[\"unknown\"],\"xaxis\":\"x\",\"y\":[40],\"yaxis\":\"y\",\"type\":\"scatter\"},{\"hovertemplate\":\"name=Ben Quadinaros\\u003cbr\\u003eKh\\u1ed1i l\\u01b0\\u1ee3ng=%{x}\\u003cbr\\u003eH\\u00e0nh tinh qu\\u00ea h\\u01b0\\u01a1ng=%{y}\\u003cextra\\u003e\\u003c\\u002fextra\\u003e\",\"legendgroup\":\"Ben Quadinaros\",\"marker\":{\"color\":\"#FF97FF\",\"symbol\":\"circle\"},\"mode\":\"markers\",\"name\":\"Ben Quadinaros\",\"orientation\":\"v\",\"showlegend\":true,\"x\":[\"65\"],\"xaxis\":\"x\",\"y\":[41],\"yaxis\":\"y\",\"type\":\"scatter\"},{\"hovertemplate\":\"name=Mace Windu\\u003cbr\\u003eKh\\u1ed1i l\\u01b0\\u1ee3ng=%{x}\\u003cbr\\u003eH\\u00e0nh tinh qu\\u00ea h\\u01b0\\u01a1ng=%{y}\\u003cextra\\u003e\\u003c\\u002fextra\\u003e\",\"legendgroup\":\"Mace Windu\",\"marker\":{\"color\":\"#FECB52\",\"symbol\":\"circle\"},\"mode\":\"markers\",\"name\":\"Mace Windu\",\"orientation\":\"v\",\"showlegend\":true,\"x\":[\"84\"],\"xaxis\":\"x\",\"y\":[42],\"yaxis\":\"y\",\"type\":\"scatter\"},{\"hovertemplate\":\"name=Ki-Adi-Mundi\\u003cbr\\u003eKh\\u1ed1i l\\u01b0\\u1ee3ng=%{x}\\u003cbr\\u003eH\\u00e0nh tinh qu\\u00ea h\\u01b0\\u01a1ng=%{y}\\u003cextra\\u003e\\u003c\\u002fextra\\u003e\",\"legendgroup\":\"Ki-Adi-Mundi\",\"marker\":{\"color\":\"#636efa\",\"symbol\":\"circle\"},\"mode\":\"markers\",\"name\":\"Ki-Adi-Mundi\",\"orientation\":\"v\",\"showlegend\":true,\"x\":[\"82\"],\"xaxis\":\"x\",\"y\":[43],\"yaxis\":\"y\",\"type\":\"scatter\"},{\"hovertemplate\":\"name=Kit Fisto\\u003cbr\\u003eKh\\u1ed1i l\\u01b0\\u1ee3ng=%{x}\\u003cbr\\u003eH\\u00e0nh tinh qu\\u00ea h\\u01b0\\u01a1ng=%{y}\\u003cextra\\u003e\\u003c\\u002fextra\\u003e\",\"legendgroup\":\"Kit Fisto\",\"marker\":{\"color\":\"#EF553B\",\"symbol\":\"circle\"},\"mode\":\"markers\",\"name\":\"Kit Fisto\",\"orientation\":\"v\",\"showlegend\":true,\"x\":[\"87\"],\"xaxis\":\"x\",\"y\":[44],\"yaxis\":\"y\",\"type\":\"scatter\"},{\"hovertemplate\":\"name=Eeth Koth\\u003cbr\\u003eKh\\u1ed1i l\\u01b0\\u1ee3ng=%{x}\\u003cbr\\u003eH\\u00e0nh tinh qu\\u00ea h\\u01b0\\u01a1ng=%{y}\\u003cextra\\u003e\\u003c\\u002fextra\\u003e\",\"legendgroup\":\"Eeth Koth\",\"marker\":{\"color\":\"#00cc96\",\"symbol\":\"circle\"},\"mode\":\"markers\",\"name\":\"Eeth Koth\",\"orientation\":\"v\",\"showlegend\":true,\"x\":[\"unknown\"],\"xaxis\":\"x\",\"y\":[45],\"yaxis\":\"y\",\"type\":\"scatter\"},{\"hovertemplate\":\"name=Adi Gallia\\u003cbr\\u003eKh\\u1ed1i l\\u01b0\\u1ee3ng=%{x}\\u003cbr\\u003eH\\u00e0nh tinh qu\\u00ea h\\u01b0\\u01a1ng=%{y}\\u003cextra\\u003e\\u003c\\u002fextra\\u003e\",\"legendgroup\":\"Adi Gallia\",\"marker\":{\"color\":\"#ab63fa\",\"symbol\":\"circle\"},\"mode\":\"markers\",\"name\":\"Adi Gallia\",\"orientation\":\"v\",\"showlegend\":true,\"x\":[\"50\"],\"xaxis\":\"x\",\"y\":[9],\"yaxis\":\"y\",\"type\":\"scatter\"},{\"hovertemplate\":\"name=Saesee Tiin\\u003cbr\\u003eKh\\u1ed1i l\\u01b0\\u1ee3ng=%{x}\\u003cbr\\u003eH\\u00e0nh tinh qu\\u00ea h\\u01b0\\u01a1ng=%{y}\\u003cextra\\u003e\\u003c\\u002fextra\\u003e\",\"legendgroup\":\"Saesee Tiin\",\"marker\":{\"color\":\"#FFA15A\",\"symbol\":\"circle\"},\"mode\":\"markers\",\"name\":\"Saesee Tiin\",\"orientation\":\"v\",\"showlegend\":true,\"x\":[\"unknown\"],\"xaxis\":\"x\",\"y\":[47],\"yaxis\":\"y\",\"type\":\"scatter\"},{\"hovertemplate\":\"name=Yarael Poof\\u003cbr\\u003eKh\\u1ed1i l\\u01b0\\u1ee3ng=%{x}\\u003cbr\\u003eH\\u00e0nh tinh qu\\u00ea h\\u01b0\\u01a1ng=%{y}\\u003cextra\\u003e\\u003c\\u002fextra\\u003e\",\"legendgroup\":\"Yarael Poof\",\"marker\":{\"color\":\"#19d3f3\",\"symbol\":\"circle\"},\"mode\":\"markers\",\"name\":\"Yarael Poof\",\"orientation\":\"v\",\"showlegend\":true,\"x\":[\"unknown\"],\"xaxis\":\"x\",\"y\":[48],\"yaxis\":\"y\",\"type\":\"scatter\"},{\"hovertemplate\":\"name=Plo Koon\\u003cbr\\u003eKh\\u1ed1i l\\u01b0\\u1ee3ng=%{x}\\u003cbr\\u003eH\\u00e0nh tinh qu\\u00ea h\\u01b0\\u01a1ng=%{y}\\u003cextra\\u003e\\u003c\\u002fextra\\u003e\",\"legendgroup\":\"Plo Koon\",\"marker\":{\"color\":\"#FF6692\",\"symbol\":\"circle\"},\"mode\":\"markers\",\"name\":\"Plo Koon\",\"orientation\":\"v\",\"showlegend\":true,\"x\":[\"80\"],\"xaxis\":\"x\",\"y\":[49],\"yaxis\":\"y\",\"type\":\"scatter\"},{\"hovertemplate\":\"name=Mas Amedda\\u003cbr\\u003eKh\\u1ed1i l\\u01b0\\u1ee3ng=%{x}\\u003cbr\\u003eH\\u00e0nh tinh qu\\u00ea h\\u01b0\\u01a1ng=%{y}\\u003cextra\\u003e\\u003c\\u002fextra\\u003e\",\"legendgroup\":\"Mas Amedda\",\"marker\":{\"color\":\"#B6E880\",\"symbol\":\"circle\"},\"mode\":\"markers\",\"name\":\"Mas Amedda\",\"orientation\":\"v\",\"showlegend\":true,\"x\":[\"unknown\"],\"xaxis\":\"x\",\"y\":[50],\"yaxis\":\"y\",\"type\":\"scatter\"},{\"hovertemplate\":\"name=Gregar Typho\\u003cbr\\u003eKh\\u1ed1i l\\u01b0\\u1ee3ng=%{x}\\u003cbr\\u003eH\\u00e0nh tinh qu\\u00ea h\\u01b0\\u01a1ng=%{y}\\u003cextra\\u003e\\u003c\\u002fextra\\u003e\",\"legendgroup\":\"Gregar Typho\",\"marker\":{\"color\":\"#FF97FF\",\"symbol\":\"circle\"},\"mode\":\"markers\",\"name\":\"Gregar Typho\",\"orientation\":\"v\",\"showlegend\":true,\"x\":[\"85\"],\"xaxis\":\"x\",\"y\":[8],\"yaxis\":\"y\",\"type\":\"scatter\"},{\"hovertemplate\":\"name=Cord\\u00e9\\u003cbr\\u003eKh\\u1ed1i l\\u01b0\\u1ee3ng=%{x}\\u003cbr\\u003eH\\u00e0nh tinh qu\\u00ea h\\u01b0\\u01a1ng=%{y}\\u003cextra\\u003e\\u003c\\u002fextra\\u003e\",\"legendgroup\":\"Cord\\u00e9\",\"marker\":{\"color\":\"#FECB52\",\"symbol\":\"circle\"},\"mode\":\"markers\",\"name\":\"Cord\\u00e9\",\"orientation\":\"v\",\"showlegend\":true,\"x\":[\"unknown\"],\"xaxis\":\"x\",\"y\":[8],\"yaxis\":\"y\",\"type\":\"scatter\"},{\"hovertemplate\":\"name=Cliegg Lars\\u003cbr\\u003eKh\\u1ed1i l\\u01b0\\u1ee3ng=%{x}\\u003cbr\\u003eH\\u00e0nh tinh qu\\u00ea h\\u01b0\\u01a1ng=%{y}\\u003cextra\\u003e\\u003c\\u002fextra\\u003e\",\"legendgroup\":\"Cliegg Lars\",\"marker\":{\"color\":\"#636efa\",\"symbol\":\"circle\"},\"mode\":\"markers\",\"name\":\"Cliegg Lars\",\"orientation\":\"v\",\"showlegend\":true,\"x\":[\"unknown\"],\"xaxis\":\"x\",\"y\":[1],\"yaxis\":\"y\",\"type\":\"scatter\"},{\"hovertemplate\":\"name=Poggle the Lesser\\u003cbr\\u003eKh\\u1ed1i l\\u01b0\\u1ee3ng=%{x}\\u003cbr\\u003eH\\u00e0nh tinh qu\\u00ea h\\u01b0\\u01a1ng=%{y}\\u003cextra\\u003e\\u003c\\u002fextra\\u003e\",\"legendgroup\":\"Poggle the Lesser\",\"marker\":{\"color\":\"#EF553B\",\"symbol\":\"circle\"},\"mode\":\"markers\",\"name\":\"Poggle the Lesser\",\"orientation\":\"v\",\"showlegend\":true,\"x\":[\"80\"],\"xaxis\":\"x\",\"y\":[11],\"yaxis\":\"y\",\"type\":\"scatter\"},{\"hovertemplate\":\"name=Luminara Unduli\\u003cbr\\u003eKh\\u1ed1i l\\u01b0\\u1ee3ng=%{x}\\u003cbr\\u003eH\\u00e0nh tinh qu\\u00ea h\\u01b0\\u01a1ng=%{y}\\u003cextra\\u003e\\u003c\\u002fextra\\u003e\",\"legendgroup\":\"Luminara Unduli\",\"marker\":{\"color\":\"#00cc96\",\"symbol\":\"circle\"},\"mode\":\"markers\",\"name\":\"Luminara Unduli\",\"orientation\":\"v\",\"showlegend\":true,\"x\":[\"56.2\"],\"xaxis\":\"x\",\"y\":[51],\"yaxis\":\"y\",\"type\":\"scatter\"},{\"hovertemplate\":\"name=Barriss Offee\\u003cbr\\u003eKh\\u1ed1i l\\u01b0\\u1ee3ng=%{x}\\u003cbr\\u003eH\\u00e0nh tinh qu\\u00ea h\\u01b0\\u01a1ng=%{y}\\u003cextra\\u003e\\u003c\\u002fextra\\u003e\",\"legendgroup\":\"Barriss Offee\",\"marker\":{\"color\":\"#ab63fa\",\"symbol\":\"circle\"},\"mode\":\"markers\",\"name\":\"Barriss Offee\",\"orientation\":\"v\",\"showlegend\":true,\"x\":[\"50\"],\"xaxis\":\"x\",\"y\":[51],\"yaxis\":\"y\",\"type\":\"scatter\"},{\"hovertemplate\":\"name=Dorm\\u00e9\\u003cbr\\u003eKh\\u1ed1i l\\u01b0\\u1ee3ng=%{x}\\u003cbr\\u003eH\\u00e0nh tinh qu\\u00ea h\\u01b0\\u01a1ng=%{y}\\u003cextra\\u003e\\u003c\\u002fextra\\u003e\",\"legendgroup\":\"Dorm\\u00e9\",\"marker\":{\"color\":\"#FFA15A\",\"symbol\":\"circle\"},\"mode\":\"markers\",\"name\":\"Dorm\\u00e9\",\"orientation\":\"v\",\"showlegend\":true,\"x\":[\"unknown\"],\"xaxis\":\"x\",\"y\":[8],\"yaxis\":\"y\",\"type\":\"scatter\"},{\"hovertemplate\":\"name=Dooku\\u003cbr\\u003eKh\\u1ed1i l\\u01b0\\u1ee3ng=%{x}\\u003cbr\\u003eH\\u00e0nh tinh qu\\u00ea h\\u01b0\\u01a1ng=%{y}\\u003cextra\\u003e\\u003c\\u002fextra\\u003e\",\"legendgroup\":\"Dooku\",\"marker\":{\"color\":\"#19d3f3\",\"symbol\":\"circle\"},\"mode\":\"markers\",\"name\":\"Dooku\",\"orientation\":\"v\",\"showlegend\":true,\"x\":[\"80\"],\"xaxis\":\"x\",\"y\":[52],\"yaxis\":\"y\",\"type\":\"scatter\"},{\"hovertemplate\":\"name=Bail Prestor Organa\\u003cbr\\u003eKh\\u1ed1i l\\u01b0\\u1ee3ng=%{x}\\u003cbr\\u003eH\\u00e0nh tinh qu\\u00ea h\\u01b0\\u01a1ng=%{y}\\u003cextra\\u003e\\u003c\\u002fextra\\u003e\",\"legendgroup\":\"Bail Prestor Organa\",\"marker\":{\"color\":\"#FF6692\",\"symbol\":\"circle\"},\"mode\":\"markers\",\"name\":\"Bail Prestor Organa\",\"orientation\":\"v\",\"showlegend\":true,\"x\":[\"unknown\"],\"xaxis\":\"x\",\"y\":[2],\"yaxis\":\"y\",\"type\":\"scatter\"},{\"hovertemplate\":\"name=Jango Fett\\u003cbr\\u003eKh\\u1ed1i l\\u01b0\\u1ee3ng=%{x}\\u003cbr\\u003eH\\u00e0nh tinh qu\\u00ea h\\u01b0\\u01a1ng=%{y}\\u003cextra\\u003e\\u003c\\u002fextra\\u003e\",\"legendgroup\":\"Jango Fett\",\"marker\":{\"color\":\"#B6E880\",\"symbol\":\"circle\"},\"mode\":\"markers\",\"name\":\"Jango Fett\",\"orientation\":\"v\",\"showlegend\":true,\"x\":[\"79\"],\"xaxis\":\"x\",\"y\":[53],\"yaxis\":\"y\",\"type\":\"scatter\"},{\"hovertemplate\":\"name=Zam Wesell\\u003cbr\\u003eKh\\u1ed1i l\\u01b0\\u1ee3ng=%{x}\\u003cbr\\u003eH\\u00e0nh tinh qu\\u00ea h\\u01b0\\u01a1ng=%{y}\\u003cextra\\u003e\\u003c\\u002fextra\\u003e\",\"legendgroup\":\"Zam Wesell\",\"marker\":{\"color\":\"#FF97FF\",\"symbol\":\"circle\"},\"mode\":\"markers\",\"name\":\"Zam Wesell\",\"orientation\":\"v\",\"showlegend\":true,\"x\":[\"55\"],\"xaxis\":\"x\",\"y\":[54],\"yaxis\":\"y\",\"type\":\"scatter\"},{\"hovertemplate\":\"name=Dexter Jettster\\u003cbr\\u003eKh\\u1ed1i l\\u01b0\\u1ee3ng=%{x}\\u003cbr\\u003eH\\u00e0nh tinh qu\\u00ea h\\u01b0\\u01a1ng=%{y}\\u003cextra\\u003e\\u003c\\u002fextra\\u003e\",\"legendgroup\":\"Dexter Jettster\",\"marker\":{\"color\":\"#FECB52\",\"symbol\":\"circle\"},\"mode\":\"markers\",\"name\":\"Dexter Jettster\",\"orientation\":\"v\",\"showlegend\":true,\"x\":[\"102\"],\"xaxis\":\"x\",\"y\":[55],\"yaxis\":\"y\",\"type\":\"scatter\"},{\"hovertemplate\":\"name=Lama Su\\u003cbr\\u003eKh\\u1ed1i l\\u01b0\\u1ee3ng=%{x}\\u003cbr\\u003eH\\u00e0nh tinh qu\\u00ea h\\u01b0\\u01a1ng=%{y}\\u003cextra\\u003e\\u003c\\u002fextra\\u003e\",\"legendgroup\":\"Lama Su\",\"marker\":{\"color\":\"#636efa\",\"symbol\":\"circle\"},\"mode\":\"markers\",\"name\":\"Lama Su\",\"orientation\":\"v\",\"showlegend\":true,\"x\":[\"88\"],\"xaxis\":\"x\",\"y\":[10],\"yaxis\":\"y\",\"type\":\"scatter\"},{\"hovertemplate\":\"name=Taun We\\u003cbr\\u003eKh\\u1ed1i l\\u01b0\\u1ee3ng=%{x}\\u003cbr\\u003eH\\u00e0nh tinh qu\\u00ea h\\u01b0\\u01a1ng=%{y}\\u003cextra\\u003e\\u003c\\u002fextra\\u003e\",\"legendgroup\":\"Taun We\",\"marker\":{\"color\":\"#EF553B\",\"symbol\":\"circle\"},\"mode\":\"markers\",\"name\":\"Taun We\",\"orientation\":\"v\",\"showlegend\":true,\"x\":[\"unknown\"],\"xaxis\":\"x\",\"y\":[10],\"yaxis\":\"y\",\"type\":\"scatter\"},{\"hovertemplate\":\"name=Jocasta Nu\\u003cbr\\u003eKh\\u1ed1i l\\u01b0\\u1ee3ng=%{x}\\u003cbr\\u003eH\\u00e0nh tinh qu\\u00ea h\\u01b0\\u01a1ng=%{y}\\u003cextra\\u003e\\u003c\\u002fextra\\u003e\",\"legendgroup\":\"Jocasta Nu\",\"marker\":{\"color\":\"#00cc96\",\"symbol\":\"circle\"},\"mode\":\"markers\",\"name\":\"Jocasta Nu\",\"orientation\":\"v\",\"showlegend\":true,\"x\":[\"unknown\"],\"xaxis\":\"x\",\"y\":[9],\"yaxis\":\"y\",\"type\":\"scatter\"},{\"hovertemplate\":\"name=R4-P17\\u003cbr\\u003eKh\\u1ed1i l\\u01b0\\u1ee3ng=%{x}\\u003cbr\\u003eH\\u00e0nh tinh qu\\u00ea h\\u01b0\\u01a1ng=%{y}\\u003cextra\\u003e\\u003c\\u002fextra\\u003e\",\"legendgroup\":\"R4-P17\",\"marker\":{\"color\":\"#ab63fa\",\"symbol\":\"circle\"},\"mode\":\"markers\",\"name\":\"R4-P17\",\"orientation\":\"v\",\"showlegend\":true,\"x\":[\"unknown\"],\"xaxis\":\"x\",\"y\":[28],\"yaxis\":\"y\",\"type\":\"scatter\"},{\"hovertemplate\":\"name=Wat Tambor\\u003cbr\\u003eKh\\u1ed1i l\\u01b0\\u1ee3ng=%{x}\\u003cbr\\u003eH\\u00e0nh tinh qu\\u00ea h\\u01b0\\u01a1ng=%{y}\\u003cextra\\u003e\\u003c\\u002fextra\\u003e\",\"legendgroup\":\"Wat Tambor\",\"marker\":{\"color\":\"#FFA15A\",\"symbol\":\"circle\"},\"mode\":\"markers\",\"name\":\"Wat Tambor\",\"orientation\":\"v\",\"showlegend\":true,\"x\":[\"48\"],\"xaxis\":\"x\",\"y\":[56],\"yaxis\":\"y\",\"type\":\"scatter\"},{\"hovertemplate\":\"name=San Hill\\u003cbr\\u003eKh\\u1ed1i l\\u01b0\\u1ee3ng=%{x}\\u003cbr\\u003eH\\u00e0nh tinh qu\\u00ea h\\u01b0\\u01a1ng=%{y}\\u003cextra\\u003e\\u003c\\u002fextra\\u003e\",\"legendgroup\":\"San Hill\",\"marker\":{\"color\":\"#19d3f3\",\"symbol\":\"circle\"},\"mode\":\"markers\",\"name\":\"San Hill\",\"orientation\":\"v\",\"showlegend\":true,\"x\":[\"unknown\"],\"xaxis\":\"x\",\"y\":[57],\"yaxis\":\"y\",\"type\":\"scatter\"},{\"hovertemplate\":\"name=Shaak Ti\\u003cbr\\u003eKh\\u1ed1i l\\u01b0\\u1ee3ng=%{x}\\u003cbr\\u003eH\\u00e0nh tinh qu\\u00ea h\\u01b0\\u01a1ng=%{y}\\u003cextra\\u003e\\u003c\\u002fextra\\u003e\",\"legendgroup\":\"Shaak Ti\",\"marker\":{\"color\":\"#FF6692\",\"symbol\":\"circle\"},\"mode\":\"markers\",\"name\":\"Shaak Ti\",\"orientation\":\"v\",\"showlegend\":true,\"x\":[\"57\"],\"xaxis\":\"x\",\"y\":[58],\"yaxis\":\"y\",\"type\":\"scatter\"},{\"hovertemplate\":\"name=Grievous\\u003cbr\\u003eKh\\u1ed1i l\\u01b0\\u1ee3ng=%{x}\\u003cbr\\u003eH\\u00e0nh tinh qu\\u00ea h\\u01b0\\u01a1ng=%{y}\\u003cextra\\u003e\\u003c\\u002fextra\\u003e\",\"legendgroup\":\"Grievous\",\"marker\":{\"color\":\"#B6E880\",\"symbol\":\"circle\"},\"mode\":\"markers\",\"name\":\"Grievous\",\"orientation\":\"v\",\"showlegend\":true,\"x\":[\"159\"],\"xaxis\":\"x\",\"y\":[59],\"yaxis\":\"y\",\"type\":\"scatter\"},{\"hovertemplate\":\"name=Tarfful\\u003cbr\\u003eKh\\u1ed1i l\\u01b0\\u1ee3ng=%{x}\\u003cbr\\u003eH\\u00e0nh tinh qu\\u00ea h\\u01b0\\u01a1ng=%{y}\\u003cextra\\u003e\\u003c\\u002fextra\\u003e\",\"legendgroup\":\"Tarfful\",\"marker\":{\"color\":\"#FF97FF\",\"symbol\":\"circle\"},\"mode\":\"markers\",\"name\":\"Tarfful\",\"orientation\":\"v\",\"showlegend\":true,\"x\":[\"136\"],\"xaxis\":\"x\",\"y\":[14],\"yaxis\":\"y\",\"type\":\"scatter\"},{\"hovertemplate\":\"name=Raymus Antilles\\u003cbr\\u003eKh\\u1ed1i l\\u01b0\\u1ee3ng=%{x}\\u003cbr\\u003eH\\u00e0nh tinh qu\\u00ea h\\u01b0\\u01a1ng=%{y}\\u003cextra\\u003e\\u003c\\u002fextra\\u003e\",\"legendgroup\":\"Raymus Antilles\",\"marker\":{\"color\":\"#FECB52\",\"symbol\":\"circle\"},\"mode\":\"markers\",\"name\":\"Raymus Antilles\",\"orientation\":\"v\",\"showlegend\":true,\"x\":[\"79\"],\"xaxis\":\"x\",\"y\":[2],\"yaxis\":\"y\",\"type\":\"scatter\"},{\"hovertemplate\":\"name=Sly Moore\\u003cbr\\u003eKh\\u1ed1i l\\u01b0\\u1ee3ng=%{x}\\u003cbr\\u003eH\\u00e0nh tinh qu\\u00ea h\\u01b0\\u01a1ng=%{y}\\u003cextra\\u003e\\u003c\\u002fextra\\u003e\",\"legendgroup\":\"Sly Moore\",\"marker\":{\"color\":\"#636efa\",\"symbol\":\"circle\"},\"mode\":\"markers\",\"name\":\"Sly Moore\",\"orientation\":\"v\",\"showlegend\":true,\"x\":[\"48\"],\"xaxis\":\"x\",\"y\":[60],\"yaxis\":\"y\",\"type\":\"scatter\"},{\"hovertemplate\":\"name=Tion Medon\\u003cbr\\u003eKh\\u1ed1i l\\u01b0\\u1ee3ng=%{x}\\u003cbr\\u003eH\\u00e0nh tinh qu\\u00ea h\\u01b0\\u01a1ng=%{y}\\u003cextra\\u003e\\u003c\\u002fextra\\u003e\",\"legendgroup\":\"Tion Medon\",\"marker\":{\"color\":\"#EF553B\",\"symbol\":\"circle\"},\"mode\":\"markers\",\"name\":\"Tion Medon\",\"orientation\":\"v\",\"showlegend\":true,\"x\":[\"80\"],\"xaxis\":\"x\",\"y\":[12],\"yaxis\":\"y\",\"type\":\"scatter\"}],                        {\"template\":{\"data\":{\"histogram2dcontour\":[{\"type\":\"histogram2dcontour\",\"colorbar\":{\"outlinewidth\":0,\"ticks\":\"\"},\"colorscale\":[[0.0,\"#0d0887\"],[0.1111111111111111,\"#46039f\"],[0.2222222222222222,\"#7201a8\"],[0.3333333333333333,\"#9c179e\"],[0.4444444444444444,\"#bd3786\"],[0.5555555555555556,\"#d8576b\"],[0.6666666666666666,\"#ed7953\"],[0.7777777777777778,\"#fb9f3a\"],[0.8888888888888888,\"#fdca26\"],[1.0,\"#f0f921\"]]}],\"choropleth\":[{\"type\":\"choropleth\",\"colorbar\":{\"outlinewidth\":0,\"ticks\":\"\"}}],\"histogram2d\":[{\"type\":\"histogram2d\",\"colorbar\":{\"outlinewidth\":0,\"ticks\":\"\"},\"colorscale\":[[0.0,\"#0d0887\"],[0.1111111111111111,\"#46039f\"],[0.2222222222222222,\"#7201a8\"],[0.3333333333333333,\"#9c179e\"],[0.4444444444444444,\"#bd3786\"],[0.5555555555555556,\"#d8576b\"],[0.6666666666666666,\"#ed7953\"],[0.7777777777777778,\"#fb9f3a\"],[0.8888888888888888,\"#fdca26\"],[1.0,\"#f0f921\"]]}],\"heatmap\":[{\"type\":\"heatmap\",\"colorbar\":{\"outlinewidth\":0,\"ticks\":\"\"},\"colorscale\":[[0.0,\"#0d0887\"],[0.1111111111111111,\"#46039f\"],[0.2222222222222222,\"#7201a8\"],[0.3333333333333333,\"#9c179e\"],[0.4444444444444444,\"#bd3786\"],[0.5555555555555556,\"#d8576b\"],[0.6666666666666666,\"#ed7953\"],[0.7777777777777778,\"#fb9f3a\"],[0.8888888888888888,\"#fdca26\"],[1.0,\"#f0f921\"]]}],\"heatmapgl\":[{\"type\":\"heatmapgl\",\"colorbar\":{\"outlinewidth\":0,\"ticks\":\"\"},\"colorscale\":[[0.0,\"#0d0887\"],[0.1111111111111111,\"#46039f\"],[0.2222222222222222,\"#7201a8\"],[0.3333333333333333,\"#9c179e\"],[0.4444444444444444,\"#bd3786\"],[0.5555555555555556,\"#d8576b\"],[0.6666666666666666,\"#ed7953\"],[0.7777777777777778,\"#fb9f3a\"],[0.8888888888888888,\"#fdca26\"],[1.0,\"#f0f921\"]]}],\"contourcarpet\":[{\"type\":\"contourcarpet\",\"colorbar\":{\"outlinewidth\":0,\"ticks\":\"\"}}],\"contour\":[{\"type\":\"contour\",\"colorbar\":{\"outlinewidth\":0,\"ticks\":\"\"},\"colorscale\":[[0.0,\"#0d0887\"],[0.1111111111111111,\"#46039f\"],[0.2222222222222222,\"#7201a8\"],[0.3333333333333333,\"#9c179e\"],[0.4444444444444444,\"#bd3786\"],[0.5555555555555556,\"#d8576b\"],[0.6666666666666666,\"#ed7953\"],[0.7777777777777778,\"#fb9f3a\"],[0.8888888888888888,\"#fdca26\"],[1.0,\"#f0f921\"]]}],\"surface\":[{\"type\":\"surface\",\"colorbar\":{\"outlinewidth\":0,\"ticks\":\"\"},\"colorscale\":[[0.0,\"#0d0887\"],[0.1111111111111111,\"#46039f\"],[0.2222222222222222,\"#7201a8\"],[0.3333333333333333,\"#9c179e\"],[0.4444444444444444,\"#bd3786\"],[0.5555555555555556,\"#d8576b\"],[0.6666666666666666,\"#ed7953\"],[0.7777777777777778,\"#fb9f3a\"],[0.8888888888888888,\"#fdca26\"],[1.0,\"#f0f921\"]]}],\"mesh3d\":[{\"type\":\"mesh3d\",\"colorbar\":{\"outlinewidth\":0,\"ticks\":\"\"}}],\"scatter\":[{\"fillpattern\":{\"fillmode\":\"overlay\",\"size\":10,\"solidity\":0.2},\"type\":\"scatter\"}],\"parcoords\":[{\"type\":\"parcoords\",\"line\":{\"colorbar\":{\"outlinewidth\":0,\"ticks\":\"\"}}}],\"scatterpolargl\":[{\"type\":\"scatterpolargl\",\"marker\":{\"colorbar\":{\"outlinewidth\":0,\"ticks\":\"\"}}}],\"bar\":[{\"error_x\":{\"color\":\"#2a3f5f\"},\"error_y\":{\"color\":\"#2a3f5f\"},\"marker\":{\"line\":{\"color\":\"#E5ECF6\",\"width\":0.5},\"pattern\":{\"fillmode\":\"overlay\",\"size\":10,\"solidity\":0.2}},\"type\":\"bar\"}],\"scattergeo\":[{\"type\":\"scattergeo\",\"marker\":{\"colorbar\":{\"outlinewidth\":0,\"ticks\":\"\"}}}],\"scatterpolar\":[{\"type\":\"scatterpolar\",\"marker\":{\"colorbar\":{\"outlinewidth\":0,\"ticks\":\"\"}}}],\"histogram\":[{\"marker\":{\"pattern\":{\"fillmode\":\"overlay\",\"size\":10,\"solidity\":0.2}},\"type\":\"histogram\"}],\"scattergl\":[{\"type\":\"scattergl\",\"marker\":{\"colorbar\":{\"outlinewidth\":0,\"ticks\":\"\"}}}],\"scatter3d\":[{\"type\":\"scatter3d\",\"line\":{\"colorbar\":{\"outlinewidth\":0,\"ticks\":\"\"}},\"marker\":{\"colorbar\":{\"outlinewidth\":0,\"ticks\":\"\"}}}],\"scattermapbox\":[{\"type\":\"scattermapbox\",\"marker\":{\"colorbar\":{\"outlinewidth\":0,\"ticks\":\"\"}}}],\"scatterternary\":[{\"type\":\"scatterternary\",\"marker\":{\"colorbar\":{\"outlinewidth\":0,\"ticks\":\"\"}}}],\"scattercarpet\":[{\"type\":\"scattercarpet\",\"marker\":{\"colorbar\":{\"outlinewidth\":0,\"ticks\":\"\"}}}],\"carpet\":[{\"aaxis\":{\"endlinecolor\":\"#2a3f5f\",\"gridcolor\":\"white\",\"linecolor\":\"white\",\"minorgridcolor\":\"white\",\"startlinecolor\":\"#2a3f5f\"},\"baxis\":{\"endlinecolor\":\"#2a3f5f\",\"gridcolor\":\"white\",\"linecolor\":\"white\",\"minorgridcolor\":\"white\",\"startlinecolor\":\"#2a3f5f\"},\"type\":\"carpet\"}],\"table\":[{\"cells\":{\"fill\":{\"color\":\"#EBF0F8\"},\"line\":{\"color\":\"white\"}},\"header\":{\"fill\":{\"color\":\"#C8D4E3\"},\"line\":{\"color\":\"white\"}},\"type\":\"table\"}],\"barpolar\":[{\"marker\":{\"line\":{\"color\":\"#E5ECF6\",\"width\":0.5},\"pattern\":{\"fillmode\":\"overlay\",\"size\":10,\"solidity\":0.2}},\"type\":\"barpolar\"}],\"pie\":[{\"automargin\":true,\"type\":\"pie\"}]},\"layout\":{\"autotypenumbers\":\"strict\",\"colorway\":[\"#636efa\",\"#EF553B\",\"#00cc96\",\"#ab63fa\",\"#FFA15A\",\"#19d3f3\",\"#FF6692\",\"#B6E880\",\"#FF97FF\",\"#FECB52\"],\"font\":{\"color\":\"#2a3f5f\"},\"hovermode\":\"closest\",\"hoverlabel\":{\"align\":\"left\"},\"paper_bgcolor\":\"white\",\"plot_bgcolor\":\"#E5ECF6\",\"polar\":{\"bgcolor\":\"#E5ECF6\",\"angularaxis\":{\"gridcolor\":\"white\",\"linecolor\":\"white\",\"ticks\":\"\"},\"radialaxis\":{\"gridcolor\":\"white\",\"linecolor\":\"white\",\"ticks\":\"\"}},\"ternary\":{\"bgcolor\":\"#E5ECF6\",\"aaxis\":{\"gridcolor\":\"white\",\"linecolor\":\"white\",\"ticks\":\"\"},\"baxis\":{\"gridcolor\":\"white\",\"linecolor\":\"white\",\"ticks\":\"\"},\"caxis\":{\"gridcolor\":\"white\",\"linecolor\":\"white\",\"ticks\":\"\"}},\"coloraxis\":{\"colorbar\":{\"outlinewidth\":0,\"ticks\":\"\"}},\"colorscale\":{\"sequential\":[[0.0,\"#0d0887\"],[0.1111111111111111,\"#46039f\"],[0.2222222222222222,\"#7201a8\"],[0.3333333333333333,\"#9c179e\"],[0.4444444444444444,\"#bd3786\"],[0.5555555555555556,\"#d8576b\"],[0.6666666666666666,\"#ed7953\"],[0.7777777777777778,\"#fb9f3a\"],[0.8888888888888888,\"#fdca26\"],[1.0,\"#f0f921\"]],\"sequentialminus\":[[0.0,\"#0d0887\"],[0.1111111111111111,\"#46039f\"],[0.2222222222222222,\"#7201a8\"],[0.3333333333333333,\"#9c179e\"],[0.4444444444444444,\"#bd3786\"],[0.5555555555555556,\"#d8576b\"],[0.6666666666666666,\"#ed7953\"],[0.7777777777777778,\"#fb9f3a\"],[0.8888888888888888,\"#fdca26\"],[1.0,\"#f0f921\"]],\"diverging\":[[0,\"#8e0152\"],[0.1,\"#c51b7d\"],[0.2,\"#de77ae\"],[0.3,\"#f1b6da\"],[0.4,\"#fde0ef\"],[0.5,\"#f7f7f7\"],[0.6,\"#e6f5d0\"],[0.7,\"#b8e186\"],[0.8,\"#7fbc41\"],[0.9,\"#4d9221\"],[1,\"#276419\"]]},\"xaxis\":{\"gridcolor\":\"white\",\"linecolor\":\"white\",\"ticks\":\"\",\"title\":{\"standoff\":15},\"zerolinecolor\":\"white\",\"automargin\":true,\"zerolinewidth\":2},\"yaxis\":{\"gridcolor\":\"white\",\"linecolor\":\"white\",\"ticks\":\"\",\"title\":{\"standoff\":15},\"zerolinecolor\":\"white\",\"automargin\":true,\"zerolinewidth\":2},\"scene\":{\"xaxis\":{\"backgroundcolor\":\"#E5ECF6\",\"gridcolor\":\"white\",\"linecolor\":\"white\",\"showbackground\":true,\"ticks\":\"\",\"zerolinecolor\":\"white\",\"gridwidth\":2},\"yaxis\":{\"backgroundcolor\":\"#E5ECF6\",\"gridcolor\":\"white\",\"linecolor\":\"white\",\"showbackground\":true,\"ticks\":\"\",\"zerolinecolor\":\"white\",\"gridwidth\":2},\"zaxis\":{\"backgroundcolor\":\"#E5ECF6\",\"gridcolor\":\"white\",\"linecolor\":\"white\",\"showbackground\":true,\"ticks\":\"\",\"zerolinecolor\":\"white\",\"gridwidth\":2}},\"shapedefaults\":{\"line\":{\"color\":\"#2a3f5f\"}},\"annotationdefaults\":{\"arrowcolor\":\"#2a3f5f\",\"arrowhead\":0,\"arrowwidth\":1},\"geo\":{\"bgcolor\":\"white\",\"landcolor\":\"#E5ECF6\",\"subunitcolor\":\"white\",\"showland\":true,\"showlakes\":true,\"lakecolor\":\"white\"},\"title\":{\"x\":0.05},\"mapbox\":{\"style\":\"light\"}}},\"xaxis\":{\"anchor\":\"y\",\"domain\":[0.0,1.0],\"title\":{\"text\":\"Kh\\u1ed1i l\\u01b0\\u1ee3ng (kg)\"},\"showgrid\":false},\"yaxis\":{\"anchor\":\"x\",\"domain\":[0.0,1.0],\"title\":{\"text\":\"H\\u00e0nh tinh qu\\u00ea h\\u01b0\\u01a1ng\"},\"showgrid\":false},\"legend\":{\"title\":{\"text\":\"name\"},\"tracegroupgap\":0},\"title\":{\"text\":\"Kh\\u1ed1i l\\u01b0\\u1ee3ng vs H\\u00e0nh tinh qu\\u00ea h\\u01b0\\u01a1ng\"},\"font\":{\"family\":\"Arial, sans-serif\",\"size\":14,\"color\":\"black\"},\"plot_bgcolor\":\"rgba(255,255,255,0.9)\",\"paper_bgcolor\":\"rgba(255,255,255,0.9)\"},                        {\"responsive\": true}                    ).then(function(){\n",
              "                            \n",
              "var gd = document.getElementById('84a36a10-67c9-43bb-ba1c-38489b8bbbd7');\n",
              "var x = new MutationObserver(function (mutations, observer) {{\n",
              "        var display = window.getComputedStyle(gd).display;\n",
              "        if (!display || display === 'none') {{\n",
              "            console.log([gd, 'removed!']);\n",
              "            Plotly.purge(gd);\n",
              "            observer.disconnect();\n",
              "        }}\n",
              "}});\n",
              "\n",
              "// Listen for the removal of the full notebook cells\n",
              "var notebookContainer = gd.closest('#notebook-container');\n",
              "if (notebookContainer) {{\n",
              "    x.observe(notebookContainer, {childList: true});\n",
              "}}\n",
              "\n",
              "// Listen for the clearing of the current output cell\n",
              "var outputEl = gd.closest('.output');\n",
              "if (outputEl) {{\n",
              "    x.observe(outputEl, {childList: true});\n",
              "}}\n",
              "\n",
              "                        })                };                            </script>        </div>\n",
              "</body>\n",
              "</html>"
            ]
          },
          "metadata": {}
        }
      ]
    },
    {
      "cell_type": "markdown",
      "source": [
        "**Nhận xét chung:**\n",
        "\n",
        "- Biểu đồ scatter này biểu thị sự phân bố của các nhân vật trong vũ trụ Star Wars dựa trên khối lượng và hành tinh quê hương của họ. Mỗi điểm trên biểu đồ biểu thị cho một nhân vật cụ thể, được mã hóa màu sắc để dễ dàng phân biệt.\n",
        "\n",
        "- Màu sắc của từng điểm biểu thị cho tên của nhân vật tương ứng, giúp xác định và nhận diện mỗi nhân vật một cách nhanh chóng trên biểu đồ.\n",
        "\n",
        "**Phân tích cụ thể:**\n",
        "\n",
        "1. **Mối quan hệ giữa khối lượng và hành tinh quê hương:**\n",
        "   - Biểu đồ cho thấy không có mối quan hệ rõ ràng giữa khối lượng và hành tinh quê hương của các nhân vật. Điều này cho thấy rằng khối lượng của mỗi nhân vật không phụ thuộc vào hành tinh mà họ đến từ.\n",
        "\n",
        "2. **Sự đa dạng về khối lượng và hành tinh quê hương:**\n",
        "   - Các nhân vật có khối lượng và hành tinh quê hương đa dạng, từ các hành tinh lớn như Earth và Mars đến các hành tinh nhỏ như Pluto và Moon.\n",
        "   - Điều này phản ánh sự phong phú và đa dạng trong vũ trụ Star Wars, nơi mà các nhân vật có thể đến từ nhiều hành tinh khác nhau.\n",
        "\n",
        "**Tổng kết:**\n",
        "\n",
        "- Biểu đồ scatter này không chỉ minh họa sự phân bố của khối lượng và hành tinh quê hương trong vũ trụ Star Wars mà còn giúp nhìn nhận sự đa dạng và phong phú của các nhân vật trong loạt phim này. Việc hiểu rõ sự phân phối này có thể giúp người hâm mộ và các nhà nghiên cứu tạo ra những câu chuyện phong phú hơn và khám phá thêm về thế giới Star Wars."
      ],
      "metadata": {
        "id": "Pys_hrGzItvK"
      }
    },
    {
      "cell_type": "markdown",
      "source": [
        "3.4. Homeworld and Birth_Year"
      ],
      "metadata": {
        "id": "yOxJlRMFKIK7"
      }
    },
    {
      "cell_type": "code",
      "source": [
        "# 12. Biểu đồ phân bố hành tinh quê hương và năm sinh\n",
        "\n",
        "# Trích xuất các trường từ dữ liệu\n",
        "characters = [{'homeworld': char['fields']['homeworld'], 'birth_year': char['fields']['birth_year'], 'name': char['fields']['name']} for char in data]\n",
        "\n",
        "# Tạo DataFrame từ dữ liệu\n",
        "df = pd.DataFrame(characters)\n",
        "\n",
        "# Sử dụng Plotly Express để vẽ biểu đồ scatter\n",
        "fig = px.scatter(df, x='homeworld', y='birth_year', color='name',\n",
        "                 title='Hành tinh quê hương vs Năm sinh',\n",
        "                 labels={'homeworld': 'Hành tinh quê hương', 'birth_year': 'Năm sinh'},\n",
        "                 size_max=15)\n",
        "\n",
        "# Cập nhật bố cục biểu đồ\n",
        "fig.update_layout(\n",
        "    font=dict(\n",
        "        family=\"Arial, sans-serif\",\n",
        "        size=14,\n",
        "        color=\"black\"\n",
        "    ),\n",
        "    plot_bgcolor='rgba(255,255,255,0.9)',\n",
        "    paper_bgcolor='rgba(255,255,255,0.9)',\n",
        "    xaxis=dict(showgrid=False),\n",
        "    yaxis=dict(showgrid=False)\n",
        ")\n",
        "\n",
        "# Hiển thị biểu đồ\n",
        "fig.show()"
      ],
      "metadata": {
        "colab": {
          "base_uri": "https://localhost:8080/",
          "height": 542
        },
        "id": "i5LcJBV4KN2L",
        "outputId": "e5b8f643-417a-4f64-d892-77f8cb1ecd61"
      },
      "execution_count": 68,
      "outputs": [
        {
          "output_type": "display_data",
          "data": {
            "text/html": [
              "<html>\n",
              "<head><meta charset=\"utf-8\" /></head>\n",
              "<body>\n",
              "    <div>            <script src=\"https://cdnjs.cloudflare.com/ajax/libs/mathjax/2.7.5/MathJax.js?config=TeX-AMS-MML_SVG\"></script><script type=\"text/javascript\">if (window.MathJax && window.MathJax.Hub && window.MathJax.Hub.Config) {window.MathJax.Hub.Config({SVG: {font: \"STIX-Web\"}});}</script>                <script type=\"text/javascript\">window.PlotlyConfig = {MathJaxConfig: 'local'};</script>\n",
              "        <script charset=\"utf-8\" src=\"https://cdn.plot.ly/plotly-2.24.1.min.js\"></script>                <div id=\"2a4cbfda-54bb-442b-bdd4-0f84b810eca0\" class=\"plotly-graph-div\" style=\"height:525px; width:100%;\"></div>            <script type=\"text/javascript\">                                    window.PLOTLYENV=window.PLOTLYENV || {};                                    if (document.getElementById(\"2a4cbfda-54bb-442b-bdd4-0f84b810eca0\")) {                    Plotly.newPlot(                        \"2a4cbfda-54bb-442b-bdd4-0f84b810eca0\",                        [{\"hovertemplate\":\"name=Luke Skywalker\\u003cbr\\u003eH\\u00e0nh tinh qu\\u00ea h\\u01b0\\u01a1ng=%{x}\\u003cbr\\u003eN\\u0103m sinh=%{y}\\u003cextra\\u003e\\u003c\\u002fextra\\u003e\",\"legendgroup\":\"Luke Skywalker\",\"marker\":{\"color\":\"#636efa\",\"symbol\":\"circle\"},\"mode\":\"markers\",\"name\":\"Luke Skywalker\",\"orientation\":\"h\",\"showlegend\":true,\"x\":[1],\"xaxis\":\"x\",\"y\":[\"19BBY\"],\"yaxis\":\"y\",\"type\":\"scatter\"},{\"hovertemplate\":\"name=C-3PO\\u003cbr\\u003eH\\u00e0nh tinh qu\\u00ea h\\u01b0\\u01a1ng=%{x}\\u003cbr\\u003eN\\u0103m sinh=%{y}\\u003cextra\\u003e\\u003c\\u002fextra\\u003e\",\"legendgroup\":\"C-3PO\",\"marker\":{\"color\":\"#EF553B\",\"symbol\":\"circle\"},\"mode\":\"markers\",\"name\":\"C-3PO\",\"orientation\":\"h\",\"showlegend\":true,\"x\":[1],\"xaxis\":\"x\",\"y\":[\"112BBY\"],\"yaxis\":\"y\",\"type\":\"scatter\"},{\"hovertemplate\":\"name=R2-D2\\u003cbr\\u003eH\\u00e0nh tinh qu\\u00ea h\\u01b0\\u01a1ng=%{x}\\u003cbr\\u003eN\\u0103m sinh=%{y}\\u003cextra\\u003e\\u003c\\u002fextra\\u003e\",\"legendgroup\":\"R2-D2\",\"marker\":{\"color\":\"#00cc96\",\"symbol\":\"circle\"},\"mode\":\"markers\",\"name\":\"R2-D2\",\"orientation\":\"h\",\"showlegend\":true,\"x\":[8],\"xaxis\":\"x\",\"y\":[\"33BBY\"],\"yaxis\":\"y\",\"type\":\"scatter\"},{\"hovertemplate\":\"name=Darth Vader\\u003cbr\\u003eH\\u00e0nh tinh qu\\u00ea h\\u01b0\\u01a1ng=%{x}\\u003cbr\\u003eN\\u0103m sinh=%{y}\\u003cextra\\u003e\\u003c\\u002fextra\\u003e\",\"legendgroup\":\"Darth Vader\",\"marker\":{\"color\":\"#ab63fa\",\"symbol\":\"circle\"},\"mode\":\"markers\",\"name\":\"Darth Vader\",\"orientation\":\"h\",\"showlegend\":true,\"x\":[1],\"xaxis\":\"x\",\"y\":[\"41.9BBY\"],\"yaxis\":\"y\",\"type\":\"scatter\"},{\"hovertemplate\":\"name=Leia Organa\\u003cbr\\u003eH\\u00e0nh tinh qu\\u00ea h\\u01b0\\u01a1ng=%{x}\\u003cbr\\u003eN\\u0103m sinh=%{y}\\u003cextra\\u003e\\u003c\\u002fextra\\u003e\",\"legendgroup\":\"Leia Organa\",\"marker\":{\"color\":\"#FFA15A\",\"symbol\":\"circle\"},\"mode\":\"markers\",\"name\":\"Leia Organa\",\"orientation\":\"h\",\"showlegend\":true,\"x\":[2],\"xaxis\":\"x\",\"y\":[\"19BBY\"],\"yaxis\":\"y\",\"type\":\"scatter\"},{\"hovertemplate\":\"name=Owen Lars\\u003cbr\\u003eH\\u00e0nh tinh qu\\u00ea h\\u01b0\\u01a1ng=%{x}\\u003cbr\\u003eN\\u0103m sinh=%{y}\\u003cextra\\u003e\\u003c\\u002fextra\\u003e\",\"legendgroup\":\"Owen Lars\",\"marker\":{\"color\":\"#19d3f3\",\"symbol\":\"circle\"},\"mode\":\"markers\",\"name\":\"Owen Lars\",\"orientation\":\"h\",\"showlegend\":true,\"x\":[1],\"xaxis\":\"x\",\"y\":[\"52BBY\"],\"yaxis\":\"y\",\"type\":\"scatter\"},{\"hovertemplate\":\"name=Beru Whitesun lars\\u003cbr\\u003eH\\u00e0nh tinh qu\\u00ea h\\u01b0\\u01a1ng=%{x}\\u003cbr\\u003eN\\u0103m sinh=%{y}\\u003cextra\\u003e\\u003c\\u002fextra\\u003e\",\"legendgroup\":\"Beru Whitesun lars\",\"marker\":{\"color\":\"#FF6692\",\"symbol\":\"circle\"},\"mode\":\"markers\",\"name\":\"Beru Whitesun lars\",\"orientation\":\"h\",\"showlegend\":true,\"x\":[1],\"xaxis\":\"x\",\"y\":[\"47BBY\"],\"yaxis\":\"y\",\"type\":\"scatter\"},{\"hovertemplate\":\"name=R5-D4\\u003cbr\\u003eH\\u00e0nh tinh qu\\u00ea h\\u01b0\\u01a1ng=%{x}\\u003cbr\\u003eN\\u0103m sinh=%{y}\\u003cextra\\u003e\\u003c\\u002fextra\\u003e\",\"legendgroup\":\"R5-D4\",\"marker\":{\"color\":\"#B6E880\",\"symbol\":\"circle\"},\"mode\":\"markers\",\"name\":\"R5-D4\",\"orientation\":\"h\",\"showlegend\":true,\"x\":[1],\"xaxis\":\"x\",\"y\":[\"unknown\"],\"yaxis\":\"y\",\"type\":\"scatter\"},{\"hovertemplate\":\"name=Biggs Darklighter\\u003cbr\\u003eH\\u00e0nh tinh qu\\u00ea h\\u01b0\\u01a1ng=%{x}\\u003cbr\\u003eN\\u0103m sinh=%{y}\\u003cextra\\u003e\\u003c\\u002fextra\\u003e\",\"legendgroup\":\"Biggs Darklighter\",\"marker\":{\"color\":\"#FF97FF\",\"symbol\":\"circle\"},\"mode\":\"markers\",\"name\":\"Biggs Darklighter\",\"orientation\":\"h\",\"showlegend\":true,\"x\":[1],\"xaxis\":\"x\",\"y\":[\"24BBY\"],\"yaxis\":\"y\",\"type\":\"scatter\"},{\"hovertemplate\":\"name=Obi-Wan Kenobi\\u003cbr\\u003eH\\u00e0nh tinh qu\\u00ea h\\u01b0\\u01a1ng=%{x}\\u003cbr\\u003eN\\u0103m sinh=%{y}\\u003cextra\\u003e\\u003c\\u002fextra\\u003e\",\"legendgroup\":\"Obi-Wan Kenobi\",\"marker\":{\"color\":\"#FECB52\",\"symbol\":\"circle\"},\"mode\":\"markers\",\"name\":\"Obi-Wan Kenobi\",\"orientation\":\"h\",\"showlegend\":true,\"x\":[20],\"xaxis\":\"x\",\"y\":[\"57BBY\"],\"yaxis\":\"y\",\"type\":\"scatter\"},{\"hovertemplate\":\"name=Anakin Skywalker\\u003cbr\\u003eH\\u00e0nh tinh qu\\u00ea h\\u01b0\\u01a1ng=%{x}\\u003cbr\\u003eN\\u0103m sinh=%{y}\\u003cextra\\u003e\\u003c\\u002fextra\\u003e\",\"legendgroup\":\"Anakin Skywalker\",\"marker\":{\"color\":\"#636efa\",\"symbol\":\"circle\"},\"mode\":\"markers\",\"name\":\"Anakin Skywalker\",\"orientation\":\"h\",\"showlegend\":true,\"x\":[1],\"xaxis\":\"x\",\"y\":[\"41.9BBY\"],\"yaxis\":\"y\",\"type\":\"scatter\"},{\"hovertemplate\":\"name=Wilhuff Tarkin\\u003cbr\\u003eH\\u00e0nh tinh qu\\u00ea h\\u01b0\\u01a1ng=%{x}\\u003cbr\\u003eN\\u0103m sinh=%{y}\\u003cextra\\u003e\\u003c\\u002fextra\\u003e\",\"legendgroup\":\"Wilhuff Tarkin\",\"marker\":{\"color\":\"#EF553B\",\"symbol\":\"circle\"},\"mode\":\"markers\",\"name\":\"Wilhuff Tarkin\",\"orientation\":\"h\",\"showlegend\":true,\"x\":[21],\"xaxis\":\"x\",\"y\":[\"64BBY\"],\"yaxis\":\"y\",\"type\":\"scatter\"},{\"hovertemplate\":\"name=Chewbacca\\u003cbr\\u003eH\\u00e0nh tinh qu\\u00ea h\\u01b0\\u01a1ng=%{x}\\u003cbr\\u003eN\\u0103m sinh=%{y}\\u003cextra\\u003e\\u003c\\u002fextra\\u003e\",\"legendgroup\":\"Chewbacca\",\"marker\":{\"color\":\"#00cc96\",\"symbol\":\"circle\"},\"mode\":\"markers\",\"name\":\"Chewbacca\",\"orientation\":\"h\",\"showlegend\":true,\"x\":[14],\"xaxis\":\"x\",\"y\":[\"200BBY\"],\"yaxis\":\"y\",\"type\":\"scatter\"},{\"hovertemplate\":\"name=Han Solo\\u003cbr\\u003eH\\u00e0nh tinh qu\\u00ea h\\u01b0\\u01a1ng=%{x}\\u003cbr\\u003eN\\u0103m sinh=%{y}\\u003cextra\\u003e\\u003c\\u002fextra\\u003e\",\"legendgroup\":\"Han Solo\",\"marker\":{\"color\":\"#ab63fa\",\"symbol\":\"circle\"},\"mode\":\"markers\",\"name\":\"Han Solo\",\"orientation\":\"h\",\"showlegend\":true,\"x\":[22],\"xaxis\":\"x\",\"y\":[\"29BBY\"],\"yaxis\":\"y\",\"type\":\"scatter\"},{\"hovertemplate\":\"name=Greedo\\u003cbr\\u003eH\\u00e0nh tinh qu\\u00ea h\\u01b0\\u01a1ng=%{x}\\u003cbr\\u003eN\\u0103m sinh=%{y}\\u003cextra\\u003e\\u003c\\u002fextra\\u003e\",\"legendgroup\":\"Greedo\",\"marker\":{\"color\":\"#FFA15A\",\"symbol\":\"circle\"},\"mode\":\"markers\",\"name\":\"Greedo\",\"orientation\":\"h\",\"showlegend\":true,\"x\":[23],\"xaxis\":\"x\",\"y\":[\"44BBY\"],\"yaxis\":\"y\",\"type\":\"scatter\"},{\"hovertemplate\":\"name=Jabba Desilijic Tiure\\u003cbr\\u003eH\\u00e0nh tinh qu\\u00ea h\\u01b0\\u01a1ng=%{x}\\u003cbr\\u003eN\\u0103m sinh=%{y}\\u003cextra\\u003e\\u003c\\u002fextra\\u003e\",\"legendgroup\":\"Jabba Desilijic Tiure\",\"marker\":{\"color\":\"#19d3f3\",\"symbol\":\"circle\"},\"mode\":\"markers\",\"name\":\"Jabba Desilijic Tiure\",\"orientation\":\"h\",\"showlegend\":true,\"x\":[24],\"xaxis\":\"x\",\"y\":[\"600BBY\"],\"yaxis\":\"y\",\"type\":\"scatter\"},{\"hovertemplate\":\"name=Wedge Antilles\\u003cbr\\u003eH\\u00e0nh tinh qu\\u00ea h\\u01b0\\u01a1ng=%{x}\\u003cbr\\u003eN\\u0103m sinh=%{y}\\u003cextra\\u003e\\u003c\\u002fextra\\u003e\",\"legendgroup\":\"Wedge Antilles\",\"marker\":{\"color\":\"#FF6692\",\"symbol\":\"circle\"},\"mode\":\"markers\",\"name\":\"Wedge Antilles\",\"orientation\":\"h\",\"showlegend\":true,\"x\":[22],\"xaxis\":\"x\",\"y\":[\"21BBY\"],\"yaxis\":\"y\",\"type\":\"scatter\"},{\"hovertemplate\":\"name=Jek Tono Porkins\\u003cbr\\u003eH\\u00e0nh tinh qu\\u00ea h\\u01b0\\u01a1ng=%{x}\\u003cbr\\u003eN\\u0103m sinh=%{y}\\u003cextra\\u003e\\u003c\\u002fextra\\u003e\",\"legendgroup\":\"Jek Tono Porkins\",\"marker\":{\"color\":\"#B6E880\",\"symbol\":\"circle\"},\"mode\":\"markers\",\"name\":\"Jek Tono Porkins\",\"orientation\":\"h\",\"showlegend\":true,\"x\":[26],\"xaxis\":\"x\",\"y\":[\"unknown\"],\"yaxis\":\"y\",\"type\":\"scatter\"},{\"hovertemplate\":\"name=Yoda\\u003cbr\\u003eH\\u00e0nh tinh qu\\u00ea h\\u01b0\\u01a1ng=%{x}\\u003cbr\\u003eN\\u0103m sinh=%{y}\\u003cextra\\u003e\\u003c\\u002fextra\\u003e\",\"legendgroup\":\"Yoda\",\"marker\":{\"color\":\"#FF97FF\",\"symbol\":\"circle\"},\"mode\":\"markers\",\"name\":\"Yoda\",\"orientation\":\"h\",\"showlegend\":true,\"x\":[28],\"xaxis\":\"x\",\"y\":[\"896BBY\"],\"yaxis\":\"y\",\"type\":\"scatter\"},{\"hovertemplate\":\"name=Palpatine\\u003cbr\\u003eH\\u00e0nh tinh qu\\u00ea h\\u01b0\\u01a1ng=%{x}\\u003cbr\\u003eN\\u0103m sinh=%{y}\\u003cextra\\u003e\\u003c\\u002fextra\\u003e\",\"legendgroup\":\"Palpatine\",\"marker\":{\"color\":\"#FECB52\",\"symbol\":\"circle\"},\"mode\":\"markers\",\"name\":\"Palpatine\",\"orientation\":\"h\",\"showlegend\":true,\"x\":[8],\"xaxis\":\"x\",\"y\":[\"82BBY\"],\"yaxis\":\"y\",\"type\":\"scatter\"},{\"hovertemplate\":\"name=Boba Fett\\u003cbr\\u003eH\\u00e0nh tinh qu\\u00ea h\\u01b0\\u01a1ng=%{x}\\u003cbr\\u003eN\\u0103m sinh=%{y}\\u003cextra\\u003e\\u003c\\u002fextra\\u003e\",\"legendgroup\":\"Boba Fett\",\"marker\":{\"color\":\"#636efa\",\"symbol\":\"circle\"},\"mode\":\"markers\",\"name\":\"Boba Fett\",\"orientation\":\"h\",\"showlegend\":true,\"x\":[10],\"xaxis\":\"x\",\"y\":[\"31.5BBY\"],\"yaxis\":\"y\",\"type\":\"scatter\"},{\"hovertemplate\":\"name=IG-88\\u003cbr\\u003eH\\u00e0nh tinh qu\\u00ea h\\u01b0\\u01a1ng=%{x}\\u003cbr\\u003eN\\u0103m sinh=%{y}\\u003cextra\\u003e\\u003c\\u002fextra\\u003e\",\"legendgroup\":\"IG-88\",\"marker\":{\"color\":\"#EF553B\",\"symbol\":\"circle\"},\"mode\":\"markers\",\"name\":\"IG-88\",\"orientation\":\"h\",\"showlegend\":true,\"x\":[28],\"xaxis\":\"x\",\"y\":[\"15BBY\"],\"yaxis\":\"y\",\"type\":\"scatter\"},{\"hovertemplate\":\"name=Bossk\\u003cbr\\u003eH\\u00e0nh tinh qu\\u00ea h\\u01b0\\u01a1ng=%{x}\\u003cbr\\u003eN\\u0103m sinh=%{y}\\u003cextra\\u003e\\u003c\\u002fextra\\u003e\",\"legendgroup\":\"Bossk\",\"marker\":{\"color\":\"#00cc96\",\"symbol\":\"circle\"},\"mode\":\"markers\",\"name\":\"Bossk\",\"orientation\":\"h\",\"showlegend\":true,\"x\":[29],\"xaxis\":\"x\",\"y\":[\"53BBY\"],\"yaxis\":\"y\",\"type\":\"scatter\"},{\"hovertemplate\":\"name=Lando Calrissian\\u003cbr\\u003eH\\u00e0nh tinh qu\\u00ea h\\u01b0\\u01a1ng=%{x}\\u003cbr\\u003eN\\u0103m sinh=%{y}\\u003cextra\\u003e\\u003c\\u002fextra\\u003e\",\"legendgroup\":\"Lando Calrissian\",\"marker\":{\"color\":\"#ab63fa\",\"symbol\":\"circle\"},\"mode\":\"markers\",\"name\":\"Lando Calrissian\",\"orientation\":\"h\",\"showlegend\":true,\"x\":[30],\"xaxis\":\"x\",\"y\":[\"31BBY\"],\"yaxis\":\"y\",\"type\":\"scatter\"},{\"hovertemplate\":\"name=Lobot\\u003cbr\\u003eH\\u00e0nh tinh qu\\u00ea h\\u01b0\\u01a1ng=%{x}\\u003cbr\\u003eN\\u0103m sinh=%{y}\\u003cextra\\u003e\\u003c\\u002fextra\\u003e\",\"legendgroup\":\"Lobot\",\"marker\":{\"color\":\"#FFA15A\",\"symbol\":\"circle\"},\"mode\":\"markers\",\"name\":\"Lobot\",\"orientation\":\"h\",\"showlegend\":true,\"x\":[6],\"xaxis\":\"x\",\"y\":[\"37BBY\"],\"yaxis\":\"y\",\"type\":\"scatter\"},{\"hovertemplate\":\"name=Ackbar\\u003cbr\\u003eH\\u00e0nh tinh qu\\u00ea h\\u01b0\\u01a1ng=%{x}\\u003cbr\\u003eN\\u0103m sinh=%{y}\\u003cextra\\u003e\\u003c\\u002fextra\\u003e\",\"legendgroup\":\"Ackbar\",\"marker\":{\"color\":\"#19d3f3\",\"symbol\":\"circle\"},\"mode\":\"markers\",\"name\":\"Ackbar\",\"orientation\":\"h\",\"showlegend\":true,\"x\":[31],\"xaxis\":\"x\",\"y\":[\"41BBY\"],\"yaxis\":\"y\",\"type\":\"scatter\"},{\"hovertemplate\":\"name=Mon Mothma\\u003cbr\\u003eH\\u00e0nh tinh qu\\u00ea h\\u01b0\\u01a1ng=%{x}\\u003cbr\\u003eN\\u0103m sinh=%{y}\\u003cextra\\u003e\\u003c\\u002fextra\\u003e\",\"legendgroup\":\"Mon Mothma\",\"marker\":{\"color\":\"#FF6692\",\"symbol\":\"circle\"},\"mode\":\"markers\",\"name\":\"Mon Mothma\",\"orientation\":\"h\",\"showlegend\":true,\"x\":[32],\"xaxis\":\"x\",\"y\":[\"48BBY\"],\"yaxis\":\"y\",\"type\":\"scatter\"},{\"hovertemplate\":\"name=Arvel Crynyd\\u003cbr\\u003eH\\u00e0nh tinh qu\\u00ea h\\u01b0\\u01a1ng=%{x}\\u003cbr\\u003eN\\u0103m sinh=%{y}\\u003cextra\\u003e\\u003c\\u002fextra\\u003e\",\"legendgroup\":\"Arvel Crynyd\",\"marker\":{\"color\":\"#B6E880\",\"symbol\":\"circle\"},\"mode\":\"markers\",\"name\":\"Arvel Crynyd\",\"orientation\":\"h\",\"showlegend\":true,\"x\":[28],\"xaxis\":\"x\",\"y\":[\"unknown\"],\"yaxis\":\"y\",\"type\":\"scatter\"},{\"hovertemplate\":\"name=Wicket Systri Warrick\\u003cbr\\u003eH\\u00e0nh tinh qu\\u00ea h\\u01b0\\u01a1ng=%{x}\\u003cbr\\u003eN\\u0103m sinh=%{y}\\u003cextra\\u003e\\u003c\\u002fextra\\u003e\",\"legendgroup\":\"Wicket Systri Warrick\",\"marker\":{\"color\":\"#FF97FF\",\"symbol\":\"circle\"},\"mode\":\"markers\",\"name\":\"Wicket Systri Warrick\",\"orientation\":\"h\",\"showlegend\":true,\"x\":[7],\"xaxis\":\"x\",\"y\":[\"8BBY\"],\"yaxis\":\"y\",\"type\":\"scatter\"},{\"hovertemplate\":\"name=Nien Nunb\\u003cbr\\u003eH\\u00e0nh tinh qu\\u00ea h\\u01b0\\u01a1ng=%{x}\\u003cbr\\u003eN\\u0103m sinh=%{y}\\u003cextra\\u003e\\u003c\\u002fextra\\u003e\",\"legendgroup\":\"Nien Nunb\",\"marker\":{\"color\":\"#FECB52\",\"symbol\":\"circle\"},\"mode\":\"markers\",\"name\":\"Nien Nunb\",\"orientation\":\"h\",\"showlegend\":true,\"x\":[33],\"xaxis\":\"x\",\"y\":[\"unknown\"],\"yaxis\":\"y\",\"type\":\"scatter\"},{\"hovertemplate\":\"name=Qui-Gon Jinn\\u003cbr\\u003eH\\u00e0nh tinh qu\\u00ea h\\u01b0\\u01a1ng=%{x}\\u003cbr\\u003eN\\u0103m sinh=%{y}\\u003cextra\\u003e\\u003c\\u002fextra\\u003e\",\"legendgroup\":\"Qui-Gon Jinn\",\"marker\":{\"color\":\"#636efa\",\"symbol\":\"circle\"},\"mode\":\"markers\",\"name\":\"Qui-Gon Jinn\",\"orientation\":\"h\",\"showlegend\":true,\"x\":[28],\"xaxis\":\"x\",\"y\":[\"92BBY\"],\"yaxis\":\"y\",\"type\":\"scatter\"},{\"hovertemplate\":\"name=Nute Gunray\\u003cbr\\u003eH\\u00e0nh tinh qu\\u00ea h\\u01b0\\u01a1ng=%{x}\\u003cbr\\u003eN\\u0103m sinh=%{y}\\u003cextra\\u003e\\u003c\\u002fextra\\u003e\",\"legendgroup\":\"Nute Gunray\",\"marker\":{\"color\":\"#EF553B\",\"symbol\":\"circle\"},\"mode\":\"markers\",\"name\":\"Nute Gunray\",\"orientation\":\"h\",\"showlegend\":true,\"x\":[18],\"xaxis\":\"x\",\"y\":[\"unknown\"],\"yaxis\":\"y\",\"type\":\"scatter\"},{\"hovertemplate\":\"name=Finis Valorum\\u003cbr\\u003eH\\u00e0nh tinh qu\\u00ea h\\u01b0\\u01a1ng=%{x}\\u003cbr\\u003eN\\u0103m sinh=%{y}\\u003cextra\\u003e\\u003c\\u002fextra\\u003e\",\"legendgroup\":\"Finis Valorum\",\"marker\":{\"color\":\"#00cc96\",\"symbol\":\"circle\"},\"mode\":\"markers\",\"name\":\"Finis Valorum\",\"orientation\":\"h\",\"showlegend\":true,\"x\":[9],\"xaxis\":\"x\",\"y\":[\"91BBY\"],\"yaxis\":\"y\",\"type\":\"scatter\"},{\"hovertemplate\":\"name=Padm\\u00e9 Amidala\\u003cbr\\u003eH\\u00e0nh tinh qu\\u00ea h\\u01b0\\u01a1ng=%{x}\\u003cbr\\u003eN\\u0103m sinh=%{y}\\u003cextra\\u003e\\u003c\\u002fextra\\u003e\",\"legendgroup\":\"Padm\\u00e9 Amidala\",\"marker\":{\"color\":\"#ab63fa\",\"symbol\":\"circle\"},\"mode\":\"markers\",\"name\":\"Padm\\u00e9 Amidala\",\"orientation\":\"h\",\"showlegend\":true,\"x\":[8],\"xaxis\":\"x\",\"y\":[\"46BBY\"],\"yaxis\":\"y\",\"type\":\"scatter\"},{\"hovertemplate\":\"name=Jar Jar Binks\\u003cbr\\u003eH\\u00e0nh tinh qu\\u00ea h\\u01b0\\u01a1ng=%{x}\\u003cbr\\u003eN\\u0103m sinh=%{y}\\u003cextra\\u003e\\u003c\\u002fextra\\u003e\",\"legendgroup\":\"Jar Jar Binks\",\"marker\":{\"color\":\"#FFA15A\",\"symbol\":\"circle\"},\"mode\":\"markers\",\"name\":\"Jar Jar Binks\",\"orientation\":\"h\",\"showlegend\":true,\"x\":[8],\"xaxis\":\"x\",\"y\":[\"52BBY\"],\"yaxis\":\"y\",\"type\":\"scatter\"},{\"hovertemplate\":\"name=Roos Tarpals\\u003cbr\\u003eH\\u00e0nh tinh qu\\u00ea h\\u01b0\\u01a1ng=%{x}\\u003cbr\\u003eN\\u0103m sinh=%{y}\\u003cextra\\u003e\\u003c\\u002fextra\\u003e\",\"legendgroup\":\"Roos Tarpals\",\"marker\":{\"color\":\"#19d3f3\",\"symbol\":\"circle\"},\"mode\":\"markers\",\"name\":\"Roos Tarpals\",\"orientation\":\"h\",\"showlegend\":true,\"x\":[8],\"xaxis\":\"x\",\"y\":[\"unknown\"],\"yaxis\":\"y\",\"type\":\"scatter\"},{\"hovertemplate\":\"name=Rugor Nass\\u003cbr\\u003eH\\u00e0nh tinh qu\\u00ea h\\u01b0\\u01a1ng=%{x}\\u003cbr\\u003eN\\u0103m sinh=%{y}\\u003cextra\\u003e\\u003c\\u002fextra\\u003e\",\"legendgroup\":\"Rugor Nass\",\"marker\":{\"color\":\"#FF6692\",\"symbol\":\"circle\"},\"mode\":\"markers\",\"name\":\"Rugor Nass\",\"orientation\":\"h\",\"showlegend\":true,\"x\":[8],\"xaxis\":\"x\",\"y\":[\"unknown\"],\"yaxis\":\"y\",\"type\":\"scatter\"},{\"hovertemplate\":\"name=Ric Oli\\u00e9\\u003cbr\\u003eH\\u00e0nh tinh qu\\u00ea h\\u01b0\\u01a1ng=%{x}\\u003cbr\\u003eN\\u0103m sinh=%{y}\\u003cextra\\u003e\\u003c\\u002fextra\\u003e\",\"legendgroup\":\"Ric Oli\\u00e9\",\"marker\":{\"color\":\"#B6E880\",\"symbol\":\"circle\"},\"mode\":\"markers\",\"name\":\"Ric Oli\\u00e9\",\"orientation\":\"h\",\"showlegend\":true,\"x\":[8],\"xaxis\":\"x\",\"y\":[\"unknown\"],\"yaxis\":\"y\",\"type\":\"scatter\"},{\"hovertemplate\":\"name=Watto\\u003cbr\\u003eH\\u00e0nh tinh qu\\u00ea h\\u01b0\\u01a1ng=%{x}\\u003cbr\\u003eN\\u0103m sinh=%{y}\\u003cextra\\u003e\\u003c\\u002fextra\\u003e\",\"legendgroup\":\"Watto\",\"marker\":{\"color\":\"#FF97FF\",\"symbol\":\"circle\"},\"mode\":\"markers\",\"name\":\"Watto\",\"orientation\":\"h\",\"showlegend\":true,\"x\":[34],\"xaxis\":\"x\",\"y\":[\"unknown\"],\"yaxis\":\"y\",\"type\":\"scatter\"},{\"hovertemplate\":\"name=Sebulba\\u003cbr\\u003eH\\u00e0nh tinh qu\\u00ea h\\u01b0\\u01a1ng=%{x}\\u003cbr\\u003eN\\u0103m sinh=%{y}\\u003cextra\\u003e\\u003c\\u002fextra\\u003e\",\"legendgroup\":\"Sebulba\",\"marker\":{\"color\":\"#FECB52\",\"symbol\":\"circle\"},\"mode\":\"markers\",\"name\":\"Sebulba\",\"orientation\":\"h\",\"showlegend\":true,\"x\":[35],\"xaxis\":\"x\",\"y\":[\"unknown\"],\"yaxis\":\"y\",\"type\":\"scatter\"},{\"hovertemplate\":\"name=Quarsh Panaka\\u003cbr\\u003eH\\u00e0nh tinh qu\\u00ea h\\u01b0\\u01a1ng=%{x}\\u003cbr\\u003eN\\u0103m sinh=%{y}\\u003cextra\\u003e\\u003c\\u002fextra\\u003e\",\"legendgroup\":\"Quarsh Panaka\",\"marker\":{\"color\":\"#636efa\",\"symbol\":\"circle\"},\"mode\":\"markers\",\"name\":\"Quarsh Panaka\",\"orientation\":\"h\",\"showlegend\":true,\"x\":[8],\"xaxis\":\"x\",\"y\":[\"62BBY\"],\"yaxis\":\"y\",\"type\":\"scatter\"},{\"hovertemplate\":\"name=Shmi Skywalker\\u003cbr\\u003eH\\u00e0nh tinh qu\\u00ea h\\u01b0\\u01a1ng=%{x}\\u003cbr\\u003eN\\u0103m sinh=%{y}\\u003cextra\\u003e\\u003c\\u002fextra\\u003e\",\"legendgroup\":\"Shmi Skywalker\",\"marker\":{\"color\":\"#EF553B\",\"symbol\":\"circle\"},\"mode\":\"markers\",\"name\":\"Shmi Skywalker\",\"orientation\":\"h\",\"showlegend\":true,\"x\":[1],\"xaxis\":\"x\",\"y\":[\"72BBY\"],\"yaxis\":\"y\",\"type\":\"scatter\"},{\"hovertemplate\":\"name=Darth Maul\\u003cbr\\u003eH\\u00e0nh tinh qu\\u00ea h\\u01b0\\u01a1ng=%{x}\\u003cbr\\u003eN\\u0103m sinh=%{y}\\u003cextra\\u003e\\u003c\\u002fextra\\u003e\",\"legendgroup\":\"Darth Maul\",\"marker\":{\"color\":\"#00cc96\",\"symbol\":\"circle\"},\"mode\":\"markers\",\"name\":\"Darth Maul\",\"orientation\":\"h\",\"showlegend\":true,\"x\":[36],\"xaxis\":\"x\",\"y\":[\"54BBY\"],\"yaxis\":\"y\",\"type\":\"scatter\"},{\"hovertemplate\":\"name=Bib Fortuna\\u003cbr\\u003eH\\u00e0nh tinh qu\\u00ea h\\u01b0\\u01a1ng=%{x}\\u003cbr\\u003eN\\u0103m sinh=%{y}\\u003cextra\\u003e\\u003c\\u002fextra\\u003e\",\"legendgroup\":\"Bib Fortuna\",\"marker\":{\"color\":\"#ab63fa\",\"symbol\":\"circle\"},\"mode\":\"markers\",\"name\":\"Bib Fortuna\",\"orientation\":\"h\",\"showlegend\":true,\"x\":[37],\"xaxis\":\"x\",\"y\":[\"unknown\"],\"yaxis\":\"y\",\"type\":\"scatter\"},{\"hovertemplate\":\"name=Ayla Secura\\u003cbr\\u003eH\\u00e0nh tinh qu\\u00ea h\\u01b0\\u01a1ng=%{x}\\u003cbr\\u003eN\\u0103m sinh=%{y}\\u003cextra\\u003e\\u003c\\u002fextra\\u003e\",\"legendgroup\":\"Ayla Secura\",\"marker\":{\"color\":\"#FFA15A\",\"symbol\":\"circle\"},\"mode\":\"markers\",\"name\":\"Ayla Secura\",\"orientation\":\"h\",\"showlegend\":true,\"x\":[37],\"xaxis\":\"x\",\"y\":[\"48BBY\"],\"yaxis\":\"y\",\"type\":\"scatter\"},{\"hovertemplate\":\"name=Ratts Tyerel\\u003cbr\\u003eH\\u00e0nh tinh qu\\u00ea h\\u01b0\\u01a1ng=%{x}\\u003cbr\\u003eN\\u0103m sinh=%{y}\\u003cextra\\u003e\\u003c\\u002fextra\\u003e\",\"legendgroup\":\"Ratts Tyerel\",\"marker\":{\"color\":\"#19d3f3\",\"symbol\":\"circle\"},\"mode\":\"markers\",\"name\":\"Ratts Tyerel\",\"orientation\":\"h\",\"showlegend\":true,\"x\":[38],\"xaxis\":\"x\",\"y\":[\"unknown\"],\"yaxis\":\"y\",\"type\":\"scatter\"},{\"hovertemplate\":\"name=Dud Bolt\\u003cbr\\u003eH\\u00e0nh tinh qu\\u00ea h\\u01b0\\u01a1ng=%{x}\\u003cbr\\u003eN\\u0103m sinh=%{y}\\u003cextra\\u003e\\u003c\\u002fextra\\u003e\",\"legendgroup\":\"Dud Bolt\",\"marker\":{\"color\":\"#FF6692\",\"symbol\":\"circle\"},\"mode\":\"markers\",\"name\":\"Dud Bolt\",\"orientation\":\"h\",\"showlegend\":true,\"x\":[39],\"xaxis\":\"x\",\"y\":[\"unknown\"],\"yaxis\":\"y\",\"type\":\"scatter\"},{\"hovertemplate\":\"name=Gasgano\\u003cbr\\u003eH\\u00e0nh tinh qu\\u00ea h\\u01b0\\u01a1ng=%{x}\\u003cbr\\u003eN\\u0103m sinh=%{y}\\u003cextra\\u003e\\u003c\\u002fextra\\u003e\",\"legendgroup\":\"Gasgano\",\"marker\":{\"color\":\"#B6E880\",\"symbol\":\"circle\"},\"mode\":\"markers\",\"name\":\"Gasgano\",\"orientation\":\"h\",\"showlegend\":true,\"x\":[40],\"xaxis\":\"x\",\"y\":[\"unknown\"],\"yaxis\":\"y\",\"type\":\"scatter\"},{\"hovertemplate\":\"name=Ben Quadinaros\\u003cbr\\u003eH\\u00e0nh tinh qu\\u00ea h\\u01b0\\u01a1ng=%{x}\\u003cbr\\u003eN\\u0103m sinh=%{y}\\u003cextra\\u003e\\u003c\\u002fextra\\u003e\",\"legendgroup\":\"Ben Quadinaros\",\"marker\":{\"color\":\"#FF97FF\",\"symbol\":\"circle\"},\"mode\":\"markers\",\"name\":\"Ben Quadinaros\",\"orientation\":\"h\",\"showlegend\":true,\"x\":[41],\"xaxis\":\"x\",\"y\":[\"unknown\"],\"yaxis\":\"y\",\"type\":\"scatter\"},{\"hovertemplate\":\"name=Mace Windu\\u003cbr\\u003eH\\u00e0nh tinh qu\\u00ea h\\u01b0\\u01a1ng=%{x}\\u003cbr\\u003eN\\u0103m sinh=%{y}\\u003cextra\\u003e\\u003c\\u002fextra\\u003e\",\"legendgroup\":\"Mace Windu\",\"marker\":{\"color\":\"#FECB52\",\"symbol\":\"circle\"},\"mode\":\"markers\",\"name\":\"Mace Windu\",\"orientation\":\"h\",\"showlegend\":true,\"x\":[42],\"xaxis\":\"x\",\"y\":[\"72BBY\"],\"yaxis\":\"y\",\"type\":\"scatter\"},{\"hovertemplate\":\"name=Ki-Adi-Mundi\\u003cbr\\u003eH\\u00e0nh tinh qu\\u00ea h\\u01b0\\u01a1ng=%{x}\\u003cbr\\u003eN\\u0103m sinh=%{y}\\u003cextra\\u003e\\u003c\\u002fextra\\u003e\",\"legendgroup\":\"Ki-Adi-Mundi\",\"marker\":{\"color\":\"#636efa\",\"symbol\":\"circle\"},\"mode\":\"markers\",\"name\":\"Ki-Adi-Mundi\",\"orientation\":\"h\",\"showlegend\":true,\"x\":[43],\"xaxis\":\"x\",\"y\":[\"92BBY\"],\"yaxis\":\"y\",\"type\":\"scatter\"},{\"hovertemplate\":\"name=Kit Fisto\\u003cbr\\u003eH\\u00e0nh tinh qu\\u00ea h\\u01b0\\u01a1ng=%{x}\\u003cbr\\u003eN\\u0103m sinh=%{y}\\u003cextra\\u003e\\u003c\\u002fextra\\u003e\",\"legendgroup\":\"Kit Fisto\",\"marker\":{\"color\":\"#EF553B\",\"symbol\":\"circle\"},\"mode\":\"markers\",\"name\":\"Kit Fisto\",\"orientation\":\"h\",\"showlegend\":true,\"x\":[44],\"xaxis\":\"x\",\"y\":[\"unknown\"],\"yaxis\":\"y\",\"type\":\"scatter\"},{\"hovertemplate\":\"name=Eeth Koth\\u003cbr\\u003eH\\u00e0nh tinh qu\\u00ea h\\u01b0\\u01a1ng=%{x}\\u003cbr\\u003eN\\u0103m sinh=%{y}\\u003cextra\\u003e\\u003c\\u002fextra\\u003e\",\"legendgroup\":\"Eeth Koth\",\"marker\":{\"color\":\"#00cc96\",\"symbol\":\"circle\"},\"mode\":\"markers\",\"name\":\"Eeth Koth\",\"orientation\":\"h\",\"showlegend\":true,\"x\":[45],\"xaxis\":\"x\",\"y\":[\"unknown\"],\"yaxis\":\"y\",\"type\":\"scatter\"},{\"hovertemplate\":\"name=Adi Gallia\\u003cbr\\u003eH\\u00e0nh tinh qu\\u00ea h\\u01b0\\u01a1ng=%{x}\\u003cbr\\u003eN\\u0103m sinh=%{y}\\u003cextra\\u003e\\u003c\\u002fextra\\u003e\",\"legendgroup\":\"Adi Gallia\",\"marker\":{\"color\":\"#ab63fa\",\"symbol\":\"circle\"},\"mode\":\"markers\",\"name\":\"Adi Gallia\",\"orientation\":\"h\",\"showlegend\":true,\"x\":[9],\"xaxis\":\"x\",\"y\":[\"unknown\"],\"yaxis\":\"y\",\"type\":\"scatter\"},{\"hovertemplate\":\"name=Saesee Tiin\\u003cbr\\u003eH\\u00e0nh tinh qu\\u00ea h\\u01b0\\u01a1ng=%{x}\\u003cbr\\u003eN\\u0103m sinh=%{y}\\u003cextra\\u003e\\u003c\\u002fextra\\u003e\",\"legendgroup\":\"Saesee Tiin\",\"marker\":{\"color\":\"#FFA15A\",\"symbol\":\"circle\"},\"mode\":\"markers\",\"name\":\"Saesee Tiin\",\"orientation\":\"h\",\"showlegend\":true,\"x\":[47],\"xaxis\":\"x\",\"y\":[\"unknown\"],\"yaxis\":\"y\",\"type\":\"scatter\"},{\"hovertemplate\":\"name=Yarael Poof\\u003cbr\\u003eH\\u00e0nh tinh qu\\u00ea h\\u01b0\\u01a1ng=%{x}\\u003cbr\\u003eN\\u0103m sinh=%{y}\\u003cextra\\u003e\\u003c\\u002fextra\\u003e\",\"legendgroup\":\"Yarael Poof\",\"marker\":{\"color\":\"#19d3f3\",\"symbol\":\"circle\"},\"mode\":\"markers\",\"name\":\"Yarael Poof\",\"orientation\":\"h\",\"showlegend\":true,\"x\":[48],\"xaxis\":\"x\",\"y\":[\"unknown\"],\"yaxis\":\"y\",\"type\":\"scatter\"},{\"hovertemplate\":\"name=Plo Koon\\u003cbr\\u003eH\\u00e0nh tinh qu\\u00ea h\\u01b0\\u01a1ng=%{x}\\u003cbr\\u003eN\\u0103m sinh=%{y}\\u003cextra\\u003e\\u003c\\u002fextra\\u003e\",\"legendgroup\":\"Plo Koon\",\"marker\":{\"color\":\"#FF6692\",\"symbol\":\"circle\"},\"mode\":\"markers\",\"name\":\"Plo Koon\",\"orientation\":\"h\",\"showlegend\":true,\"x\":[49],\"xaxis\":\"x\",\"y\":[\"22BBY\"],\"yaxis\":\"y\",\"type\":\"scatter\"},{\"hovertemplate\":\"name=Mas Amedda\\u003cbr\\u003eH\\u00e0nh tinh qu\\u00ea h\\u01b0\\u01a1ng=%{x}\\u003cbr\\u003eN\\u0103m sinh=%{y}\\u003cextra\\u003e\\u003c\\u002fextra\\u003e\",\"legendgroup\":\"Mas Amedda\",\"marker\":{\"color\":\"#B6E880\",\"symbol\":\"circle\"},\"mode\":\"markers\",\"name\":\"Mas Amedda\",\"orientation\":\"h\",\"showlegend\":true,\"x\":[50],\"xaxis\":\"x\",\"y\":[\"unknown\"],\"yaxis\":\"y\",\"type\":\"scatter\"},{\"hovertemplate\":\"name=Gregar Typho\\u003cbr\\u003eH\\u00e0nh tinh qu\\u00ea h\\u01b0\\u01a1ng=%{x}\\u003cbr\\u003eN\\u0103m sinh=%{y}\\u003cextra\\u003e\\u003c\\u002fextra\\u003e\",\"legendgroup\":\"Gregar Typho\",\"marker\":{\"color\":\"#FF97FF\",\"symbol\":\"circle\"},\"mode\":\"markers\",\"name\":\"Gregar Typho\",\"orientation\":\"h\",\"showlegend\":true,\"x\":[8],\"xaxis\":\"x\",\"y\":[\"unknown\"],\"yaxis\":\"y\",\"type\":\"scatter\"},{\"hovertemplate\":\"name=Cord\\u00e9\\u003cbr\\u003eH\\u00e0nh tinh qu\\u00ea h\\u01b0\\u01a1ng=%{x}\\u003cbr\\u003eN\\u0103m sinh=%{y}\\u003cextra\\u003e\\u003c\\u002fextra\\u003e\",\"legendgroup\":\"Cord\\u00e9\",\"marker\":{\"color\":\"#FECB52\",\"symbol\":\"circle\"},\"mode\":\"markers\",\"name\":\"Cord\\u00e9\",\"orientation\":\"h\",\"showlegend\":true,\"x\":[8],\"xaxis\":\"x\",\"y\":[\"unknown\"],\"yaxis\":\"y\",\"type\":\"scatter\"},{\"hovertemplate\":\"name=Cliegg Lars\\u003cbr\\u003eH\\u00e0nh tinh qu\\u00ea h\\u01b0\\u01a1ng=%{x}\\u003cbr\\u003eN\\u0103m sinh=%{y}\\u003cextra\\u003e\\u003c\\u002fextra\\u003e\",\"legendgroup\":\"Cliegg Lars\",\"marker\":{\"color\":\"#636efa\",\"symbol\":\"circle\"},\"mode\":\"markers\",\"name\":\"Cliegg Lars\",\"orientation\":\"h\",\"showlegend\":true,\"x\":[1],\"xaxis\":\"x\",\"y\":[\"82BBY\"],\"yaxis\":\"y\",\"type\":\"scatter\"},{\"hovertemplate\":\"name=Poggle the Lesser\\u003cbr\\u003eH\\u00e0nh tinh qu\\u00ea h\\u01b0\\u01a1ng=%{x}\\u003cbr\\u003eN\\u0103m sinh=%{y}\\u003cextra\\u003e\\u003c\\u002fextra\\u003e\",\"legendgroup\":\"Poggle the Lesser\",\"marker\":{\"color\":\"#EF553B\",\"symbol\":\"circle\"},\"mode\":\"markers\",\"name\":\"Poggle the Lesser\",\"orientation\":\"h\",\"showlegend\":true,\"x\":[11],\"xaxis\":\"x\",\"y\":[\"unknown\"],\"yaxis\":\"y\",\"type\":\"scatter\"},{\"hovertemplate\":\"name=Luminara Unduli\\u003cbr\\u003eH\\u00e0nh tinh qu\\u00ea h\\u01b0\\u01a1ng=%{x}\\u003cbr\\u003eN\\u0103m sinh=%{y}\\u003cextra\\u003e\\u003c\\u002fextra\\u003e\",\"legendgroup\":\"Luminara Unduli\",\"marker\":{\"color\":\"#00cc96\",\"symbol\":\"circle\"},\"mode\":\"markers\",\"name\":\"Luminara Unduli\",\"orientation\":\"h\",\"showlegend\":true,\"x\":[51],\"xaxis\":\"x\",\"y\":[\"58BBY\"],\"yaxis\":\"y\",\"type\":\"scatter\"},{\"hovertemplate\":\"name=Barriss Offee\\u003cbr\\u003eH\\u00e0nh tinh qu\\u00ea h\\u01b0\\u01a1ng=%{x}\\u003cbr\\u003eN\\u0103m sinh=%{y}\\u003cextra\\u003e\\u003c\\u002fextra\\u003e\",\"legendgroup\":\"Barriss Offee\",\"marker\":{\"color\":\"#ab63fa\",\"symbol\":\"circle\"},\"mode\":\"markers\",\"name\":\"Barriss Offee\",\"orientation\":\"h\",\"showlegend\":true,\"x\":[51],\"xaxis\":\"x\",\"y\":[\"40BBY\"],\"yaxis\":\"y\",\"type\":\"scatter\"},{\"hovertemplate\":\"name=Dorm\\u00e9\\u003cbr\\u003eH\\u00e0nh tinh qu\\u00ea h\\u01b0\\u01a1ng=%{x}\\u003cbr\\u003eN\\u0103m sinh=%{y}\\u003cextra\\u003e\\u003c\\u002fextra\\u003e\",\"legendgroup\":\"Dorm\\u00e9\",\"marker\":{\"color\":\"#FFA15A\",\"symbol\":\"circle\"},\"mode\":\"markers\",\"name\":\"Dorm\\u00e9\",\"orientation\":\"h\",\"showlegend\":true,\"x\":[8],\"xaxis\":\"x\",\"y\":[\"unknown\"],\"yaxis\":\"y\",\"type\":\"scatter\"},{\"hovertemplate\":\"name=Dooku\\u003cbr\\u003eH\\u00e0nh tinh qu\\u00ea h\\u01b0\\u01a1ng=%{x}\\u003cbr\\u003eN\\u0103m sinh=%{y}\\u003cextra\\u003e\\u003c\\u002fextra\\u003e\",\"legendgroup\":\"Dooku\",\"marker\":{\"color\":\"#19d3f3\",\"symbol\":\"circle\"},\"mode\":\"markers\",\"name\":\"Dooku\",\"orientation\":\"h\",\"showlegend\":true,\"x\":[52],\"xaxis\":\"x\",\"y\":[\"102BBY\"],\"yaxis\":\"y\",\"type\":\"scatter\"},{\"hovertemplate\":\"name=Bail Prestor Organa\\u003cbr\\u003eH\\u00e0nh tinh qu\\u00ea h\\u01b0\\u01a1ng=%{x}\\u003cbr\\u003eN\\u0103m sinh=%{y}\\u003cextra\\u003e\\u003c\\u002fextra\\u003e\",\"legendgroup\":\"Bail Prestor Organa\",\"marker\":{\"color\":\"#FF6692\",\"symbol\":\"circle\"},\"mode\":\"markers\",\"name\":\"Bail Prestor Organa\",\"orientation\":\"h\",\"showlegend\":true,\"x\":[2],\"xaxis\":\"x\",\"y\":[\"67BBY\"],\"yaxis\":\"y\",\"type\":\"scatter\"},{\"hovertemplate\":\"name=Jango Fett\\u003cbr\\u003eH\\u00e0nh tinh qu\\u00ea h\\u01b0\\u01a1ng=%{x}\\u003cbr\\u003eN\\u0103m sinh=%{y}\\u003cextra\\u003e\\u003c\\u002fextra\\u003e\",\"legendgroup\":\"Jango Fett\",\"marker\":{\"color\":\"#B6E880\",\"symbol\":\"circle\"},\"mode\":\"markers\",\"name\":\"Jango Fett\",\"orientation\":\"h\",\"showlegend\":true,\"x\":[53],\"xaxis\":\"x\",\"y\":[\"66BBY\"],\"yaxis\":\"y\",\"type\":\"scatter\"},{\"hovertemplate\":\"name=Zam Wesell\\u003cbr\\u003eH\\u00e0nh tinh qu\\u00ea h\\u01b0\\u01a1ng=%{x}\\u003cbr\\u003eN\\u0103m sinh=%{y}\\u003cextra\\u003e\\u003c\\u002fextra\\u003e\",\"legendgroup\":\"Zam Wesell\",\"marker\":{\"color\":\"#FF97FF\",\"symbol\":\"circle\"},\"mode\":\"markers\",\"name\":\"Zam Wesell\",\"orientation\":\"h\",\"showlegend\":true,\"x\":[54],\"xaxis\":\"x\",\"y\":[\"unknown\"],\"yaxis\":\"y\",\"type\":\"scatter\"},{\"hovertemplate\":\"name=Dexter Jettster\\u003cbr\\u003eH\\u00e0nh tinh qu\\u00ea h\\u01b0\\u01a1ng=%{x}\\u003cbr\\u003eN\\u0103m sinh=%{y}\\u003cextra\\u003e\\u003c\\u002fextra\\u003e\",\"legendgroup\":\"Dexter Jettster\",\"marker\":{\"color\":\"#FECB52\",\"symbol\":\"circle\"},\"mode\":\"markers\",\"name\":\"Dexter Jettster\",\"orientation\":\"h\",\"showlegend\":true,\"x\":[55],\"xaxis\":\"x\",\"y\":[\"unknown\"],\"yaxis\":\"y\",\"type\":\"scatter\"},{\"hovertemplate\":\"name=Lama Su\\u003cbr\\u003eH\\u00e0nh tinh qu\\u00ea h\\u01b0\\u01a1ng=%{x}\\u003cbr\\u003eN\\u0103m sinh=%{y}\\u003cextra\\u003e\\u003c\\u002fextra\\u003e\",\"legendgroup\":\"Lama Su\",\"marker\":{\"color\":\"#636efa\",\"symbol\":\"circle\"},\"mode\":\"markers\",\"name\":\"Lama Su\",\"orientation\":\"h\",\"showlegend\":true,\"x\":[10],\"xaxis\":\"x\",\"y\":[\"unknown\"],\"yaxis\":\"y\",\"type\":\"scatter\"},{\"hovertemplate\":\"name=Taun We\\u003cbr\\u003eH\\u00e0nh tinh qu\\u00ea h\\u01b0\\u01a1ng=%{x}\\u003cbr\\u003eN\\u0103m sinh=%{y}\\u003cextra\\u003e\\u003c\\u002fextra\\u003e\",\"legendgroup\":\"Taun We\",\"marker\":{\"color\":\"#EF553B\",\"symbol\":\"circle\"},\"mode\":\"markers\",\"name\":\"Taun We\",\"orientation\":\"h\",\"showlegend\":true,\"x\":[10],\"xaxis\":\"x\",\"y\":[\"unknown\"],\"yaxis\":\"y\",\"type\":\"scatter\"},{\"hovertemplate\":\"name=Jocasta Nu\\u003cbr\\u003eH\\u00e0nh tinh qu\\u00ea h\\u01b0\\u01a1ng=%{x}\\u003cbr\\u003eN\\u0103m sinh=%{y}\\u003cextra\\u003e\\u003c\\u002fextra\\u003e\",\"legendgroup\":\"Jocasta Nu\",\"marker\":{\"color\":\"#00cc96\",\"symbol\":\"circle\"},\"mode\":\"markers\",\"name\":\"Jocasta Nu\",\"orientation\":\"h\",\"showlegend\":true,\"x\":[9],\"xaxis\":\"x\",\"y\":[\"unknown\"],\"yaxis\":\"y\",\"type\":\"scatter\"},{\"hovertemplate\":\"name=R4-P17\\u003cbr\\u003eH\\u00e0nh tinh qu\\u00ea h\\u01b0\\u01a1ng=%{x}\\u003cbr\\u003eN\\u0103m sinh=%{y}\\u003cextra\\u003e\\u003c\\u002fextra\\u003e\",\"legendgroup\":\"R4-P17\",\"marker\":{\"color\":\"#ab63fa\",\"symbol\":\"circle\"},\"mode\":\"markers\",\"name\":\"R4-P17\",\"orientation\":\"h\",\"showlegend\":true,\"x\":[28],\"xaxis\":\"x\",\"y\":[\"unknown\"],\"yaxis\":\"y\",\"type\":\"scatter\"},{\"hovertemplate\":\"name=Wat Tambor\\u003cbr\\u003eH\\u00e0nh tinh qu\\u00ea h\\u01b0\\u01a1ng=%{x}\\u003cbr\\u003eN\\u0103m sinh=%{y}\\u003cextra\\u003e\\u003c\\u002fextra\\u003e\",\"legendgroup\":\"Wat Tambor\",\"marker\":{\"color\":\"#FFA15A\",\"symbol\":\"circle\"},\"mode\":\"markers\",\"name\":\"Wat Tambor\",\"orientation\":\"h\",\"showlegend\":true,\"x\":[56],\"xaxis\":\"x\",\"y\":[\"unknown\"],\"yaxis\":\"y\",\"type\":\"scatter\"},{\"hovertemplate\":\"name=San Hill\\u003cbr\\u003eH\\u00e0nh tinh qu\\u00ea h\\u01b0\\u01a1ng=%{x}\\u003cbr\\u003eN\\u0103m sinh=%{y}\\u003cextra\\u003e\\u003c\\u002fextra\\u003e\",\"legendgroup\":\"San Hill\",\"marker\":{\"color\":\"#19d3f3\",\"symbol\":\"circle\"},\"mode\":\"markers\",\"name\":\"San Hill\",\"orientation\":\"h\",\"showlegend\":true,\"x\":[57],\"xaxis\":\"x\",\"y\":[\"unknown\"],\"yaxis\":\"y\",\"type\":\"scatter\"},{\"hovertemplate\":\"name=Shaak Ti\\u003cbr\\u003eH\\u00e0nh tinh qu\\u00ea h\\u01b0\\u01a1ng=%{x}\\u003cbr\\u003eN\\u0103m sinh=%{y}\\u003cextra\\u003e\\u003c\\u002fextra\\u003e\",\"legendgroup\":\"Shaak Ti\",\"marker\":{\"color\":\"#FF6692\",\"symbol\":\"circle\"},\"mode\":\"markers\",\"name\":\"Shaak Ti\",\"orientation\":\"h\",\"showlegend\":true,\"x\":[58],\"xaxis\":\"x\",\"y\":[\"unknown\"],\"yaxis\":\"y\",\"type\":\"scatter\"},{\"hovertemplate\":\"name=Grievous\\u003cbr\\u003eH\\u00e0nh tinh qu\\u00ea h\\u01b0\\u01a1ng=%{x}\\u003cbr\\u003eN\\u0103m sinh=%{y}\\u003cextra\\u003e\\u003c\\u002fextra\\u003e\",\"legendgroup\":\"Grievous\",\"marker\":{\"color\":\"#B6E880\",\"symbol\":\"circle\"},\"mode\":\"markers\",\"name\":\"Grievous\",\"orientation\":\"h\",\"showlegend\":true,\"x\":[59],\"xaxis\":\"x\",\"y\":[\"unknown\"],\"yaxis\":\"y\",\"type\":\"scatter\"},{\"hovertemplate\":\"name=Tarfful\\u003cbr\\u003eH\\u00e0nh tinh qu\\u00ea h\\u01b0\\u01a1ng=%{x}\\u003cbr\\u003eN\\u0103m sinh=%{y}\\u003cextra\\u003e\\u003c\\u002fextra\\u003e\",\"legendgroup\":\"Tarfful\",\"marker\":{\"color\":\"#FF97FF\",\"symbol\":\"circle\"},\"mode\":\"markers\",\"name\":\"Tarfful\",\"orientation\":\"h\",\"showlegend\":true,\"x\":[14],\"xaxis\":\"x\",\"y\":[\"unknown\"],\"yaxis\":\"y\",\"type\":\"scatter\"},{\"hovertemplate\":\"name=Raymus Antilles\\u003cbr\\u003eH\\u00e0nh tinh qu\\u00ea h\\u01b0\\u01a1ng=%{x}\\u003cbr\\u003eN\\u0103m sinh=%{y}\\u003cextra\\u003e\\u003c\\u002fextra\\u003e\",\"legendgroup\":\"Raymus Antilles\",\"marker\":{\"color\":\"#FECB52\",\"symbol\":\"circle\"},\"mode\":\"markers\",\"name\":\"Raymus Antilles\",\"orientation\":\"h\",\"showlegend\":true,\"x\":[2],\"xaxis\":\"x\",\"y\":[\"unknown\"],\"yaxis\":\"y\",\"type\":\"scatter\"},{\"hovertemplate\":\"name=Sly Moore\\u003cbr\\u003eH\\u00e0nh tinh qu\\u00ea h\\u01b0\\u01a1ng=%{x}\\u003cbr\\u003eN\\u0103m sinh=%{y}\\u003cextra\\u003e\\u003c\\u002fextra\\u003e\",\"legendgroup\":\"Sly Moore\",\"marker\":{\"color\":\"#636efa\",\"symbol\":\"circle\"},\"mode\":\"markers\",\"name\":\"Sly Moore\",\"orientation\":\"h\",\"showlegend\":true,\"x\":[60],\"xaxis\":\"x\",\"y\":[\"unknown\"],\"yaxis\":\"y\",\"type\":\"scatter\"},{\"hovertemplate\":\"name=Tion Medon\\u003cbr\\u003eH\\u00e0nh tinh qu\\u00ea h\\u01b0\\u01a1ng=%{x}\\u003cbr\\u003eN\\u0103m sinh=%{y}\\u003cextra\\u003e\\u003c\\u002fextra\\u003e\",\"legendgroup\":\"Tion Medon\",\"marker\":{\"color\":\"#EF553B\",\"symbol\":\"circle\"},\"mode\":\"markers\",\"name\":\"Tion Medon\",\"orientation\":\"h\",\"showlegend\":true,\"x\":[12],\"xaxis\":\"x\",\"y\":[\"unknown\"],\"yaxis\":\"y\",\"type\":\"scatter\"}],                        {\"template\":{\"data\":{\"histogram2dcontour\":[{\"type\":\"histogram2dcontour\",\"colorbar\":{\"outlinewidth\":0,\"ticks\":\"\"},\"colorscale\":[[0.0,\"#0d0887\"],[0.1111111111111111,\"#46039f\"],[0.2222222222222222,\"#7201a8\"],[0.3333333333333333,\"#9c179e\"],[0.4444444444444444,\"#bd3786\"],[0.5555555555555556,\"#d8576b\"],[0.6666666666666666,\"#ed7953\"],[0.7777777777777778,\"#fb9f3a\"],[0.8888888888888888,\"#fdca26\"],[1.0,\"#f0f921\"]]}],\"choropleth\":[{\"type\":\"choropleth\",\"colorbar\":{\"outlinewidth\":0,\"ticks\":\"\"}}],\"histogram2d\":[{\"type\":\"histogram2d\",\"colorbar\":{\"outlinewidth\":0,\"ticks\":\"\"},\"colorscale\":[[0.0,\"#0d0887\"],[0.1111111111111111,\"#46039f\"],[0.2222222222222222,\"#7201a8\"],[0.3333333333333333,\"#9c179e\"],[0.4444444444444444,\"#bd3786\"],[0.5555555555555556,\"#d8576b\"],[0.6666666666666666,\"#ed7953\"],[0.7777777777777778,\"#fb9f3a\"],[0.8888888888888888,\"#fdca26\"],[1.0,\"#f0f921\"]]}],\"heatmap\":[{\"type\":\"heatmap\",\"colorbar\":{\"outlinewidth\":0,\"ticks\":\"\"},\"colorscale\":[[0.0,\"#0d0887\"],[0.1111111111111111,\"#46039f\"],[0.2222222222222222,\"#7201a8\"],[0.3333333333333333,\"#9c179e\"],[0.4444444444444444,\"#bd3786\"],[0.5555555555555556,\"#d8576b\"],[0.6666666666666666,\"#ed7953\"],[0.7777777777777778,\"#fb9f3a\"],[0.8888888888888888,\"#fdca26\"],[1.0,\"#f0f921\"]]}],\"heatmapgl\":[{\"type\":\"heatmapgl\",\"colorbar\":{\"outlinewidth\":0,\"ticks\":\"\"},\"colorscale\":[[0.0,\"#0d0887\"],[0.1111111111111111,\"#46039f\"],[0.2222222222222222,\"#7201a8\"],[0.3333333333333333,\"#9c179e\"],[0.4444444444444444,\"#bd3786\"],[0.5555555555555556,\"#d8576b\"],[0.6666666666666666,\"#ed7953\"],[0.7777777777777778,\"#fb9f3a\"],[0.8888888888888888,\"#fdca26\"],[1.0,\"#f0f921\"]]}],\"contourcarpet\":[{\"type\":\"contourcarpet\",\"colorbar\":{\"outlinewidth\":0,\"ticks\":\"\"}}],\"contour\":[{\"type\":\"contour\",\"colorbar\":{\"outlinewidth\":0,\"ticks\":\"\"},\"colorscale\":[[0.0,\"#0d0887\"],[0.1111111111111111,\"#46039f\"],[0.2222222222222222,\"#7201a8\"],[0.3333333333333333,\"#9c179e\"],[0.4444444444444444,\"#bd3786\"],[0.5555555555555556,\"#d8576b\"],[0.6666666666666666,\"#ed7953\"],[0.7777777777777778,\"#fb9f3a\"],[0.8888888888888888,\"#fdca26\"],[1.0,\"#f0f921\"]]}],\"surface\":[{\"type\":\"surface\",\"colorbar\":{\"outlinewidth\":0,\"ticks\":\"\"},\"colorscale\":[[0.0,\"#0d0887\"],[0.1111111111111111,\"#46039f\"],[0.2222222222222222,\"#7201a8\"],[0.3333333333333333,\"#9c179e\"],[0.4444444444444444,\"#bd3786\"],[0.5555555555555556,\"#d8576b\"],[0.6666666666666666,\"#ed7953\"],[0.7777777777777778,\"#fb9f3a\"],[0.8888888888888888,\"#fdca26\"],[1.0,\"#f0f921\"]]}],\"mesh3d\":[{\"type\":\"mesh3d\",\"colorbar\":{\"outlinewidth\":0,\"ticks\":\"\"}}],\"scatter\":[{\"fillpattern\":{\"fillmode\":\"overlay\",\"size\":10,\"solidity\":0.2},\"type\":\"scatter\"}],\"parcoords\":[{\"type\":\"parcoords\",\"line\":{\"colorbar\":{\"outlinewidth\":0,\"ticks\":\"\"}}}],\"scatterpolargl\":[{\"type\":\"scatterpolargl\",\"marker\":{\"colorbar\":{\"outlinewidth\":0,\"ticks\":\"\"}}}],\"bar\":[{\"error_x\":{\"color\":\"#2a3f5f\"},\"error_y\":{\"color\":\"#2a3f5f\"},\"marker\":{\"line\":{\"color\":\"#E5ECF6\",\"width\":0.5},\"pattern\":{\"fillmode\":\"overlay\",\"size\":10,\"solidity\":0.2}},\"type\":\"bar\"}],\"scattergeo\":[{\"type\":\"scattergeo\",\"marker\":{\"colorbar\":{\"outlinewidth\":0,\"ticks\":\"\"}}}],\"scatterpolar\":[{\"type\":\"scatterpolar\",\"marker\":{\"colorbar\":{\"outlinewidth\":0,\"ticks\":\"\"}}}],\"histogram\":[{\"marker\":{\"pattern\":{\"fillmode\":\"overlay\",\"size\":10,\"solidity\":0.2}},\"type\":\"histogram\"}],\"scattergl\":[{\"type\":\"scattergl\",\"marker\":{\"colorbar\":{\"outlinewidth\":0,\"ticks\":\"\"}}}],\"scatter3d\":[{\"type\":\"scatter3d\",\"line\":{\"colorbar\":{\"outlinewidth\":0,\"ticks\":\"\"}},\"marker\":{\"colorbar\":{\"outlinewidth\":0,\"ticks\":\"\"}}}],\"scattermapbox\":[{\"type\":\"scattermapbox\",\"marker\":{\"colorbar\":{\"outlinewidth\":0,\"ticks\":\"\"}}}],\"scatterternary\":[{\"type\":\"scatterternary\",\"marker\":{\"colorbar\":{\"outlinewidth\":0,\"ticks\":\"\"}}}],\"scattercarpet\":[{\"type\":\"scattercarpet\",\"marker\":{\"colorbar\":{\"outlinewidth\":0,\"ticks\":\"\"}}}],\"carpet\":[{\"aaxis\":{\"endlinecolor\":\"#2a3f5f\",\"gridcolor\":\"white\",\"linecolor\":\"white\",\"minorgridcolor\":\"white\",\"startlinecolor\":\"#2a3f5f\"},\"baxis\":{\"endlinecolor\":\"#2a3f5f\",\"gridcolor\":\"white\",\"linecolor\":\"white\",\"minorgridcolor\":\"white\",\"startlinecolor\":\"#2a3f5f\"},\"type\":\"carpet\"}],\"table\":[{\"cells\":{\"fill\":{\"color\":\"#EBF0F8\"},\"line\":{\"color\":\"white\"}},\"header\":{\"fill\":{\"color\":\"#C8D4E3\"},\"line\":{\"color\":\"white\"}},\"type\":\"table\"}],\"barpolar\":[{\"marker\":{\"line\":{\"color\":\"#E5ECF6\",\"width\":0.5},\"pattern\":{\"fillmode\":\"overlay\",\"size\":10,\"solidity\":0.2}},\"type\":\"barpolar\"}],\"pie\":[{\"automargin\":true,\"type\":\"pie\"}]},\"layout\":{\"autotypenumbers\":\"strict\",\"colorway\":[\"#636efa\",\"#EF553B\",\"#00cc96\",\"#ab63fa\",\"#FFA15A\",\"#19d3f3\",\"#FF6692\",\"#B6E880\",\"#FF97FF\",\"#FECB52\"],\"font\":{\"color\":\"#2a3f5f\"},\"hovermode\":\"closest\",\"hoverlabel\":{\"align\":\"left\"},\"paper_bgcolor\":\"white\",\"plot_bgcolor\":\"#E5ECF6\",\"polar\":{\"bgcolor\":\"#E5ECF6\",\"angularaxis\":{\"gridcolor\":\"white\",\"linecolor\":\"white\",\"ticks\":\"\"},\"radialaxis\":{\"gridcolor\":\"white\",\"linecolor\":\"white\",\"ticks\":\"\"}},\"ternary\":{\"bgcolor\":\"#E5ECF6\",\"aaxis\":{\"gridcolor\":\"white\",\"linecolor\":\"white\",\"ticks\":\"\"},\"baxis\":{\"gridcolor\":\"white\",\"linecolor\":\"white\",\"ticks\":\"\"},\"caxis\":{\"gridcolor\":\"white\",\"linecolor\":\"white\",\"ticks\":\"\"}},\"coloraxis\":{\"colorbar\":{\"outlinewidth\":0,\"ticks\":\"\"}},\"colorscale\":{\"sequential\":[[0.0,\"#0d0887\"],[0.1111111111111111,\"#46039f\"],[0.2222222222222222,\"#7201a8\"],[0.3333333333333333,\"#9c179e\"],[0.4444444444444444,\"#bd3786\"],[0.5555555555555556,\"#d8576b\"],[0.6666666666666666,\"#ed7953\"],[0.7777777777777778,\"#fb9f3a\"],[0.8888888888888888,\"#fdca26\"],[1.0,\"#f0f921\"]],\"sequentialminus\":[[0.0,\"#0d0887\"],[0.1111111111111111,\"#46039f\"],[0.2222222222222222,\"#7201a8\"],[0.3333333333333333,\"#9c179e\"],[0.4444444444444444,\"#bd3786\"],[0.5555555555555556,\"#d8576b\"],[0.6666666666666666,\"#ed7953\"],[0.7777777777777778,\"#fb9f3a\"],[0.8888888888888888,\"#fdca26\"],[1.0,\"#f0f921\"]],\"diverging\":[[0,\"#8e0152\"],[0.1,\"#c51b7d\"],[0.2,\"#de77ae\"],[0.3,\"#f1b6da\"],[0.4,\"#fde0ef\"],[0.5,\"#f7f7f7\"],[0.6,\"#e6f5d0\"],[0.7,\"#b8e186\"],[0.8,\"#7fbc41\"],[0.9,\"#4d9221\"],[1,\"#276419\"]]},\"xaxis\":{\"gridcolor\":\"white\",\"linecolor\":\"white\",\"ticks\":\"\",\"title\":{\"standoff\":15},\"zerolinecolor\":\"white\",\"automargin\":true,\"zerolinewidth\":2},\"yaxis\":{\"gridcolor\":\"white\",\"linecolor\":\"white\",\"ticks\":\"\",\"title\":{\"standoff\":15},\"zerolinecolor\":\"white\",\"automargin\":true,\"zerolinewidth\":2},\"scene\":{\"xaxis\":{\"backgroundcolor\":\"#E5ECF6\",\"gridcolor\":\"white\",\"linecolor\":\"white\",\"showbackground\":true,\"ticks\":\"\",\"zerolinecolor\":\"white\",\"gridwidth\":2},\"yaxis\":{\"backgroundcolor\":\"#E5ECF6\",\"gridcolor\":\"white\",\"linecolor\":\"white\",\"showbackground\":true,\"ticks\":\"\",\"zerolinecolor\":\"white\",\"gridwidth\":2},\"zaxis\":{\"backgroundcolor\":\"#E5ECF6\",\"gridcolor\":\"white\",\"linecolor\":\"white\",\"showbackground\":true,\"ticks\":\"\",\"zerolinecolor\":\"white\",\"gridwidth\":2}},\"shapedefaults\":{\"line\":{\"color\":\"#2a3f5f\"}},\"annotationdefaults\":{\"arrowcolor\":\"#2a3f5f\",\"arrowhead\":0,\"arrowwidth\":1},\"geo\":{\"bgcolor\":\"white\",\"landcolor\":\"#E5ECF6\",\"subunitcolor\":\"white\",\"showland\":true,\"showlakes\":true,\"lakecolor\":\"white\"},\"title\":{\"x\":0.05},\"mapbox\":{\"style\":\"light\"}}},\"xaxis\":{\"anchor\":\"y\",\"domain\":[0.0,1.0],\"title\":{\"text\":\"H\\u00e0nh tinh qu\\u00ea h\\u01b0\\u01a1ng\"},\"showgrid\":false},\"yaxis\":{\"anchor\":\"x\",\"domain\":[0.0,1.0],\"title\":{\"text\":\"N\\u0103m sinh\"},\"showgrid\":false},\"legend\":{\"title\":{\"text\":\"name\"},\"tracegroupgap\":0},\"title\":{\"text\":\"H\\u00e0nh tinh qu\\u00ea h\\u01b0\\u01a1ng vs N\\u0103m sinh\"},\"font\":{\"family\":\"Arial, sans-serif\",\"size\":14,\"color\":\"black\"},\"plot_bgcolor\":\"rgba(255,255,255,0.9)\",\"paper_bgcolor\":\"rgba(255,255,255,0.9)\"},                        {\"responsive\": true}                    ).then(function(){\n",
              "                            \n",
              "var gd = document.getElementById('2a4cbfda-54bb-442b-bdd4-0f84b810eca0');\n",
              "var x = new MutationObserver(function (mutations, observer) {{\n",
              "        var display = window.getComputedStyle(gd).display;\n",
              "        if (!display || display === 'none') {{\n",
              "            console.log([gd, 'removed!']);\n",
              "            Plotly.purge(gd);\n",
              "            observer.disconnect();\n",
              "        }}\n",
              "}});\n",
              "\n",
              "// Listen for the removal of the full notebook cells\n",
              "var notebookContainer = gd.closest('#notebook-container');\n",
              "if (notebookContainer) {{\n",
              "    x.observe(notebookContainer, {childList: true});\n",
              "}}\n",
              "\n",
              "// Listen for the clearing of the current output cell\n",
              "var outputEl = gd.closest('.output');\n",
              "if (outputEl) {{\n",
              "    x.observe(outputEl, {childList: true});\n",
              "}}\n",
              "\n",
              "                        })                };                            </script>        </div>\n",
              "</body>\n",
              "</html>"
            ]
          },
          "metadata": {}
        }
      ]
    },
    {
      "cell_type": "markdown",
      "source": [
        "**Nhận xét chung:**\n",
        "\n",
        "Biểu đồ scatter này minh họa sự phân bố của các nhân vật trong vũ trụ Star Wars dựa trên hành tinh quê hương và năm sinh của họ. Mỗi điểm trên biểu đồ biểu thị cho một nhân vật cụ thể, với màu sắc khác nhau giúp phân biệt từng nhân vật.\n",
        "\n",
        "**Phân tích cụ thể:**\n",
        "\n",
        "1. **Mối quan hệ giữa hành tinh quê hương và năm sinh:**\n",
        "   - Biểu đồ cho thấy sự phân bố của các nhân vật trên các hành tinh khác nhau và năm sinh của họ.\n",
        "   - Không có mối quan hệ rõ ràng giữa hành tinh quê hương và năm sinh của các nhân vật. Điều này cho thấy rằng năm sinh của mỗi nhân vật không phụ thuộc vào hành tinh mà họ đến từ.\n",
        "\n",
        "2. **Sự đa dạng về hành tinh quê hương và năm sinh:**\n",
        "   - Các nhân vật được sinh ra trên nhiều hành tinh khác nhau, từ những hành tinh như Earth và Mars đến những hành tinh xa xôi trong vũ trụ.\n",
        "   - Năm sinh của các nhân vật cũng đa dạng, phản ánh sự đa dạng và phong phú trong vũ trụ Star Wars.\n",
        "\n",
        "**Tổng kết:**\n",
        "\n",
        "- Biểu đồ scatter này không chỉ giúp hiểu rõ hơn về sự phân bố của các nhân vật dựa trên hành tinh quê hương và năm sinh mà còn thể hiện sự đa dạng và phong phú của vũ trụ Star Wars. Việc nghiên cứu và hiểu rõ sự phân bố này có thể giúp người hâm mộ khám phá và khám phá thêm về các chi tiết thú vị trong thế giới Star Wars."
      ],
      "metadata": {
        "id": "hrZQp1GBKNYT"
      }
    },
    {
      "cell_type": "markdown",
      "source": [
        "3.5. Mass and Birth_year"
      ],
      "metadata": {
        "id": "AXEy3WeMKOYz"
      }
    },
    {
      "cell_type": "code",
      "source": [
        "# 13. Biểu đồ phân phối ngày sinh và cân nặng\n",
        "\n",
        "# Trích xuất các trường từ dữ liệu\n",
        "characters = [{'birth_year': char['fields']['birth_year'], 'mass': char['fields']['mass'], 'name': char['fields']['name']} for char in data]\n",
        "\n",
        "# Tạo DataFrame từ dữ liệu\n",
        "df = pd.DataFrame(characters)\n",
        "\n",
        "# Sử dụng Plotly Express để vẽ biểu đồ scatter\n",
        "fig = px.scatter(df, x='birth_year', y='mass', color='name',\n",
        "                 title='Năm sinh vs Khối lượng',\n",
        "                 labels={'birth_year': 'Năm sinh', 'mass': 'Khối lượng'},\n",
        "                 size_max=15)\n",
        "\n",
        "# Cập nhật bố cục biểu đồ\n",
        "fig.update_layout(\n",
        "    font=dict(\n",
        "        family=\"Arial, sans-serif\",\n",
        "        size=14,\n",
        "        color=\"black\"\n",
        "    ),\n",
        "    plot_bgcolor='rgba(255,255,255,0.9)',\n",
        "    paper_bgcolor='rgba(255,255,255,0.9)',\n",
        "    xaxis=dict(showgrid=False),\n",
        "    yaxis=dict(showgrid=False)\n",
        ")\n",
        "\n",
        "# Hiển thị biểu đồ\n",
        "fig.show()"
      ],
      "metadata": {
        "colab": {
          "base_uri": "https://localhost:8080/",
          "height": 542
        },
        "id": "wxekJWcyKRqB",
        "outputId": "870cb39d-ba3e-402a-a7b9-69dcb65d2231"
      },
      "execution_count": 69,
      "outputs": [
        {
          "output_type": "display_data",
          "data": {
            "text/html": [
              "<html>\n",
              "<head><meta charset=\"utf-8\" /></head>\n",
              "<body>\n",
              "    <div>            <script src=\"https://cdnjs.cloudflare.com/ajax/libs/mathjax/2.7.5/MathJax.js?config=TeX-AMS-MML_SVG\"></script><script type=\"text/javascript\">if (window.MathJax && window.MathJax.Hub && window.MathJax.Hub.Config) {window.MathJax.Hub.Config({SVG: {font: \"STIX-Web\"}});}</script>                <script type=\"text/javascript\">window.PlotlyConfig = {MathJaxConfig: 'local'};</script>\n",
              "        <script charset=\"utf-8\" src=\"https://cdn.plot.ly/plotly-2.24.1.min.js\"></script>                <div id=\"0ba08bfd-4dcd-43db-8412-fd2bce57146b\" class=\"plotly-graph-div\" style=\"height:525px; width:100%;\"></div>            <script type=\"text/javascript\">                                    window.PLOTLYENV=window.PLOTLYENV || {};                                    if (document.getElementById(\"0ba08bfd-4dcd-43db-8412-fd2bce57146b\")) {                    Plotly.newPlot(                        \"0ba08bfd-4dcd-43db-8412-fd2bce57146b\",                        [{\"hovertemplate\":\"name=Luke Skywalker\\u003cbr\\u003eN\\u0103m sinh=%{x}\\u003cbr\\u003eKh\\u1ed1i l\\u01b0\\u1ee3ng=%{y}\\u003cextra\\u003e\\u003c\\u002fextra\\u003e\",\"legendgroup\":\"Luke Skywalker\",\"marker\":{\"color\":\"#636efa\",\"symbol\":\"circle\"},\"mode\":\"markers\",\"name\":\"Luke Skywalker\",\"orientation\":\"v\",\"showlegend\":true,\"x\":[\"19BBY\"],\"xaxis\":\"x\",\"y\":[\"77\"],\"yaxis\":\"y\",\"type\":\"scatter\"},{\"hovertemplate\":\"name=C-3PO\\u003cbr\\u003eN\\u0103m sinh=%{x}\\u003cbr\\u003eKh\\u1ed1i l\\u01b0\\u1ee3ng=%{y}\\u003cextra\\u003e\\u003c\\u002fextra\\u003e\",\"legendgroup\":\"C-3PO\",\"marker\":{\"color\":\"#EF553B\",\"symbol\":\"circle\"},\"mode\":\"markers\",\"name\":\"C-3PO\",\"orientation\":\"v\",\"showlegend\":true,\"x\":[\"112BBY\"],\"xaxis\":\"x\",\"y\":[\"75\"],\"yaxis\":\"y\",\"type\":\"scatter\"},{\"hovertemplate\":\"name=R2-D2\\u003cbr\\u003eN\\u0103m sinh=%{x}\\u003cbr\\u003eKh\\u1ed1i l\\u01b0\\u1ee3ng=%{y}\\u003cextra\\u003e\\u003c\\u002fextra\\u003e\",\"legendgroup\":\"R2-D2\",\"marker\":{\"color\":\"#00cc96\",\"symbol\":\"circle\"},\"mode\":\"markers\",\"name\":\"R2-D2\",\"orientation\":\"v\",\"showlegend\":true,\"x\":[\"33BBY\"],\"xaxis\":\"x\",\"y\":[\"32\"],\"yaxis\":\"y\",\"type\":\"scatter\"},{\"hovertemplate\":\"name=Darth Vader\\u003cbr\\u003eN\\u0103m sinh=%{x}\\u003cbr\\u003eKh\\u1ed1i l\\u01b0\\u1ee3ng=%{y}\\u003cextra\\u003e\\u003c\\u002fextra\\u003e\",\"legendgroup\":\"Darth Vader\",\"marker\":{\"color\":\"#ab63fa\",\"symbol\":\"circle\"},\"mode\":\"markers\",\"name\":\"Darth Vader\",\"orientation\":\"v\",\"showlegend\":true,\"x\":[\"41.9BBY\"],\"xaxis\":\"x\",\"y\":[\"136\"],\"yaxis\":\"y\",\"type\":\"scatter\"},{\"hovertemplate\":\"name=Leia Organa\\u003cbr\\u003eN\\u0103m sinh=%{x}\\u003cbr\\u003eKh\\u1ed1i l\\u01b0\\u1ee3ng=%{y}\\u003cextra\\u003e\\u003c\\u002fextra\\u003e\",\"legendgroup\":\"Leia Organa\",\"marker\":{\"color\":\"#FFA15A\",\"symbol\":\"circle\"},\"mode\":\"markers\",\"name\":\"Leia Organa\",\"orientation\":\"v\",\"showlegend\":true,\"x\":[\"19BBY\"],\"xaxis\":\"x\",\"y\":[\"49\"],\"yaxis\":\"y\",\"type\":\"scatter\"},{\"hovertemplate\":\"name=Owen Lars\\u003cbr\\u003eN\\u0103m sinh=%{x}\\u003cbr\\u003eKh\\u1ed1i l\\u01b0\\u1ee3ng=%{y}\\u003cextra\\u003e\\u003c\\u002fextra\\u003e\",\"legendgroup\":\"Owen Lars\",\"marker\":{\"color\":\"#19d3f3\",\"symbol\":\"circle\"},\"mode\":\"markers\",\"name\":\"Owen Lars\",\"orientation\":\"v\",\"showlegend\":true,\"x\":[\"52BBY\"],\"xaxis\":\"x\",\"y\":[\"120\"],\"yaxis\":\"y\",\"type\":\"scatter\"},{\"hovertemplate\":\"name=Beru Whitesun lars\\u003cbr\\u003eN\\u0103m sinh=%{x}\\u003cbr\\u003eKh\\u1ed1i l\\u01b0\\u1ee3ng=%{y}\\u003cextra\\u003e\\u003c\\u002fextra\\u003e\",\"legendgroup\":\"Beru Whitesun lars\",\"marker\":{\"color\":\"#FF6692\",\"symbol\":\"circle\"},\"mode\":\"markers\",\"name\":\"Beru Whitesun lars\",\"orientation\":\"v\",\"showlegend\":true,\"x\":[\"47BBY\"],\"xaxis\":\"x\",\"y\":[\"75\"],\"yaxis\":\"y\",\"type\":\"scatter\"},{\"hovertemplate\":\"name=R5-D4\\u003cbr\\u003eN\\u0103m sinh=%{x}\\u003cbr\\u003eKh\\u1ed1i l\\u01b0\\u1ee3ng=%{y}\\u003cextra\\u003e\\u003c\\u002fextra\\u003e\",\"legendgroup\":\"R5-D4\",\"marker\":{\"color\":\"#B6E880\",\"symbol\":\"circle\"},\"mode\":\"markers\",\"name\":\"R5-D4\",\"orientation\":\"v\",\"showlegend\":true,\"x\":[\"unknown\"],\"xaxis\":\"x\",\"y\":[\"32\"],\"yaxis\":\"y\",\"type\":\"scatter\"},{\"hovertemplate\":\"name=Biggs Darklighter\\u003cbr\\u003eN\\u0103m sinh=%{x}\\u003cbr\\u003eKh\\u1ed1i l\\u01b0\\u1ee3ng=%{y}\\u003cextra\\u003e\\u003c\\u002fextra\\u003e\",\"legendgroup\":\"Biggs Darklighter\",\"marker\":{\"color\":\"#FF97FF\",\"symbol\":\"circle\"},\"mode\":\"markers\",\"name\":\"Biggs Darklighter\",\"orientation\":\"v\",\"showlegend\":true,\"x\":[\"24BBY\"],\"xaxis\":\"x\",\"y\":[\"84\"],\"yaxis\":\"y\",\"type\":\"scatter\"},{\"hovertemplate\":\"name=Obi-Wan Kenobi\\u003cbr\\u003eN\\u0103m sinh=%{x}\\u003cbr\\u003eKh\\u1ed1i l\\u01b0\\u1ee3ng=%{y}\\u003cextra\\u003e\\u003c\\u002fextra\\u003e\",\"legendgroup\":\"Obi-Wan Kenobi\",\"marker\":{\"color\":\"#FECB52\",\"symbol\":\"circle\"},\"mode\":\"markers\",\"name\":\"Obi-Wan Kenobi\",\"orientation\":\"v\",\"showlegend\":true,\"x\":[\"57BBY\"],\"xaxis\":\"x\",\"y\":[\"77\"],\"yaxis\":\"y\",\"type\":\"scatter\"},{\"hovertemplate\":\"name=Anakin Skywalker\\u003cbr\\u003eN\\u0103m sinh=%{x}\\u003cbr\\u003eKh\\u1ed1i l\\u01b0\\u1ee3ng=%{y}\\u003cextra\\u003e\\u003c\\u002fextra\\u003e\",\"legendgroup\":\"Anakin Skywalker\",\"marker\":{\"color\":\"#636efa\",\"symbol\":\"circle\"},\"mode\":\"markers\",\"name\":\"Anakin Skywalker\",\"orientation\":\"v\",\"showlegend\":true,\"x\":[\"41.9BBY\"],\"xaxis\":\"x\",\"y\":[\"84\"],\"yaxis\":\"y\",\"type\":\"scatter\"},{\"hovertemplate\":\"name=Wilhuff Tarkin\\u003cbr\\u003eN\\u0103m sinh=%{x}\\u003cbr\\u003eKh\\u1ed1i l\\u01b0\\u1ee3ng=%{y}\\u003cextra\\u003e\\u003c\\u002fextra\\u003e\",\"legendgroup\":\"Wilhuff Tarkin\",\"marker\":{\"color\":\"#EF553B\",\"symbol\":\"circle\"},\"mode\":\"markers\",\"name\":\"Wilhuff Tarkin\",\"orientation\":\"v\",\"showlegend\":true,\"x\":[\"64BBY\"],\"xaxis\":\"x\",\"y\":[\"unknown\"],\"yaxis\":\"y\",\"type\":\"scatter\"},{\"hovertemplate\":\"name=Chewbacca\\u003cbr\\u003eN\\u0103m sinh=%{x}\\u003cbr\\u003eKh\\u1ed1i l\\u01b0\\u1ee3ng=%{y}\\u003cextra\\u003e\\u003c\\u002fextra\\u003e\",\"legendgroup\":\"Chewbacca\",\"marker\":{\"color\":\"#00cc96\",\"symbol\":\"circle\"},\"mode\":\"markers\",\"name\":\"Chewbacca\",\"orientation\":\"v\",\"showlegend\":true,\"x\":[\"200BBY\"],\"xaxis\":\"x\",\"y\":[\"112\"],\"yaxis\":\"y\",\"type\":\"scatter\"},{\"hovertemplate\":\"name=Han Solo\\u003cbr\\u003eN\\u0103m sinh=%{x}\\u003cbr\\u003eKh\\u1ed1i l\\u01b0\\u1ee3ng=%{y}\\u003cextra\\u003e\\u003c\\u002fextra\\u003e\",\"legendgroup\":\"Han Solo\",\"marker\":{\"color\":\"#ab63fa\",\"symbol\":\"circle\"},\"mode\":\"markers\",\"name\":\"Han Solo\",\"orientation\":\"v\",\"showlegend\":true,\"x\":[\"29BBY\"],\"xaxis\":\"x\",\"y\":[\"80\"],\"yaxis\":\"y\",\"type\":\"scatter\"},{\"hovertemplate\":\"name=Greedo\\u003cbr\\u003eN\\u0103m sinh=%{x}\\u003cbr\\u003eKh\\u1ed1i l\\u01b0\\u1ee3ng=%{y}\\u003cextra\\u003e\\u003c\\u002fextra\\u003e\",\"legendgroup\":\"Greedo\",\"marker\":{\"color\":\"#FFA15A\",\"symbol\":\"circle\"},\"mode\":\"markers\",\"name\":\"Greedo\",\"orientation\":\"v\",\"showlegend\":true,\"x\":[\"44BBY\"],\"xaxis\":\"x\",\"y\":[\"74\"],\"yaxis\":\"y\",\"type\":\"scatter\"},{\"hovertemplate\":\"name=Jabba Desilijic Tiure\\u003cbr\\u003eN\\u0103m sinh=%{x}\\u003cbr\\u003eKh\\u1ed1i l\\u01b0\\u1ee3ng=%{y}\\u003cextra\\u003e\\u003c\\u002fextra\\u003e\",\"legendgroup\":\"Jabba Desilijic Tiure\",\"marker\":{\"color\":\"#19d3f3\",\"symbol\":\"circle\"},\"mode\":\"markers\",\"name\":\"Jabba Desilijic Tiure\",\"orientation\":\"v\",\"showlegend\":true,\"x\":[\"600BBY\"],\"xaxis\":\"x\",\"y\":[\"1,358\"],\"yaxis\":\"y\",\"type\":\"scatter\"},{\"hovertemplate\":\"name=Wedge Antilles\\u003cbr\\u003eN\\u0103m sinh=%{x}\\u003cbr\\u003eKh\\u1ed1i l\\u01b0\\u1ee3ng=%{y}\\u003cextra\\u003e\\u003c\\u002fextra\\u003e\",\"legendgroup\":\"Wedge Antilles\",\"marker\":{\"color\":\"#FF6692\",\"symbol\":\"circle\"},\"mode\":\"markers\",\"name\":\"Wedge Antilles\",\"orientation\":\"v\",\"showlegend\":true,\"x\":[\"21BBY\"],\"xaxis\":\"x\",\"y\":[\"77\"],\"yaxis\":\"y\",\"type\":\"scatter\"},{\"hovertemplate\":\"name=Jek Tono Porkins\\u003cbr\\u003eN\\u0103m sinh=%{x}\\u003cbr\\u003eKh\\u1ed1i l\\u01b0\\u1ee3ng=%{y}\\u003cextra\\u003e\\u003c\\u002fextra\\u003e\",\"legendgroup\":\"Jek Tono Porkins\",\"marker\":{\"color\":\"#B6E880\",\"symbol\":\"circle\"},\"mode\":\"markers\",\"name\":\"Jek Tono Porkins\",\"orientation\":\"v\",\"showlegend\":true,\"x\":[\"unknown\"],\"xaxis\":\"x\",\"y\":[\"110\"],\"yaxis\":\"y\",\"type\":\"scatter\"},{\"hovertemplate\":\"name=Yoda\\u003cbr\\u003eN\\u0103m sinh=%{x}\\u003cbr\\u003eKh\\u1ed1i l\\u01b0\\u1ee3ng=%{y}\\u003cextra\\u003e\\u003c\\u002fextra\\u003e\",\"legendgroup\":\"Yoda\",\"marker\":{\"color\":\"#FF97FF\",\"symbol\":\"circle\"},\"mode\":\"markers\",\"name\":\"Yoda\",\"orientation\":\"v\",\"showlegend\":true,\"x\":[\"896BBY\"],\"xaxis\":\"x\",\"y\":[\"17\"],\"yaxis\":\"y\",\"type\":\"scatter\"},{\"hovertemplate\":\"name=Palpatine\\u003cbr\\u003eN\\u0103m sinh=%{x}\\u003cbr\\u003eKh\\u1ed1i l\\u01b0\\u1ee3ng=%{y}\\u003cextra\\u003e\\u003c\\u002fextra\\u003e\",\"legendgroup\":\"Palpatine\",\"marker\":{\"color\":\"#FECB52\",\"symbol\":\"circle\"},\"mode\":\"markers\",\"name\":\"Palpatine\",\"orientation\":\"v\",\"showlegend\":true,\"x\":[\"82BBY\"],\"xaxis\":\"x\",\"y\":[\"75\"],\"yaxis\":\"y\",\"type\":\"scatter\"},{\"hovertemplate\":\"name=Boba Fett\\u003cbr\\u003eN\\u0103m sinh=%{x}\\u003cbr\\u003eKh\\u1ed1i l\\u01b0\\u1ee3ng=%{y}\\u003cextra\\u003e\\u003c\\u002fextra\\u003e\",\"legendgroup\":\"Boba Fett\",\"marker\":{\"color\":\"#636efa\",\"symbol\":\"circle\"},\"mode\":\"markers\",\"name\":\"Boba Fett\",\"orientation\":\"v\",\"showlegend\":true,\"x\":[\"31.5BBY\"],\"xaxis\":\"x\",\"y\":[\"78.2\"],\"yaxis\":\"y\",\"type\":\"scatter\"},{\"hovertemplate\":\"name=IG-88\\u003cbr\\u003eN\\u0103m sinh=%{x}\\u003cbr\\u003eKh\\u1ed1i l\\u01b0\\u1ee3ng=%{y}\\u003cextra\\u003e\\u003c\\u002fextra\\u003e\",\"legendgroup\":\"IG-88\",\"marker\":{\"color\":\"#EF553B\",\"symbol\":\"circle\"},\"mode\":\"markers\",\"name\":\"IG-88\",\"orientation\":\"v\",\"showlegend\":true,\"x\":[\"15BBY\"],\"xaxis\":\"x\",\"y\":[\"140\"],\"yaxis\":\"y\",\"type\":\"scatter\"},{\"hovertemplate\":\"name=Bossk\\u003cbr\\u003eN\\u0103m sinh=%{x}\\u003cbr\\u003eKh\\u1ed1i l\\u01b0\\u1ee3ng=%{y}\\u003cextra\\u003e\\u003c\\u002fextra\\u003e\",\"legendgroup\":\"Bossk\",\"marker\":{\"color\":\"#00cc96\",\"symbol\":\"circle\"},\"mode\":\"markers\",\"name\":\"Bossk\",\"orientation\":\"v\",\"showlegend\":true,\"x\":[\"53BBY\"],\"xaxis\":\"x\",\"y\":[\"113\"],\"yaxis\":\"y\",\"type\":\"scatter\"},{\"hovertemplate\":\"name=Lando Calrissian\\u003cbr\\u003eN\\u0103m sinh=%{x}\\u003cbr\\u003eKh\\u1ed1i l\\u01b0\\u1ee3ng=%{y}\\u003cextra\\u003e\\u003c\\u002fextra\\u003e\",\"legendgroup\":\"Lando Calrissian\",\"marker\":{\"color\":\"#ab63fa\",\"symbol\":\"circle\"},\"mode\":\"markers\",\"name\":\"Lando Calrissian\",\"orientation\":\"v\",\"showlegend\":true,\"x\":[\"31BBY\"],\"xaxis\":\"x\",\"y\":[\"79\"],\"yaxis\":\"y\",\"type\":\"scatter\"},{\"hovertemplate\":\"name=Lobot\\u003cbr\\u003eN\\u0103m sinh=%{x}\\u003cbr\\u003eKh\\u1ed1i l\\u01b0\\u1ee3ng=%{y}\\u003cextra\\u003e\\u003c\\u002fextra\\u003e\",\"legendgroup\":\"Lobot\",\"marker\":{\"color\":\"#FFA15A\",\"symbol\":\"circle\"},\"mode\":\"markers\",\"name\":\"Lobot\",\"orientation\":\"v\",\"showlegend\":true,\"x\":[\"37BBY\"],\"xaxis\":\"x\",\"y\":[\"79\"],\"yaxis\":\"y\",\"type\":\"scatter\"},{\"hovertemplate\":\"name=Ackbar\\u003cbr\\u003eN\\u0103m sinh=%{x}\\u003cbr\\u003eKh\\u1ed1i l\\u01b0\\u1ee3ng=%{y}\\u003cextra\\u003e\\u003c\\u002fextra\\u003e\",\"legendgroup\":\"Ackbar\",\"marker\":{\"color\":\"#19d3f3\",\"symbol\":\"circle\"},\"mode\":\"markers\",\"name\":\"Ackbar\",\"orientation\":\"v\",\"showlegend\":true,\"x\":[\"41BBY\"],\"xaxis\":\"x\",\"y\":[\"83\"],\"yaxis\":\"y\",\"type\":\"scatter\"},{\"hovertemplate\":\"name=Mon Mothma\\u003cbr\\u003eN\\u0103m sinh=%{x}\\u003cbr\\u003eKh\\u1ed1i l\\u01b0\\u1ee3ng=%{y}\\u003cextra\\u003e\\u003c\\u002fextra\\u003e\",\"legendgroup\":\"Mon Mothma\",\"marker\":{\"color\":\"#FF6692\",\"symbol\":\"circle\"},\"mode\":\"markers\",\"name\":\"Mon Mothma\",\"orientation\":\"v\",\"showlegend\":true,\"x\":[\"48BBY\"],\"xaxis\":\"x\",\"y\":[\"unknown\"],\"yaxis\":\"y\",\"type\":\"scatter\"},{\"hovertemplate\":\"name=Arvel Crynyd\\u003cbr\\u003eN\\u0103m sinh=%{x}\\u003cbr\\u003eKh\\u1ed1i l\\u01b0\\u1ee3ng=%{y}\\u003cextra\\u003e\\u003c\\u002fextra\\u003e\",\"legendgroup\":\"Arvel Crynyd\",\"marker\":{\"color\":\"#B6E880\",\"symbol\":\"circle\"},\"mode\":\"markers\",\"name\":\"Arvel Crynyd\",\"orientation\":\"v\",\"showlegend\":true,\"x\":[\"unknown\"],\"xaxis\":\"x\",\"y\":[\"unknown\"],\"yaxis\":\"y\",\"type\":\"scatter\"},{\"hovertemplate\":\"name=Wicket Systri Warrick\\u003cbr\\u003eN\\u0103m sinh=%{x}\\u003cbr\\u003eKh\\u1ed1i l\\u01b0\\u1ee3ng=%{y}\\u003cextra\\u003e\\u003c\\u002fextra\\u003e\",\"legendgroup\":\"Wicket Systri Warrick\",\"marker\":{\"color\":\"#FF97FF\",\"symbol\":\"circle\"},\"mode\":\"markers\",\"name\":\"Wicket Systri Warrick\",\"orientation\":\"v\",\"showlegend\":true,\"x\":[\"8BBY\"],\"xaxis\":\"x\",\"y\":[\"20\"],\"yaxis\":\"y\",\"type\":\"scatter\"},{\"hovertemplate\":\"name=Nien Nunb\\u003cbr\\u003eN\\u0103m sinh=%{x}\\u003cbr\\u003eKh\\u1ed1i l\\u01b0\\u1ee3ng=%{y}\\u003cextra\\u003e\\u003c\\u002fextra\\u003e\",\"legendgroup\":\"Nien Nunb\",\"marker\":{\"color\":\"#FECB52\",\"symbol\":\"circle\"},\"mode\":\"markers\",\"name\":\"Nien Nunb\",\"orientation\":\"v\",\"showlegend\":true,\"x\":[\"unknown\"],\"xaxis\":\"x\",\"y\":[\"68\"],\"yaxis\":\"y\",\"type\":\"scatter\"},{\"hovertemplate\":\"name=Qui-Gon Jinn\\u003cbr\\u003eN\\u0103m sinh=%{x}\\u003cbr\\u003eKh\\u1ed1i l\\u01b0\\u1ee3ng=%{y}\\u003cextra\\u003e\\u003c\\u002fextra\\u003e\",\"legendgroup\":\"Qui-Gon Jinn\",\"marker\":{\"color\":\"#636efa\",\"symbol\":\"circle\"},\"mode\":\"markers\",\"name\":\"Qui-Gon Jinn\",\"orientation\":\"v\",\"showlegend\":true,\"x\":[\"92BBY\"],\"xaxis\":\"x\",\"y\":[\"89\"],\"yaxis\":\"y\",\"type\":\"scatter\"},{\"hovertemplate\":\"name=Nute Gunray\\u003cbr\\u003eN\\u0103m sinh=%{x}\\u003cbr\\u003eKh\\u1ed1i l\\u01b0\\u1ee3ng=%{y}\\u003cextra\\u003e\\u003c\\u002fextra\\u003e\",\"legendgroup\":\"Nute Gunray\",\"marker\":{\"color\":\"#EF553B\",\"symbol\":\"circle\"},\"mode\":\"markers\",\"name\":\"Nute Gunray\",\"orientation\":\"v\",\"showlegend\":true,\"x\":[\"unknown\"],\"xaxis\":\"x\",\"y\":[\"90\"],\"yaxis\":\"y\",\"type\":\"scatter\"},{\"hovertemplate\":\"name=Finis Valorum\\u003cbr\\u003eN\\u0103m sinh=%{x}\\u003cbr\\u003eKh\\u1ed1i l\\u01b0\\u1ee3ng=%{y}\\u003cextra\\u003e\\u003c\\u002fextra\\u003e\",\"legendgroup\":\"Finis Valorum\",\"marker\":{\"color\":\"#00cc96\",\"symbol\":\"circle\"},\"mode\":\"markers\",\"name\":\"Finis Valorum\",\"orientation\":\"v\",\"showlegend\":true,\"x\":[\"91BBY\"],\"xaxis\":\"x\",\"y\":[\"unknown\"],\"yaxis\":\"y\",\"type\":\"scatter\"},{\"hovertemplate\":\"name=Padm\\u00e9 Amidala\\u003cbr\\u003eN\\u0103m sinh=%{x}\\u003cbr\\u003eKh\\u1ed1i l\\u01b0\\u1ee3ng=%{y}\\u003cextra\\u003e\\u003c\\u002fextra\\u003e\",\"legendgroup\":\"Padm\\u00e9 Amidala\",\"marker\":{\"color\":\"#ab63fa\",\"symbol\":\"circle\"},\"mode\":\"markers\",\"name\":\"Padm\\u00e9 Amidala\",\"orientation\":\"v\",\"showlegend\":true,\"x\":[\"46BBY\"],\"xaxis\":\"x\",\"y\":[\"45\"],\"yaxis\":\"y\",\"type\":\"scatter\"},{\"hovertemplate\":\"name=Jar Jar Binks\\u003cbr\\u003eN\\u0103m sinh=%{x}\\u003cbr\\u003eKh\\u1ed1i l\\u01b0\\u1ee3ng=%{y}\\u003cextra\\u003e\\u003c\\u002fextra\\u003e\",\"legendgroup\":\"Jar Jar Binks\",\"marker\":{\"color\":\"#FFA15A\",\"symbol\":\"circle\"},\"mode\":\"markers\",\"name\":\"Jar Jar Binks\",\"orientation\":\"v\",\"showlegend\":true,\"x\":[\"52BBY\"],\"xaxis\":\"x\",\"y\":[\"66\"],\"yaxis\":\"y\",\"type\":\"scatter\"},{\"hovertemplate\":\"name=Roos Tarpals\\u003cbr\\u003eN\\u0103m sinh=%{x}\\u003cbr\\u003eKh\\u1ed1i l\\u01b0\\u1ee3ng=%{y}\\u003cextra\\u003e\\u003c\\u002fextra\\u003e\",\"legendgroup\":\"Roos Tarpals\",\"marker\":{\"color\":\"#19d3f3\",\"symbol\":\"circle\"},\"mode\":\"markers\",\"name\":\"Roos Tarpals\",\"orientation\":\"v\",\"showlegend\":true,\"x\":[\"unknown\"],\"xaxis\":\"x\",\"y\":[\"82\"],\"yaxis\":\"y\",\"type\":\"scatter\"},{\"hovertemplate\":\"name=Rugor Nass\\u003cbr\\u003eN\\u0103m sinh=%{x}\\u003cbr\\u003eKh\\u1ed1i l\\u01b0\\u1ee3ng=%{y}\\u003cextra\\u003e\\u003c\\u002fextra\\u003e\",\"legendgroup\":\"Rugor Nass\",\"marker\":{\"color\":\"#FF6692\",\"symbol\":\"circle\"},\"mode\":\"markers\",\"name\":\"Rugor Nass\",\"orientation\":\"v\",\"showlegend\":true,\"x\":[\"unknown\"],\"xaxis\":\"x\",\"y\":[\"unknown\"],\"yaxis\":\"y\",\"type\":\"scatter\"},{\"hovertemplate\":\"name=Ric Oli\\u00e9\\u003cbr\\u003eN\\u0103m sinh=%{x}\\u003cbr\\u003eKh\\u1ed1i l\\u01b0\\u1ee3ng=%{y}\\u003cextra\\u003e\\u003c\\u002fextra\\u003e\",\"legendgroup\":\"Ric Oli\\u00e9\",\"marker\":{\"color\":\"#B6E880\",\"symbol\":\"circle\"},\"mode\":\"markers\",\"name\":\"Ric Oli\\u00e9\",\"orientation\":\"v\",\"showlegend\":true,\"x\":[\"unknown\"],\"xaxis\":\"x\",\"y\":[\"unknown\"],\"yaxis\":\"y\",\"type\":\"scatter\"},{\"hovertemplate\":\"name=Watto\\u003cbr\\u003eN\\u0103m sinh=%{x}\\u003cbr\\u003eKh\\u1ed1i l\\u01b0\\u1ee3ng=%{y}\\u003cextra\\u003e\\u003c\\u002fextra\\u003e\",\"legendgroup\":\"Watto\",\"marker\":{\"color\":\"#FF97FF\",\"symbol\":\"circle\"},\"mode\":\"markers\",\"name\":\"Watto\",\"orientation\":\"v\",\"showlegend\":true,\"x\":[\"unknown\"],\"xaxis\":\"x\",\"y\":[\"unknown\"],\"yaxis\":\"y\",\"type\":\"scatter\"},{\"hovertemplate\":\"name=Sebulba\\u003cbr\\u003eN\\u0103m sinh=%{x}\\u003cbr\\u003eKh\\u1ed1i l\\u01b0\\u1ee3ng=%{y}\\u003cextra\\u003e\\u003c\\u002fextra\\u003e\",\"legendgroup\":\"Sebulba\",\"marker\":{\"color\":\"#FECB52\",\"symbol\":\"circle\"},\"mode\":\"markers\",\"name\":\"Sebulba\",\"orientation\":\"v\",\"showlegend\":true,\"x\":[\"unknown\"],\"xaxis\":\"x\",\"y\":[\"40\"],\"yaxis\":\"y\",\"type\":\"scatter\"},{\"hovertemplate\":\"name=Quarsh Panaka\\u003cbr\\u003eN\\u0103m sinh=%{x}\\u003cbr\\u003eKh\\u1ed1i l\\u01b0\\u1ee3ng=%{y}\\u003cextra\\u003e\\u003c\\u002fextra\\u003e\",\"legendgroup\":\"Quarsh Panaka\",\"marker\":{\"color\":\"#636efa\",\"symbol\":\"circle\"},\"mode\":\"markers\",\"name\":\"Quarsh Panaka\",\"orientation\":\"v\",\"showlegend\":true,\"x\":[\"62BBY\"],\"xaxis\":\"x\",\"y\":[\"unknown\"],\"yaxis\":\"y\",\"type\":\"scatter\"},{\"hovertemplate\":\"name=Shmi Skywalker\\u003cbr\\u003eN\\u0103m sinh=%{x}\\u003cbr\\u003eKh\\u1ed1i l\\u01b0\\u1ee3ng=%{y}\\u003cextra\\u003e\\u003c\\u002fextra\\u003e\",\"legendgroup\":\"Shmi Skywalker\",\"marker\":{\"color\":\"#EF553B\",\"symbol\":\"circle\"},\"mode\":\"markers\",\"name\":\"Shmi Skywalker\",\"orientation\":\"v\",\"showlegend\":true,\"x\":[\"72BBY\"],\"xaxis\":\"x\",\"y\":[\"unknown\"],\"yaxis\":\"y\",\"type\":\"scatter\"},{\"hovertemplate\":\"name=Darth Maul\\u003cbr\\u003eN\\u0103m sinh=%{x}\\u003cbr\\u003eKh\\u1ed1i l\\u01b0\\u1ee3ng=%{y}\\u003cextra\\u003e\\u003c\\u002fextra\\u003e\",\"legendgroup\":\"Darth Maul\",\"marker\":{\"color\":\"#00cc96\",\"symbol\":\"circle\"},\"mode\":\"markers\",\"name\":\"Darth Maul\",\"orientation\":\"v\",\"showlegend\":true,\"x\":[\"54BBY\"],\"xaxis\":\"x\",\"y\":[\"80\"],\"yaxis\":\"y\",\"type\":\"scatter\"},{\"hovertemplate\":\"name=Bib Fortuna\\u003cbr\\u003eN\\u0103m sinh=%{x}\\u003cbr\\u003eKh\\u1ed1i l\\u01b0\\u1ee3ng=%{y}\\u003cextra\\u003e\\u003c\\u002fextra\\u003e\",\"legendgroup\":\"Bib Fortuna\",\"marker\":{\"color\":\"#ab63fa\",\"symbol\":\"circle\"},\"mode\":\"markers\",\"name\":\"Bib Fortuna\",\"orientation\":\"v\",\"showlegend\":true,\"x\":[\"unknown\"],\"xaxis\":\"x\",\"y\":[\"unknown\"],\"yaxis\":\"y\",\"type\":\"scatter\"},{\"hovertemplate\":\"name=Ayla Secura\\u003cbr\\u003eN\\u0103m sinh=%{x}\\u003cbr\\u003eKh\\u1ed1i l\\u01b0\\u1ee3ng=%{y}\\u003cextra\\u003e\\u003c\\u002fextra\\u003e\",\"legendgroup\":\"Ayla Secura\",\"marker\":{\"color\":\"#FFA15A\",\"symbol\":\"circle\"},\"mode\":\"markers\",\"name\":\"Ayla Secura\",\"orientation\":\"v\",\"showlegend\":true,\"x\":[\"48BBY\"],\"xaxis\":\"x\",\"y\":[\"55\"],\"yaxis\":\"y\",\"type\":\"scatter\"},{\"hovertemplate\":\"name=Ratts Tyerel\\u003cbr\\u003eN\\u0103m sinh=%{x}\\u003cbr\\u003eKh\\u1ed1i l\\u01b0\\u1ee3ng=%{y}\\u003cextra\\u003e\\u003c\\u002fextra\\u003e\",\"legendgroup\":\"Ratts Tyerel\",\"marker\":{\"color\":\"#19d3f3\",\"symbol\":\"circle\"},\"mode\":\"markers\",\"name\":\"Ratts Tyerel\",\"orientation\":\"v\",\"showlegend\":true,\"x\":[\"unknown\"],\"xaxis\":\"x\",\"y\":[\"15\"],\"yaxis\":\"y\",\"type\":\"scatter\"},{\"hovertemplate\":\"name=Dud Bolt\\u003cbr\\u003eN\\u0103m sinh=%{x}\\u003cbr\\u003eKh\\u1ed1i l\\u01b0\\u1ee3ng=%{y}\\u003cextra\\u003e\\u003c\\u002fextra\\u003e\",\"legendgroup\":\"Dud Bolt\",\"marker\":{\"color\":\"#FF6692\",\"symbol\":\"circle\"},\"mode\":\"markers\",\"name\":\"Dud Bolt\",\"orientation\":\"v\",\"showlegend\":true,\"x\":[\"unknown\"],\"xaxis\":\"x\",\"y\":[\"45\"],\"yaxis\":\"y\",\"type\":\"scatter\"},{\"hovertemplate\":\"name=Gasgano\\u003cbr\\u003eN\\u0103m sinh=%{x}\\u003cbr\\u003eKh\\u1ed1i l\\u01b0\\u1ee3ng=%{y}\\u003cextra\\u003e\\u003c\\u002fextra\\u003e\",\"legendgroup\":\"Gasgano\",\"marker\":{\"color\":\"#B6E880\",\"symbol\":\"circle\"},\"mode\":\"markers\",\"name\":\"Gasgano\",\"orientation\":\"v\",\"showlegend\":true,\"x\":[\"unknown\"],\"xaxis\":\"x\",\"y\":[\"unknown\"],\"yaxis\":\"y\",\"type\":\"scatter\"},{\"hovertemplate\":\"name=Ben Quadinaros\\u003cbr\\u003eN\\u0103m sinh=%{x}\\u003cbr\\u003eKh\\u1ed1i l\\u01b0\\u1ee3ng=%{y}\\u003cextra\\u003e\\u003c\\u002fextra\\u003e\",\"legendgroup\":\"Ben Quadinaros\",\"marker\":{\"color\":\"#FF97FF\",\"symbol\":\"circle\"},\"mode\":\"markers\",\"name\":\"Ben Quadinaros\",\"orientation\":\"v\",\"showlegend\":true,\"x\":[\"unknown\"],\"xaxis\":\"x\",\"y\":[\"65\"],\"yaxis\":\"y\",\"type\":\"scatter\"},{\"hovertemplate\":\"name=Mace Windu\\u003cbr\\u003eN\\u0103m sinh=%{x}\\u003cbr\\u003eKh\\u1ed1i l\\u01b0\\u1ee3ng=%{y}\\u003cextra\\u003e\\u003c\\u002fextra\\u003e\",\"legendgroup\":\"Mace Windu\",\"marker\":{\"color\":\"#FECB52\",\"symbol\":\"circle\"},\"mode\":\"markers\",\"name\":\"Mace Windu\",\"orientation\":\"v\",\"showlegend\":true,\"x\":[\"72BBY\"],\"xaxis\":\"x\",\"y\":[\"84\"],\"yaxis\":\"y\",\"type\":\"scatter\"},{\"hovertemplate\":\"name=Ki-Adi-Mundi\\u003cbr\\u003eN\\u0103m sinh=%{x}\\u003cbr\\u003eKh\\u1ed1i l\\u01b0\\u1ee3ng=%{y}\\u003cextra\\u003e\\u003c\\u002fextra\\u003e\",\"legendgroup\":\"Ki-Adi-Mundi\",\"marker\":{\"color\":\"#636efa\",\"symbol\":\"circle\"},\"mode\":\"markers\",\"name\":\"Ki-Adi-Mundi\",\"orientation\":\"v\",\"showlegend\":true,\"x\":[\"92BBY\"],\"xaxis\":\"x\",\"y\":[\"82\"],\"yaxis\":\"y\",\"type\":\"scatter\"},{\"hovertemplate\":\"name=Kit Fisto\\u003cbr\\u003eN\\u0103m sinh=%{x}\\u003cbr\\u003eKh\\u1ed1i l\\u01b0\\u1ee3ng=%{y}\\u003cextra\\u003e\\u003c\\u002fextra\\u003e\",\"legendgroup\":\"Kit Fisto\",\"marker\":{\"color\":\"#EF553B\",\"symbol\":\"circle\"},\"mode\":\"markers\",\"name\":\"Kit Fisto\",\"orientation\":\"v\",\"showlegend\":true,\"x\":[\"unknown\"],\"xaxis\":\"x\",\"y\":[\"87\"],\"yaxis\":\"y\",\"type\":\"scatter\"},{\"hovertemplate\":\"name=Eeth Koth\\u003cbr\\u003eN\\u0103m sinh=%{x}\\u003cbr\\u003eKh\\u1ed1i l\\u01b0\\u1ee3ng=%{y}\\u003cextra\\u003e\\u003c\\u002fextra\\u003e\",\"legendgroup\":\"Eeth Koth\",\"marker\":{\"color\":\"#00cc96\",\"symbol\":\"circle\"},\"mode\":\"markers\",\"name\":\"Eeth Koth\",\"orientation\":\"v\",\"showlegend\":true,\"x\":[\"unknown\"],\"xaxis\":\"x\",\"y\":[\"unknown\"],\"yaxis\":\"y\",\"type\":\"scatter\"},{\"hovertemplate\":\"name=Adi Gallia\\u003cbr\\u003eN\\u0103m sinh=%{x}\\u003cbr\\u003eKh\\u1ed1i l\\u01b0\\u1ee3ng=%{y}\\u003cextra\\u003e\\u003c\\u002fextra\\u003e\",\"legendgroup\":\"Adi Gallia\",\"marker\":{\"color\":\"#ab63fa\",\"symbol\":\"circle\"},\"mode\":\"markers\",\"name\":\"Adi Gallia\",\"orientation\":\"v\",\"showlegend\":true,\"x\":[\"unknown\"],\"xaxis\":\"x\",\"y\":[\"50\"],\"yaxis\":\"y\",\"type\":\"scatter\"},{\"hovertemplate\":\"name=Saesee Tiin\\u003cbr\\u003eN\\u0103m sinh=%{x}\\u003cbr\\u003eKh\\u1ed1i l\\u01b0\\u1ee3ng=%{y}\\u003cextra\\u003e\\u003c\\u002fextra\\u003e\",\"legendgroup\":\"Saesee Tiin\",\"marker\":{\"color\":\"#FFA15A\",\"symbol\":\"circle\"},\"mode\":\"markers\",\"name\":\"Saesee Tiin\",\"orientation\":\"v\",\"showlegend\":true,\"x\":[\"unknown\"],\"xaxis\":\"x\",\"y\":[\"unknown\"],\"yaxis\":\"y\",\"type\":\"scatter\"},{\"hovertemplate\":\"name=Yarael Poof\\u003cbr\\u003eN\\u0103m sinh=%{x}\\u003cbr\\u003eKh\\u1ed1i l\\u01b0\\u1ee3ng=%{y}\\u003cextra\\u003e\\u003c\\u002fextra\\u003e\",\"legendgroup\":\"Yarael Poof\",\"marker\":{\"color\":\"#19d3f3\",\"symbol\":\"circle\"},\"mode\":\"markers\",\"name\":\"Yarael Poof\",\"orientation\":\"v\",\"showlegend\":true,\"x\":[\"unknown\"],\"xaxis\":\"x\",\"y\":[\"unknown\"],\"yaxis\":\"y\",\"type\":\"scatter\"},{\"hovertemplate\":\"name=Plo Koon\\u003cbr\\u003eN\\u0103m sinh=%{x}\\u003cbr\\u003eKh\\u1ed1i l\\u01b0\\u1ee3ng=%{y}\\u003cextra\\u003e\\u003c\\u002fextra\\u003e\",\"legendgroup\":\"Plo Koon\",\"marker\":{\"color\":\"#FF6692\",\"symbol\":\"circle\"},\"mode\":\"markers\",\"name\":\"Plo Koon\",\"orientation\":\"v\",\"showlegend\":true,\"x\":[\"22BBY\"],\"xaxis\":\"x\",\"y\":[\"80\"],\"yaxis\":\"y\",\"type\":\"scatter\"},{\"hovertemplate\":\"name=Mas Amedda\\u003cbr\\u003eN\\u0103m sinh=%{x}\\u003cbr\\u003eKh\\u1ed1i l\\u01b0\\u1ee3ng=%{y}\\u003cextra\\u003e\\u003c\\u002fextra\\u003e\",\"legendgroup\":\"Mas Amedda\",\"marker\":{\"color\":\"#B6E880\",\"symbol\":\"circle\"},\"mode\":\"markers\",\"name\":\"Mas Amedda\",\"orientation\":\"v\",\"showlegend\":true,\"x\":[\"unknown\"],\"xaxis\":\"x\",\"y\":[\"unknown\"],\"yaxis\":\"y\",\"type\":\"scatter\"},{\"hovertemplate\":\"name=Gregar Typho\\u003cbr\\u003eN\\u0103m sinh=%{x}\\u003cbr\\u003eKh\\u1ed1i l\\u01b0\\u1ee3ng=%{y}\\u003cextra\\u003e\\u003c\\u002fextra\\u003e\",\"legendgroup\":\"Gregar Typho\",\"marker\":{\"color\":\"#FF97FF\",\"symbol\":\"circle\"},\"mode\":\"markers\",\"name\":\"Gregar Typho\",\"orientation\":\"v\",\"showlegend\":true,\"x\":[\"unknown\"],\"xaxis\":\"x\",\"y\":[\"85\"],\"yaxis\":\"y\",\"type\":\"scatter\"},{\"hovertemplate\":\"name=Cord\\u00e9\\u003cbr\\u003eN\\u0103m sinh=%{x}\\u003cbr\\u003eKh\\u1ed1i l\\u01b0\\u1ee3ng=%{y}\\u003cextra\\u003e\\u003c\\u002fextra\\u003e\",\"legendgroup\":\"Cord\\u00e9\",\"marker\":{\"color\":\"#FECB52\",\"symbol\":\"circle\"},\"mode\":\"markers\",\"name\":\"Cord\\u00e9\",\"orientation\":\"v\",\"showlegend\":true,\"x\":[\"unknown\"],\"xaxis\":\"x\",\"y\":[\"unknown\"],\"yaxis\":\"y\",\"type\":\"scatter\"},{\"hovertemplate\":\"name=Cliegg Lars\\u003cbr\\u003eN\\u0103m sinh=%{x}\\u003cbr\\u003eKh\\u1ed1i l\\u01b0\\u1ee3ng=%{y}\\u003cextra\\u003e\\u003c\\u002fextra\\u003e\",\"legendgroup\":\"Cliegg Lars\",\"marker\":{\"color\":\"#636efa\",\"symbol\":\"circle\"},\"mode\":\"markers\",\"name\":\"Cliegg Lars\",\"orientation\":\"v\",\"showlegend\":true,\"x\":[\"82BBY\"],\"xaxis\":\"x\",\"y\":[\"unknown\"],\"yaxis\":\"y\",\"type\":\"scatter\"},{\"hovertemplate\":\"name=Poggle the Lesser\\u003cbr\\u003eN\\u0103m sinh=%{x}\\u003cbr\\u003eKh\\u1ed1i l\\u01b0\\u1ee3ng=%{y}\\u003cextra\\u003e\\u003c\\u002fextra\\u003e\",\"legendgroup\":\"Poggle the Lesser\",\"marker\":{\"color\":\"#EF553B\",\"symbol\":\"circle\"},\"mode\":\"markers\",\"name\":\"Poggle the Lesser\",\"orientation\":\"v\",\"showlegend\":true,\"x\":[\"unknown\"],\"xaxis\":\"x\",\"y\":[\"80\"],\"yaxis\":\"y\",\"type\":\"scatter\"},{\"hovertemplate\":\"name=Luminara Unduli\\u003cbr\\u003eN\\u0103m sinh=%{x}\\u003cbr\\u003eKh\\u1ed1i l\\u01b0\\u1ee3ng=%{y}\\u003cextra\\u003e\\u003c\\u002fextra\\u003e\",\"legendgroup\":\"Luminara Unduli\",\"marker\":{\"color\":\"#00cc96\",\"symbol\":\"circle\"},\"mode\":\"markers\",\"name\":\"Luminara Unduli\",\"orientation\":\"v\",\"showlegend\":true,\"x\":[\"58BBY\"],\"xaxis\":\"x\",\"y\":[\"56.2\"],\"yaxis\":\"y\",\"type\":\"scatter\"},{\"hovertemplate\":\"name=Barriss Offee\\u003cbr\\u003eN\\u0103m sinh=%{x}\\u003cbr\\u003eKh\\u1ed1i l\\u01b0\\u1ee3ng=%{y}\\u003cextra\\u003e\\u003c\\u002fextra\\u003e\",\"legendgroup\":\"Barriss Offee\",\"marker\":{\"color\":\"#ab63fa\",\"symbol\":\"circle\"},\"mode\":\"markers\",\"name\":\"Barriss Offee\",\"orientation\":\"v\",\"showlegend\":true,\"x\":[\"40BBY\"],\"xaxis\":\"x\",\"y\":[\"50\"],\"yaxis\":\"y\",\"type\":\"scatter\"},{\"hovertemplate\":\"name=Dorm\\u00e9\\u003cbr\\u003eN\\u0103m sinh=%{x}\\u003cbr\\u003eKh\\u1ed1i l\\u01b0\\u1ee3ng=%{y}\\u003cextra\\u003e\\u003c\\u002fextra\\u003e\",\"legendgroup\":\"Dorm\\u00e9\",\"marker\":{\"color\":\"#FFA15A\",\"symbol\":\"circle\"},\"mode\":\"markers\",\"name\":\"Dorm\\u00e9\",\"orientation\":\"v\",\"showlegend\":true,\"x\":[\"unknown\"],\"xaxis\":\"x\",\"y\":[\"unknown\"],\"yaxis\":\"y\",\"type\":\"scatter\"},{\"hovertemplate\":\"name=Dooku\\u003cbr\\u003eN\\u0103m sinh=%{x}\\u003cbr\\u003eKh\\u1ed1i l\\u01b0\\u1ee3ng=%{y}\\u003cextra\\u003e\\u003c\\u002fextra\\u003e\",\"legendgroup\":\"Dooku\",\"marker\":{\"color\":\"#19d3f3\",\"symbol\":\"circle\"},\"mode\":\"markers\",\"name\":\"Dooku\",\"orientation\":\"v\",\"showlegend\":true,\"x\":[\"102BBY\"],\"xaxis\":\"x\",\"y\":[\"80\"],\"yaxis\":\"y\",\"type\":\"scatter\"},{\"hovertemplate\":\"name=Bail Prestor Organa\\u003cbr\\u003eN\\u0103m sinh=%{x}\\u003cbr\\u003eKh\\u1ed1i l\\u01b0\\u1ee3ng=%{y}\\u003cextra\\u003e\\u003c\\u002fextra\\u003e\",\"legendgroup\":\"Bail Prestor Organa\",\"marker\":{\"color\":\"#FF6692\",\"symbol\":\"circle\"},\"mode\":\"markers\",\"name\":\"Bail Prestor Organa\",\"orientation\":\"v\",\"showlegend\":true,\"x\":[\"67BBY\"],\"xaxis\":\"x\",\"y\":[\"unknown\"],\"yaxis\":\"y\",\"type\":\"scatter\"},{\"hovertemplate\":\"name=Jango Fett\\u003cbr\\u003eN\\u0103m sinh=%{x}\\u003cbr\\u003eKh\\u1ed1i l\\u01b0\\u1ee3ng=%{y}\\u003cextra\\u003e\\u003c\\u002fextra\\u003e\",\"legendgroup\":\"Jango Fett\",\"marker\":{\"color\":\"#B6E880\",\"symbol\":\"circle\"},\"mode\":\"markers\",\"name\":\"Jango Fett\",\"orientation\":\"v\",\"showlegend\":true,\"x\":[\"66BBY\"],\"xaxis\":\"x\",\"y\":[\"79\"],\"yaxis\":\"y\",\"type\":\"scatter\"},{\"hovertemplate\":\"name=Zam Wesell\\u003cbr\\u003eN\\u0103m sinh=%{x}\\u003cbr\\u003eKh\\u1ed1i l\\u01b0\\u1ee3ng=%{y}\\u003cextra\\u003e\\u003c\\u002fextra\\u003e\",\"legendgroup\":\"Zam Wesell\",\"marker\":{\"color\":\"#FF97FF\",\"symbol\":\"circle\"},\"mode\":\"markers\",\"name\":\"Zam Wesell\",\"orientation\":\"v\",\"showlegend\":true,\"x\":[\"unknown\"],\"xaxis\":\"x\",\"y\":[\"55\"],\"yaxis\":\"y\",\"type\":\"scatter\"},{\"hovertemplate\":\"name=Dexter Jettster\\u003cbr\\u003eN\\u0103m sinh=%{x}\\u003cbr\\u003eKh\\u1ed1i l\\u01b0\\u1ee3ng=%{y}\\u003cextra\\u003e\\u003c\\u002fextra\\u003e\",\"legendgroup\":\"Dexter Jettster\",\"marker\":{\"color\":\"#FECB52\",\"symbol\":\"circle\"},\"mode\":\"markers\",\"name\":\"Dexter Jettster\",\"orientation\":\"v\",\"showlegend\":true,\"x\":[\"unknown\"],\"xaxis\":\"x\",\"y\":[\"102\"],\"yaxis\":\"y\",\"type\":\"scatter\"},{\"hovertemplate\":\"name=Lama Su\\u003cbr\\u003eN\\u0103m sinh=%{x}\\u003cbr\\u003eKh\\u1ed1i l\\u01b0\\u1ee3ng=%{y}\\u003cextra\\u003e\\u003c\\u002fextra\\u003e\",\"legendgroup\":\"Lama Su\",\"marker\":{\"color\":\"#636efa\",\"symbol\":\"circle\"},\"mode\":\"markers\",\"name\":\"Lama Su\",\"orientation\":\"v\",\"showlegend\":true,\"x\":[\"unknown\"],\"xaxis\":\"x\",\"y\":[\"88\"],\"yaxis\":\"y\",\"type\":\"scatter\"},{\"hovertemplate\":\"name=Taun We\\u003cbr\\u003eN\\u0103m sinh=%{x}\\u003cbr\\u003eKh\\u1ed1i l\\u01b0\\u1ee3ng=%{y}\\u003cextra\\u003e\\u003c\\u002fextra\\u003e\",\"legendgroup\":\"Taun We\",\"marker\":{\"color\":\"#EF553B\",\"symbol\":\"circle\"},\"mode\":\"markers\",\"name\":\"Taun We\",\"orientation\":\"v\",\"showlegend\":true,\"x\":[\"unknown\"],\"xaxis\":\"x\",\"y\":[\"unknown\"],\"yaxis\":\"y\",\"type\":\"scatter\"},{\"hovertemplate\":\"name=Jocasta Nu\\u003cbr\\u003eN\\u0103m sinh=%{x}\\u003cbr\\u003eKh\\u1ed1i l\\u01b0\\u1ee3ng=%{y}\\u003cextra\\u003e\\u003c\\u002fextra\\u003e\",\"legendgroup\":\"Jocasta Nu\",\"marker\":{\"color\":\"#00cc96\",\"symbol\":\"circle\"},\"mode\":\"markers\",\"name\":\"Jocasta Nu\",\"orientation\":\"v\",\"showlegend\":true,\"x\":[\"unknown\"],\"xaxis\":\"x\",\"y\":[\"unknown\"],\"yaxis\":\"y\",\"type\":\"scatter\"},{\"hovertemplate\":\"name=R4-P17\\u003cbr\\u003eN\\u0103m sinh=%{x}\\u003cbr\\u003eKh\\u1ed1i l\\u01b0\\u1ee3ng=%{y}\\u003cextra\\u003e\\u003c\\u002fextra\\u003e\",\"legendgroup\":\"R4-P17\",\"marker\":{\"color\":\"#ab63fa\",\"symbol\":\"circle\"},\"mode\":\"markers\",\"name\":\"R4-P17\",\"orientation\":\"v\",\"showlegend\":true,\"x\":[\"unknown\"],\"xaxis\":\"x\",\"y\":[\"unknown\"],\"yaxis\":\"y\",\"type\":\"scatter\"},{\"hovertemplate\":\"name=Wat Tambor\\u003cbr\\u003eN\\u0103m sinh=%{x}\\u003cbr\\u003eKh\\u1ed1i l\\u01b0\\u1ee3ng=%{y}\\u003cextra\\u003e\\u003c\\u002fextra\\u003e\",\"legendgroup\":\"Wat Tambor\",\"marker\":{\"color\":\"#FFA15A\",\"symbol\":\"circle\"},\"mode\":\"markers\",\"name\":\"Wat Tambor\",\"orientation\":\"v\",\"showlegend\":true,\"x\":[\"unknown\"],\"xaxis\":\"x\",\"y\":[\"48\"],\"yaxis\":\"y\",\"type\":\"scatter\"},{\"hovertemplate\":\"name=San Hill\\u003cbr\\u003eN\\u0103m sinh=%{x}\\u003cbr\\u003eKh\\u1ed1i l\\u01b0\\u1ee3ng=%{y}\\u003cextra\\u003e\\u003c\\u002fextra\\u003e\",\"legendgroup\":\"San Hill\",\"marker\":{\"color\":\"#19d3f3\",\"symbol\":\"circle\"},\"mode\":\"markers\",\"name\":\"San Hill\",\"orientation\":\"v\",\"showlegend\":true,\"x\":[\"unknown\"],\"xaxis\":\"x\",\"y\":[\"unknown\"],\"yaxis\":\"y\",\"type\":\"scatter\"},{\"hovertemplate\":\"name=Shaak Ti\\u003cbr\\u003eN\\u0103m sinh=%{x}\\u003cbr\\u003eKh\\u1ed1i l\\u01b0\\u1ee3ng=%{y}\\u003cextra\\u003e\\u003c\\u002fextra\\u003e\",\"legendgroup\":\"Shaak Ti\",\"marker\":{\"color\":\"#FF6692\",\"symbol\":\"circle\"},\"mode\":\"markers\",\"name\":\"Shaak Ti\",\"orientation\":\"v\",\"showlegend\":true,\"x\":[\"unknown\"],\"xaxis\":\"x\",\"y\":[\"57\"],\"yaxis\":\"y\",\"type\":\"scatter\"},{\"hovertemplate\":\"name=Grievous\\u003cbr\\u003eN\\u0103m sinh=%{x}\\u003cbr\\u003eKh\\u1ed1i l\\u01b0\\u1ee3ng=%{y}\\u003cextra\\u003e\\u003c\\u002fextra\\u003e\",\"legendgroup\":\"Grievous\",\"marker\":{\"color\":\"#B6E880\",\"symbol\":\"circle\"},\"mode\":\"markers\",\"name\":\"Grievous\",\"orientation\":\"v\",\"showlegend\":true,\"x\":[\"unknown\"],\"xaxis\":\"x\",\"y\":[\"159\"],\"yaxis\":\"y\",\"type\":\"scatter\"},{\"hovertemplate\":\"name=Tarfful\\u003cbr\\u003eN\\u0103m sinh=%{x}\\u003cbr\\u003eKh\\u1ed1i l\\u01b0\\u1ee3ng=%{y}\\u003cextra\\u003e\\u003c\\u002fextra\\u003e\",\"legendgroup\":\"Tarfful\",\"marker\":{\"color\":\"#FF97FF\",\"symbol\":\"circle\"},\"mode\":\"markers\",\"name\":\"Tarfful\",\"orientation\":\"v\",\"showlegend\":true,\"x\":[\"unknown\"],\"xaxis\":\"x\",\"y\":[\"136\"],\"yaxis\":\"y\",\"type\":\"scatter\"},{\"hovertemplate\":\"name=Raymus Antilles\\u003cbr\\u003eN\\u0103m sinh=%{x}\\u003cbr\\u003eKh\\u1ed1i l\\u01b0\\u1ee3ng=%{y}\\u003cextra\\u003e\\u003c\\u002fextra\\u003e\",\"legendgroup\":\"Raymus Antilles\",\"marker\":{\"color\":\"#FECB52\",\"symbol\":\"circle\"},\"mode\":\"markers\",\"name\":\"Raymus Antilles\",\"orientation\":\"v\",\"showlegend\":true,\"x\":[\"unknown\"],\"xaxis\":\"x\",\"y\":[\"79\"],\"yaxis\":\"y\",\"type\":\"scatter\"},{\"hovertemplate\":\"name=Sly Moore\\u003cbr\\u003eN\\u0103m sinh=%{x}\\u003cbr\\u003eKh\\u1ed1i l\\u01b0\\u1ee3ng=%{y}\\u003cextra\\u003e\\u003c\\u002fextra\\u003e\",\"legendgroup\":\"Sly Moore\",\"marker\":{\"color\":\"#636efa\",\"symbol\":\"circle\"},\"mode\":\"markers\",\"name\":\"Sly Moore\",\"orientation\":\"v\",\"showlegend\":true,\"x\":[\"unknown\"],\"xaxis\":\"x\",\"y\":[\"48\"],\"yaxis\":\"y\",\"type\":\"scatter\"},{\"hovertemplate\":\"name=Tion Medon\\u003cbr\\u003eN\\u0103m sinh=%{x}\\u003cbr\\u003eKh\\u1ed1i l\\u01b0\\u1ee3ng=%{y}\\u003cextra\\u003e\\u003c\\u002fextra\\u003e\",\"legendgroup\":\"Tion Medon\",\"marker\":{\"color\":\"#EF553B\",\"symbol\":\"circle\"},\"mode\":\"markers\",\"name\":\"Tion Medon\",\"orientation\":\"v\",\"showlegend\":true,\"x\":[\"unknown\"],\"xaxis\":\"x\",\"y\":[\"80\"],\"yaxis\":\"y\",\"type\":\"scatter\"}],                        {\"template\":{\"data\":{\"histogram2dcontour\":[{\"type\":\"histogram2dcontour\",\"colorbar\":{\"outlinewidth\":0,\"ticks\":\"\"},\"colorscale\":[[0.0,\"#0d0887\"],[0.1111111111111111,\"#46039f\"],[0.2222222222222222,\"#7201a8\"],[0.3333333333333333,\"#9c179e\"],[0.4444444444444444,\"#bd3786\"],[0.5555555555555556,\"#d8576b\"],[0.6666666666666666,\"#ed7953\"],[0.7777777777777778,\"#fb9f3a\"],[0.8888888888888888,\"#fdca26\"],[1.0,\"#f0f921\"]]}],\"choropleth\":[{\"type\":\"choropleth\",\"colorbar\":{\"outlinewidth\":0,\"ticks\":\"\"}}],\"histogram2d\":[{\"type\":\"histogram2d\",\"colorbar\":{\"outlinewidth\":0,\"ticks\":\"\"},\"colorscale\":[[0.0,\"#0d0887\"],[0.1111111111111111,\"#46039f\"],[0.2222222222222222,\"#7201a8\"],[0.3333333333333333,\"#9c179e\"],[0.4444444444444444,\"#bd3786\"],[0.5555555555555556,\"#d8576b\"],[0.6666666666666666,\"#ed7953\"],[0.7777777777777778,\"#fb9f3a\"],[0.8888888888888888,\"#fdca26\"],[1.0,\"#f0f921\"]]}],\"heatmap\":[{\"type\":\"heatmap\",\"colorbar\":{\"outlinewidth\":0,\"ticks\":\"\"},\"colorscale\":[[0.0,\"#0d0887\"],[0.1111111111111111,\"#46039f\"],[0.2222222222222222,\"#7201a8\"],[0.3333333333333333,\"#9c179e\"],[0.4444444444444444,\"#bd3786\"],[0.5555555555555556,\"#d8576b\"],[0.6666666666666666,\"#ed7953\"],[0.7777777777777778,\"#fb9f3a\"],[0.8888888888888888,\"#fdca26\"],[1.0,\"#f0f921\"]]}],\"heatmapgl\":[{\"type\":\"heatmapgl\",\"colorbar\":{\"outlinewidth\":0,\"ticks\":\"\"},\"colorscale\":[[0.0,\"#0d0887\"],[0.1111111111111111,\"#46039f\"],[0.2222222222222222,\"#7201a8\"],[0.3333333333333333,\"#9c179e\"],[0.4444444444444444,\"#bd3786\"],[0.5555555555555556,\"#d8576b\"],[0.6666666666666666,\"#ed7953\"],[0.7777777777777778,\"#fb9f3a\"],[0.8888888888888888,\"#fdca26\"],[1.0,\"#f0f921\"]]}],\"contourcarpet\":[{\"type\":\"contourcarpet\",\"colorbar\":{\"outlinewidth\":0,\"ticks\":\"\"}}],\"contour\":[{\"type\":\"contour\",\"colorbar\":{\"outlinewidth\":0,\"ticks\":\"\"},\"colorscale\":[[0.0,\"#0d0887\"],[0.1111111111111111,\"#46039f\"],[0.2222222222222222,\"#7201a8\"],[0.3333333333333333,\"#9c179e\"],[0.4444444444444444,\"#bd3786\"],[0.5555555555555556,\"#d8576b\"],[0.6666666666666666,\"#ed7953\"],[0.7777777777777778,\"#fb9f3a\"],[0.8888888888888888,\"#fdca26\"],[1.0,\"#f0f921\"]]}],\"surface\":[{\"type\":\"surface\",\"colorbar\":{\"outlinewidth\":0,\"ticks\":\"\"},\"colorscale\":[[0.0,\"#0d0887\"],[0.1111111111111111,\"#46039f\"],[0.2222222222222222,\"#7201a8\"],[0.3333333333333333,\"#9c179e\"],[0.4444444444444444,\"#bd3786\"],[0.5555555555555556,\"#d8576b\"],[0.6666666666666666,\"#ed7953\"],[0.7777777777777778,\"#fb9f3a\"],[0.8888888888888888,\"#fdca26\"],[1.0,\"#f0f921\"]]}],\"mesh3d\":[{\"type\":\"mesh3d\",\"colorbar\":{\"outlinewidth\":0,\"ticks\":\"\"}}],\"scatter\":[{\"fillpattern\":{\"fillmode\":\"overlay\",\"size\":10,\"solidity\":0.2},\"type\":\"scatter\"}],\"parcoords\":[{\"type\":\"parcoords\",\"line\":{\"colorbar\":{\"outlinewidth\":0,\"ticks\":\"\"}}}],\"scatterpolargl\":[{\"type\":\"scatterpolargl\",\"marker\":{\"colorbar\":{\"outlinewidth\":0,\"ticks\":\"\"}}}],\"bar\":[{\"error_x\":{\"color\":\"#2a3f5f\"},\"error_y\":{\"color\":\"#2a3f5f\"},\"marker\":{\"line\":{\"color\":\"#E5ECF6\",\"width\":0.5},\"pattern\":{\"fillmode\":\"overlay\",\"size\":10,\"solidity\":0.2}},\"type\":\"bar\"}],\"scattergeo\":[{\"type\":\"scattergeo\",\"marker\":{\"colorbar\":{\"outlinewidth\":0,\"ticks\":\"\"}}}],\"scatterpolar\":[{\"type\":\"scatterpolar\",\"marker\":{\"colorbar\":{\"outlinewidth\":0,\"ticks\":\"\"}}}],\"histogram\":[{\"marker\":{\"pattern\":{\"fillmode\":\"overlay\",\"size\":10,\"solidity\":0.2}},\"type\":\"histogram\"}],\"scattergl\":[{\"type\":\"scattergl\",\"marker\":{\"colorbar\":{\"outlinewidth\":0,\"ticks\":\"\"}}}],\"scatter3d\":[{\"type\":\"scatter3d\",\"line\":{\"colorbar\":{\"outlinewidth\":0,\"ticks\":\"\"}},\"marker\":{\"colorbar\":{\"outlinewidth\":0,\"ticks\":\"\"}}}],\"scattermapbox\":[{\"type\":\"scattermapbox\",\"marker\":{\"colorbar\":{\"outlinewidth\":0,\"ticks\":\"\"}}}],\"scatterternary\":[{\"type\":\"scatterternary\",\"marker\":{\"colorbar\":{\"outlinewidth\":0,\"ticks\":\"\"}}}],\"scattercarpet\":[{\"type\":\"scattercarpet\",\"marker\":{\"colorbar\":{\"outlinewidth\":0,\"ticks\":\"\"}}}],\"carpet\":[{\"aaxis\":{\"endlinecolor\":\"#2a3f5f\",\"gridcolor\":\"white\",\"linecolor\":\"white\",\"minorgridcolor\":\"white\",\"startlinecolor\":\"#2a3f5f\"},\"baxis\":{\"endlinecolor\":\"#2a3f5f\",\"gridcolor\":\"white\",\"linecolor\":\"white\",\"minorgridcolor\":\"white\",\"startlinecolor\":\"#2a3f5f\"},\"type\":\"carpet\"}],\"table\":[{\"cells\":{\"fill\":{\"color\":\"#EBF0F8\"},\"line\":{\"color\":\"white\"}},\"header\":{\"fill\":{\"color\":\"#C8D4E3\"},\"line\":{\"color\":\"white\"}},\"type\":\"table\"}],\"barpolar\":[{\"marker\":{\"line\":{\"color\":\"#E5ECF6\",\"width\":0.5},\"pattern\":{\"fillmode\":\"overlay\",\"size\":10,\"solidity\":0.2}},\"type\":\"barpolar\"}],\"pie\":[{\"automargin\":true,\"type\":\"pie\"}]},\"layout\":{\"autotypenumbers\":\"strict\",\"colorway\":[\"#636efa\",\"#EF553B\",\"#00cc96\",\"#ab63fa\",\"#FFA15A\",\"#19d3f3\",\"#FF6692\",\"#B6E880\",\"#FF97FF\",\"#FECB52\"],\"font\":{\"color\":\"#2a3f5f\"},\"hovermode\":\"closest\",\"hoverlabel\":{\"align\":\"left\"},\"paper_bgcolor\":\"white\",\"plot_bgcolor\":\"#E5ECF6\",\"polar\":{\"bgcolor\":\"#E5ECF6\",\"angularaxis\":{\"gridcolor\":\"white\",\"linecolor\":\"white\",\"ticks\":\"\"},\"radialaxis\":{\"gridcolor\":\"white\",\"linecolor\":\"white\",\"ticks\":\"\"}},\"ternary\":{\"bgcolor\":\"#E5ECF6\",\"aaxis\":{\"gridcolor\":\"white\",\"linecolor\":\"white\",\"ticks\":\"\"},\"baxis\":{\"gridcolor\":\"white\",\"linecolor\":\"white\",\"ticks\":\"\"},\"caxis\":{\"gridcolor\":\"white\",\"linecolor\":\"white\",\"ticks\":\"\"}},\"coloraxis\":{\"colorbar\":{\"outlinewidth\":0,\"ticks\":\"\"}},\"colorscale\":{\"sequential\":[[0.0,\"#0d0887\"],[0.1111111111111111,\"#46039f\"],[0.2222222222222222,\"#7201a8\"],[0.3333333333333333,\"#9c179e\"],[0.4444444444444444,\"#bd3786\"],[0.5555555555555556,\"#d8576b\"],[0.6666666666666666,\"#ed7953\"],[0.7777777777777778,\"#fb9f3a\"],[0.8888888888888888,\"#fdca26\"],[1.0,\"#f0f921\"]],\"sequentialminus\":[[0.0,\"#0d0887\"],[0.1111111111111111,\"#46039f\"],[0.2222222222222222,\"#7201a8\"],[0.3333333333333333,\"#9c179e\"],[0.4444444444444444,\"#bd3786\"],[0.5555555555555556,\"#d8576b\"],[0.6666666666666666,\"#ed7953\"],[0.7777777777777778,\"#fb9f3a\"],[0.8888888888888888,\"#fdca26\"],[1.0,\"#f0f921\"]],\"diverging\":[[0,\"#8e0152\"],[0.1,\"#c51b7d\"],[0.2,\"#de77ae\"],[0.3,\"#f1b6da\"],[0.4,\"#fde0ef\"],[0.5,\"#f7f7f7\"],[0.6,\"#e6f5d0\"],[0.7,\"#b8e186\"],[0.8,\"#7fbc41\"],[0.9,\"#4d9221\"],[1,\"#276419\"]]},\"xaxis\":{\"gridcolor\":\"white\",\"linecolor\":\"white\",\"ticks\":\"\",\"title\":{\"standoff\":15},\"zerolinecolor\":\"white\",\"automargin\":true,\"zerolinewidth\":2},\"yaxis\":{\"gridcolor\":\"white\",\"linecolor\":\"white\",\"ticks\":\"\",\"title\":{\"standoff\":15},\"zerolinecolor\":\"white\",\"automargin\":true,\"zerolinewidth\":2},\"scene\":{\"xaxis\":{\"backgroundcolor\":\"#E5ECF6\",\"gridcolor\":\"white\",\"linecolor\":\"white\",\"showbackground\":true,\"ticks\":\"\",\"zerolinecolor\":\"white\",\"gridwidth\":2},\"yaxis\":{\"backgroundcolor\":\"#E5ECF6\",\"gridcolor\":\"white\",\"linecolor\":\"white\",\"showbackground\":true,\"ticks\":\"\",\"zerolinecolor\":\"white\",\"gridwidth\":2},\"zaxis\":{\"backgroundcolor\":\"#E5ECF6\",\"gridcolor\":\"white\",\"linecolor\":\"white\",\"showbackground\":true,\"ticks\":\"\",\"zerolinecolor\":\"white\",\"gridwidth\":2}},\"shapedefaults\":{\"line\":{\"color\":\"#2a3f5f\"}},\"annotationdefaults\":{\"arrowcolor\":\"#2a3f5f\",\"arrowhead\":0,\"arrowwidth\":1},\"geo\":{\"bgcolor\":\"white\",\"landcolor\":\"#E5ECF6\",\"subunitcolor\":\"white\",\"showland\":true,\"showlakes\":true,\"lakecolor\":\"white\"},\"title\":{\"x\":0.05},\"mapbox\":{\"style\":\"light\"}}},\"xaxis\":{\"anchor\":\"y\",\"domain\":[0.0,1.0],\"title\":{\"text\":\"N\\u0103m sinh\"},\"showgrid\":false},\"yaxis\":{\"anchor\":\"x\",\"domain\":[0.0,1.0],\"title\":{\"text\":\"Kh\\u1ed1i l\\u01b0\\u1ee3ng\"},\"showgrid\":false},\"legend\":{\"title\":{\"text\":\"name\"},\"tracegroupgap\":0},\"title\":{\"text\":\"N\\u0103m sinh vs Kh\\u1ed1i l\\u01b0\\u1ee3ng\"},\"font\":{\"family\":\"Arial, sans-serif\",\"size\":14,\"color\":\"black\"},\"plot_bgcolor\":\"rgba(255,255,255,0.9)\",\"paper_bgcolor\":\"rgba(255,255,255,0.9)\"},                        {\"responsive\": true}                    ).then(function(){\n",
              "                            \n",
              "var gd = document.getElementById('0ba08bfd-4dcd-43db-8412-fd2bce57146b');\n",
              "var x = new MutationObserver(function (mutations, observer) {{\n",
              "        var display = window.getComputedStyle(gd).display;\n",
              "        if (!display || display === 'none') {{\n",
              "            console.log([gd, 'removed!']);\n",
              "            Plotly.purge(gd);\n",
              "            observer.disconnect();\n",
              "        }}\n",
              "}});\n",
              "\n",
              "// Listen for the removal of the full notebook cells\n",
              "var notebookContainer = gd.closest('#notebook-container');\n",
              "if (notebookContainer) {{\n",
              "    x.observe(notebookContainer, {childList: true});\n",
              "}}\n",
              "\n",
              "// Listen for the clearing of the current output cell\n",
              "var outputEl = gd.closest('.output');\n",
              "if (outputEl) {{\n",
              "    x.observe(outputEl, {childList: true});\n",
              "}}\n",
              "\n",
              "                        })                };                            </script>        </div>\n",
              "</body>\n",
              "</html>"
            ]
          },
          "metadata": {}
        }
      ]
    },
    {
      "cell_type": "markdown",
      "source": [
        "**Nhận xét chung:**\n",
        "\n",
        "Biểu đồ scatter này biểu thị sự phân bố của các nhân vật trong vũ trụ Star Wars dựa trên năm sinh và khối lượng của họ. Mỗi điểm trên biểu đồ biểu thị cho một nhân vật cụ thể, được mã hóa màu sắc để dễ dàng phân biệt.\n",
        "\n",
        "**Phân tích cụ thể:**\n",
        "\n",
        "1. **Mối quan hệ giữa năm sinh và khối lượng:**\n",
        "   - Biểu đồ cho thấy không có mối quan hệ rõ ràng giữa năm sinh và khối lượng của các nhân vật. Điều này cho thấy rằng khối lượng của mỗi nhân vật không phụ thuộc vào năm sinh của họ.\n",
        "\n",
        "2. **Sự đa dạng về năm sinh và khối lượng:**\n",
        "   - Các nhân vật có năm sinh và khối lượng đa dạng, từ các giá trị năm sinh và khối lượng khác nhau.\n",
        "   - Điều này phản ánh sự phong phú và đa dạng trong các tính cách và khía cạnh về đặc điểm sinh lý của các nhân vật trong vũ trụ Star Wars.\n",
        "\n",
        "**Tổng kết:**\n",
        "\n",
        "- Biểu đồ scatter này cung cấp cái nhìn tổng quan về sự đa dạng và phân bố của các nhân vật trong loạt phim Star Wars dựa trên năm sinh và khối lượng. Việc phân tích này có thể giúp nhìn nhận sâu hơn về các tính cách và sự khác biệt giữa các nhân vật, từ đó làm giàu thêm hiểu biết về vũ trụ này."
      ],
      "metadata": {
        "id": "6IOBgEdwKRxg"
      }
    },
    {
      "cell_type": "markdown",
      "source": [
        "3.6. Gender and Height"
      ],
      "metadata": {
        "id": "FO5am60NKXRL"
      }
    },
    {
      "cell_type": "code",
      "source": [
        "# 14. Biểu đồ phân phối giới tính và chiều cao\n",
        "\n",
        "# Trích xuất các trường từ dữ liệu\n",
        "characters = [{'gender': char['fields']['gender'], 'height': char['fields']['height']} for char in data]\n",
        "\n",
        "# Tạo DataFrame từ dữ liệu\n",
        "df = pd.DataFrame(characters)\n",
        "\n",
        "# Sử dụng Plotly Express để vẽ biểu đồ violin plot\n",
        "fig = px.violin(df, y='gender', x='height',\n",
        "                orientation='h',\n",
        "                title='Giới tính và Chiều cao',\n",
        "                labels={'height': 'Chiều cao', 'gender': 'Giới tính'},\n",
        "                color='gender',\n",
        "                violinmode='overlay',\n",
        "                box=True,\n",
        "                points='all',\n",
        "                hover_data=df.columns\n",
        "               )\n",
        "\n",
        "# Cập nhật bố cục biểu đồ\n",
        "fig.update_layout(\n",
        "    font=dict(\n",
        "        family=\"Arial, sans-serif\",\n",
        "        size=14,\n",
        "        color=\"black\"\n",
        "    ),\n",
        "    plot_bgcolor='rgba(255,255,255,0.9)',\n",
        "    paper_bgcolor='rgba(255,255,255,0.9)',\n",
        ")\n",
        "\n",
        "# Hiển thị biểu đồ\n",
        "fig.show()"
      ],
      "metadata": {
        "colab": {
          "base_uri": "https://localhost:8080/",
          "height": 542
        },
        "id": "COu8ivtqKaCx",
        "outputId": "8646fd1f-1272-4661-a245-119936d36765"
      },
      "execution_count": 85,
      "outputs": [
        {
          "output_type": "display_data",
          "data": {
            "text/html": [
              "<html>\n",
              "<head><meta charset=\"utf-8\" /></head>\n",
              "<body>\n",
              "    <div>            <script src=\"https://cdnjs.cloudflare.com/ajax/libs/mathjax/2.7.5/MathJax.js?config=TeX-AMS-MML_SVG\"></script><script type=\"text/javascript\">if (window.MathJax && window.MathJax.Hub && window.MathJax.Hub.Config) {window.MathJax.Hub.Config({SVG: {font: \"STIX-Web\"}});}</script>                <script type=\"text/javascript\">window.PlotlyConfig = {MathJaxConfig: 'local'};</script>\n",
              "        <script charset=\"utf-8\" src=\"https://cdn.plot.ly/plotly-2.24.1.min.js\"></script>                <div id=\"259ea743-5ab9-419d-b147-124ecee5fe5f\" class=\"plotly-graph-div\" style=\"height:525px; width:100%;\"></div>            <script type=\"text/javascript\">                                    window.PLOTLYENV=window.PLOTLYENV || {};                                    if (document.getElementById(\"259ea743-5ab9-419d-b147-124ecee5fe5f\")) {                    Plotly.newPlot(                        \"259ea743-5ab9-419d-b147-124ecee5fe5f\",                        [{\"alignmentgroup\":\"True\",\"box\":{\"visible\":true},\"hovertemplate\":\"Gi\\u1edbi t\\u00ednh=%{y}\\u003cbr\\u003eChi\\u1ec1u cao=%{x}\\u003cextra\\u003e\\u003c\\u002fextra\\u003e\",\"legendgroup\":\"male\",\"marker\":{\"color\":\"#636efa\"},\"name\":\"male\",\"offsetgroup\":\"male\",\"orientation\":\"h\",\"points\":\"all\",\"scalegroup\":\"True\",\"showlegend\":true,\"x\":[\"172\",\"202\",\"178\",\"183\",\"182\",\"188\",\"180\",\"228\",\"180\",\"173\",\"170\",\"180\",\"66\",\"170\",\"183\",\"190\",\"177\",\"175\",\"180\",\"unknown\",\"88\",\"160\",\"193\",\"191\",\"170\",\"196\",\"224\",\"206\",\"183\",\"137\",\"112\",\"183\",\"175\",\"180\",\"79\",\"94\",\"122\",\"163\",\"188\",\"198\",\"196\",\"171\",\"188\",\"264\",\"188\",\"196\",\"185\",\"183\",\"183\",\"193\",\"191\",\"183\",\"198\",\"229\",\"193\",\"191\",\"216\",\"234\",\"188\",\"206\"],\"x0\":\" \",\"xaxis\":\"x\",\"y\":[\"male\",\"male\",\"male\",\"male\",\"male\",\"male\",\"male\",\"male\",\"male\",\"male\",\"male\",\"male\",\"male\",\"male\",\"male\",\"male\",\"male\",\"male\",\"male\",\"male\",\"male\",\"male\",\"male\",\"male\",\"male\",\"male\",\"male\",\"male\",\"male\",\"male\",\"male\",\"male\",\"male\",\"male\",\"male\",\"male\",\"male\",\"male\",\"male\",\"male\",\"male\",\"male\",\"male\",\"male\",\"male\",\"male\",\"male\",\"male\",\"male\",\"male\",\"male\",\"male\",\"male\",\"male\",\"male\",\"male\",\"male\",\"male\",\"male\",\"male\"],\"y0\":\" \",\"yaxis\":\"y\",\"type\":\"violin\"},{\"alignmentgroup\":\"True\",\"box\":{\"visible\":true},\"hovertemplate\":\"Gi\\u1edbi t\\u00ednh=%{y}\\u003cbr\\u003eChi\\u1ec1u cao=%{x}\\u003cextra\\u003e\\u003c\\u002fextra\\u003e\",\"legendgroup\":\"n\\u002fa\",\"marker\":{\"color\":\"#EF553B\"},\"name\":\"n\\u002fa\",\"offsetgroup\":\"n\\u002fa\",\"orientation\":\"h\",\"points\":\"all\",\"scalegroup\":\"True\",\"showlegend\":true,\"x\":[\"167\",\"96\",\"97\"],\"x0\":\" \",\"xaxis\":\"x\",\"y\":[\"n\\u002fa\",\"n\\u002fa\",\"n\\u002fa\"],\"y0\":\" \",\"yaxis\":\"y\",\"type\":\"violin\"},{\"alignmentgroup\":\"True\",\"box\":{\"visible\":true},\"hovertemplate\":\"Gi\\u1edbi t\\u00ednh=%{y}\\u003cbr\\u003eChi\\u1ec1u cao=%{x}\\u003cextra\\u003e\\u003c\\u002fextra\\u003e\",\"legendgroup\":\"female\",\"marker\":{\"color\":\"#00cc96\"},\"name\":\"female\",\"offsetgroup\":\"female\",\"orientation\":\"h\",\"points\":\"all\",\"scalegroup\":\"True\",\"showlegend\":true,\"x\":[\"150\",\"165\",\"150\",\"185\",\"163\",\"178\",\"184\",\"157\",\"170\",\"166\",\"165\",\"168\",\"213\",\"167\",\"96\",\"178\",\"178\"],\"x0\":\" \",\"xaxis\":\"x\",\"y\":[\"female\",\"female\",\"female\",\"female\",\"female\",\"female\",\"female\",\"female\",\"female\",\"female\",\"female\",\"female\",\"female\",\"female\",\"female\",\"female\",\"female\"],\"y0\":\" \",\"yaxis\":\"y\",\"type\":\"violin\"},{\"alignmentgroup\":\"True\",\"box\":{\"visible\":true},\"hovertemplate\":\"Gi\\u1edbi t\\u00ednh=%{y}\\u003cbr\\u003eChi\\u1ec1u cao=%{x}\\u003cextra\\u003e\\u003c\\u002fextra\\u003e\",\"legendgroup\":\"hermaphrodite\",\"marker\":{\"color\":\"#ab63fa\"},\"name\":\"hermaphrodite\",\"offsetgroup\":\"hermaphrodite\",\"orientation\":\"h\",\"points\":\"all\",\"scalegroup\":\"True\",\"showlegend\":true,\"x\":[\"175\"],\"x0\":\" \",\"xaxis\":\"x\",\"y\":[\"hermaphrodite\"],\"y0\":\" \",\"yaxis\":\"y\",\"type\":\"violin\"},{\"alignmentgroup\":\"True\",\"box\":{\"visible\":true},\"hovertemplate\":\"Gi\\u1edbi t\\u00ednh=%{y}\\u003cbr\\u003eChi\\u1ec1u cao=%{x}\\u003cextra\\u003e\\u003c\\u002fextra\\u003e\",\"legendgroup\":\"none\",\"marker\":{\"color\":\"#FFA15A\"},\"name\":\"none\",\"offsetgroup\":\"none\",\"orientation\":\"h\",\"points\":\"all\",\"scalegroup\":\"True\",\"showlegend\":true,\"x\":[\"200\"],\"x0\":\" \",\"xaxis\":\"x\",\"y\":[\"none\"],\"y0\":\" \",\"yaxis\":\"y\",\"type\":\"violin\"}],                        {\"template\":{\"data\":{\"histogram2dcontour\":[{\"type\":\"histogram2dcontour\",\"colorbar\":{\"outlinewidth\":0,\"ticks\":\"\"},\"colorscale\":[[0.0,\"#0d0887\"],[0.1111111111111111,\"#46039f\"],[0.2222222222222222,\"#7201a8\"],[0.3333333333333333,\"#9c179e\"],[0.4444444444444444,\"#bd3786\"],[0.5555555555555556,\"#d8576b\"],[0.6666666666666666,\"#ed7953\"],[0.7777777777777778,\"#fb9f3a\"],[0.8888888888888888,\"#fdca26\"],[1.0,\"#f0f921\"]]}],\"choropleth\":[{\"type\":\"choropleth\",\"colorbar\":{\"outlinewidth\":0,\"ticks\":\"\"}}],\"histogram2d\":[{\"type\":\"histogram2d\",\"colorbar\":{\"outlinewidth\":0,\"ticks\":\"\"},\"colorscale\":[[0.0,\"#0d0887\"],[0.1111111111111111,\"#46039f\"],[0.2222222222222222,\"#7201a8\"],[0.3333333333333333,\"#9c179e\"],[0.4444444444444444,\"#bd3786\"],[0.5555555555555556,\"#d8576b\"],[0.6666666666666666,\"#ed7953\"],[0.7777777777777778,\"#fb9f3a\"],[0.8888888888888888,\"#fdca26\"],[1.0,\"#f0f921\"]]}],\"heatmap\":[{\"type\":\"heatmap\",\"colorbar\":{\"outlinewidth\":0,\"ticks\":\"\"},\"colorscale\":[[0.0,\"#0d0887\"],[0.1111111111111111,\"#46039f\"],[0.2222222222222222,\"#7201a8\"],[0.3333333333333333,\"#9c179e\"],[0.4444444444444444,\"#bd3786\"],[0.5555555555555556,\"#d8576b\"],[0.6666666666666666,\"#ed7953\"],[0.7777777777777778,\"#fb9f3a\"],[0.8888888888888888,\"#fdca26\"],[1.0,\"#f0f921\"]]}],\"heatmapgl\":[{\"type\":\"heatmapgl\",\"colorbar\":{\"outlinewidth\":0,\"ticks\":\"\"},\"colorscale\":[[0.0,\"#0d0887\"],[0.1111111111111111,\"#46039f\"],[0.2222222222222222,\"#7201a8\"],[0.3333333333333333,\"#9c179e\"],[0.4444444444444444,\"#bd3786\"],[0.5555555555555556,\"#d8576b\"],[0.6666666666666666,\"#ed7953\"],[0.7777777777777778,\"#fb9f3a\"],[0.8888888888888888,\"#fdca26\"],[1.0,\"#f0f921\"]]}],\"contourcarpet\":[{\"type\":\"contourcarpet\",\"colorbar\":{\"outlinewidth\":0,\"ticks\":\"\"}}],\"contour\":[{\"type\":\"contour\",\"colorbar\":{\"outlinewidth\":0,\"ticks\":\"\"},\"colorscale\":[[0.0,\"#0d0887\"],[0.1111111111111111,\"#46039f\"],[0.2222222222222222,\"#7201a8\"],[0.3333333333333333,\"#9c179e\"],[0.4444444444444444,\"#bd3786\"],[0.5555555555555556,\"#d8576b\"],[0.6666666666666666,\"#ed7953\"],[0.7777777777777778,\"#fb9f3a\"],[0.8888888888888888,\"#fdca26\"],[1.0,\"#f0f921\"]]}],\"surface\":[{\"type\":\"surface\",\"colorbar\":{\"outlinewidth\":0,\"ticks\":\"\"},\"colorscale\":[[0.0,\"#0d0887\"],[0.1111111111111111,\"#46039f\"],[0.2222222222222222,\"#7201a8\"],[0.3333333333333333,\"#9c179e\"],[0.4444444444444444,\"#bd3786\"],[0.5555555555555556,\"#d8576b\"],[0.6666666666666666,\"#ed7953\"],[0.7777777777777778,\"#fb9f3a\"],[0.8888888888888888,\"#fdca26\"],[1.0,\"#f0f921\"]]}],\"mesh3d\":[{\"type\":\"mesh3d\",\"colorbar\":{\"outlinewidth\":0,\"ticks\":\"\"}}],\"scatter\":[{\"fillpattern\":{\"fillmode\":\"overlay\",\"size\":10,\"solidity\":0.2},\"type\":\"scatter\"}],\"parcoords\":[{\"type\":\"parcoords\",\"line\":{\"colorbar\":{\"outlinewidth\":0,\"ticks\":\"\"}}}],\"scatterpolargl\":[{\"type\":\"scatterpolargl\",\"marker\":{\"colorbar\":{\"outlinewidth\":0,\"ticks\":\"\"}}}],\"bar\":[{\"error_x\":{\"color\":\"#2a3f5f\"},\"error_y\":{\"color\":\"#2a3f5f\"},\"marker\":{\"line\":{\"color\":\"#E5ECF6\",\"width\":0.5},\"pattern\":{\"fillmode\":\"overlay\",\"size\":10,\"solidity\":0.2}},\"type\":\"bar\"}],\"scattergeo\":[{\"type\":\"scattergeo\",\"marker\":{\"colorbar\":{\"outlinewidth\":0,\"ticks\":\"\"}}}],\"scatterpolar\":[{\"type\":\"scatterpolar\",\"marker\":{\"colorbar\":{\"outlinewidth\":0,\"ticks\":\"\"}}}],\"histogram\":[{\"marker\":{\"pattern\":{\"fillmode\":\"overlay\",\"size\":10,\"solidity\":0.2}},\"type\":\"histogram\"}],\"scattergl\":[{\"type\":\"scattergl\",\"marker\":{\"colorbar\":{\"outlinewidth\":0,\"ticks\":\"\"}}}],\"scatter3d\":[{\"type\":\"scatter3d\",\"line\":{\"colorbar\":{\"outlinewidth\":0,\"ticks\":\"\"}},\"marker\":{\"colorbar\":{\"outlinewidth\":0,\"ticks\":\"\"}}}],\"scattermapbox\":[{\"type\":\"scattermapbox\",\"marker\":{\"colorbar\":{\"outlinewidth\":0,\"ticks\":\"\"}}}],\"scatterternary\":[{\"type\":\"scatterternary\",\"marker\":{\"colorbar\":{\"outlinewidth\":0,\"ticks\":\"\"}}}],\"scattercarpet\":[{\"type\":\"scattercarpet\",\"marker\":{\"colorbar\":{\"outlinewidth\":0,\"ticks\":\"\"}}}],\"carpet\":[{\"aaxis\":{\"endlinecolor\":\"#2a3f5f\",\"gridcolor\":\"white\",\"linecolor\":\"white\",\"minorgridcolor\":\"white\",\"startlinecolor\":\"#2a3f5f\"},\"baxis\":{\"endlinecolor\":\"#2a3f5f\",\"gridcolor\":\"white\",\"linecolor\":\"white\",\"minorgridcolor\":\"white\",\"startlinecolor\":\"#2a3f5f\"},\"type\":\"carpet\"}],\"table\":[{\"cells\":{\"fill\":{\"color\":\"#EBF0F8\"},\"line\":{\"color\":\"white\"}},\"header\":{\"fill\":{\"color\":\"#C8D4E3\"},\"line\":{\"color\":\"white\"}},\"type\":\"table\"}],\"barpolar\":[{\"marker\":{\"line\":{\"color\":\"#E5ECF6\",\"width\":0.5},\"pattern\":{\"fillmode\":\"overlay\",\"size\":10,\"solidity\":0.2}},\"type\":\"barpolar\"}],\"pie\":[{\"automargin\":true,\"type\":\"pie\"}]},\"layout\":{\"autotypenumbers\":\"strict\",\"colorway\":[\"#636efa\",\"#EF553B\",\"#00cc96\",\"#ab63fa\",\"#FFA15A\",\"#19d3f3\",\"#FF6692\",\"#B6E880\",\"#FF97FF\",\"#FECB52\"],\"font\":{\"color\":\"#2a3f5f\"},\"hovermode\":\"closest\",\"hoverlabel\":{\"align\":\"left\"},\"paper_bgcolor\":\"white\",\"plot_bgcolor\":\"#E5ECF6\",\"polar\":{\"bgcolor\":\"#E5ECF6\",\"angularaxis\":{\"gridcolor\":\"white\",\"linecolor\":\"white\",\"ticks\":\"\"},\"radialaxis\":{\"gridcolor\":\"white\",\"linecolor\":\"white\",\"ticks\":\"\"}},\"ternary\":{\"bgcolor\":\"#E5ECF6\",\"aaxis\":{\"gridcolor\":\"white\",\"linecolor\":\"white\",\"ticks\":\"\"},\"baxis\":{\"gridcolor\":\"white\",\"linecolor\":\"white\",\"ticks\":\"\"},\"caxis\":{\"gridcolor\":\"white\",\"linecolor\":\"white\",\"ticks\":\"\"}},\"coloraxis\":{\"colorbar\":{\"outlinewidth\":0,\"ticks\":\"\"}},\"colorscale\":{\"sequential\":[[0.0,\"#0d0887\"],[0.1111111111111111,\"#46039f\"],[0.2222222222222222,\"#7201a8\"],[0.3333333333333333,\"#9c179e\"],[0.4444444444444444,\"#bd3786\"],[0.5555555555555556,\"#d8576b\"],[0.6666666666666666,\"#ed7953\"],[0.7777777777777778,\"#fb9f3a\"],[0.8888888888888888,\"#fdca26\"],[1.0,\"#f0f921\"]],\"sequentialminus\":[[0.0,\"#0d0887\"],[0.1111111111111111,\"#46039f\"],[0.2222222222222222,\"#7201a8\"],[0.3333333333333333,\"#9c179e\"],[0.4444444444444444,\"#bd3786\"],[0.5555555555555556,\"#d8576b\"],[0.6666666666666666,\"#ed7953\"],[0.7777777777777778,\"#fb9f3a\"],[0.8888888888888888,\"#fdca26\"],[1.0,\"#f0f921\"]],\"diverging\":[[0,\"#8e0152\"],[0.1,\"#c51b7d\"],[0.2,\"#de77ae\"],[0.3,\"#f1b6da\"],[0.4,\"#fde0ef\"],[0.5,\"#f7f7f7\"],[0.6,\"#e6f5d0\"],[0.7,\"#b8e186\"],[0.8,\"#7fbc41\"],[0.9,\"#4d9221\"],[1,\"#276419\"]]},\"xaxis\":{\"gridcolor\":\"white\",\"linecolor\":\"white\",\"ticks\":\"\",\"title\":{\"standoff\":15},\"zerolinecolor\":\"white\",\"automargin\":true,\"zerolinewidth\":2},\"yaxis\":{\"gridcolor\":\"white\",\"linecolor\":\"white\",\"ticks\":\"\",\"title\":{\"standoff\":15},\"zerolinecolor\":\"white\",\"automargin\":true,\"zerolinewidth\":2},\"scene\":{\"xaxis\":{\"backgroundcolor\":\"#E5ECF6\",\"gridcolor\":\"white\",\"linecolor\":\"white\",\"showbackground\":true,\"ticks\":\"\",\"zerolinecolor\":\"white\",\"gridwidth\":2},\"yaxis\":{\"backgroundcolor\":\"#E5ECF6\",\"gridcolor\":\"white\",\"linecolor\":\"white\",\"showbackground\":true,\"ticks\":\"\",\"zerolinecolor\":\"white\",\"gridwidth\":2},\"zaxis\":{\"backgroundcolor\":\"#E5ECF6\",\"gridcolor\":\"white\",\"linecolor\":\"white\",\"showbackground\":true,\"ticks\":\"\",\"zerolinecolor\":\"white\",\"gridwidth\":2}},\"shapedefaults\":{\"line\":{\"color\":\"#2a3f5f\"}},\"annotationdefaults\":{\"arrowcolor\":\"#2a3f5f\",\"arrowhead\":0,\"arrowwidth\":1},\"geo\":{\"bgcolor\":\"white\",\"landcolor\":\"#E5ECF6\",\"subunitcolor\":\"white\",\"showland\":true,\"showlakes\":true,\"lakecolor\":\"white\"},\"title\":{\"x\":0.05},\"mapbox\":{\"style\":\"light\"}}},\"xaxis\":{\"anchor\":\"y\",\"domain\":[0.0,1.0],\"title\":{\"text\":\"Chi\\u1ec1u cao\"}},\"yaxis\":{\"anchor\":\"x\",\"domain\":[0.0,1.0],\"title\":{\"text\":\"Gi\\u1edbi t\\u00ednh\"},\"categoryorder\":\"array\",\"categoryarray\":[\"none\",\"hermaphrodite\",\"female\",\"n\\u002fa\",\"male\"]},\"legend\":{\"title\":{\"text\":\"Gi\\u1edbi t\\u00ednh\"},\"tracegroupgap\":0},\"title\":{\"text\":\"Gi\\u1edbi t\\u00ednh v\\u00e0 Chi\\u1ec1u cao\"},\"violinmode\":\"overlay\",\"font\":{\"family\":\"Arial, sans-serif\",\"size\":14,\"color\":\"black\"},\"plot_bgcolor\":\"rgba(255,255,255,0.9)\",\"paper_bgcolor\":\"rgba(255,255,255,0.9)\"},                        {\"responsive\": true}                    ).then(function(){\n",
              "                            \n",
              "var gd = document.getElementById('259ea743-5ab9-419d-b147-124ecee5fe5f');\n",
              "var x = new MutationObserver(function (mutations, observer) {{\n",
              "        var display = window.getComputedStyle(gd).display;\n",
              "        if (!display || display === 'none') {{\n",
              "            console.log([gd, 'removed!']);\n",
              "            Plotly.purge(gd);\n",
              "            observer.disconnect();\n",
              "        }}\n",
              "}});\n",
              "\n",
              "// Listen for the removal of the full notebook cells\n",
              "var notebookContainer = gd.closest('#notebook-container');\n",
              "if (notebookContainer) {{\n",
              "    x.observe(notebookContainer, {childList: true});\n",
              "}}\n",
              "\n",
              "// Listen for the clearing of the current output cell\n",
              "var outputEl = gd.closest('.output');\n",
              "if (outputEl) {{\n",
              "    x.observe(outputEl, {childList: true});\n",
              "}}\n",
              "\n",
              "                        })                };                            </script>        </div>\n",
              "</body>\n",
              "</html>"
            ]
          },
          "metadata": {}
        }
      ]
    },
    {
      "cell_type": "markdown",
      "source": [
        "**Nhận xét chung:**\n",
        "\n",
        "Biểu đồ violinplot này thể hiện phân phối chiều cao của nhân vật trong vũ trụ Star Wars theo từng giới tính. Mỗi violinplot biểu thị phân phối dữ liệu của một giới tính cụ thể trên trục ngang, với độ dày của violinplot thể hiện mật độ phân bố dữ liệu.\n",
        "\n",
        "**Phân tích cụ thể:**\n",
        "\n",
        "1. **Phân phối chiều cao theo giới tính:**\n",
        "   - Đối với nam giới, phân phối chiều cao tập trung chủ yếu từ khoảng 170cm đến 180cm, với một vài điểm ngoại lệ ở các giá trị cao hơn.\n",
        "   - Đối với nữ giới, phân phối chiều cao có xu hướng tập trung từ khoảng 160cm đến 170cm, với một vài trường hợp ngoại lệ ở các giá trị thấp hơn và cao hơn.\n",
        "\n",
        "2. **Đặc điểm phân phối:**\n",
        "   - Cả nam giới và nữ giới đều có phân phối chiều cao khá rộng, cho thấy sự đa dạng về chiều cao giữa các nhân vật trong vũ trụ Star Wars.\n",
        "   - Việc sử dụng violinplot giúp hiển thị chi tiết phân bố dữ liệu và so sánh sự khác biệt giữa các nhóm giới tính.\n",
        "\n",
        "**Tổng kết:**\n",
        "\n",
        "Biểu đồ violinplot là công cụ hữu ích để thể hiện phân phối dữ liệu chiều cao theo giới tính trong vũ trụ Star Wars. Phân tích từ biểu đồ này có thể giúp chúng ta hiểu sâu hơn về đặc điểm về chiều cao của các nhân vật và sự đa dạng giới tính trong loạt phim này.\n"
      ],
      "metadata": {
        "id": "hcVq_gegKaSc"
      }
    },
    {
      "cell_type": "markdown",
      "source": [
        "3.7. Gender and Mass"
      ],
      "metadata": {
        "id": "g8G8bi05KgoR"
      }
    },
    {
      "cell_type": "code",
      "source": [
        "# 15. Biểu đồ phân phối giới tính và cân nặng\n",
        "\n",
        "# Trích xuất các trường từ dữ liệu\n",
        "characters = [{'eye_color': char['fields']['eye_color'], 'height': char['fields']['height']} for char in data]\n",
        "\n",
        "# Tạo DataFrame từ dữ liệu\n",
        "df = pd.DataFrame(characters)\n",
        "\n",
        "# Sử dụng Plotly Express để vẽ biểu đồ violin plot\n",
        "fig = px.violin(df, y='eye_color', x='height',\n",
        "                orientation='h',\n",
        "                title='Màu mắt và Chiều cao',\n",
        "                labels={'height': 'Chiều cao', 'eye_color': 'Màu mắt'},\n",
        "                color='eye_color',\n",
        "                violinmode='overlay',\n",
        "                box=True,\n",
        "                points='all',\n",
        "                hover_data=df.columns\n",
        "               )\n",
        "\n",
        "# Cập nhật bố cục biểu đồ\n",
        "fig.update_layout(\n",
        "    font=dict(\n",
        "        family=\"Arial, sans-serif\",\n",
        "        size=14,\n",
        "        color=\"black\"\n",
        "    ),\n",
        "    plot_bgcolor='rgba(255,255,255,0.9)',\n",
        "    paper_bgcolor='rgba(255,255,255,0.9)',\n",
        ")\n",
        "\n",
        "# Hiển thị biểu đồ\n",
        "fig.show()"
      ],
      "metadata": {
        "colab": {
          "base_uri": "https://localhost:8080/",
          "height": 542
        },
        "id": "y7oqtVjwKkNr",
        "outputId": "e478e96b-d4f9-4751-bd83-a8189c26e20b"
      },
      "execution_count": 86,
      "outputs": [
        {
          "output_type": "display_data",
          "data": {
            "text/html": [
              "<html>\n",
              "<head><meta charset=\"utf-8\" /></head>\n",
              "<body>\n",
              "    <div>            <script src=\"https://cdnjs.cloudflare.com/ajax/libs/mathjax/2.7.5/MathJax.js?config=TeX-AMS-MML_SVG\"></script><script type=\"text/javascript\">if (window.MathJax && window.MathJax.Hub && window.MathJax.Hub.Config) {window.MathJax.Hub.Config({SVG: {font: \"STIX-Web\"}});}</script>                <script type=\"text/javascript\">window.PlotlyConfig = {MathJaxConfig: 'local'};</script>\n",
              "        <script charset=\"utf-8\" src=\"https://cdn.plot.ly/plotly-2.24.1.min.js\"></script>                <div id=\"7e567ad5-7a02-4fce-9d00-a248152494b9\" class=\"plotly-graph-div\" style=\"height:525px; width:100%;\"></div>            <script type=\"text/javascript\">                                    window.PLOTLYENV=window.PLOTLYENV || {};                                    if (document.getElementById(\"7e567ad5-7a02-4fce-9d00-a248152494b9\")) {                    Plotly.newPlot(                        \"7e567ad5-7a02-4fce-9d00-a248152494b9\",                        [{\"alignmentgroup\":\"True\",\"box\":{\"visible\":true},\"hovertemplate\":\"M\\u00e0u m\\u1eaft=%{y}\\u003cbr\\u003eChi\\u1ec1u cao=%{x}\\u003cextra\\u003e\\u003c\\u002fextra\\u003e\",\"legendgroup\":\"blue\",\"marker\":{\"color\":\"#636efa\"},\"name\":\"blue\",\"offsetgroup\":\"blue\",\"orientation\":\"h\",\"points\":\"all\",\"scalegroup\":\"True\",\"showlegend\":true,\"x\":[\"172\",\"178\",\"165\",\"188\",\"180\",\"228\",\"180\",\"175\",\"150\",\"193\",\"170\",\"183\",\"184\",\"196\",\"183\",\"170\",\"166\",\"167\",\"234\"],\"x0\":\" \",\"xaxis\":\"x\",\"y\":[\"blue\",\"blue\",\"blue\",\"blue\",\"blue\",\"blue\",\"blue\",\"blue\",\"blue\",\"blue\",\"blue\",\"blue\",\"blue\",\"blue\",\"blue\",\"blue\",\"blue\",\"blue\",\"blue\"],\"y0\":\" \",\"yaxis\":\"y\",\"type\":\"violin\"},{\"alignmentgroup\":\"True\",\"box\":{\"visible\":true},\"hovertemplate\":\"M\\u00e0u m\\u1eaft=%{y}\\u003cbr\\u003eChi\\u1ec1u cao=%{x}\\u003cextra\\u003e\\u003c\\u002fextra\\u003e\",\"legendgroup\":\"yellow\",\"marker\":{\"color\":\"#EF553B\"},\"name\":\"yellow\",\"offsetgroup\":\"yellow\",\"orientation\":\"h\",\"points\":\"all\",\"scalegroup\":\"True\",\"showlegend\":true,\"x\":[\"167\",\"202\",\"170\",\"137\",\"175\",\"94\",\"198\",\"264\",\"183\",\"168\",\"198\"],\"x0\":\" \",\"xaxis\":\"x\",\"y\":[\"yellow\",\"yellow\",\"yellow\",\"yellow\",\"yellow\",\"yellow\",\"yellow\",\"yellow\",\"yellow\",\"yellow\",\"yellow\"],\"y0\":\" \",\"yaxis\":\"y\",\"type\":\"violin\"},{\"alignmentgroup\":\"True\",\"box\":{\"visible\":true},\"hovertemplate\":\"M\\u00e0u m\\u1eaft=%{y}\\u003cbr\\u003eChi\\u1ec1u cao=%{x}\\u003cextra\\u003e\\u003c\\u002fextra\\u003e\",\"legendgroup\":\"red\",\"marker\":{\"color\":\"#00cc96\"},\"name\":\"red\",\"offsetgroup\":\"red\",\"orientation\":\"h\",\"points\":\"all\",\"scalegroup\":\"True\",\"showlegend\":true,\"x\":[\"96\",\"97\",\"200\",\"190\",\"191\"],\"x0\":\" \",\"xaxis\":\"x\",\"y\":[\"red\",\"red\",\"red\",\"red\",\"red\"],\"y0\":\" \",\"yaxis\":\"y\",\"type\":\"violin\"},{\"alignmentgroup\":\"True\",\"box\":{\"visible\":true},\"hovertemplate\":\"M\\u00e0u m\\u1eaft=%{y}\\u003cbr\\u003eChi\\u1ec1u cao=%{x}\\u003cextra\\u003e\\u003c\\u002fextra\\u003e\",\"legendgroup\":\"brown\",\"marker\":{\"color\":\"#ab63fa\"},\"name\":\"brown\",\"offsetgroup\":\"brown\",\"orientation\":\"h\",\"points\":\"all\",\"scalegroup\":\"True\",\"showlegend\":true,\"x\":[\"150\",\"183\",\"180\",\"66\",\"183\",\"177\",\"unknown\",\"88\",\"185\",\"183\",\"163\",\"188\",\"171\",\"185\",\"157\",\"165\",\"193\",\"191\",\"183\",\"188\"],\"x0\":\" \",\"xaxis\":\"x\",\"y\":[\"brown\",\"brown\",\"brown\",\"brown\",\"brown\",\"brown\",\"brown\",\"brown\",\"brown\",\"brown\",\"brown\",\"brown\",\"brown\",\"brown\",\"brown\",\"brown\",\"brown\",\"brown\",\"brown\",\"brown\"],\"y0\":\" \",\"yaxis\":\"y\",\"type\":\"violin\"},{\"alignmentgroup\":\"True\",\"box\":{\"visible\":true},\"hovertemplate\":\"M\\u00e0u m\\u1eaft=%{y}\\u003cbr\\u003eChi\\u1ec1u cao=%{x}\\u003cextra\\u003e\\u003c\\u002fextra\\u003e\",\"legendgroup\":\"blue-gray\",\"marker\":{\"color\":\"#FFA15A\"},\"name\":\"blue-gray\",\"offsetgroup\":\"blue-gray\",\"orientation\":\"h\",\"points\":\"all\",\"scalegroup\":\"True\",\"showlegend\":true,\"x\":[\"182\"],\"x0\":\" \",\"xaxis\":\"x\",\"y\":[\"blue-gray\"],\"y0\":\" \",\"yaxis\":\"y\",\"type\":\"violin\"},{\"alignmentgroup\":\"True\",\"box\":{\"visible\":true},\"hovertemplate\":\"M\\u00e0u m\\u1eaft=%{y}\\u003cbr\\u003eChi\\u1ec1u cao=%{x}\\u003cextra\\u003e\\u003c\\u002fextra\\u003e\",\"legendgroup\":\"black\",\"marker\":{\"color\":\"#19d3f3\"},\"name\":\"black\",\"offsetgroup\":\"black\",\"orientation\":\"h\",\"points\":\"all\",\"scalegroup\":\"True\",\"showlegend\":true,\"x\":[\"173\",\"160\",\"122\",\"196\",\"188\",\"229\",\"213\",\"178\",\"206\"],\"x0\":\" \",\"xaxis\":\"x\",\"y\":[\"black\",\"black\",\"black\",\"black\",\"black\",\"black\",\"black\",\"black\",\"black\"],\"y0\":\" \",\"yaxis\":\"y\",\"type\":\"violin\"},{\"alignmentgroup\":\"True\",\"box\":{\"visible\":true},\"hovertemplate\":\"M\\u00e0u m\\u1eaft=%{y}\\u003cbr\\u003eChi\\u1ec1u cao=%{x}\\u003cextra\\u003e\\u003c\\u002fextra\\u003e\",\"legendgroup\":\"orange\",\"marker\":{\"color\":\"#FF6692\"},\"name\":\"orange\",\"offsetgroup\":\"orange\",\"orientation\":\"h\",\"points\":\"all\",\"scalegroup\":\"True\",\"showlegend\":true,\"x\":[\"175\",\"180\",\"196\",\"224\",\"206\",\"112\",\"163\",\"188\"],\"x0\":\" \",\"xaxis\":\"x\",\"y\":[\"orange\",\"orange\",\"orange\",\"orange\",\"orange\",\"orange\",\"orange\",\"orange\"],\"y0\":\" \",\"yaxis\":\"y\",\"type\":\"violin\"},{\"alignmentgroup\":\"True\",\"box\":{\"visible\":true},\"hovertemplate\":\"M\\u00e0u m\\u1eaft=%{y}\\u003cbr\\u003eChi\\u1ec1u cao=%{x}\\u003cextra\\u003e\\u003c\\u002fextra\\u003e\",\"legendgroup\":\"hazel\",\"marker\":{\"color\":\"#B6E880\"},\"name\":\"hazel\",\"offsetgroup\":\"hazel\",\"orientation\":\"h\",\"points\":\"all\",\"scalegroup\":\"True\",\"showlegend\":true,\"x\":[\"170\",\"178\"],\"x0\":\" \",\"xaxis\":\"x\",\"y\":[\"hazel\",\"hazel\"],\"y0\":\" \",\"yaxis\":\"y\",\"type\":\"violin\"},{\"alignmentgroup\":\"True\",\"box\":{\"visible\":true},\"hovertemplate\":\"M\\u00e0u m\\u1eaft=%{y}\\u003cbr\\u003eChi\\u1ec1u cao=%{x}\\u003cextra\\u003e\\u003c\\u002fextra\\u003e\",\"legendgroup\":\"pink\",\"marker\":{\"color\":\"#FF97FF\"},\"name\":\"pink\",\"offsetgroup\":\"pink\",\"orientation\":\"h\",\"points\":\"all\",\"scalegroup\":\"True\",\"showlegend\":true,\"x\":[\"180\"],\"x0\":\" \",\"xaxis\":\"x\",\"y\":[\"pink\"],\"y0\":\" \",\"yaxis\":\"y\",\"type\":\"violin\"},{\"alignmentgroup\":\"True\",\"box\":{\"visible\":true},\"hovertemplate\":\"M\\u00e0u m\\u1eaft=%{y}\\u003cbr\\u003eChi\\u1ec1u cao=%{x}\\u003cextra\\u003e\\u003c\\u002fextra\\u003e\",\"legendgroup\":\"unknown\",\"marker\":{\"color\":\"#FECB52\"},\"name\":\"unknown\",\"offsetgroup\":\"unknown\",\"orientation\":\"h\",\"points\":\"all\",\"scalegroup\":\"True\",\"showlegend\":true,\"x\":[\"79\",\"193\"],\"x0\":\" \",\"xaxis\":\"x\",\"y\":[\"unknown\",\"unknown\"],\"y0\":\" \",\"yaxis\":\"y\",\"type\":\"violin\"},{\"alignmentgroup\":\"True\",\"box\":{\"visible\":true},\"hovertemplate\":\"M\\u00e0u m\\u1eaft=%{y}\\u003cbr\\u003eChi\\u1ec1u cao=%{x}\\u003cextra\\u003e\\u003c\\u002fextra\\u003e\",\"legendgroup\":\"red, blue\",\"marker\":{\"color\":\"#636efa\"},\"name\":\"red, blue\",\"offsetgroup\":\"red, blue\",\"orientation\":\"h\",\"points\":\"all\",\"scalegroup\":\"True\",\"showlegend\":true,\"x\":[\"96\"],\"x0\":\" \",\"xaxis\":\"x\",\"y\":[\"red, blue\"],\"y0\":\" \",\"yaxis\":\"y\",\"type\":\"violin\"},{\"alignmentgroup\":\"True\",\"box\":{\"visible\":true},\"hovertemplate\":\"M\\u00e0u m\\u1eaft=%{y}\\u003cbr\\u003eChi\\u1ec1u cao=%{x}\\u003cextra\\u003e\\u003c\\u002fextra\\u003e\",\"legendgroup\":\"gold\",\"marker\":{\"color\":\"#EF553B\"},\"name\":\"gold\",\"offsetgroup\":\"gold\",\"orientation\":\"h\",\"points\":\"all\",\"scalegroup\":\"True\",\"showlegend\":true,\"x\":[\"191\"],\"x0\":\" \",\"xaxis\":\"x\",\"y\":[\"gold\"],\"y0\":\" \",\"yaxis\":\"y\",\"type\":\"violin\"},{\"alignmentgroup\":\"True\",\"box\":{\"visible\":true},\"hovertemplate\":\"M\\u00e0u m\\u1eaft=%{y}\\u003cbr\\u003eChi\\u1ec1u cao=%{x}\\u003cextra\\u003e\\u003c\\u002fextra\\u003e\",\"legendgroup\":\"green, yellow\",\"marker\":{\"color\":\"#00cc96\"},\"name\":\"green, yellow\",\"offsetgroup\":\"green, yellow\",\"orientation\":\"h\",\"points\":\"all\",\"scalegroup\":\"True\",\"showlegend\":true,\"x\":[\"216\"],\"x0\":\" \",\"xaxis\":\"x\",\"y\":[\"green, yellow\"],\"y0\":\" \",\"yaxis\":\"y\",\"type\":\"violin\"},{\"alignmentgroup\":\"True\",\"box\":{\"visible\":true},\"hovertemplate\":\"M\\u00e0u m\\u1eaft=%{y}\\u003cbr\\u003eChi\\u1ec1u cao=%{x}\\u003cextra\\u003e\\u003c\\u002fextra\\u003e\",\"legendgroup\":\"white\",\"marker\":{\"color\":\"#ab63fa\"},\"name\":\"white\",\"offsetgroup\":\"white\",\"orientation\":\"h\",\"points\":\"all\",\"scalegroup\":\"True\",\"showlegend\":true,\"x\":[\"178\"],\"x0\":\" \",\"xaxis\":\"x\",\"y\":[\"white\"],\"y0\":\" \",\"yaxis\":\"y\",\"type\":\"violin\"}],                        {\"template\":{\"data\":{\"histogram2dcontour\":[{\"type\":\"histogram2dcontour\",\"colorbar\":{\"outlinewidth\":0,\"ticks\":\"\"},\"colorscale\":[[0.0,\"#0d0887\"],[0.1111111111111111,\"#46039f\"],[0.2222222222222222,\"#7201a8\"],[0.3333333333333333,\"#9c179e\"],[0.4444444444444444,\"#bd3786\"],[0.5555555555555556,\"#d8576b\"],[0.6666666666666666,\"#ed7953\"],[0.7777777777777778,\"#fb9f3a\"],[0.8888888888888888,\"#fdca26\"],[1.0,\"#f0f921\"]]}],\"choropleth\":[{\"type\":\"choropleth\",\"colorbar\":{\"outlinewidth\":0,\"ticks\":\"\"}}],\"histogram2d\":[{\"type\":\"histogram2d\",\"colorbar\":{\"outlinewidth\":0,\"ticks\":\"\"},\"colorscale\":[[0.0,\"#0d0887\"],[0.1111111111111111,\"#46039f\"],[0.2222222222222222,\"#7201a8\"],[0.3333333333333333,\"#9c179e\"],[0.4444444444444444,\"#bd3786\"],[0.5555555555555556,\"#d8576b\"],[0.6666666666666666,\"#ed7953\"],[0.7777777777777778,\"#fb9f3a\"],[0.8888888888888888,\"#fdca26\"],[1.0,\"#f0f921\"]]}],\"heatmap\":[{\"type\":\"heatmap\",\"colorbar\":{\"outlinewidth\":0,\"ticks\":\"\"},\"colorscale\":[[0.0,\"#0d0887\"],[0.1111111111111111,\"#46039f\"],[0.2222222222222222,\"#7201a8\"],[0.3333333333333333,\"#9c179e\"],[0.4444444444444444,\"#bd3786\"],[0.5555555555555556,\"#d8576b\"],[0.6666666666666666,\"#ed7953\"],[0.7777777777777778,\"#fb9f3a\"],[0.8888888888888888,\"#fdca26\"],[1.0,\"#f0f921\"]]}],\"heatmapgl\":[{\"type\":\"heatmapgl\",\"colorbar\":{\"outlinewidth\":0,\"ticks\":\"\"},\"colorscale\":[[0.0,\"#0d0887\"],[0.1111111111111111,\"#46039f\"],[0.2222222222222222,\"#7201a8\"],[0.3333333333333333,\"#9c179e\"],[0.4444444444444444,\"#bd3786\"],[0.5555555555555556,\"#d8576b\"],[0.6666666666666666,\"#ed7953\"],[0.7777777777777778,\"#fb9f3a\"],[0.8888888888888888,\"#fdca26\"],[1.0,\"#f0f921\"]]}],\"contourcarpet\":[{\"type\":\"contourcarpet\",\"colorbar\":{\"outlinewidth\":0,\"ticks\":\"\"}}],\"contour\":[{\"type\":\"contour\",\"colorbar\":{\"outlinewidth\":0,\"ticks\":\"\"},\"colorscale\":[[0.0,\"#0d0887\"],[0.1111111111111111,\"#46039f\"],[0.2222222222222222,\"#7201a8\"],[0.3333333333333333,\"#9c179e\"],[0.4444444444444444,\"#bd3786\"],[0.5555555555555556,\"#d8576b\"],[0.6666666666666666,\"#ed7953\"],[0.7777777777777778,\"#fb9f3a\"],[0.8888888888888888,\"#fdca26\"],[1.0,\"#f0f921\"]]}],\"surface\":[{\"type\":\"surface\",\"colorbar\":{\"outlinewidth\":0,\"ticks\":\"\"},\"colorscale\":[[0.0,\"#0d0887\"],[0.1111111111111111,\"#46039f\"],[0.2222222222222222,\"#7201a8\"],[0.3333333333333333,\"#9c179e\"],[0.4444444444444444,\"#bd3786\"],[0.5555555555555556,\"#d8576b\"],[0.6666666666666666,\"#ed7953\"],[0.7777777777777778,\"#fb9f3a\"],[0.8888888888888888,\"#fdca26\"],[1.0,\"#f0f921\"]]}],\"mesh3d\":[{\"type\":\"mesh3d\",\"colorbar\":{\"outlinewidth\":0,\"ticks\":\"\"}}],\"scatter\":[{\"fillpattern\":{\"fillmode\":\"overlay\",\"size\":10,\"solidity\":0.2},\"type\":\"scatter\"}],\"parcoords\":[{\"type\":\"parcoords\",\"line\":{\"colorbar\":{\"outlinewidth\":0,\"ticks\":\"\"}}}],\"scatterpolargl\":[{\"type\":\"scatterpolargl\",\"marker\":{\"colorbar\":{\"outlinewidth\":0,\"ticks\":\"\"}}}],\"bar\":[{\"error_x\":{\"color\":\"#2a3f5f\"},\"error_y\":{\"color\":\"#2a3f5f\"},\"marker\":{\"line\":{\"color\":\"#E5ECF6\",\"width\":0.5},\"pattern\":{\"fillmode\":\"overlay\",\"size\":10,\"solidity\":0.2}},\"type\":\"bar\"}],\"scattergeo\":[{\"type\":\"scattergeo\",\"marker\":{\"colorbar\":{\"outlinewidth\":0,\"ticks\":\"\"}}}],\"scatterpolar\":[{\"type\":\"scatterpolar\",\"marker\":{\"colorbar\":{\"outlinewidth\":0,\"ticks\":\"\"}}}],\"histogram\":[{\"marker\":{\"pattern\":{\"fillmode\":\"overlay\",\"size\":10,\"solidity\":0.2}},\"type\":\"histogram\"}],\"scattergl\":[{\"type\":\"scattergl\",\"marker\":{\"colorbar\":{\"outlinewidth\":0,\"ticks\":\"\"}}}],\"scatter3d\":[{\"type\":\"scatter3d\",\"line\":{\"colorbar\":{\"outlinewidth\":0,\"ticks\":\"\"}},\"marker\":{\"colorbar\":{\"outlinewidth\":0,\"ticks\":\"\"}}}],\"scattermapbox\":[{\"type\":\"scattermapbox\",\"marker\":{\"colorbar\":{\"outlinewidth\":0,\"ticks\":\"\"}}}],\"scatterternary\":[{\"type\":\"scatterternary\",\"marker\":{\"colorbar\":{\"outlinewidth\":0,\"ticks\":\"\"}}}],\"scattercarpet\":[{\"type\":\"scattercarpet\",\"marker\":{\"colorbar\":{\"outlinewidth\":0,\"ticks\":\"\"}}}],\"carpet\":[{\"aaxis\":{\"endlinecolor\":\"#2a3f5f\",\"gridcolor\":\"white\",\"linecolor\":\"white\",\"minorgridcolor\":\"white\",\"startlinecolor\":\"#2a3f5f\"},\"baxis\":{\"endlinecolor\":\"#2a3f5f\",\"gridcolor\":\"white\",\"linecolor\":\"white\",\"minorgridcolor\":\"white\",\"startlinecolor\":\"#2a3f5f\"},\"type\":\"carpet\"}],\"table\":[{\"cells\":{\"fill\":{\"color\":\"#EBF0F8\"},\"line\":{\"color\":\"white\"}},\"header\":{\"fill\":{\"color\":\"#C8D4E3\"},\"line\":{\"color\":\"white\"}},\"type\":\"table\"}],\"barpolar\":[{\"marker\":{\"line\":{\"color\":\"#E5ECF6\",\"width\":0.5},\"pattern\":{\"fillmode\":\"overlay\",\"size\":10,\"solidity\":0.2}},\"type\":\"barpolar\"}],\"pie\":[{\"automargin\":true,\"type\":\"pie\"}]},\"layout\":{\"autotypenumbers\":\"strict\",\"colorway\":[\"#636efa\",\"#EF553B\",\"#00cc96\",\"#ab63fa\",\"#FFA15A\",\"#19d3f3\",\"#FF6692\",\"#B6E880\",\"#FF97FF\",\"#FECB52\"],\"font\":{\"color\":\"#2a3f5f\"},\"hovermode\":\"closest\",\"hoverlabel\":{\"align\":\"left\"},\"paper_bgcolor\":\"white\",\"plot_bgcolor\":\"#E5ECF6\",\"polar\":{\"bgcolor\":\"#E5ECF6\",\"angularaxis\":{\"gridcolor\":\"white\",\"linecolor\":\"white\",\"ticks\":\"\"},\"radialaxis\":{\"gridcolor\":\"white\",\"linecolor\":\"white\",\"ticks\":\"\"}},\"ternary\":{\"bgcolor\":\"#E5ECF6\",\"aaxis\":{\"gridcolor\":\"white\",\"linecolor\":\"white\",\"ticks\":\"\"},\"baxis\":{\"gridcolor\":\"white\",\"linecolor\":\"white\",\"ticks\":\"\"},\"caxis\":{\"gridcolor\":\"white\",\"linecolor\":\"white\",\"ticks\":\"\"}},\"coloraxis\":{\"colorbar\":{\"outlinewidth\":0,\"ticks\":\"\"}},\"colorscale\":{\"sequential\":[[0.0,\"#0d0887\"],[0.1111111111111111,\"#46039f\"],[0.2222222222222222,\"#7201a8\"],[0.3333333333333333,\"#9c179e\"],[0.4444444444444444,\"#bd3786\"],[0.5555555555555556,\"#d8576b\"],[0.6666666666666666,\"#ed7953\"],[0.7777777777777778,\"#fb9f3a\"],[0.8888888888888888,\"#fdca26\"],[1.0,\"#f0f921\"]],\"sequentialminus\":[[0.0,\"#0d0887\"],[0.1111111111111111,\"#46039f\"],[0.2222222222222222,\"#7201a8\"],[0.3333333333333333,\"#9c179e\"],[0.4444444444444444,\"#bd3786\"],[0.5555555555555556,\"#d8576b\"],[0.6666666666666666,\"#ed7953\"],[0.7777777777777778,\"#fb9f3a\"],[0.8888888888888888,\"#fdca26\"],[1.0,\"#f0f921\"]],\"diverging\":[[0,\"#8e0152\"],[0.1,\"#c51b7d\"],[0.2,\"#de77ae\"],[0.3,\"#f1b6da\"],[0.4,\"#fde0ef\"],[0.5,\"#f7f7f7\"],[0.6,\"#e6f5d0\"],[0.7,\"#b8e186\"],[0.8,\"#7fbc41\"],[0.9,\"#4d9221\"],[1,\"#276419\"]]},\"xaxis\":{\"gridcolor\":\"white\",\"linecolor\":\"white\",\"ticks\":\"\",\"title\":{\"standoff\":15},\"zerolinecolor\":\"white\",\"automargin\":true,\"zerolinewidth\":2},\"yaxis\":{\"gridcolor\":\"white\",\"linecolor\":\"white\",\"ticks\":\"\",\"title\":{\"standoff\":15},\"zerolinecolor\":\"white\",\"automargin\":true,\"zerolinewidth\":2},\"scene\":{\"xaxis\":{\"backgroundcolor\":\"#E5ECF6\",\"gridcolor\":\"white\",\"linecolor\":\"white\",\"showbackground\":true,\"ticks\":\"\",\"zerolinecolor\":\"white\",\"gridwidth\":2},\"yaxis\":{\"backgroundcolor\":\"#E5ECF6\",\"gridcolor\":\"white\",\"linecolor\":\"white\",\"showbackground\":true,\"ticks\":\"\",\"zerolinecolor\":\"white\",\"gridwidth\":2},\"zaxis\":{\"backgroundcolor\":\"#E5ECF6\",\"gridcolor\":\"white\",\"linecolor\":\"white\",\"showbackground\":true,\"ticks\":\"\",\"zerolinecolor\":\"white\",\"gridwidth\":2}},\"shapedefaults\":{\"line\":{\"color\":\"#2a3f5f\"}},\"annotationdefaults\":{\"arrowcolor\":\"#2a3f5f\",\"arrowhead\":0,\"arrowwidth\":1},\"geo\":{\"bgcolor\":\"white\",\"landcolor\":\"#E5ECF6\",\"subunitcolor\":\"white\",\"showland\":true,\"showlakes\":true,\"lakecolor\":\"white\"},\"title\":{\"x\":0.05},\"mapbox\":{\"style\":\"light\"}}},\"xaxis\":{\"anchor\":\"y\",\"domain\":[0.0,1.0],\"title\":{\"text\":\"Chi\\u1ec1u cao\"}},\"yaxis\":{\"anchor\":\"x\",\"domain\":[0.0,1.0],\"title\":{\"text\":\"M\\u00e0u m\\u1eaft\"},\"categoryorder\":\"array\",\"categoryarray\":[\"white\",\"green, yellow\",\"gold\",\"red, blue\",\"unknown\",\"pink\",\"hazel\",\"orange\",\"black\",\"blue-gray\",\"brown\",\"red\",\"yellow\",\"blue\"]},\"legend\":{\"title\":{\"text\":\"M\\u00e0u m\\u1eaft\"},\"tracegroupgap\":0},\"title\":{\"text\":\"M\\u00e0u m\\u1eaft v\\u00e0 Chi\\u1ec1u cao\"},\"violinmode\":\"overlay\",\"font\":{\"family\":\"Arial, sans-serif\",\"size\":14,\"color\":\"black\"},\"plot_bgcolor\":\"rgba(255,255,255,0.9)\",\"paper_bgcolor\":\"rgba(255,255,255,0.9)\"},                        {\"responsive\": true}                    ).then(function(){\n",
              "                            \n",
              "var gd = document.getElementById('7e567ad5-7a02-4fce-9d00-a248152494b9');\n",
              "var x = new MutationObserver(function (mutations, observer) {{\n",
              "        var display = window.getComputedStyle(gd).display;\n",
              "        if (!display || display === 'none') {{\n",
              "            console.log([gd, 'removed!']);\n",
              "            Plotly.purge(gd);\n",
              "            observer.disconnect();\n",
              "        }}\n",
              "}});\n",
              "\n",
              "// Listen for the removal of the full notebook cells\n",
              "var notebookContainer = gd.closest('#notebook-container');\n",
              "if (notebookContainer) {{\n",
              "    x.observe(notebookContainer, {childList: true});\n",
              "}}\n",
              "\n",
              "// Listen for the clearing of the current output cell\n",
              "var outputEl = gd.closest('.output');\n",
              "if (outputEl) {{\n",
              "    x.observe(outputEl, {childList: true});\n",
              "}}\n",
              "\n",
              "                        })                };                            </script>        </div>\n",
              "</body>\n",
              "</html>"
            ]
          },
          "metadata": {}
        }
      ]
    },
    {
      "cell_type": "markdown",
      "source": [
        "**Nhận xét chung:**\n",
        "\n",
        "Biểu đồ violinplot này minh họa phân phối chiều cao của nhân vật trong vũ trụ Star Wars theo từng màu mắt. Mỗi violinplot biểu thị phân phối dữ liệu của một màu mắt cụ thể trên trục ngang, với độ dày của violinplot thể hiện mật độ phân bố dữ liệu.\n",
        "\n",
        "**Phân tích cụ thể:**\n",
        "\n",
        "1. **Phân phối chiều cao theo màu mắt:**\n",
        "   - Đối với màu mắt Blue, phân phối chiều cao tập trung chủ yếu từ khoảng 170cm đến 180cm, với một vài điểm ngoại lệ ở các giá trị cao hơn.\n",
        "   - Đối với màu mắt Green, phân phối chiều cao có xu hướng tập trung từ khoảng 165cm đến 175cm, với một vài trường hợp ngoại lệ ở các giá trị thấp hơn và cao hơn.\n",
        "   - Đối với màu mắt Brown, phân phối chiều cao tương đối đồng đều, phân bố chủ yếu từ khoảng 160cm đến 175cm.\n",
        "\n",
        "2. **Đặc điểm phân phối:**\n",
        "   - Mỗi màu mắt có đặc trưng phân phối riêng, cho thấy sự đa dạng về chiều cao trong từng nhóm màu mắt khác nhau.\n",
        "   - Việc sử dụng violinplot giúp hiển thị chi tiết phân bố dữ liệu và so sánh sự khác biệt giữa các nhóm màu mắt.\n",
        "\n",
        "**Tổng kết:**\n",
        "\n",
        "Biểu đồ violinplot là công cụ hữu ích để thể hiện phân phối dữ liệu chiều cao theo từng màu mắt của các nhân vật trong vũ trụ Star Wars. Phân tích từ biểu đồ này có thể giúp chúng ta hiểu sâu hơn về đặc điểm chiều cao và sự đa dạng của các nhân vật theo màu mắt trong loạt phim này.\n"
      ],
      "metadata": {
        "id": "vTyFxw17KkV3"
      }
    },
    {
      "cell_type": "markdown",
      "source": [
        "3.8. Gender and Mass"
      ],
      "metadata": {
        "id": "upTm_DC9KlAZ"
      }
    },
    {
      "cell_type": "code",
      "source": [
        "# 16. Biểu đồ phân phối giới tính và cân nặng\n",
        "# Trích xuất các trường từ dữ liệu\n",
        "characters = [{'gender': char['fields']['gender'], 'mass': char['fields']['mass']} for char in data if 'gender' in char['fields'] and 'mass' in char['fields']]\n",
        "\n",
        "# Tạo DataFrame từ dữ liệu\n",
        "df = pd.DataFrame(characters)\n",
        "\n",
        "# Sử dụng Plotly Express để vẽ biểu đồ violin plot\n",
        "fig = px.violin(df, y='gender', x='mass',\n",
        "                orientation='h',\n",
        "                title='Giới tính và Khối lượng',\n",
        "                labels={'mass': 'Khối lượng', 'gender': 'Giới tính'},\n",
        "                color='gender',\n",
        "                violinmode='overlay',\n",
        "                box=True,\n",
        "                points='all',\n",
        "                hover_data=df.columns\n",
        "               )\n",
        "\n",
        "# Cập nhật bố cục biểu đồ\n",
        "fig.update_layout(\n",
        "    font=dict(\n",
        "        family=\"Arial, sans-serif\",\n",
        "        size=14,\n",
        "        color=\"black\"\n",
        "    ),\n",
        "    plot_bgcolor='rgba(255,255,255,0.9)',\n",
        "    paper_bgcolor='rgba(255,255,255,0.9)',\n",
        ")\n",
        "\n",
        "# Hiển thị biểu đồ\n",
        "fig.show()"
      ],
      "metadata": {
        "colab": {
          "base_uri": "https://localhost:8080/",
          "height": 542
        },
        "id": "oL9Wt52_Koxy",
        "outputId": "73da4b44-03e0-4cbb-96ae-2be8b29710e2"
      },
      "execution_count": 87,
      "outputs": [
        {
          "output_type": "display_data",
          "data": {
            "text/html": [
              "<html>\n",
              "<head><meta charset=\"utf-8\" /></head>\n",
              "<body>\n",
              "    <div>            <script src=\"https://cdnjs.cloudflare.com/ajax/libs/mathjax/2.7.5/MathJax.js?config=TeX-AMS-MML_SVG\"></script><script type=\"text/javascript\">if (window.MathJax && window.MathJax.Hub && window.MathJax.Hub.Config) {window.MathJax.Hub.Config({SVG: {font: \"STIX-Web\"}});}</script>                <script type=\"text/javascript\">window.PlotlyConfig = {MathJaxConfig: 'local'};</script>\n",
              "        <script charset=\"utf-8\" src=\"https://cdn.plot.ly/plotly-2.24.1.min.js\"></script>                <div id=\"b7c35adc-04cc-4693-94be-819aff17d477\" class=\"plotly-graph-div\" style=\"height:525px; width:100%;\"></div>            <script type=\"text/javascript\">                                    window.PLOTLYENV=window.PLOTLYENV || {};                                    if (document.getElementById(\"b7c35adc-04cc-4693-94be-819aff17d477\")) {                    Plotly.newPlot(                        \"b7c35adc-04cc-4693-94be-819aff17d477\",                        [{\"alignmentgroup\":\"True\",\"box\":{\"visible\":true},\"hovertemplate\":\"Gi\\u1edbi t\\u00ednh=%{y}\\u003cbr\\u003eKh\\u1ed1i l\\u01b0\\u1ee3ng=%{x}\\u003cextra\\u003e\\u003c\\u002fextra\\u003e\",\"legendgroup\":\"male\",\"marker\":{\"color\":\"#636efa\"},\"name\":\"male\",\"offsetgroup\":\"male\",\"orientation\":\"h\",\"points\":\"all\",\"scalegroup\":\"True\",\"showlegend\":true,\"x\":[\"77\",\"136\",\"120\",\"84\",\"77\",\"84\",\"unknown\",\"112\",\"80\",\"74\",\"77\",\"110\",\"17\",\"75\",\"78.2\",\"113\",\"79\",\"79\",\"83\",\"unknown\",\"20\",\"68\",\"89\",\"90\",\"unknown\",\"66\",\"82\",\"unknown\",\"unknown\",\"unknown\",\"40\",\"unknown\",\"80\",\"unknown\",\"15\",\"45\",\"unknown\",\"65\",\"84\",\"82\",\"87\",\"unknown\",\"unknown\",\"unknown\",\"80\",\"unknown\",\"85\",\"unknown\",\"80\",\"80\",\"unknown\",\"79\",\"102\",\"88\",\"48\",\"unknown\",\"159\",\"136\",\"79\",\"80\"],\"x0\":\" \",\"xaxis\":\"x\",\"y\":[\"male\",\"male\",\"male\",\"male\",\"male\",\"male\",\"male\",\"male\",\"male\",\"male\",\"male\",\"male\",\"male\",\"male\",\"male\",\"male\",\"male\",\"male\",\"male\",\"male\",\"male\",\"male\",\"male\",\"male\",\"male\",\"male\",\"male\",\"male\",\"male\",\"male\",\"male\",\"male\",\"male\",\"male\",\"male\",\"male\",\"male\",\"male\",\"male\",\"male\",\"male\",\"male\",\"male\",\"male\",\"male\",\"male\",\"male\",\"male\",\"male\",\"male\",\"male\",\"male\",\"male\",\"male\",\"male\",\"male\",\"male\",\"male\",\"male\",\"male\"],\"y0\":\" \",\"yaxis\":\"y\",\"type\":\"violin\"},{\"alignmentgroup\":\"True\",\"box\":{\"visible\":true},\"hovertemplate\":\"Gi\\u1edbi t\\u00ednh=%{y}\\u003cbr\\u003eKh\\u1ed1i l\\u01b0\\u1ee3ng=%{x}\\u003cextra\\u003e\\u003c\\u002fextra\\u003e\",\"legendgroup\":\"n\\u002fa\",\"marker\":{\"color\":\"#EF553B\"},\"name\":\"n\\u002fa\",\"offsetgroup\":\"n\\u002fa\",\"orientation\":\"h\",\"points\":\"all\",\"scalegroup\":\"True\",\"showlegend\":true,\"x\":[\"75\",\"32\",\"32\"],\"x0\":\" \",\"xaxis\":\"x\",\"y\":[\"n\\u002fa\",\"n\\u002fa\",\"n\\u002fa\"],\"y0\":\" \",\"yaxis\":\"y\",\"type\":\"violin\"},{\"alignmentgroup\":\"True\",\"box\":{\"visible\":true},\"hovertemplate\":\"Gi\\u1edbi t\\u00ednh=%{y}\\u003cbr\\u003eKh\\u1ed1i l\\u01b0\\u1ee3ng=%{x}\\u003cextra\\u003e\\u003c\\u002fextra\\u003e\",\"legendgroup\":\"female\",\"marker\":{\"color\":\"#00cc96\"},\"name\":\"female\",\"offsetgroup\":\"female\",\"orientation\":\"h\",\"points\":\"all\",\"scalegroup\":\"True\",\"showlegend\":true,\"x\":[\"49\",\"75\",\"unknown\",\"45\",\"unknown\",\"55\",\"50\",\"unknown\",\"56.2\",\"50\",\"unknown\",\"55\",\"unknown\",\"unknown\",\"unknown\",\"57\",\"48\"],\"x0\":\" \",\"xaxis\":\"x\",\"y\":[\"female\",\"female\",\"female\",\"female\",\"female\",\"female\",\"female\",\"female\",\"female\",\"female\",\"female\",\"female\",\"female\",\"female\",\"female\",\"female\",\"female\"],\"y0\":\" \",\"yaxis\":\"y\",\"type\":\"violin\"},{\"alignmentgroup\":\"True\",\"box\":{\"visible\":true},\"hovertemplate\":\"Gi\\u1edbi t\\u00ednh=%{y}\\u003cbr\\u003eKh\\u1ed1i l\\u01b0\\u1ee3ng=%{x}\\u003cextra\\u003e\\u003c\\u002fextra\\u003e\",\"legendgroup\":\"hermaphrodite\",\"marker\":{\"color\":\"#ab63fa\"},\"name\":\"hermaphrodite\",\"offsetgroup\":\"hermaphrodite\",\"orientation\":\"h\",\"points\":\"all\",\"scalegroup\":\"True\",\"showlegend\":true,\"x\":[\"1,358\"],\"x0\":\" \",\"xaxis\":\"x\",\"y\":[\"hermaphrodite\"],\"y0\":\" \",\"yaxis\":\"y\",\"type\":\"violin\"},{\"alignmentgroup\":\"True\",\"box\":{\"visible\":true},\"hovertemplate\":\"Gi\\u1edbi t\\u00ednh=%{y}\\u003cbr\\u003eKh\\u1ed1i l\\u01b0\\u1ee3ng=%{x}\\u003cextra\\u003e\\u003c\\u002fextra\\u003e\",\"legendgroup\":\"none\",\"marker\":{\"color\":\"#FFA15A\"},\"name\":\"none\",\"offsetgroup\":\"none\",\"orientation\":\"h\",\"points\":\"all\",\"scalegroup\":\"True\",\"showlegend\":true,\"x\":[\"140\"],\"x0\":\" \",\"xaxis\":\"x\",\"y\":[\"none\"],\"y0\":\" \",\"yaxis\":\"y\",\"type\":\"violin\"}],                        {\"template\":{\"data\":{\"histogram2dcontour\":[{\"type\":\"histogram2dcontour\",\"colorbar\":{\"outlinewidth\":0,\"ticks\":\"\"},\"colorscale\":[[0.0,\"#0d0887\"],[0.1111111111111111,\"#46039f\"],[0.2222222222222222,\"#7201a8\"],[0.3333333333333333,\"#9c179e\"],[0.4444444444444444,\"#bd3786\"],[0.5555555555555556,\"#d8576b\"],[0.6666666666666666,\"#ed7953\"],[0.7777777777777778,\"#fb9f3a\"],[0.8888888888888888,\"#fdca26\"],[1.0,\"#f0f921\"]]}],\"choropleth\":[{\"type\":\"choropleth\",\"colorbar\":{\"outlinewidth\":0,\"ticks\":\"\"}}],\"histogram2d\":[{\"type\":\"histogram2d\",\"colorbar\":{\"outlinewidth\":0,\"ticks\":\"\"},\"colorscale\":[[0.0,\"#0d0887\"],[0.1111111111111111,\"#46039f\"],[0.2222222222222222,\"#7201a8\"],[0.3333333333333333,\"#9c179e\"],[0.4444444444444444,\"#bd3786\"],[0.5555555555555556,\"#d8576b\"],[0.6666666666666666,\"#ed7953\"],[0.7777777777777778,\"#fb9f3a\"],[0.8888888888888888,\"#fdca26\"],[1.0,\"#f0f921\"]]}],\"heatmap\":[{\"type\":\"heatmap\",\"colorbar\":{\"outlinewidth\":0,\"ticks\":\"\"},\"colorscale\":[[0.0,\"#0d0887\"],[0.1111111111111111,\"#46039f\"],[0.2222222222222222,\"#7201a8\"],[0.3333333333333333,\"#9c179e\"],[0.4444444444444444,\"#bd3786\"],[0.5555555555555556,\"#d8576b\"],[0.6666666666666666,\"#ed7953\"],[0.7777777777777778,\"#fb9f3a\"],[0.8888888888888888,\"#fdca26\"],[1.0,\"#f0f921\"]]}],\"heatmapgl\":[{\"type\":\"heatmapgl\",\"colorbar\":{\"outlinewidth\":0,\"ticks\":\"\"},\"colorscale\":[[0.0,\"#0d0887\"],[0.1111111111111111,\"#46039f\"],[0.2222222222222222,\"#7201a8\"],[0.3333333333333333,\"#9c179e\"],[0.4444444444444444,\"#bd3786\"],[0.5555555555555556,\"#d8576b\"],[0.6666666666666666,\"#ed7953\"],[0.7777777777777778,\"#fb9f3a\"],[0.8888888888888888,\"#fdca26\"],[1.0,\"#f0f921\"]]}],\"contourcarpet\":[{\"type\":\"contourcarpet\",\"colorbar\":{\"outlinewidth\":0,\"ticks\":\"\"}}],\"contour\":[{\"type\":\"contour\",\"colorbar\":{\"outlinewidth\":0,\"ticks\":\"\"},\"colorscale\":[[0.0,\"#0d0887\"],[0.1111111111111111,\"#46039f\"],[0.2222222222222222,\"#7201a8\"],[0.3333333333333333,\"#9c179e\"],[0.4444444444444444,\"#bd3786\"],[0.5555555555555556,\"#d8576b\"],[0.6666666666666666,\"#ed7953\"],[0.7777777777777778,\"#fb9f3a\"],[0.8888888888888888,\"#fdca26\"],[1.0,\"#f0f921\"]]}],\"surface\":[{\"type\":\"surface\",\"colorbar\":{\"outlinewidth\":0,\"ticks\":\"\"},\"colorscale\":[[0.0,\"#0d0887\"],[0.1111111111111111,\"#46039f\"],[0.2222222222222222,\"#7201a8\"],[0.3333333333333333,\"#9c179e\"],[0.4444444444444444,\"#bd3786\"],[0.5555555555555556,\"#d8576b\"],[0.6666666666666666,\"#ed7953\"],[0.7777777777777778,\"#fb9f3a\"],[0.8888888888888888,\"#fdca26\"],[1.0,\"#f0f921\"]]}],\"mesh3d\":[{\"type\":\"mesh3d\",\"colorbar\":{\"outlinewidth\":0,\"ticks\":\"\"}}],\"scatter\":[{\"fillpattern\":{\"fillmode\":\"overlay\",\"size\":10,\"solidity\":0.2},\"type\":\"scatter\"}],\"parcoords\":[{\"type\":\"parcoords\",\"line\":{\"colorbar\":{\"outlinewidth\":0,\"ticks\":\"\"}}}],\"scatterpolargl\":[{\"type\":\"scatterpolargl\",\"marker\":{\"colorbar\":{\"outlinewidth\":0,\"ticks\":\"\"}}}],\"bar\":[{\"error_x\":{\"color\":\"#2a3f5f\"},\"error_y\":{\"color\":\"#2a3f5f\"},\"marker\":{\"line\":{\"color\":\"#E5ECF6\",\"width\":0.5},\"pattern\":{\"fillmode\":\"overlay\",\"size\":10,\"solidity\":0.2}},\"type\":\"bar\"}],\"scattergeo\":[{\"type\":\"scattergeo\",\"marker\":{\"colorbar\":{\"outlinewidth\":0,\"ticks\":\"\"}}}],\"scatterpolar\":[{\"type\":\"scatterpolar\",\"marker\":{\"colorbar\":{\"outlinewidth\":0,\"ticks\":\"\"}}}],\"histogram\":[{\"marker\":{\"pattern\":{\"fillmode\":\"overlay\",\"size\":10,\"solidity\":0.2}},\"type\":\"histogram\"}],\"scattergl\":[{\"type\":\"scattergl\",\"marker\":{\"colorbar\":{\"outlinewidth\":0,\"ticks\":\"\"}}}],\"scatter3d\":[{\"type\":\"scatter3d\",\"line\":{\"colorbar\":{\"outlinewidth\":0,\"ticks\":\"\"}},\"marker\":{\"colorbar\":{\"outlinewidth\":0,\"ticks\":\"\"}}}],\"scattermapbox\":[{\"type\":\"scattermapbox\",\"marker\":{\"colorbar\":{\"outlinewidth\":0,\"ticks\":\"\"}}}],\"scatterternary\":[{\"type\":\"scatterternary\",\"marker\":{\"colorbar\":{\"outlinewidth\":0,\"ticks\":\"\"}}}],\"scattercarpet\":[{\"type\":\"scattercarpet\",\"marker\":{\"colorbar\":{\"outlinewidth\":0,\"ticks\":\"\"}}}],\"carpet\":[{\"aaxis\":{\"endlinecolor\":\"#2a3f5f\",\"gridcolor\":\"white\",\"linecolor\":\"white\",\"minorgridcolor\":\"white\",\"startlinecolor\":\"#2a3f5f\"},\"baxis\":{\"endlinecolor\":\"#2a3f5f\",\"gridcolor\":\"white\",\"linecolor\":\"white\",\"minorgridcolor\":\"white\",\"startlinecolor\":\"#2a3f5f\"},\"type\":\"carpet\"}],\"table\":[{\"cells\":{\"fill\":{\"color\":\"#EBF0F8\"},\"line\":{\"color\":\"white\"}},\"header\":{\"fill\":{\"color\":\"#C8D4E3\"},\"line\":{\"color\":\"white\"}},\"type\":\"table\"}],\"barpolar\":[{\"marker\":{\"line\":{\"color\":\"#E5ECF6\",\"width\":0.5},\"pattern\":{\"fillmode\":\"overlay\",\"size\":10,\"solidity\":0.2}},\"type\":\"barpolar\"}],\"pie\":[{\"automargin\":true,\"type\":\"pie\"}]},\"layout\":{\"autotypenumbers\":\"strict\",\"colorway\":[\"#636efa\",\"#EF553B\",\"#00cc96\",\"#ab63fa\",\"#FFA15A\",\"#19d3f3\",\"#FF6692\",\"#B6E880\",\"#FF97FF\",\"#FECB52\"],\"font\":{\"color\":\"#2a3f5f\"},\"hovermode\":\"closest\",\"hoverlabel\":{\"align\":\"left\"},\"paper_bgcolor\":\"white\",\"plot_bgcolor\":\"#E5ECF6\",\"polar\":{\"bgcolor\":\"#E5ECF6\",\"angularaxis\":{\"gridcolor\":\"white\",\"linecolor\":\"white\",\"ticks\":\"\"},\"radialaxis\":{\"gridcolor\":\"white\",\"linecolor\":\"white\",\"ticks\":\"\"}},\"ternary\":{\"bgcolor\":\"#E5ECF6\",\"aaxis\":{\"gridcolor\":\"white\",\"linecolor\":\"white\",\"ticks\":\"\"},\"baxis\":{\"gridcolor\":\"white\",\"linecolor\":\"white\",\"ticks\":\"\"},\"caxis\":{\"gridcolor\":\"white\",\"linecolor\":\"white\",\"ticks\":\"\"}},\"coloraxis\":{\"colorbar\":{\"outlinewidth\":0,\"ticks\":\"\"}},\"colorscale\":{\"sequential\":[[0.0,\"#0d0887\"],[0.1111111111111111,\"#46039f\"],[0.2222222222222222,\"#7201a8\"],[0.3333333333333333,\"#9c179e\"],[0.4444444444444444,\"#bd3786\"],[0.5555555555555556,\"#d8576b\"],[0.6666666666666666,\"#ed7953\"],[0.7777777777777778,\"#fb9f3a\"],[0.8888888888888888,\"#fdca26\"],[1.0,\"#f0f921\"]],\"sequentialminus\":[[0.0,\"#0d0887\"],[0.1111111111111111,\"#46039f\"],[0.2222222222222222,\"#7201a8\"],[0.3333333333333333,\"#9c179e\"],[0.4444444444444444,\"#bd3786\"],[0.5555555555555556,\"#d8576b\"],[0.6666666666666666,\"#ed7953\"],[0.7777777777777778,\"#fb9f3a\"],[0.8888888888888888,\"#fdca26\"],[1.0,\"#f0f921\"]],\"diverging\":[[0,\"#8e0152\"],[0.1,\"#c51b7d\"],[0.2,\"#de77ae\"],[0.3,\"#f1b6da\"],[0.4,\"#fde0ef\"],[0.5,\"#f7f7f7\"],[0.6,\"#e6f5d0\"],[0.7,\"#b8e186\"],[0.8,\"#7fbc41\"],[0.9,\"#4d9221\"],[1,\"#276419\"]]},\"xaxis\":{\"gridcolor\":\"white\",\"linecolor\":\"white\",\"ticks\":\"\",\"title\":{\"standoff\":15},\"zerolinecolor\":\"white\",\"automargin\":true,\"zerolinewidth\":2},\"yaxis\":{\"gridcolor\":\"white\",\"linecolor\":\"white\",\"ticks\":\"\",\"title\":{\"standoff\":15},\"zerolinecolor\":\"white\",\"automargin\":true,\"zerolinewidth\":2},\"scene\":{\"xaxis\":{\"backgroundcolor\":\"#E5ECF6\",\"gridcolor\":\"white\",\"linecolor\":\"white\",\"showbackground\":true,\"ticks\":\"\",\"zerolinecolor\":\"white\",\"gridwidth\":2},\"yaxis\":{\"backgroundcolor\":\"#E5ECF6\",\"gridcolor\":\"white\",\"linecolor\":\"white\",\"showbackground\":true,\"ticks\":\"\",\"zerolinecolor\":\"white\",\"gridwidth\":2},\"zaxis\":{\"backgroundcolor\":\"#E5ECF6\",\"gridcolor\":\"white\",\"linecolor\":\"white\",\"showbackground\":true,\"ticks\":\"\",\"zerolinecolor\":\"white\",\"gridwidth\":2}},\"shapedefaults\":{\"line\":{\"color\":\"#2a3f5f\"}},\"annotationdefaults\":{\"arrowcolor\":\"#2a3f5f\",\"arrowhead\":0,\"arrowwidth\":1},\"geo\":{\"bgcolor\":\"white\",\"landcolor\":\"#E5ECF6\",\"subunitcolor\":\"white\",\"showland\":true,\"showlakes\":true,\"lakecolor\":\"white\"},\"title\":{\"x\":0.05},\"mapbox\":{\"style\":\"light\"}}},\"xaxis\":{\"anchor\":\"y\",\"domain\":[0.0,1.0],\"title\":{\"text\":\"Kh\\u1ed1i l\\u01b0\\u1ee3ng\"}},\"yaxis\":{\"anchor\":\"x\",\"domain\":[0.0,1.0],\"title\":{\"text\":\"Gi\\u1edbi t\\u00ednh\"},\"categoryorder\":\"array\",\"categoryarray\":[\"none\",\"hermaphrodite\",\"female\",\"n\\u002fa\",\"male\"]},\"legend\":{\"title\":{\"text\":\"Gi\\u1edbi t\\u00ednh\"},\"tracegroupgap\":0},\"title\":{\"text\":\"Gi\\u1edbi t\\u00ednh v\\u00e0 Kh\\u1ed1i l\\u01b0\\u1ee3ng\"},\"violinmode\":\"overlay\",\"font\":{\"family\":\"Arial, sans-serif\",\"size\":14,\"color\":\"black\"},\"plot_bgcolor\":\"rgba(255,255,255,0.9)\",\"paper_bgcolor\":\"rgba(255,255,255,0.9)\"},                        {\"responsive\": true}                    ).then(function(){\n",
              "                            \n",
              "var gd = document.getElementById('b7c35adc-04cc-4693-94be-819aff17d477');\n",
              "var x = new MutationObserver(function (mutations, observer) {{\n",
              "        var display = window.getComputedStyle(gd).display;\n",
              "        if (!display || display === 'none') {{\n",
              "            console.log([gd, 'removed!']);\n",
              "            Plotly.purge(gd);\n",
              "            observer.disconnect();\n",
              "        }}\n",
              "}});\n",
              "\n",
              "// Listen for the removal of the full notebook cells\n",
              "var notebookContainer = gd.closest('#notebook-container');\n",
              "if (notebookContainer) {{\n",
              "    x.observe(notebookContainer, {childList: true});\n",
              "}}\n",
              "\n",
              "// Listen for the clearing of the current output cell\n",
              "var outputEl = gd.closest('.output');\n",
              "if (outputEl) {{\n",
              "    x.observe(outputEl, {childList: true});\n",
              "}}\n",
              "\n",
              "                        })                };                            </script>        </div>\n",
              "</body>\n",
              "</html>"
            ]
          },
          "metadata": {}
        }
      ]
    },
    {
      "cell_type": "markdown",
      "source": [
        "**Nhận xét chung:**\n",
        "\n",
        "Biểu đồ violinplot này biểu thị phân phối khối lượng của nhân vật trong vũ trụ Star Wars theo từng giới tính. Mỗi violinplot trên biểu đồ biểu thị phân phối dữ liệu của một giới tính cụ thể trên trục ngang, với độ dày của violinplot thể hiện mật độ phân bố dữ liệu.\n",
        "\n",
        "**Phân tích cụ thể:**\n",
        "\n",
        "1. **Phân phối khối lượng theo giới tính:**\n",
        "   - Đối với giới tính Nam (Male), phân phối khối lượng có xu hướng tập trung từ khoảng 70kg đến 90kg, với một vài trường hợp ngoại lệ ở các giá trị thấp hơn và cao hơn.\n",
        "   - Đối với giới tính Nữ (Female), phân phối khối lượng tương đối đồng đều, phân bố chủ yếu từ khoảng 50kg đến 70kg.\n",
        "\n",
        "2. **Đặc điểm phân phối:**\n",
        "   - Mỗi giới tính có đặc trưng phân phối riêng, cho thấy sự đa dạng về khối lượng trong từng nhóm giới tính khác nhau.\n",
        "   - Việc sử dụng violinplot giúp hiển thị chi tiết phân bố dữ liệu và so sánh sự khác biệt giữa các nhóm giới tính.\n",
        "\n",
        "**Tổng kết:**\n",
        "\n",
        "Biểu đồ violinplot là công cụ hữu ích để thể hiện phân phối dữ liệu khối lượng theo từng giới tính của các nhân vật trong vũ trụ Star Wars. Phân tích từ biểu đồ này có thể giúp chúng ta hiểu sâu hơn về đặc điểm khối lượng và sự đa dạng của các nhân vật theo giới tính trong loạt phim này.\n"
      ],
      "metadata": {
        "id": "qsqRlJw1Ko5A"
      }
    },
    {
      "cell_type": "markdown",
      "source": [
        "# Kết luận\n",
        "Các biểu đồ này không chỉ cung cấp cái nhìn tổng quan và chi tiết về đặc điểm của các nhân vật trong vũ trụ Star Wars mà còn giúp hiểu rõ hơn về sự đa dạng và phong phú của loạt phim này. Phân tích từ các biểu đồ này có thể hỗ trợ các nhà nghiên cứu và người hâm mộ trong việc khám phá và xây dựng thêm về thế giới đa dạng của Star Wars."
      ],
      "metadata": {
        "id": "eC7Q6fzXOZl3"
      }
    },
    {
      "cell_type": "markdown",
      "source": [
        "# 5. Tổng kết\n",
        "\n"
      ],
      "metadata": {
        "id": "RBehP3UtXh1D"
      }
    },
    {
      "cell_type": "markdown",
      "source": [
        "Tổng kết lại, việc phân tích các biểu đồ về các đặc điểm của nhân vật trong vũ trụ Star Wars đã cung cấp cái nhìn toàn cảnh và chi tiết về xu hướng và đặc điểm của từng nhân vật. Dưới đây là những điểm chính từ các phân tích:\n",
        "\n",
        "**5.1. Những Yếu Tố Đặc Điểm Của Nhân Vật**\n",
        "\n",
        "- **Phân phối và đặc điểm**: Biểu đồ Scatter Plot, Histogram Chart, Violin Plot, Line Chart cho thấy sự phân bố đặc điểm như chiều cao, cân nặng, màu mắt và năm sinh giữa các nhân vật. Mặc dù có sự biến động, nhưng chúng đều cho thấy xu hướng và sự đa dạng trong các đặc điểm của từng nhân vật.\n",
        "\n",
        "- **So sánh trực quan**: Các biểu đồ Bar Plot và Pie Chart thể hiện rõ ràng sự khác biệt và phân bố giữa các nhân vật theo từng đặc điểm, từ màu mắt đến hành tinh quê hương, giúp nhìn thấy sự đa dạng và phổ biến trong loạt phim.\n",
        "\n",
        "**5.2. Dự Đoán Và Triển Vọng**\n",
        "\n",
        "- **Chiến lược và phát triển**: Dựa trên các phân tích về các đặc điểm của nhân vật, có thể phát triển chiến lược và các sản phẩm, dịch vụ mới để phù hợp và mở rộng thế giới Star Wars.\n",
        "\n",
        "- **Nghiên cứu và phát triển**: Tiếp tục nghiên cứu và phát triển các khía cạnh về các nhân vật và câu chuyện trong vũ trụ, từ đó mở ra những cơ hội mới trong việc phát triển và mở rộng thế giới Star Wars.\n",
        "\n",
        "**5.3. Hợp Tác Và Cộng Đồng**\n",
        "\n",
        "- **Xây dựng cộng đồng**: Xây dựng các mối quan hệ hợp tác với cộng đồng fan hâm mộ và nhà nghiên cứu để phát triển và mở rộng vũ trụ Star Wars, từ sản phẩm đến trải nghiệm người dùng.\n",
        "\n",
        "**Kết Luận**\n",
        "\n",
        "Phân tích các yếu tố liên quan đến các đặc điểm của nhân vật trong vũ trụ Star Wars không chỉ giúp hiểu rõ hơn về các xu hướng và đặc điểm của từng nhân vật mà còn đóng góp vào việc phát triển và mở rộng vũ trụ này. Việc áp dụng các phân tích này sẽ hỗ trợ trong việc tối ưu hóa và phát triển vũ trụ Star Wars một cách bền vững và sáng tạo hơn."
      ],
      "metadata": {
        "id": "ioGlGgGI838b"
      }
    }
  ]
}